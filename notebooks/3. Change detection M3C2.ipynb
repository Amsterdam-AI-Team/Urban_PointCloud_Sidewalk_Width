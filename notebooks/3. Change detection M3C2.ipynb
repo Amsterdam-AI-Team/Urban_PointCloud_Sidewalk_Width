{
 "cells": [
  {
   "cell_type": "markdown",
   "id": "5cdfa104",
   "metadata": {},
   "source": [
    "# Change detection using M3C2 algorithm\n",
    "With the help of the change detection algorithm M3C2 we can remove non-static objects from the point cloud. Resulting in a point cloud with only static objects, that we name obstacles. The provided example tile in the folder `../datasets/pointclouds/sidewalk/m3c2/` is generated from the M3C2 plugin inside CloudCompare. This notebook presents how the M3C2 algorithm can be run using the CloudComPy package."
   ]
  },
  {
   "cell_type": "code",
   "execution_count": null,
   "id": "a6fcf8cd",
   "metadata": {},
   "outputs": [],
   "source": [
    "import os\n",
    "import sys\n",
    "import math\n",
    "os.environ[\"_CCTRACE_\"]=\"ON\"\n",
    "\n",
    "import cloudComPy as cc\n",
    "import numpy as np\n",
    "import time"
   ]
  },
  {
   "cell_type": "code",
   "execution_count": null,
   "id": "fc7dc2b7",
   "metadata": {},
   "outputs": [],
   "source": [
    "cc.initCC()  # to do once before using plugins or dealing with numpy"
   ]
  },
  {
   "cell_type": "markdown",
   "id": "e761a7cc",
   "metadata": {},
   "source": [
    "Load two datasets that cover the same scene at two different points in time."
   ]
  },
  {
   "cell_type": "code",
   "execution_count": null,
   "id": "92dfbdb5",
   "metadata": {},
   "outputs": [],
   "source": [
    "# Load point clouds \n",
    "cloud = cc.loadPointCloud('../datasets/pointclouds/sidewalk/run1/processed_2386_9702.txt')\n",
    "cloud1 = cc.loadPointCloud('../datasets/pointclouds/sidewalk/run2/processed_2386_9702.txt')"
   ]
  },
  {
   "cell_type": "markdown",
   "id": "7dcf1b67",
   "metadata": {},
   "source": [
    "The distance analysis is executed on a number of points of interest called *core points*. This could be e.g. the entire reference point cloud, a downsampled version of it, an equistant grid etc. In the m3c2_params configuration file, we choose the entire point cloud:"
   ]
  },
  {
   "cell_type": "code",
   "execution_count": null,
   "id": "a4aa290c",
   "metadata": {},
   "outputs": [],
   "source": [
    "paramFilename = \"m3c2_params.txt\" # Validate MaxThreadCount -> multiprocessing.cpu_count()"
   ]
  },
  {
   "cell_type": "markdown",
   "id": "f356e7ed",
   "metadata": {},
   "source": [
    "Next, we instantiate the algorithm class and run the distance calculation:"
   ]
  },
  {
   "cell_type": "code",
   "execution_count": null,
   "id": "2570d114",
   "metadata": {},
   "outputs": [],
   "source": [
    "start = time.time()\n",
    "\n",
    "if cc.isPluginM3C2():\n",
    "    import cloudComPy.M3C2\n",
    "    \n",
    "    cloud2 = cc.M3C2.computeM3C2([cloud,cloud1], paramFilename)\n",
    "\n",
    "    if cloud2 is None:\n",
    "        raise RuntimeError\n",
    "    if cloud2.getNumberOfScalarFields() < 3:\n",
    "        raise RuntimeError\n",
    "    dic = cloud2.getScalarFieldDic()\n",
    "    # The calculated distances\n",
    "    sf = cloud2.getScalarField(dic['M3C2 distance'])\n",
    "    if sf is None:\n",
    "        raise RuntimeError\n",
    "\n",
    "    cc.SaveEntities([cloud, cloud1, cloud2], \"M3C2.bin\")\n",
    "\n",
    "    end = time.time()\n",
    "    print(end - start)"
   ]
  },
  {
   "cell_type": "code",
   "execution_count": null,
   "id": "0fa2226f",
   "metadata": {},
   "outputs": [],
   "source": []
  }
 ],
 "metadata": {
  "kernelspec": {
   "display_name": "Python 3 (ipykernel)",
   "language": "python",
   "name": "python3"
  },
  "language_info": {
   "codemirror_mode": {
    "name": "ipython",
    "version": 3
   },
   "file_extension": ".py",
   "mimetype": "text/x-python",
   "name": "python",
   "nbconvert_exporter": "python",
   "pygments_lexer": "ipython3",
   "version": "3.8.12"
  }
 },
 "nbformat": 4,
 "nbformat_minor": 5
}
