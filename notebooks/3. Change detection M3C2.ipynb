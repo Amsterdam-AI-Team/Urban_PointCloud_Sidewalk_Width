{
 "cells": [
  {
   "cell_type": "markdown",
   "id": "5cdfa104",
   "metadata": {},
   "source": [
    "# Change detection using M3C2 algorithm\n",
    "With the help of the change detection algorithm M3C2 we can remove non-static objects from the point cloud. Resulting in a point cloud with only static objects, that we name obstacles. The provided example tile in the folder `../datasets/pointclouds/m3c2/` is generated from the M3C2 plugin inside CloudCompare. This notebook presents how the M3C2 algorithm can be run using the CloudComPy package."
   ]
  },
  {
   "cell_type": "code",
   "execution_count": null,
   "id": "a6fcf8cd",
   "metadata": {},
   "outputs": [],
   "source": [
    "import os\n",
    "# os.environ[\"_CCTRACE_\"]=\"ON\"  # Uncomment to show CloudCompare debug output\n",
    "\n",
    "import cloudComPy as cc\n",
    "import numpy as np\n",
    "import pathlib\n",
    "import re\n",
    "from tqdm.notebook import tqdm # Requires tqdm and ipywidgets\n",
    "import multiprocessing"
   ]
  },
  {
   "cell_type": "code",
   "execution_count": null,
   "id": "fc7dc2b7",
   "metadata": {},
   "outputs": [],
   "source": [
    "cc.initCC()  # to do once before using plugins or dealing with numpy"
   ]
  },
  {
   "cell_type": "code",
   "execution_count": null,
   "id": "4a26f876-e060-40dc-a69a-45313670c9fc",
   "metadata": {},
   "outputs": [],
   "source": [
    "pc_data_folder = '../datasets/pointclouds/'\n",
    "\n",
    "# Resume previous incomplete run\n",
    "resume = True\n",
    "\n",
    "# The distance analysis is executed on a number of points of interest called *core points*. \n",
    "# This could be e.g. the entire reference point cloud, a downsampled version of it, an equistant grid etc. \n",
    "# In the m3c2_params configuration file, we choose the entire point cloud:\n",
    "param_file = '../datasets/m3c2_params.txt'"
   ]
  },
  {
   "cell_type": "code",
   "execution_count": null,
   "id": "6dc94e4f",
   "metadata": {},
   "outputs": [],
   "source": [
    "# Find the number of CPU cores available on the system\n",
    "max_thread_count = multiprocessing.cpu_count()\n",
    "\n",
    "# Read in the file\n",
    "with open(param_file, 'r') as file :\n",
    "    filedata = file.read()\n",
    "\n",
    "# Replace the target string\n",
    "filedata = filedata.replace('{cpu_count}', str(max_thread_count))\n",
    "\n",
    "# Write the file out again\n",
    "with open(param_file, 'w') as file:\n",
    "    file.write(filedata)"
   ]
  },
  {
   "cell_type": "code",
   "execution_count": null,
   "id": "5fd2e072-1bda-4f0b-aa3d-714fe8b54c3e",
   "metadata": {},
   "outputs": [],
   "source": [
    "# Create folder for m3c2 files.\n",
    "new_path = f'{pc_data_folder}m3c2'\n",
    "pathlib.Path(new_path).mkdir(parents=True, exist_ok=True)"
   ]
  },
  {
   "cell_type": "code",
   "execution_count": null,
   "id": "feb8fd45-0d17-4461-bf17-8defd571cc59",
   "metadata": {},
   "outputs": [],
   "source": [
    "# Get a list of all tilecodes for which we have two runs.\n",
    "def get_tilecodes_from_folder(las_folder, las_prefix=''):\n",
    "    \"\"\"Get a set of unique tilecodes for the LAS files in a given folder.\"\"\"\n",
    "    files = pathlib.Path(las_folder).glob(f'{las_prefix}*.laz')\n",
    "    tilecodes = set([re.match(r'.*(\\d{4}_\\d{4}).*', file.name)[1] for file in files])\n",
    "    return tilecodes\n",
    "\n",
    "all_tiles = (get_tilecodes_from_folder(f'{pc_data_folder}obstacles_run1/')\n",
    "             .intersection(get_tilecodes_from_folder(f'{pc_data_folder}obstacles_run2/')))\n",
    "\n",
    "if resume:\n",
    "    done_tiles = get_tilecodes_from_folder(f'{pc_data_folder}m3c2/', las_prefix='m3c2')\n",
    "    all_tiles = all_tiles - done_tiles"
   ]
  },
  {
   "cell_type": "code",
   "execution_count": null,
   "id": "101ec0c8-3a1a-46a9-865b-1ad4ff2aa88a",
   "metadata": {},
   "outputs": [],
   "source": [
    "tile_tqdm = tqdm(all_tiles, unit='tile', smoothing=0)\n",
    "\n",
    "for tilecode in tile_tqdm:\n",
    "    tile_tqdm.set_postfix_str(tilecode)\n",
    "    \n",
    "    cloud1 = cc.loadPointCloud(f'{pc_data_folder}obstacles_run1/obst_{tilecode}.laz', cc.CC_SHIFT_MODE.NO_GLOBAL_SHIFT)\n",
    "    cloud2 = cc.loadPointCloud(f'{pc_data_folder}obstacles_run2/obst_{tilecode}.laz', cc.CC_SHIFT_MODE.NO_GLOBAL_SHIFT)\n",
    "    \n",
    "    if cc.isPluginM3C2():\n",
    "        import cloudComPy.M3C2\n",
    "\n",
    "        m3c2_cloud = cc.M3C2.computeM3C2([cloud1, cloud2], param_file)\n",
    "\n",
    "        if m3c2_cloud is None:\n",
    "            print(f'No M3C2 distances found for tile {tilecode}. Next...')\n",
    "            continue # TODO handle\n",
    "        if m3c2_cloud.getNumberOfScalarFields() < 3:\n",
    "            raise RuntimeError\n",
    "        dic = m3c2_cloud.getScalarFieldDic()\n",
    "        # The calculated distances\n",
    "        sf = m3c2_cloud.getScalarField(dic['M3C2 distance'])\n",
    "        if sf is None:\n",
    "            raise RuntimeError\n",
    "\n",
    "        cc.SavePointCloud(m3c2_cloud, f'{pc_data_folder}m3c2/m3c2_{tilecode}.laz')\n",
    "    else:\n",
    "        print('M3C2 plugin not found.')\n",
    "        break"
   ]
  },
  {
   "cell_type": "code",
   "execution_count": null,
   "id": "d27bd1f1-ba4a-4466-b117-cad66f2cd8a4",
   "metadata": {},
   "outputs": [],
   "source": []
  }
 ],
 "metadata": {
  "kernelspec": {
   "display_name": "Python 3 (ipykernel)",
   "language": "python",
   "name": "python3"
  },
  "language_info": {
   "codemirror_mode": {
    "name": "ipython",
    "version": 3
   },
   "file_extension": ".py",
   "mimetype": "text/x-python",
   "name": "python",
   "nbconvert_exporter": "python",
   "pygments_lexer": "ipython3",
   "version": "3.9.10"
  }
 },
 "nbformat": 4,
 "nbformat_minor": 5
}
