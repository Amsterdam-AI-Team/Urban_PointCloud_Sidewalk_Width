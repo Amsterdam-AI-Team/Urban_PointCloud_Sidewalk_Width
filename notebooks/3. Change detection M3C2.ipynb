{
 "cells": [
  {
   "cell_type": "markdown",
   "id": "5cdfa104",
   "metadata": {},
   "source": [
    "# Change detection using M3C2 algorithm\n",
    "With the help of the change detection algorithm M3C2 we can remove non-static objects from the point cloud. Resulting in a point cloud with only static objects, that we name obstacles. The provided example tile in the folder `../datasets/pointclouds/sidewalk/m3c2/` is generated from the M3C2 plugin inside CloudCompare. With the M3C2 implementation of [py4dgeo](https://github.com/ssciwr/py4dgeo) we can do almost the same. This notebook presents how the M3C2 algorithm can be run using the py4dgeo package."
   ]
  },
  {
   "cell_type": "code",
   "execution_count": null,
   "id": "a6fcf8cd",
   "metadata": {},
   "outputs": [],
   "source": [
    "# Add project src to path.\n",
    "import set_path\n",
    "\n",
    "import numpy as np\n",
    "import time\n",
    "import os\n",
    "import py4dgeo\n",
    "import laspy\n",
    "\n",
    "from upc_sw.las_utils_extra import write_las, read_las"
   ]
  },
  {
   "cell_type": "code",
   "execution_count": null,
   "id": "873fbb00",
   "metadata": {},
   "outputs": [],
   "source": [
    "sidewalk_filter_run1 = '../datasets/pointclouds/sidewalk/run1/processed_2386_9702.laz'\n",
    "sidewalk_filter_run2 = '../datasets/pointclouds/sidewalk/run2/processed_2386_9702.laz'\n",
    "save_path = '../datasets/pointclouds/m3c2/'"
   ]
  },
  {
   "cell_type": "markdown",
   "id": "e761a7cc",
   "metadata": {},
   "source": [
    "Load two datasets that cover the same scene at two different points in time."
   ]
  },
  {
   "cell_type": "code",
   "execution_count": null,
   "id": "92dfbdb5",
   "metadata": {},
   "outputs": [],
   "source": [
    "epoch1, epoch2 = py4dgeo.read_from_las(\n",
    "    py4dgeo.find_file(sidewalk_filter_run1),\n",
    "    py4dgeo.find_file(sidewalk_filter_run2)\n",
    ")"
   ]
  },
  {
   "cell_type": "markdown",
   "id": "7dcf1b67",
   "metadata": {},
   "source": [
    "The distance analysis is executed on a number of points of interest called *core points*. This could be e.g. the entire reference point cloud, a downsampled version of it, an equistant grid etc. Here, we choose the entire point cloud:"
   ]
  },
  {
   "cell_type": "code",
   "execution_count": null,
   "id": "a4aa290c",
   "metadata": {},
   "outputs": [],
   "source": [
    "corepoints = epoch1.cloud"
   ]
  },
  {
   "cell_type": "markdown",
   "id": "f356e7ed",
   "metadata": {},
   "source": [
    "Next, we instantiate the algorithm class and run the distance calculation:"
   ]
  },
  {
   "cell_type": "code",
   "execution_count": null,
   "id": "2570d114",
   "metadata": {},
   "outputs": [],
   "source": [
    "\"\"\"\n",
    "We mapped the CloudCompare variables from m3c2_params.txt with py4dgeo\n",
    "See the mapping of \"CloudCompare -> py4dgeo\" here: https://github.com/ssciwr/py4dgeo/issues/84\n",
    "We have to divide the values of two params by 2: https://github.com/ssciwr/py4dgeo/issues/128\n",
    "\"\"\"\n",
    "normal_scale = 0.70 / 2\n",
    "search_scale = 0.70 / 2\n",
    "max_distance = 3.55\n",
    "\n",
    "start_time = time.time()\n",
    "\n",
    "m3c2 = py4dgeo.M3C2(\n",
    "    epochs=(epoch1, epoch2),\n",
    "    corepoints=corepoints,\n",
    "    cyl_radii=(search_scale,),\n",
    "    normal_radii=(normal_scale,),\n",
    "    max_distance=max_distance\n",
    ")\n",
    "\n",
    "distances, uncertainties = m3c2.run()\n",
    "\n",
    "print(\"--- %s seconds ---\" % (time.time() - start_time))"
   ]
  },
  {
   "cell_type": "markdown",
   "id": "a9102d42",
   "metadata": {},
   "source": [
    "The calculated distances are saved to a new scalar field in the point cloud."
   ]
  },
  {
   "cell_type": "code",
   "execution_count": null,
   "id": "d1ea0eec",
   "metadata": {},
   "outputs": [],
   "source": [
    "points, _ = read_las(sidewalk_filter_run1)\n",
    "\n",
    "pathname = os.path.join(save_path, os.path.basename(sidewalk_filter_run1))\n",
    "write_las_m3c2(points, pathname, distances)"
   ]
  },
  {
   "cell_type": "code",
   "execution_count": null,
   "id": "0fa2226f",
   "metadata": {},
   "outputs": [],
   "source": []
  }
 ],
 "metadata": {
  "kernelspec": {
   "display_name": "Python 3 (ipykernel)",
   "language": "python",
   "name": "python3"
  },
  "language_info": {
   "codemirror_mode": {
    "name": "ipython",
    "version": 3
   },
   "file_extension": ".py",
   "mimetype": "text/x-python",
   "name": "python",
   "nbconvert_exporter": "python",
   "pygments_lexer": "ipython3",
   "version": "3.8.12"
  }
 },
 "nbformat": 4,
 "nbformat_minor": 5
}
