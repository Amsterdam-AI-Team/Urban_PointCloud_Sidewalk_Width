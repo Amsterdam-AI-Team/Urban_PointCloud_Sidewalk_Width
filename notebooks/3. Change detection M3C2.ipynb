{
 "cells": [
  {
   "cell_type": "markdown",
   "id": "5cdfa104",
   "metadata": {},
   "source": [
    "## Change detection using M3C2 algorithm"
   ]
  },
  {
   "cell_type": "code",
   "execution_count": null,
   "id": "a6fcf8cd",
   "metadata": {},
   "outputs": [],
   "source": [
    "import numpy as np\n",
    "import time\n",
    "import py4dgeo\n",
    "import laspy"
   ]
  },
  {
   "cell_type": "markdown",
   "id": "e761a7cc",
   "metadata": {},
   "source": [
    "we need to load two datasets that cover the same scene at two different points in time."
   ]
  },
  {
   "cell_type": "code",
   "execution_count": null,
   "id": "92dfbdb5",
   "metadata": {},
   "outputs": [],
   "source": [
    "epoch1, epoch2 = py4dgeo.read_from_las(\n",
    "    py4dgeo.find_file('../datasets/pointclouds/run1/sidewalk/processed_2386_9702.laz'),\n",
    "    py4dgeo.find_file('../datasets/pointclouds/run2/sidewalk/processed_2386_9702.laz')\n",
    ")"
   ]
  },
  {
   "cell_type": "markdown",
   "id": "7dcf1b67",
   "metadata": {},
   "source": [
    "The distance analysis is executed on a number of points of interest called *core points*. This could be e.g. the entire reference point cloud, a downsampled version of it, an equistant grid etc. Here, we choose the entire reference point cloud:"
   ]
  },
  {
   "cell_type": "code",
   "execution_count": null,
   "id": "a4aa290c",
   "metadata": {},
   "outputs": [],
   "source": [
    "corepoints = epoch1.cloud"
   ]
  },
  {
   "cell_type": "markdown",
   "id": "f356e7ed",
   "metadata": {},
   "source": [
    "Next, we instantiate the algorithm class and run the distance calculation:"
   ]
  },
  {
   "cell_type": "code",
   "execution_count": null,
   "id": "2570d114",
   "metadata": {},
   "outputs": [],
   "source": [
    "\"\"\"\n",
    "Some CloudCompare variables from m3c2_params.txt\n",
    "See the mapping here: https://github.com/ssciwr/py4dgeo/issues/84\n",
    "We have to divide these values by 2: https://github.com/ssciwr/py4dgeo/issues/128\n",
    "\"\"\"\n",
    "normal_scale = 0.70 / 2\n",
    "search_scale = 0.70 / 2\n",
    "max_distance = 3.55\n",
    "\n",
    "start_time = time.time()\n",
    "\n",
    "m3c2 = py4dgeo.M3C2(\n",
    "    epochs=(epoch1, epoch2),\n",
    "    corepoints=corepoints,\n",
    "    cyl_radii=(search_scale,),\n",
    "    normal_radii=(normal_scale,),\n",
    "    max_distance=max_distance\n",
    ")\n",
    "\n",
    "distances, uncertainties = m3c2.run()\n",
    "\n",
    "print(\"--- %s seconds ---\" % (time.time() - start_time))"
   ]
  },
  {
   "cell_type": "code",
   "execution_count": null,
   "id": "d1ea0eec",
   "metadata": {},
   "outputs": [],
   "source": [
    "def write_las(points, las_path, distances):\n",
    "    \"\"\"\n",
    "    Saving the ndarray points data into a .las file.\n",
    "    :param content: ndarray\n",
    "    :param las_path: string, path to save the las file\n",
    "    \"\"\"\n",
    "    print('Saving LAS lidar data')\n",
    "    \n",
    "    outfile = laspy.create(file_version=\"1.2\", point_format=3)\n",
    "    outfile.x = points[:, 0]\n",
    "    outfile.y = points[:, 1]\n",
    "    outfile.z = points[:, 2]\n",
    "    if distances is not None:\n",
    "        outfile.add_extra_dim(laspy.ExtraBytesParams(name=\"m3c2\", type=\"float\",\n",
    "                              description=\"M3C2 distance\"))\n",
    "        outfile.m3c2 = distances\n",
    "    outfile.write(las_path)\n",
    "\n",
    "pointcloud = laspy.read('../datasets/pointclouds/run1/sidewalk/processed_2386_9702.laz')\n",
    "points = np.vstack((pointcloud.x, pointcloud.y, pointcloud.z)).T\n",
    "\n",
    "write_las(points, '../datasets/pointclouds/m3c2_test.laz', distances)"
   ]
  },
  {
   "cell_type": "code",
   "execution_count": null,
   "id": "0fa2226f",
   "metadata": {},
   "outputs": [],
   "source": []
  }
 ],
 "metadata": {
  "kernelspec": {
   "display_name": "Python 3 (ipykernel)",
   "language": "python",
   "name": "python3"
  },
  "language_info": {
   "codemirror_mode": {
    "name": "ipython",
    "version": 3
   },
   "file_extension": ".py",
   "mimetype": "text/x-python",
   "name": "python",
   "nbconvert_exporter": "python",
   "pygments_lexer": "ipython3",
   "version": "3.8.12"
  }
 },
 "nbformat": 4,
 "nbformat_minor": 5
}
