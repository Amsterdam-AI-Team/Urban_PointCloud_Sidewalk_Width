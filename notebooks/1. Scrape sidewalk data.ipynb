{
 "cells": [
  {
   "cell_type": "markdown",
   "id": "20f8c133",
   "metadata": {},
   "source": [
    "# Scrape and parse reference data from BGT\n",
    "This notebook scrapes data from the Amsterdam BGT API. The documentation of this data source can be found at:\n",
    "- https://www.amsterdam.nl/stelselpedia/bgt-index/producten-bgt/prodspec-bgt-dgn-imgeo"
   ]
  },
  {
   "cell_type": "code",
   "execution_count": null,
   "id": "ffb98ee6",
   "metadata": {},
   "outputs": [],
   "source": [
    "import upcp.scrapers.ams_bgt_scraper as ams_bgt_scraper\n",
    "import upcp.utils.las_utils as las_utils\n",
    "import upcp.utils.csv_utils as csv_utils"
   ]
  },
  {
   "cell_type": "markdown",
   "id": "dab253e4",
   "metadata": {},
   "source": [
    "## Specify the bounding box of the area we want to scrape"
   ]
  },
  {
   "cell_type": "code",
   "execution_count": null,
   "id": "b2703050",
   "metadata": {},
   "outputs": [],
   "source": [
    "# Single file\n",
    "tilecode = '2386_9702'\n",
    "bbox = las_utils.get_bbox_from_tile_code(tilecode, padding=0)"
   ]
  },
  {
   "cell_type": "code",
   "execution_count": null,
   "id": "e72f4e78",
   "metadata": {},
   "outputs": [],
   "source": [
    "# All files in a folder\n",
    "bbox = las_utils.get_bbox_from_las_folder('../datasets/pointclouds/partly_labelled/run1/', padding=0)"
   ]
  },
  {
   "cell_type": "markdown",
   "id": "937b76d3",
   "metadata": {},
   "source": [
    "## Scrape sidewalk data from BGT"
   ]
  },
  {
   "cell_type": "code",
   "execution_count": null,
   "id": "edc64b0d",
   "metadata": {},
   "outputs": [],
   "source": [
    "# Output file for the BGT fuser.\n",
    "bgt_data_file = '../datasets/bgt/bgt_voetpad_demo.csv'\n",
    "csv_headers = ['bgt_name', 'polygon', 'x_min', 'y_max', 'x_max', 'y_min']\n",
    "    \n",
    "# Road and parking spots layers in BGT\n",
    "bgt_layers = ['BGT_WGL_voetpad']"
   ]
  },
  {
   "cell_type": "code",
   "execution_count": null,
   "id": "3c2bbe0c",
   "metadata": {},
   "outputs": [],
   "source": [
    "# Scrape data from the Amsterdam WFS and parse the json.\n",
    "bgt_road_polygons_csv = []\n",
    "for layer in bgt_layers:\n",
    "    # Scrape data from the Amsterdam WFS, this will return a json response.\n",
    "    json_content = ams_bgt_scraper.scrape_amsterdam_bgt(layer, bbox=bbox)\n",
    "    \n",
    "    # Parse the downloaded json response.\n",
    "    parsed_content = ams_bgt_scraper.parse_polygons(json_content)\n",
    "    bgt_road_polygons_csv += parsed_content\n",
    "\n",
    "# Write the csv\n",
    "csv_utils.write_csv(bgt_data_file, bgt_road_polygons_csv, csv_headers)"
   ]
  }
 ],
 "metadata": {
  "kernelspec": {
   "display_name": "Python 3 (ipykernel)",
   "language": "python",
   "name": "python3"
  },
  "language_info": {
   "codemirror_mode": {
    "name": "ipython",
    "version": 3
   },
   "file_extension": ".py",
   "mimetype": "text/x-python",
   "name": "python",
   "nbconvert_exporter": "python",
   "pygments_lexer": "ipython3",
   "version": "3.8.12"
  }
 },
 "nbformat": 4,
 "nbformat_minor": 5
}
