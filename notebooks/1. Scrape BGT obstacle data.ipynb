{
 "cells": [
  {
   "cell_type": "markdown",
   "id": "beginning-webcam",
   "metadata": {},
   "source": [
    "# Scrape and parse reference data from public data sources\n",
    "This notebook scrapes data from the Amsterdam BGT API and National Road Traffic Data Portal\n",
    "(NDW). The documentation of both data sources can be found at:\n",
    "- https://www.amsterdam.nl/stelselpedia/bgt-index/producten-bgt/prodspec-bgt-dgn-imgeo/\n",
    "- https://docs.ndw.nu/api/trafficsigns/nl/index.html"
   ]
  },
  {
   "cell_type": "code",
   "execution_count": 1,
   "id": "productive-median",
   "metadata": {},
   "outputs": [],
   "source": [
    "import numpy as np\n",
    "from tqdm.notebook import tqdm\n",
    "tqdm.pandas()\n",
    "import geopandas as gpd\n",
    "import shapely\n",
    "from shapely.geometry import Polygon\n",
    "import pandas as pd\n",
    "\n",
    "import upcp.scrapers.ams_bgt_scraper as ams_bgt_scraper\n",
    "import upcp.scrapers.ndw_scraper as ndw_scraper\n",
    "import upcp.utils.las_utils as las_utils\n",
    "import upcp.utils.csv_utils as csv_utils"
   ]
  },
  {
   "cell_type": "code",
   "execution_count": 2,
   "id": "26d2c663-cc26-4d2d-9a6f-4bf92f9d1e8d",
   "metadata": {},
   "outputs": [],
   "source": [
    "BGT_FOLDER = '../datasets/Accessibility_oost/bgt/'"
   ]
  },
  {
   "cell_type": "code",
   "execution_count": 3,
   "id": "776660c9-1ad0-47b6-863e-ce407626edb9",
   "metadata": {},
   "outputs": [],
   "source": [
    "bbox = las_utils.get_bbox_from_las_folder('../datasets/Accessibility_oost/ahn3/', padding=5)\n",
    "((xmin, ymax), (xmax, ymin)) = bbox\n",
    "bbox_poly = Polygon([(xmin, ymin), (xmin, ymax), (xmax, ymax), (xmax, ymin), (xmin, ymin)])"
   ]
  },
  {
   "cell_type": "markdown",
   "id": "b3b99814-bbbd-4d55-a9a7-9d02d98eb6bc",
   "metadata": {},
   "source": [
    "## Custom 'obstakels'"
   ]
  },
  {
   "cell_type": "code",
   "execution_count": 4,
   "id": "69b96c10-2ba2-45b2-97dc-7b662bb87903",
   "metadata": {},
   "outputs": [],
   "source": [
    "def is_inside(row):\n",
    "    poly = row['geometry']\n",
    "    if isinstance(poly, shapely.geometry.base.BaseGeometry):\n",
    "        return bbox_poly.contains(poly.centroid)\n",
    "    else:\n",
    "        return False"
   ]
  },
  {
   "cell_type": "code",
   "execution_count": 5,
   "id": "2b7fb6a8-167b-4d59-be57-6db91045ed0c",
   "metadata": {},
   "outputs": [],
   "source": [
    "bgt_data_file = f'{BGT_FOLDER}bgt_bakken_banken_2018.csv'\n",
    "data = gpd.read_file('../datasets/Accessibility_oost/obstakels_2018/bakken.gpkg')"
   ]
  },
  {
   "cell_type": "code",
   "execution_count": 6,
   "id": "8e3191df-62e1-4cb3-afe9-c0b2a6751c25",
   "metadata": {},
   "outputs": [
    {
     "data": {
      "application/vnd.jupyter.widget-view+json": {
       "model_id": "32081e3b41874a29af6393ff0b9195c3",
       "version_major": 2,
       "version_minor": 0
      },
      "text/plain": [
       "  0%|          | 0/12870 [00:00<?, ?it/s]"
      ]
     },
     "metadata": {},
     "output_type": "display_data"
    }
   ],
   "source": [
    "data['is_inside'] = data.progress_apply(is_inside, axis=1)"
   ]
  },
  {
   "cell_type": "code",
   "execution_count": 7,
   "id": "33ce28dc",
   "metadata": {},
   "outputs": [],
   "source": [
    "df_oost = data[(data['is_inside'] == True)]"
   ]
  },
  {
   "cell_type": "code",
   "execution_count": 9,
   "id": "9058da71",
   "metadata": {},
   "outputs": [
    {
     "name": "stderr",
     "output_type": "stream",
     "text": [
      "/var/folders/rq/h813f9cd5xb5_vw7vwp2c0_40000gn/T/ipykernel_5628/689957925.py:2: ShapelyDeprecationWarning: __getitem__ for multi-part geometries is deprecated and will be removed in Shapely 2.0. Use the `geoms` property to access the constituent parts of a multi-part geometry.\n",
      "  df_oost[\"x\"] = df_oost.geometry.map(lambda p: p[0].x)\n",
      "/opt/anaconda3/envs/new/lib/python3.8/site-packages/geopandas/geodataframe.py:1351: SettingWithCopyWarning: \n",
      "A value is trying to be set on a copy of a slice from a DataFrame.\n",
      "Try using .loc[row_indexer,col_indexer] = value instead\n",
      "\n",
      "See the caveats in the documentation: https://pandas.pydata.org/pandas-docs/stable/user_guide/indexing.html#returning-a-view-versus-a-copy\n",
      "  super().__setitem__(key, value)\n",
      "/var/folders/rq/h813f9cd5xb5_vw7vwp2c0_40000gn/T/ipykernel_5628/689957925.py:3: ShapelyDeprecationWarning: __getitem__ for multi-part geometries is deprecated and will be removed in Shapely 2.0. Use the `geoms` property to access the constituent parts of a multi-part geometry.\n",
      "  df_oost[\"y\"] = df_oost.geometry.map(lambda p: p[0].y)\n",
      "/opt/anaconda3/envs/new/lib/python3.8/site-packages/geopandas/geodataframe.py:1351: SettingWithCopyWarning: \n",
      "A value is trying to be set on a copy of a slice from a DataFrame.\n",
      "Try using .loc[row_indexer,col_indexer] = value instead\n",
      "\n",
      "See the caveats in the documentation: https://pandas.pydata.org/pandas-docs/stable/user_guide/indexing.html#returning-a-view-versus-a-copy\n",
      "  super().__setitem__(key, value)\n"
     ]
    }
   ],
   "source": [
    "# This is a Shapely MULTIPOINT\n",
    "df_oost[\"x\"] = df_oost.geometry.map(lambda p: p[0].x)\n",
    "df_oost[\"y\"] = df_oost.geometry.map(lambda p: p[0].y)"
   ]
  },
  {
   "cell_type": "code",
   "execution_count": 10,
   "id": "e844fc07",
   "metadata": {
    "scrolled": true
   },
   "outputs": [
    {
     "name": "stderr",
     "output_type": "stream",
     "text": [
      "/opt/anaconda3/envs/new/lib/python3.8/site-packages/geopandas/geodataframe.py:1351: SettingWithCopyWarning: \n",
      "A value is trying to be set on a copy of a slice from a DataFrame.\n",
      "Try using .loc[row_indexer,col_indexer] = value instead\n",
      "\n",
      "See the caveats in the documentation: https://pandas.pydata.org/pandas-docs/stable/user_guide/indexing.html#returning-a-view-versus-a-copy\n",
      "  super().__setitem__(key, value)\n"
     ]
    }
   ],
   "source": [
    "# Check for rows/objects that do not exist in 2018\n",
    "df_oost['none_column'] = df_oost['type_det_o'].isnull()"
   ]
  },
  {
   "cell_type": "code",
   "execution_count": 11,
   "id": "d425f1f3",
   "metadata": {},
   "outputs": [
    {
     "data": {
      "text/plain": [
       "array(['Afvalbak'], dtype=object)"
      ]
     },
     "execution_count": 11,
     "metadata": {},
     "output_type": "execute_result"
    }
   ],
   "source": [
    "df_afvalbakken_2018 = df_oost[df_oost['none_column'] != True]\n",
    "df_afvalbakken_2018.objecttype.unique()"
   ]
  },
  {
   "cell_type": "code",
   "execution_count": 12,
   "id": "397c6e33",
   "metadata": {},
   "outputs": [
    {
     "data": {
      "image/png": "[encoded data removed]",
      "text/plain": [
       "<Figure size 432x288 with 1 Axes>"
      ]
     },
     "metadata": {
      "needs_background": "light"
     },
     "output_type": "display_data"
    }
   ],
   "source": [
    "#%matplotlib widget\n",
    "import matplotlib.pyplot as plt\n",
    "\n",
    "params = {'legend.fontsize': 6,\n",
    "          'legend.loc': 'center left'}\n",
    "plt.rcParams.update(params)\n",
    "\n",
    "fig, ax = plt.subplots(1, 1)\n",
    "\n",
    "# data[data.is_inside].plot(ax=ax, column='type_oud', marker='.', markersize=1, legend=True)\n",
    "df_afvalbakken_2018.plot(ax=ax, column='type_det_o', legend=True)\n",
    "# ax.set_aspect('equal', 'box')\n",
    "# Shrink current axis by 20%\n",
    "box = ax.get_position()\n",
    "# ax.set_position([box.x0, box.y0, box.width * 0.8, box.height])\n",
    "leg = ax.get_legend()\n",
    "leg.set_bbox_to_anchor((1, 1))\n",
    "\n",
    "plt.show()"
   ]
  },
  {
   "cell_type": "code",
   "execution_count": 13,
   "id": "68690d6a",
   "metadata": {},
   "outputs": [
    {
     "name": "stderr",
     "output_type": "stream",
     "text": [
      "/var/folders/rq/h813f9cd5xb5_vw7vwp2c0_40000gn/T/ipykernel_5628/1664543152.py:3: SettingWithCopyWarning: \n",
      "A value is trying to be set on a copy of a slice from a DataFrame.\n",
      "Try using .loc[row_indexer,col_indexer] = value instead\n",
      "\n",
      "See the caveats in the documentation: https://pandas.pydata.org/pandas-docs/stable/user_guide/indexing.html#returning-a-view-versus-a-copy\n",
      "  df_afvalbakken_2018['bgt_type'] = 'afvalbak'\n"
     ]
    }
   ],
   "source": [
    "# Create df in the csv format\n",
    "df_afvalbakken_2018 = df_afvalbakken_2018[['x','y']]\n",
    "df_afvalbakken_2018['bgt_type'] = 'afvalbak'"
   ]
  },
  {
   "cell_type": "code",
   "execution_count": 14,
   "id": "1411e3aa",
   "metadata": {},
   "outputs": [],
   "source": [
    "data = gpd.read_file('../datasets/Accessibility_oost/obstakels_2018/meubilair.gpkg')"
   ]
  },
  {
   "cell_type": "code",
   "execution_count": 15,
   "id": "f38d667d",
   "metadata": {},
   "outputs": [
    {
     "data": {
      "application/vnd.jupyter.widget-view+json": {
       "model_id": "2737281ad03b435a84e2de2f79f31b01",
       "version_major": 2,
       "version_minor": 0
      },
      "text/plain": [
       "  0%|          | 0/19117 [00:00<?, ?it/s]"
      ]
     },
     "metadata": {},
     "output_type": "display_data"
    }
   ],
   "source": [
    "data['is_inside'] = data.progress_apply(is_inside, axis=1)"
   ]
  },
  {
   "cell_type": "code",
   "execution_count": 16,
   "id": "19b949bb",
   "metadata": {},
   "outputs": [],
   "source": [
    "df_oost = data[(data['is_inside'] == True)]"
   ]
  },
  {
   "cell_type": "code",
   "execution_count": 17,
   "id": "6f5c62f4",
   "metadata": {},
   "outputs": [
    {
     "name": "stderr",
     "output_type": "stream",
     "text": [
      "/opt/anaconda3/envs/new/lib/python3.8/site-packages/geopandas/geodataframe.py:1351: SettingWithCopyWarning: \n",
      "A value is trying to be set on a copy of a slice from a DataFrame.\n",
      "Try using .loc[row_indexer,col_indexer] = value instead\n",
      "\n",
      "See the caveats in the documentation: https://pandas.pydata.org/pandas-docs/stable/user_guide/indexing.html#returning-a-view-versus-a-copy\n",
      "  super().__setitem__(key, value)\n",
      "/opt/anaconda3/envs/new/lib/python3.8/site-packages/geopandas/geodataframe.py:1351: SettingWithCopyWarning: \n",
      "A value is trying to be set on a copy of a slice from a DataFrame.\n",
      "Try using .loc[row_indexer,col_indexer] = value instead\n",
      "\n",
      "See the caveats in the documentation: https://pandas.pydata.org/pandas-docs/stable/user_guide/indexing.html#returning-a-view-versus-a-copy\n",
      "  super().__setitem__(key, value)\n"
     ]
    }
   ],
   "source": [
    "# This is a Shapely POINT\n",
    "df_oost[\"x\"] = df_oost.geometry.map(lambda p: p.x)\n",
    "df_oost[\"y\"] = df_oost.geometry.map(lambda p: p.y)"
   ]
  },
  {
   "cell_type": "code",
   "execution_count": 18,
   "id": "7b482aa7",
   "metadata": {},
   "outputs": [
    {
     "name": "stderr",
     "output_type": "stream",
     "text": [
      "/opt/anaconda3/envs/new/lib/python3.8/site-packages/geopandas/geodataframe.py:1351: SettingWithCopyWarning: \n",
      "A value is trying to be set on a copy of a slice from a DataFrame.\n",
      "Try using .loc[row_indexer,col_indexer] = value instead\n",
      "\n",
      "See the caveats in the documentation: https://pandas.pydata.org/pandas-docs/stable/user_guide/indexing.html#returning-a-view-versus-a-copy\n",
      "  super().__setitem__(key, value)\n"
     ]
    }
   ],
   "source": [
    "# Check for rows/objects that do not exist in 2018\n",
    "df_oost['none_column'] = df_oost['type_det_o'].isnull()"
   ]
  },
  {
   "cell_type": "code",
   "execution_count": 19,
   "id": "ee290aa4",
   "metadata": {},
   "outputs": [
    {
     "data": {
      "text/plain": [
       "array(['Banken'], dtype=object)"
      ]
     },
     "execution_count": 19,
     "metadata": {},
     "output_type": "execute_result"
    }
   ],
   "source": [
    "df_banken_2018 = df_oost[df_oost['none_column'] != True]\n",
    "df_banken_2018.objecttype.unique()"
   ]
  },
  {
   "cell_type": "code",
   "execution_count": 20,
   "id": "0cfd6b76",
   "metadata": {},
   "outputs": [],
   "source": [
    "df_banken_2018 = df_banken_2018[df_banken_2018['objecttype'] == 'Banken']"
   ]
  },
  {
   "cell_type": "code",
   "execution_count": 21,
   "id": "ae46ae3e-4d73-499c-a56f-3d2933c67a72",
   "metadata": {},
   "outputs": [
    {
     "data": {
      "image/png": "[encoded data removed]",
      "text/plain": [
       "<Figure size 432x288 with 1 Axes>"
      ]
     },
     "metadata": {
      "needs_background": "light"
     },
     "output_type": "display_data"
    }
   ],
   "source": [
    "#%matplotlib widget\n",
    "import matplotlib.pyplot as plt\n",
    "\n",
    "params = {'legend.fontsize': 6,\n",
    "          'legend.loc': 'center left'}\n",
    "plt.rcParams.update(params)\n",
    "\n",
    "fig, ax = plt.subplots(1, 1)\n",
    "\n",
    "df_banken_2018.plot(ax=ax, column='type_det_o', legend=True)\n",
    "# ax.set_aspect('equal', 'box')\n",
    "# Shrink current axis by 20%\n",
    "box = ax.get_position()\n",
    "# ax.set_position([box.x0, box.y0, box.width * 0.8, box.height])\n",
    "leg = ax.get_legend()\n",
    "leg.set_bbox_to_anchor((1, 1))\n",
    "\n",
    "plt.show()"
   ]
  },
  {
   "cell_type": "code",
   "execution_count": 22,
   "id": "ca77b988",
   "metadata": {},
   "outputs": [],
   "source": [
    "# Create df in the csv format\n",
    "df_banken_2018 = df_banken_2018[['x','y']]\n",
    "df_banken_2018['bgt_type'] = 'bank'\n",
    "df_banken_2018 = df_banken_2018[['bgt_type', 'x','y']]"
   ]
  },
  {
   "cell_type": "code",
   "execution_count": 23,
   "id": "c9d70c96",
   "metadata": {},
   "outputs": [],
   "source": [
    "# Save \"banken\" en \"bakken\" dataframes to csv\n",
    "df_concat = pd.concat([df_afvalbakken_2018, df_banken_2018], ignore_index=True, sort=False)\n",
    "df_concat.to_csv(bgt_data_file, index=False)"
   ]
  },
  {
   "cell_type": "code",
   "execution_count": 24,
   "id": "785c1403-21c4-478c-9edd-3d9131c5c4d2",
   "metadata": {},
   "outputs": [],
   "source": [
    "fig.savefig('banken.png', dpi=200, bbox_extra_artists=(leg,), bbox_inches='tight')"
   ]
  },
  {
   "cell_type": "markdown",
   "id": "confident-hammer",
   "metadata": {},
   "source": [
    "## Scrape building footprint data from BGT"
   ]
  },
  {
   "cell_type": "code",
   "execution_count": null,
   "id": "duplicate-landscape",
   "metadata": {},
   "outputs": [],
   "source": [
    "# Output file for the BGT fuser.\n",
    "bgt_data_file = f'{BGT_FOLDER}bgt_buildings.csv'\n",
    "csv_headers = ['bgt_type', 'polygon', 'x_min', 'y_max', 'x_max', 'y_min']\n",
    "\n",
    "bgt_layer = 'BGT_PND_pand'"
   ]
  },
  {
   "cell_type": "code",
   "execution_count": null,
   "id": "tough-bradford",
   "metadata": {},
   "outputs": [],
   "source": [
    "# Scrape data from the Amsterdam WFS, this will return a json response.\n",
    "json_response = ams_bgt_scraper.scrape_amsterdam_bgt(bgt_layer, bbox=bbox)\n",
    "\n",
    "# Parse the downloaded json response.\n",
    "parsed_content = ams_bgt_scraper.parse_polygons(json_response)\n",
    "\n",
    "# Write the csv\n",
    "csv_utils.write_csv(bgt_data_file, parsed_content, csv_headers)"
   ]
  },
  {
   "cell_type": "markdown",
   "id": "dietary-wildlife",
   "metadata": {},
   "source": [
    "## Scrape road information from BGT"
   ]
  },
  {
   "cell_type": "code",
   "execution_count": null,
   "id": "handmade-therapist",
   "metadata": {},
   "outputs": [],
   "source": [
    "# Output file for the BGT fuser.\n",
    "bgt_data_file = f'{BGT_FOLDER}bgt_roads.csv'\n",
    "csv_headers = ['bgt_type', 'polygon', 'x_min', 'y_max', 'x_max', 'y_min']\n",
    "    \n",
    "# Road and parking spots layers in BGT\n",
    "bgt_layers = ['BGT_WGL_rijbaan_lokale_weg', 'BGT_WGL_parkeervlak',\n",
    "              'BGT_WGL_rijbaan_autoweg', 'BGT_WGL_rijbaan_autosnelweg',\n",
    "              'BGT_WGL_rijbaan_regionale_weg', 'BGT_WGL_ov-baan',\n",
    "              'BGT_WGL_fietspad']"
   ]
  },
  {
   "cell_type": "code",
   "execution_count": null,
   "id": "mature-chess",
   "metadata": {},
   "outputs": [],
   "source": [
    "# Scrape data from the Amsterdam WFS and parse the json.\n",
    "bgt_road_polygons_csv = []\n",
    "for layer in bgt_layers:\n",
    "    # Scrape data from the Amsterdam WFS, this will return a json response.\n",
    "    json_content = ams_bgt_scraper.scrape_amsterdam_bgt(layer, bbox=bbox)\n",
    "    \n",
    "    # Parse the downloaded json response.\n",
    "    parsed_content = ams_bgt_scraper.parse_polygons(json_content)\n",
    "    bgt_road_polygons_csv += parsed_content\n",
    "\n",
    "# Write the csv\n",
    "csv_utils.write_csv(bgt_data_file, bgt_road_polygons_csv, csv_headers)"
   ]
  },
  {
   "cell_type": "markdown",
   "id": "opened-estate",
   "metadata": {},
   "source": [
    "## Scrape pole-like object locations from BGT and NDW"
   ]
  },
  {
   "cell_type": "code",
   "execution_count": null,
   "id": "federal-negotiation",
   "metadata": {},
   "outputs": [],
   "source": [
    "# Output file for the BGT fuser.\n",
    "bgt_data_file = f'{BGT_FOLDER}poles.csv'\n",
    "csv_headers = ['bgt_type', 'x', 'y']\n",
    "\n",
    "# BGT layers (without the traffic sign layer)\n",
    "bgt_layers = ['BGTPLUS_PAL_lichtmast', 'BGTPLUS_VGT_boom']"
   ]
  },
  {
   "cell_type": "code",
   "execution_count": null,
   "id": "instant-substitute",
   "metadata": {},
   "outputs": [],
   "source": [
    "# Scrape tree and lamp post data from BGT and parse the json.\n",
    "bgt_point_objects_csv = []\n",
    "for layer in bgt_layers:\n",
    "    # Scrape data from the Amsterdam WFS, this will return a json response.\n",
    "    json_content = ams_bgt_scraper.scrape_amsterdam_bgt(layer, bbox=bbox)\n",
    "    \n",
    "    # Parse the downloaded json response.\n",
    "    parsed_content = ams_bgt_scraper.parse_points_bgtplus(json_content)\n",
    "    bgt_point_objects_csv += parsed_content\n",
    "\n",
    "# Scrape traffic sign data from NDW. The municipality code of Amsterdam is GM0363.\n",
    "json_content = ndw_scraper.scrape_ndw(town_code='GM0363')\n",
    "\n",
    "# Parse the downloaded json response.\n",
    "parsed_content = ndw_scraper.parse_traffic_signs(json_content, bbox)\n",
    "bgt_point_objects_csv += parsed_content\n",
    "\n",
    "# Write the csv\n",
    "csv_utils.write_csv(bgt_data_file, bgt_point_objects_csv, csv_headers)"
   ]
  },
  {
   "cell_type": "markdown",
   "id": "charming-danger",
   "metadata": {},
   "source": [
    "## Scrape street furniture object locations from BGT\n",
    "Please note, <x,y> coordinates for the bgt layers \"BGTPLUS_BAK_afvalbak\" and \"BGTPLUS_SMR_bank\" are not available for the example point cloud tiles. Therefore, manually generated data is provided in this repository for demonstration purposes."
   ]
  },
  {
   "cell_type": "code",
   "execution_count": null,
   "id": "modified-productivity",
   "metadata": {},
   "outputs": [],
   "source": [
    "# Output file for the BGT fuser.\n",
    "bgt_data_file = f'{BGT_FOLDER}bgt_street_furniture.csv'\n",
    "csv_headers = ['bgt_type', 'x', 'y']\n",
    "\n",
    "# BGT layers\n",
    "bgt_layers = ['BGTPLUS_BAK_afvalbak', 'BGTPLUS_SMR_bank']"
   ]
  },
  {
   "cell_type": "code",
   "execution_count": null,
   "id": "returning-alexandria",
   "metadata": {},
   "outputs": [],
   "source": [
    "# Scrape street furniture data from BGT and parse the json.\n",
    "bgt_point_objects_csv = []\n",
    "for layer in bgt_layers:\n",
    "    # Scrape data from the Amsterdam WFS, this will return a json response.\n",
    "    json_content = ams_bgt_scraper.scrape_amsterdam_bgt(layer, bbox=bbox)\n",
    "    \n",
    "    # Parse the downloaded json response.\n",
    "    parsed_content = ams_bgt_scraper.parse_points_bgtplus(json_content)\n",
    "    bgt_point_objects_csv += parsed_content\n",
    "\n",
    "# Write the csv (uncomment when data is available)\n",
    "# csv_utils.write_csv(bgt_data_file, bgt_point_objects_csv, csv_headers)"
   ]
  },
  {
   "cell_type": "code",
   "execution_count": null,
   "id": "4fae04bf-2e74-4aec-a70e-a114beeb4965",
   "metadata": {},
   "outputs": [],
   "source": []
  }
 ],
 "metadata": {
  "kernelspec": {
   "display_name": "Python 3 (ipykernel)",
   "language": "python",
   "name": "python3"
  },
  "language_info": {
   "codemirror_mode": {
    "name": "ipython",
    "version": 3
   },
   "file_extension": ".py",
   "mimetype": "text/x-python",
   "name": "python",
   "nbconvert_exporter": "python",
   "pygments_lexer": "ipython3",
   "version": "3.8.12"
  }
 },
 "nbformat": 4,
 "nbformat_minor": 5
}
