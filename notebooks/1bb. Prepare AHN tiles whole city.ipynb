{
 "cells": [
  {
   "cell_type": "markdown",
   "id": "f5fdd96c-6724-4c1f-83aa-93b363895ed7",
   "metadata": {},
   "source": [
    "# AHN tiles download and preprocessing\n",
    "\n",
    "This notebook downloads and pre-processes AHN elevation data for a given set of point cloud tiles."
   ]
  },
  {
   "cell_type": "code",
   "execution_count": null,
   "id": "1c91cf31-0ece-4291-b074-86931e180c12",
   "metadata": {},
   "outputs": [],
   "source": [
    "import numpy as np\n",
    "import geopandas as gpd\n",
    "import shapely.geometry as sg\n",
    "from tqdm.notebook import tqdm\n",
    "tqdm.pandas()\n",
    "import pathlib\n",
    "import os\n",
    "import re\n",
    "import laspy\n",
    "import matplotlib.pyplot as plt\n",
    "\n",
    "from upcp.preprocessing import ahn_preprocessing\n",
    "from upcp.utils import las_utils\n",
    "\n",
    "import set_path\n",
    "from upc_sw import poly_utils"
   ]
  },
  {
   "cell_type": "code",
   "execution_count": null,
   "id": "78d0b6c7-b8e3-4152-b216-27945a373ced",
   "metadata": {},
   "outputs": [],
   "source": [
    "### SETTINGS ###\n",
    "\n",
    "resume = True\n",
    "\n",
    "# AHN output settings\n",
    "ahn_version = 'ahn4'  # Either ahn3 or ahn4\n",
    "ahn_resolution = 0.1  # Resolution for the .npz data\n",
    "ahn_data_folder = '../../datasets/AHN4/'  # Location where AHN data will be stored\n",
    "ahn_subtile_folder = '../../datasets/AHN4/AMS_subtiles_1000/'  # Location of AHN subtiles\n",
    "\n",
    "# https://geotiles.nl/ data source\n",
    "base_url = f'https://geotiles.nl/{str.upper(ahn_version)}_T/'\n",
    "\n",
    "# Create folders if they don't exist\n",
    "pathlib.Path(ahn_data_folder).mkdir(parents=True, exist_ok=True)\n",
    "\n",
    "ahn_laz_folder = f'{ahn_data_folder}{ahn_version}_laz/'\n",
    "ahn_npz_folder = f'{ahn_data_folder}{ahn_version}_npz/'"
   ]
  },
  {
   "cell_type": "markdown",
   "id": "e0e1babc-6c4f-468d-9008-82cb64093a20",
   "metadata": {},
   "source": [
    "## Load Cyclomedia tile data"
   ]
  },
  {
   "cell_type": "code",
   "execution_count": null,
   "id": "b03c1ed1-7578-4bfb-89c1-3f23296cbdda",
   "metadata": {},
   "outputs": [],
   "source": [
    "run1_tiles = gpd.read_file('run1_tiles_10k.gpkg')\n",
    "run2_tiles = gpd.read_file('run2_tiles_10k.gpkg')"
   ]
  },
  {
   "cell_type": "code",
   "execution_count": null,
   "id": "b032e038-419e-4da6-a98c-d92ed4dfb21e",
   "metadata": {},
   "outputs": [],
   "source": [
    "all_tiles = set(run1_tiles['tilecode']).union(set(run2_tiles['tilecode']))"
   ]
  },
  {
   "cell_type": "code",
   "execution_count": null,
   "id": "cedb8e8b-099e-4674-870e-2efdc4f814a7",
   "metadata": {},
   "outputs": [],
   "source": [
    "if resume and os.path.exists(ahn_laz_folder):\n",
    "    done_tiles = las_utils.get_tilecodes_from_folder(ahn_laz_folder, las_prefix='ahn')\n",
    "    all_tiles = all_tiles - done_tiles"
   ]
  },
  {
   "cell_type": "code",
   "execution_count": null,
   "id": "f0b1de37-0b13-4869-99d8-d32e6493dec8",
   "metadata": {},
   "outputs": [],
   "source": [
    "run1_tiles = None\n",
    "run2_tiles = None"
   ]
  },
  {
   "cell_type": "code",
   "execution_count": null,
   "id": "e0bec1c2-2081-4e48-9316-8dc5425dded0",
   "metadata": {},
   "outputs": [],
   "source": [
    "all_tiles = list(all_tiles)\n",
    "all_tiles.sort()\n",
    "all_tiles_gdf = gpd.GeoDataFrame({'tilecode': all_tiles,\n",
    "                                  'geometry': [poly_utils.tilecode_to_poly(tc) for tc in all_tiles]})"
   ]
  },
  {
   "cell_type": "markdown",
   "id": "68f6581e-0b05-4120-96ea-2bc83f04c987",
   "metadata": {},
   "source": [
    "### Load AHN data"
   ]
  },
  {
   "cell_type": "code",
   "execution_count": null,
   "id": "1ebdc4a6-1b21-4bf0-9052-e6cde88ed13a",
   "metadata": {},
   "outputs": [],
   "source": [
    "ahn_subtiles = [file.name for file in pathlib.Path(ahn_subtile_folder).glob('*.laz')]\n",
    "ahn_subtiles.sort()"
   ]
  },
  {
   "cell_type": "code",
   "execution_count": null,
   "id": "c83602e4-03a8-46e5-b56d-c57bb3641d17",
   "metadata": {},
   "outputs": [],
   "source": [
    "def ahn_file_to_poly(filename, scale=1000):\n",
    "    \"\"\"Extract the tile code from a file name.\"\"\"\n",
    "    ahn_code = re.match(r'.*(\\d{3}_\\d{3}).*', filename)[1]\n",
    "    code_split = ahn_code.split('_')\n",
    "    x_min = int(code_split[0]) * scale\n",
    "    y_min = int(code_split[1]) * scale\n",
    "    return sg.box(x_min, y_min, x_min+scale, y_min+scale)"
   ]
  },
  {
   "cell_type": "code",
   "execution_count": null,
   "id": "35fa35bd-eb73-47bb-b349-730c8aaa260d",
   "metadata": {},
   "outputs": [],
   "source": [
    "ahn_gdf = gpd.GeoDataFrame({'filename': ahn_subtiles,\n",
    "                            'geometry': [ahn_file_to_poly(f) for f in ahn_subtiles]})"
   ]
  },
  {
   "cell_type": "markdown",
   "id": "196fe9ba-e43d-41e1-8808-72fa3b6ae694",
   "metadata": {},
   "source": [
    "### Find AHN subtiles that cover the target area based on CycloMedia tiles"
   ]
  },
  {
   "cell_type": "code",
   "execution_count": null,
   "id": "34bad881-9599-43a6-a2bb-0d01691222cb",
   "metadata": {},
   "outputs": [],
   "source": [
    "# Generate a merged GeoDataFrame for effiency\n",
    "merged_poly = all_tiles_gdf.unary_union\n",
    "if type(merged_poly) == sg.Polygon:\n",
    "    merged_poly = sg.MultiPolygon([merged_poly])\n",
    "merged_pc_tiles = gpd.GeoDataFrame({'geometry': [geom for geom in merged_poly.geoms]})"
   ]
  },
  {
   "cell_type": "code",
   "execution_count": null,
   "id": "c71baa75-0b5c-4106-9e59-d38fadc95280",
   "metadata": {},
   "outputs": [],
   "source": [
    "# Filter ahn data based on merged target shapes\n",
    "ahn_gdf['used'] = ahn_gdf.apply(lambda row: (merged_pc_tiles.intersects(row.geometry) \n",
    "                                             & ~merged_pc_tiles.touches(row.geometry)).any(),\n",
    "                                axis=1)\n",
    "ahn_gdf = ahn_gdf[ahn_gdf['used']]"
   ]
  },
  {
   "cell_type": "code",
   "execution_count": null,
   "id": "2dddebde-35c4-4296-8d03-936ab52ca12d",
   "metadata": {},
   "outputs": [],
   "source": [
    "# Visualize the result\n",
    "fig, ax = plt.subplots(1)\n",
    "ahn_gdf.plot(ax=ax, edgecolor=\"black\", linewidth=0.4, alpha=0.25)\n",
    "merged_pc_tiles.plot(ax=ax)\n",
    "ax.set_aspect('equal')\n",
    "plt.show()"
   ]
  },
  {
   "cell_type": "markdown",
   "id": "84606fb3-84e9-40db-8575-f79696e6d935",
   "metadata": {},
   "source": [
    "## Pre-process the AHN data"
   ]
  },
  {
   "cell_type": "code",
   "execution_count": null,
   "id": "881ba0e8-79cb-4573-a91b-56e931dce5a0",
   "metadata": {},
   "outputs": [],
   "source": [
    "def match_subtile(row):\n",
    "    target_df = ahn_gdf[ahn_gdf.contains(row.geometry)]\n",
    "    if len(target_df) == 0:  # Shouldn't happen\n",
    "        return None\n",
    "    else:\n",
    "        return target_df.iloc[0]['filename']"
   ]
  },
  {
   "cell_type": "code",
   "execution_count": null,
   "id": "a034b99f-c029-46f9-a897-cd899be70691",
   "metadata": {},
   "outputs": [],
   "source": [
    "# Match point cloud tiles to AHN subtiles\n",
    "all_tiles_gdf['subtile'] = all_tiles_gdf.progress_apply(match_subtile, axis=1)"
   ]
  },
  {
   "cell_type": "code",
   "execution_count": null,
   "id": "9b677a17-9993-4dfd-b859-78e63c9d4ae0",
   "metadata": {},
   "outputs": [],
   "source": [
    "# Generate .laz tiles\n",
    "pbar = tqdm(total=len(all_tiles_gdf), unit='tile', smoothing=0)\n",
    "for subtile in all_tiles_gdf['subtile'].unique():\n",
    "    pbar.set_postfix_str(subtile)\n",
    "    ahn_cloud = laspy.read(f'{ahn_subtile_folder}{subtile}')\n",
    "    ahn_cloud = laspy.convert(ahn_cloud, point_format_id=3, file_version='1.2')\n",
    "    for pc_tile in all_tiles_gdf[all_tiles_gdf['subtile'] == subtile]['tilecode'].values:\n",
    "        pc_path = f'dummy_{pc_tile}.laz'\n",
    "        ahn_preprocessing.clip_ahn_las_tile(ahn_cloud, pc_path, out_folder=ahn_laz_folder)\n",
    "        pbar.update(1)\n",
    "pbar.close()"
   ]
  },
  {
   "cell_type": "code",
   "execution_count": null,
   "id": "16f600c3-b107-4b87-bd6f-5112c72c60d7",
   "metadata": {},
   "outputs": [],
   "source": [
    "# Generate .npz data for all tiles\n",
    "files = list(pathlib.Path(ahn_laz_folder).glob('ahn_*.laz'))\n",
    "pathlib.Path(ahn_npz_folder).mkdir(parents=True, exist_ok=True)\n",
    "\n",
    "file_tqdm = tqdm(files, unit='file', smoothing=0)\n",
    "for file in file_tqdm:\n",
    "    ahn_preprocessing.process_ahn_las_tile(\n",
    "                            file, out_folder=ahn_npz_folder,\n",
    "                            resolution=ahn_resolution)"
   ]
  },
  {
   "cell_type": "code",
   "execution_count": null,
   "id": "4dfdf5e5-cfd8-4afb-ab51-1aa9fd8c7088",
   "metadata": {},
   "outputs": [],
   "source": [
    "# Alternative, uses parallel processing\n",
    "n_cores = 10\n",
    "!python ../../Urban_PointCloud_Processing/scripts/ahn_batch_processor.py --in_folder {ahn_laz_folder} --out_folder {ahn_npz_folder} --resume --workers {n_cores}"
   ]
  },
  {
   "cell_type": "code",
   "execution_count": null,
   "id": "8af57de5-8420-4d5d-9e7f-f367b9b7b885",
   "metadata": {},
   "outputs": [],
   "source": []
  }
 ],
 "metadata": {
  "kernelspec": {
   "display_name": "Python 3 (ipykernel)",
   "language": "python",
   "name": "python3"
  },
  "language_info": {
   "codemirror_mode": {
    "name": "ipython",
    "version": 3
   },
   "file_extension": ".py",
   "mimetype": "text/x-python",
   "name": "python",
   "nbconvert_exporter": "python",
   "pygments_lexer": "ipython3",
   "version": "3.9.12"
  }
 },
 "nbformat": 4,
 "nbformat_minor": 5
}
