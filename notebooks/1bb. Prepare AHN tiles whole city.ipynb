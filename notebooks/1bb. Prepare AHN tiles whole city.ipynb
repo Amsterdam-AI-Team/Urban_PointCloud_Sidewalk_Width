{
  "cells": [
    {
      "cell_type": "code",
      "source": [
        "!pip install -r ../requirements.txt"
      ],
      "outputs": [],
      "execution_count": null,
      "metadata": {
        "jupyter": {
          "source_hidden": false,
          "outputs_hidden": false
        },
        "nteract": {
          "transient": {
            "deleting": false
          }
        }
      },
      "id": "34cc8bc3-21ab-4f86-bfad-e96a4a019e9b"
    },
    {
      "cell_type": "code",
      "source": [
        "!jupyter nbextension enable --py widgetsnbextension"
      ],
      "outputs": [],
      "execution_count": null,
      "metadata": {
        "jupyter": {
          "source_hidden": false,
          "outputs_hidden": false
        },
        "nteract": {
          "transient": {
            "deleting": false
          }
        }
      },
      "id": "b7910b02-1594-4cd7-b172-b312b25895cc"
    },
    {
      "cell_type": "code",
      "source": [
        "!bash /home/azureuser/cloudfiles/code/blobfuse/blobfuse_pointcloud.sh"
      ],
      "outputs": [],
      "execution_count": null,
      "metadata": {
        "jupyter": {
          "source_hidden": false,
          "outputs_hidden": false
        },
        "nteract": {
          "transient": {
            "deleting": false
          }
        },
        "gather": {
          "logged": 1686736179511
        }
      },
      "id": "d1498d42-38f4-44e3-aa02-cb3fc9dc29d5"
    },
    {
      "cell_type": "markdown",
      "source": [
        "# AHN tiles download and preprocessing\n",
        "\n",
        "This notebook downloads and pre-processes AHN elevation data for a given set of point cloud tiles."
      ],
      "metadata": {},
      "id": "f5fdd96c-6724-4c1f-83aa-93b363895ed7"
    },
    {
      "cell_type": "code",
      "source": [
        "import numpy as np\n",
        "import geopandas as gpd\n",
        "import shapely.geometry as sg\n",
        "from tqdm.notebook import tqdm\n",
        "tqdm.pandas()\n",
        "import pathlib\n",
        "import os\n",
        "import re\n",
        "import laspy\n",
        "import matplotlib.pyplot as plt\n",
        "\n",
        "from upcp.preprocessing import ahn_preprocessing\n",
        "from upcp.utils import las_utils\n",
        "\n",
        "import set_path\n",
        "from upc_sw import poly_utils"
      ],
      "outputs": [],
      "execution_count": null,
      "metadata": {
        "gather": {
          "logged": 1688040399492
        }
      },
      "id": "1c91cf31-0ece-4291-b074-86931e180c12"
    },
    {
      "cell_type": "code",
      "source": [
        "### SETTINGS ###\n",
        "\n",
        "resume = True\n",
        "\n",
        "# AHN output settings\n",
        "ahn_version = 'ahn4'  # Either ahn3 or ahn4\n",
        "ahn_resolution = 0.1  # Resolution for the .npz data\n",
        "ahn_data_folder = '/home/azureuser/cloudfiles/code/blobfuse/pointcloud/UI/AHN_Data/Amsterdam/'  # Location where AHN data will be stored\n",
        "ahn_subtile_folder = '/home/azureuser/cloudfiles/code/blobfuse/pointcloud/UI/AHN_Data/Amsterdam/AMS_subtiles_1000/'  # Location of AHN subtiles\n",
        "\n",
        "# https://geotiles.nl/ data source\n",
        "base_url = f'https://geotiles.nl/{str.upper(ahn_version)}_T/'\n",
        "\n",
        "# Create folders if they don't exist\n",
        "pathlib.Path(ahn_data_folder).mkdir(parents=True, exist_ok=True)\n",
        "\n",
        "ahn_laz_folder = f'{ahn_data_folder}{ahn_version}_laz/'\n",
        "ahn_npz_folder = f'{ahn_data_folder}{ahn_version}_npz/'"
      ],
      "outputs": [],
      "execution_count": null,
      "metadata": {
        "gather": {
          "logged": 1686818671748
        }
      },
      "id": "78d0b6c7-b8e3-4152-b216-27945a373ced"
    },
    {
      "cell_type": "markdown",
      "source": [
        "## Load Cyclomedia tile data"
      ],
      "metadata": {},
      "id": "e0e1babc-6c4f-468d-9008-82cb64093a20"
    },
    {
      "cell_type": "code",
      "source": [
        "# run1_tiles = gpd.read_file('run1_tiles_10k.gpkg')\n",
        "# run2_tiles = gpd.read_file('run2_tiles_10k.gpkg')"
      ],
      "outputs": [],
      "execution_count": null,
      "metadata": {
        "gather": {
          "logged": 1688040407314
        }
      },
      "id": "b03c1ed1-7578-4bfb-89c1-3f23296cbdda"
    },
    {
      "cell_type": "code",
      "source": [
        "# all_tiles = set(run1_tiles['tilecode']).union(set(run2_tiles['tilecode']))"
      ],
      "outputs": [],
      "execution_count": null,
      "metadata": {
        "jupyter": {
          "source_hidden": false,
          "outputs_hidden": false
        },
        "nteract": {
          "transient": {
            "deleting": false
          }
        },
        "gather": {
          "logged": 1688040408003
        }
      },
      "id": "15059086-e47c-4505-9eb8-77a7f03b3386"
    },
    {
      "cell_type": "code",
      "source": [
        "# all_tiles = set([elem for elem in \n",
        "#     map(lambda x: x.split(\".\")[0].replace(\"pred_\", \"\"), os.listdir(\"/home/azureuser/cloudfiles/code/blobfuse/pointcloud/UI/Point_Cloud_Data/Amsterdam/Amsterdam_Oost/Predicted/Labels\"))\n",
        "#     if len(elem) > 0\n",
        "# ][:100])"
      ],
      "outputs": [],
      "execution_count": null,
      "metadata": {
        "jupyter": {
          "source_hidden": false,
          "outputs_hidden": false
        },
        "nteract": {
          "transient": {
            "deleting": false
          }
        },
        "gather": {
          "logged": 1688040408372
        }
      },
      "id": "d5f6f103-2306-4d12-b705-fa4f907a70ae"
    },
    {
      "cell_type": "code",
      "source": [
        "# east_dir = \"/home/azureuser/cloudfiles/code/blobfuse/pointcloud/UI/Point_Cloud_Data/Amsterdam/Amsterdam_Oost/Predicted/Labels\"\n",
        "# all_tiles_east = list(map(lambda x: x.split(\".\")[0].replace(\"pred_\", \"\"), os.listdir(east_dir)))\n",
        "# len(all_tiles_east)"
      ],
      "outputs": [],
      "execution_count": null,
      "metadata": {
        "jupyter": {
          "source_hidden": false,
          "outputs_hidden": false
        },
        "nteract": {
          "transient": {
            "deleting": false
          }
        },
        "gather": {
          "logged": 1688040408684
        }
      },
      "id": "3b80bc20-e413-4314-b683-35e89002779b"
    },
    {
      "cell_type": "code",
      "source": [
        "fuller_east_dir = \"/home/azureuser/cloudfiles/code/Users/n.ijzerman/RandLA-Net_local_files/dataset/Oost/las_processor_bundled_out\"\n",
        "# all_tiles_east = list(map(lambda x: x.split(\".\")[0].replace(\"filtered_\", \"\"), os.listdir(fuller_east_dir)))\n",
        "all_tiles_east = list(las_utils.get_tilecodes_from_folder(fuller_east_dir, las_prefix='filtered'))\n",
        "len(all_tiles_east)"
      ],
      "outputs": [],
      "execution_count": null,
      "metadata": {
        "jupyter": {
          "source_hidden": false,
          "outputs_hidden": false
        },
        "nteract": {
          "transient": {
            "deleting": false
          }
        },
        "gather": {
          "logged": 1688040409463
        }
      },
      "id": "9701e572-3749-4d8f-ae4e-5a6a5c610927"
    },
    {
      "cell_type": "code",
      "source": [
        "all_tiles_not_east = []\n",
        "# not_east_folder = \"/home/azureuser/cloudfiles/code/Users/n.ijzerman/RandLA-Net_local_files/dataset/Amsterdam/\"\n",
        "not_east_folder = \"/home/azureuser/cloudfiles/code/blobfuse/ovl/pointcloud/Unlabeled/Amsterdam/\"\n",
        "for dir in os.listdir(not_east_folder):\n",
        "    if dir.startswith(\"nl\"):\n",
        "        # tiles_files = os.listdir(f\"{not_east_folder}/{dir}/las_processor_bundled_out\")\n",
        "        # all_tiles_not_east += list(map(lambda x: x.split('.')[0].replace(\"filtered_\", \"\"), tiles_files))\n",
        "        all_tiles_not_east += las_utils.get_tilecodes_from_folder(f\"{not_east_folder}/{dir}/las_processor_bundled_out\", las_prefix='filtered')\n",
        "len(all_tiles_not_east)"
      ],
      "outputs": [],
      "execution_count": null,
      "metadata": {
        "jupyter": {
          "source_hidden": false,
          "outputs_hidden": false
        },
        "nteract": {
          "transient": {
            "deleting": false
          }
        },
        "gather": {
          "logged": 1688040541397
        }
      },
      "id": "f89cf5bc-0cbf-4740-90ae-6d368d2d9a80"
    },
    {
      "cell_type": "code",
      "source": [
        "all_tiles = all_tiles_east + all_tiles_not_east\n",
        "all_tiles = set([elem for elem in all_tiles if len(elem) > 0 and elem[0].isdigit()])\n",
        "\n",
        "len(all_tiles)"
      ],
      "outputs": [],
      "execution_count": null,
      "metadata": {
        "jupyter": {
          "source_hidden": false,
          "outputs_hidden": false
        },
        "nteract": {
          "transient": {
            "deleting": false
          }
        },
        "gather": {
          "logged": 1688040642724
        }
      },
      "id": "144dba02-766c-44d3-af06-8e1983a3143a"
    },
    {
      "cell_type": "code",
      "source": [
        "if resume and os.path.exists(ahn_laz_folder):\n",
        "    done_tiles = las_utils.get_tilecodes_from_folder(ahn_laz_folder, las_prefix='ahn')\n",
        "    all_tiles = all_tiles - done_tiles\n",
        "len(all_tiles)"
      ],
      "outputs": [],
      "execution_count": null,
      "metadata": {
        "gather": {
          "logged": 1686818269126
        }
      },
      "id": "cedb8e8b-099e-4674-870e-2efdc4f814a7"
    },
    {
      "cell_type": "code",
      "source": [
        "# run1_tiles = None\n",
        "# run2_tiles = None"
      ],
      "outputs": [],
      "execution_count": null,
      "metadata": {
        "gather": {
          "logged": 1686809708648
        }
      },
      "id": "f0b1de37-0b13-4869-99d8-d32e6493dec8"
    },
    {
      "cell_type": "code",
      "source": [
        "all_tiles = list(all_tiles)\n",
        "all_tiles.sort()\n",
        "all_tiles_gdf = gpd.GeoDataFrame({'tilecode': all_tiles,\n",
        "                                  'geometry': [poly_utils.tilecode_to_poly(tc) for tc in all_tiles]})\n",
        "all_tiles_gdf"
      ],
      "outputs": [],
      "execution_count": null,
      "metadata": {
        "gather": {
          "logged": 1686809710003
        }
      },
      "id": "e0bec1c2-2081-4e48-9316-8dc5425dded0"
    },
    {
      "cell_type": "markdown",
      "source": [
        "### Load AHN data"
      ],
      "metadata": {},
      "id": "68f6581e-0b05-4120-96ea-2bc83f04c987"
    },
    {
      "cell_type": "code",
      "source": [
        "# os.listdir(\"/home/azureuser/cloudfiles/code/blobfuse/pointcloud/UI/AHN_Data/Amsterdam/AMS_subtiles_1000/\")"
      ],
      "outputs": [],
      "execution_count": null,
      "metadata": {
        "jupyter": {
          "source_hidden": false,
          "outputs_hidden": false
        },
        "nteract": {
          "transient": {
            "deleting": false
          }
        },
        "gather": {
          "logged": 1686809712353
        }
      },
      "id": "1f0f3bd8-4f5f-489c-b55b-65b29bf8726a"
    },
    {
      "cell_type": "code",
      "source": [
        "ahn_subtiles = [file.name for file in pathlib.Path(ahn_subtile_folder).glob('*.laz')]\n",
        "ahn_subtiles.sort()\n",
        "# ahn_subtiles"
      ],
      "outputs": [],
      "execution_count": null,
      "metadata": {
        "gather": {
          "logged": 1686809713238
        }
      },
      "id": "1ebdc4a6-1b21-4bf0-9052-e6cde88ed13a"
    },
    {
      "cell_type": "code",
      "source": [
        "def ahn_file_to_poly(filename, scale=1000):\n",
        "    \"\"\"Extract the tile code from a file name.\"\"\"\n",
        "    ahn_code = re.match(r'.*(\\d{3}_\\d{3}).*', filename)[1]\n",
        "    code_split = ahn_code.split('_')\n",
        "    x_min = int(code_split[0]) * scale\n",
        "    y_min = int(code_split[1]) * scale\n",
        "    return sg.box(x_min, y_min, x_min+scale, y_min+scale)"
      ],
      "outputs": [],
      "execution_count": null,
      "metadata": {
        "gather": {
          "logged": 1686809713584
        }
      },
      "id": "c83602e4-03a8-46e5-b56d-c57bb3641d17"
    },
    {
      "cell_type": "code",
      "source": [
        "ahn_gdf = gpd.GeoDataFrame({'filename': ahn_subtiles,\n",
        "                            'geometry': [ahn_file_to_poly(f) for f in ahn_subtiles]})"
      ],
      "outputs": [],
      "execution_count": null,
      "metadata": {
        "gather": {
          "logged": 1686809714005
        }
      },
      "id": "35fa35bd-eb73-47bb-b349-730c8aaa260d"
    },
    {
      "cell_type": "markdown",
      "source": [
        "### Find AHN subtiles that cover the target area based on CycloMedia tiles"
      ],
      "metadata": {},
      "id": "196fe9ba-e43d-41e1-8808-72fa3b6ae694"
    },
    {
      "cell_type": "code",
      "source": [
        "# Generate a merged GeoDataFrame for effiency\n",
        "merged_poly = all_tiles_gdf.unary_union\n",
        "if type(merged_poly) == sg.Polygon:\n",
        "    merged_poly = sg.MultiPolygon([merged_poly])\n",
        "merged_pc_tiles = gpd.GeoDataFrame({'geometry': [geom for geom in merged_poly.geoms]})\n",
        "merged_pc_tiles"
      ],
      "outputs": [],
      "execution_count": null,
      "metadata": {
        "gather": {
          "logged": 1686809717061
        }
      },
      "id": "34bad881-9599-43a6-a2bb-0d01691222cb"
    },
    {
      "cell_type": "code",
      "source": [
        "# Filter ahn data based on merged target shapes\n",
        "ahn_gdf['used'] = ahn_gdf.apply(lambda row: (merged_pc_tiles.intersects(row.geometry) \n",
        "                                             & ~merged_pc_tiles.touches(row.geometry)).any(),\n",
        "                                axis=1)\n",
        "ahn_gdf = ahn_gdf[ahn_gdf['used']]\n",
        "# ahn_gdf"
      ],
      "outputs": [],
      "execution_count": null,
      "metadata": {
        "gather": {
          "logged": 1686809717683
        }
      },
      "id": "c71baa75-0b5c-4106-9e59-d38fadc95280"
    },
    {
      "cell_type": "code",
      "source": [
        "# Visualize the result\n",
        "fig, ax = plt.subplots(1)\n",
        "ahn_gdf.plot(ax=ax, edgecolor=\"black\", linewidth=0.4, alpha=0.25)\n",
        "merged_pc_tiles.plot(ax=ax)\n",
        "ax.set_aspect('equal')\n",
        "plt.show()"
      ],
      "outputs": [],
      "execution_count": null,
      "metadata": {
        "gather": {
          "logged": 1686809718385
        }
      },
      "id": "2dddebde-35c4-4296-8d03-936ab52ca12d"
    },
    {
      "cell_type": "markdown",
      "source": [
        "## Pre-process the AHN data"
      ],
      "metadata": {},
      "id": "84606fb3-84e9-40db-8575-f79696e6d935"
    },
    {
      "cell_type": "code",
      "source": [
        "def match_subtile(row):\n",
        "    target_df = ahn_gdf[ahn_gdf.contains(row.geometry)]\n",
        "    if len(target_df) == 0:  # Shouldn't happen\n",
        "        return None\n",
        "    else:\n",
        "        return target_df.iloc[0]['filename']"
      ],
      "outputs": [],
      "execution_count": null,
      "metadata": {
        "gather": {
          "logged": 1686809721383
        }
      },
      "id": "881ba0e8-79cb-4573-a91b-56e931dce5a0"
    },
    {
      "cell_type": "code",
      "source": [
        "# Match point cloud tiles to AHN subtiles\n",
        "all_tiles_gdf['subtile'] = all_tiles_gdf.progress_apply(match_subtile, axis=1)\n",
        "all_tiles_gdf = all_tiles_gdf[all_tiles_gdf[\"subtile\"].notnull()]\n",
        "all_tiles_gdf"
      ],
      "outputs": [],
      "execution_count": null,
      "metadata": {
        "gather": {
          "logged": 1686809723532
        }
      },
      "id": "a034b99f-c029-46f9-a897-cd899be70691"
    },
    {
      "cell_type": "code",
      "source": [
        "!bash /home/azureuser/cloudfiles/code/blobfuse/blobfuse_pointcloud.sh\n",
        "\n",
        "# Generate .laz tiles\n",
        "pbar = tqdm(total=len(all_tiles_gdf), unit='tile', smoothing=0)\n",
        "for subtile in all_tiles_gdf['subtile'].unique():\n",
        "    pbar.set_postfix_str(subtile)\n",
        "    ahn_cloud = laspy.read(f'{ahn_subtile_folder}{subtile}')\n",
        "    ahn_cloud = laspy.convert(ahn_cloud, point_format_id=3, file_version='1.2')\n",
        "    for pc_tile in all_tiles_gdf[all_tiles_gdf['subtile'] == subtile]['tilecode'].values:\n",
        "        pc_path = f'dummy_{pc_tile}.laz'\n",
        "        ahn_preprocessing.clip_ahn_las_tile(ahn_cloud, pc_path, out_folder=ahn_laz_folder)\n",
        "        pbar.update(1)\n",
        "pbar.close()"
      ],
      "outputs": [],
      "execution_count": null,
      "metadata": {
        "gather": {
          "logged": 1686810834749
        }
      },
      "id": "9b677a17-9993-4dfd-b859-78e63c9d4ae0"
    },
    {
      "cell_type": "code",
      "source": [
        "%pip install line_profiler\n",
        "%load_ext line_profiler"
      ],
      "outputs": [],
      "execution_count": null,
      "metadata": {
        "jupyter": {
          "source_hidden": false,
          "outputs_hidden": false
        },
        "nteract": {
          "transient": {
            "deleting": false
          }
        }
      },
      "id": "653ffbe9-9fd0-4492-9571-087f29df6454"
    },
    {
      "cell_type": "code",
      "source": [
        "def generate_npz():\n",
        "    # Generate .npz data for all tiles\n",
        "    files = list(pathlib.Path(ahn_laz_folder).glob('ahn_*.laz'))[-10:]\n",
        "    pathlib.Path(ahn_npz_folder).mkdir(parents=True, exist_ok=True)\n",
        "\n",
        "    file_tqdm = tqdm(files, unit='file', smoothing=0)\n",
        "    for file in file_tqdm:\n",
        "        if not os.path.exists(str(file).replace(\"laz\", \"npz\")):\n",
        "            ahn_preprocessing.process_ahn_las_tile(\n",
        "                                file, out_folder=ahn_npz_folder,\n",
        "                                resolution=ahn_resolution)"
      ],
      "outputs": [],
      "execution_count": null,
      "metadata": {
        "gather": {
          "logged": 1686818859949
        }
      },
      "id": "16f600c3-b107-4b87-bd6f-5112c72c60d7"
    },
    {
      "cell_type": "code",
      "source": [
        "%lprun -f generate_npz generate_npz()"
      ],
      "outputs": [],
      "execution_count": null,
      "metadata": {
        "jupyter": {
          "source_hidden": false,
          "outputs_hidden": false
        },
        "nteract": {
          "transient": {
            "deleting": false
          }
        }
      },
      "id": "0c19a8ea-e9c9-49e6-bbed-24b3fdb28319"
    },
    {
      "cell_type": "code",
      "source": [
        "# Alternative, uses parallel processing\n",
        "n_cores = 10\n",
        "!python ../../Urban_PointCloud_Processing/scripts/ahn_batch_processor.py --in_folder {ahn_laz_folder} --out_folder {ahn_npz_folder} --resume --workers {n_cores}"
      ],
      "outputs": [],
      "execution_count": null,
      "metadata": {
        "gather": {
          "logged": 1686818276192
        }
      },
      "id": "4dfdf5e5-cfd8-4afb-ab51-1aa9fd8c7088"
    },
    {
      "cell_type": "code",
      "source": [
        "n_cores = 4\n",
        "print(f\"../../Urban_PointCloud_Processing/scripts/ahn_batch_processor.py --in_folder {ahn_laz_folder} --out_folder {ahn_npz_folder} --resume --workers {n_cores}\")"
      ],
      "outputs": [],
      "execution_count": null,
      "metadata": {
        "jupyter": {
          "source_hidden": false,
          "outputs_hidden": false
        },
        "nteract": {
          "transient": {
            "deleting": false
          }
        },
        "gather": {
          "logged": 1686819010574
        }
      },
      "id": "bf7d2cbb-133a-4d6d-a2e9-131045aef44d"
    }
  ],
  "metadata": {
    "kernelspec": {
      "name": "python3",
      "language": "python",
      "display_name": "Python 3 (ipykernel)"
    },
    "language_info": {
      "name": "python",
      "version": "3.8.5",
      "mimetype": "text/x-python",
      "codemirror_mode": {
        "name": "ipython",
        "version": 3
      },
      "pygments_lexer": "ipython3",
      "nbconvert_exporter": "python",
      "file_extension": ".py"
    },
    "microsoft": {
      "ms_spell_check": {
        "ms_spell_check_language": "en"
      },
      "host": {
        "AzureML": {
          "notebookHasBeenCompleted": true
        }
      }
    },
    "kernel_info": {
      "name": "python3"
    },
    "nteract": {
      "version": "nteract-front-end@1.0.0"
    }
  },
  "nbformat": 4,
  "nbformat_minor": 5
}