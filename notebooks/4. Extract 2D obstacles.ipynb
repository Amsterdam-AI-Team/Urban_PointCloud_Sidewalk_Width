{
 "cells": [
  {
   "cell_type": "markdown",
   "id": "e07af1a9",
   "metadata": {},
   "source": [
    "# Extract 2D obstacles\n",
    "- TODO add text\n",
    "- TODO keep original point cloud and add scalar field"
   ]
  },
  {
   "cell_type": "code",
   "execution_count": 1,
   "id": "d2de18d5",
   "metadata": {},
   "outputs": [],
   "source": [
    "import os\n",
    "from pathlib import Path\n",
    "from shapely.geometry import Polygon\n",
    "import geopandas as gpd\n",
    "\n",
    "import upcp.utils.bgt_utils as bgt_utils\n",
    "import upcp.utils.las_utils as las_utils\n",
    "import upcp.utils.csv_utils as csv_utils\n",
    "\n",
    "from accessibility import Accessibility # TODO\n",
    "from las_utils_extra import read_las_m3c2, write_las"
   ]
  },
  {
   "cell_type": "markdown",
   "id": "5a44a11f",
   "metadata": {},
   "source": [
    "## Filter out static points and create a mask\n",
    "In the previous notebook, we performed a change detection algorithm that calculated M3C2 distance for each point in the point cloud. Based on negative and positive threshold values we can filter for the static points in the point cloud."
   ]
  },
  {
   "cell_type": "code",
   "execution_count": 2,
   "id": "f32d435c",
   "metadata": {},
   "outputs": [],
   "source": [
    "# Read point cloud with M3C2 distances\n",
    "in_file = '../datasets/pointclouds/m3c2/processed_2386_9702.laz'\n",
    "points, m3c2_distance = read_las_m3c2(in_file)\n",
    "\n",
    "# Filter for static points\n",
    "neg_thr = -0.2\n",
    "pos_thr = 0.2\n",
    "mask = ((m3c2_distance > neg_thr) & (m3c2_distance < pos_thr))"
   ]
  },
  {
   "cell_type": "markdown",
   "id": "4323e9c8",
   "metadata": {},
   "source": [
    "## Find clusters in the masked point cloud\n",
    "Using Label Connected Components we find clusters in the point cloud. We only take the Z values of the points to calculate the outer polygon of the clusters."
   ]
  },
  {
   "cell_type": "code",
   "execution_count": 3,
   "id": "6503fbae",
   "metadata": {},
   "outputs": [
    {
     "name": "stderr",
     "output_type": "stream",
     "text": [
      "OMP: Info #271: omp_set_nested routine deprecated, please use omp_set_max_active_levels instead.\n"
     ]
    }
   ],
   "source": [
    "# 3D Obstacle blobs to 2D polygons using a clustering algorithm and BGT road data.\n",
    "accesibility_class = Accessibility(min_component_size=100, grid_size=0.05)\n",
    "\n",
    "static_objects_mask, obstacle_polygons = accesibility_class.get_obstacle_polygons(points, mask)"
   ]
  },
  {
   "cell_type": "code",
   "execution_count": 4,
   "id": "6c7daf4e",
   "metadata": {},
   "outputs": [
    {
     "name": "stdout",
     "output_type": "stream",
     "text": [
      "Saving LAS lidar data\n"
     ]
    }
   ],
   "source": [
    "write_csv_bool = True\n",
    "write_laz_bool = True\n",
    "\n",
    "if write_csv_bool:\n",
    "    csv_headers = ['obstacle']\n",
    "    bgt_obstacle_file = '../datasets/bgt/bgt_obstacle_demo.csv'\n",
    "\n",
    "    # Write the csv\n",
    "    csv_utils.write_csv(bgt_obstacle_file, obstacle_polygons, csv_headers)\n",
    "\n",
    "if write_laz_bool:\n",
    "    new_path = '../datasets/pointclouds/obstacles/'\n",
    "    Path(new_path).mkdir(parents=True, exist_ok=True)\n",
    "    filename = os.path.basename(in_file)\n",
    "    write_las(points[static_objects_mask], os.path.join(new_path, filename)) "
   ]
  },
  {
   "cell_type": "markdown",
   "id": "771c33f9",
   "metadata": {},
   "source": [
    "## Create new sidewalk polygons with obstacles\n",
    "The found obstacles (polygons) in the previous step are merged with the sidewalk polygons as interiors. "
   ]
  },
  {
   "cell_type": "code",
   "execution_count": 5,
   "id": "eefa74bb",
   "metadata": {},
   "outputs": [],
   "source": [
    "tilecode = '2386_9702'\n",
    "((x_min, y_max), (x_max, y_min)) = las_utils.get_bbox_from_tile_code(tilecode, padding=1)\n",
    "\n",
    "# Create reader for BGT sidewalk part polygons.\n",
    "bgt_road_file = '../datasets/bgt/bgt_voetpad_demo.csv'\n",
    "bgt_sidewalk_reader = bgt_utils.BGTPolyReader(bgt_file=bgt_road_file)\n",
    "\n",
    "sidewalk_polygons = bgt_sidewalk_reader.filter_tile(\n",
    "                            tilecode, bgt_types=['voetpad'],\n",
    "                            padding=0, offset=0,\n",
    "                            merge=False)"
   ]
  },
  {
   "cell_type": "code",
   "execution_count": 6,
   "id": "4c8013a1",
   "metadata": {},
   "outputs": [],
   "source": [
    "# Substract obstacle polygons from sidewalk polygons\n",
    "sidewalk_with_obstacles = []\n",
    "for poly_sidewalk in sidewalk_polygons:\n",
    "    poly_intersect_list = []\n",
    "    for poly in obstacle_polygons:\n",
    "        shapely_poly = Polygon(poly[0])\n",
    "        if poly_sidewalk.contains(shapely_poly): # TODO [0]\n",
    "            poly_intersect_list.append(shapely_poly)\n",
    "    \n",
    "    # Create interiors in sidewalk polygon\n",
    "    sidewalk_obstacles = poly_sidewalk\n",
    "    for poly_intersect in poly_intersect_list:\n",
    "        sidewalk_obstacles -= poly_intersect\n",
    "        \n",
    "    sidewalk_with_obstacles.append(sidewalk_obstacles)"
   ]
  },
  {
   "cell_type": "code",
   "execution_count": 8,
   "id": "44769447",
   "metadata": {},
   "outputs": [
    {
     "name": "stderr",
     "output_type": "stream",
     "text": [
      "/opt/anaconda3/envs/m3c2/lib/python3.8/site-packages/pyproj/crs/crs.py:131: FutureWarning: '+init=<authority>:<code>' syntax is deprecated. '<authority>:<code>' is the preferred initialization method. When making the change, be mindful of axis order changes: https://pyproj4.github.io/pyproj/stable/gotchas.html#axis-order-changes-in-proj-6\n",
      "  in_crs_string = _prepare_from_proj_string(in_crs_string)\n",
      "/opt/anaconda3/envs/m3c2/lib/python3.8/site-packages/geopandas/io/file.py:362: FutureWarning: pandas.Int64Index is deprecated and will be removed from pandas in a future version. Use pandas.Index with the appropriate dtype instead.\n",
      "  pd.Int64Index,\n"
     ]
    }
   ],
   "source": [
    "# save the new polygons\n",
    "df = gpd.GeoDataFrame(columns=['geometry'], geometry='geometry') # TODO moet dit?\n",
    "df['geometry'] = sidewalk_with_obstacles\n",
    "df.crs = {'init': 'epsg:28992'} #local crs # TODO moet dit?\n",
    "df.to_file('../datasets/sidewalk_with_obstacles.shp') "
   ]
  },
  {
   "cell_type": "code",
   "execution_count": null,
   "id": "9b02c7a6",
   "metadata": {},
   "outputs": [],
   "source": []
  }
 ],
 "metadata": {
  "kernelspec": {
   "display_name": "Python 3 (ipykernel)",
   "language": "python",
   "name": "python3"
  },
  "language_info": {
   "codemirror_mode": {
    "name": "ipython",
    "version": 3
   },
   "file_extension": ".py",
   "mimetype": "text/x-python",
   "name": "python",
   "nbconvert_exporter": "python",
   "pygments_lexer": "ipython3",
   "version": "3.8.12"
  }
 },
 "nbformat": 4,
 "nbformat_minor": 5
}
