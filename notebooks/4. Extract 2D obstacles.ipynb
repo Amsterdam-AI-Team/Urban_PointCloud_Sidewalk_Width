{
 "cells": [
  {
   "cell_type": "markdown",
   "id": "e07af1a9",
   "metadata": {},
   "source": [
    "# Extract 2D obstacles\n",
    "Generate polygons for all static obstacles, and merge these with the sidewalk polygons."
   ]
  },
  {
   "cell_type": "code",
   "execution_count": null,
   "id": "b2d2619d",
   "metadata": {},
   "outputs": [],
   "source": [
    "# Add project src to path.\n",
    "import set_path\n",
    "\n",
    "import numpy as np\n",
    "import geopandas as gpd\n",
    "import ast\n",
    "import pathlib\n",
    "from shapely.geometry import Polygon, MultiPolygon\n",
    "from shapely.ops import unary_union\n",
    "from tqdm.notebook import tqdm\n",
    "tqdm.pandas()\n",
    "\n",
    "from upcp.utils import bgt_utils\n",
    "from upcp.utils import csv_utils\n",
    "from upcp.utils import las_utils\n",
    "\n",
    "from upc_sw.cluster2polygon import Cluster2Polygon\n",
    "from upc_sw import sw_utils"
   ]
  },
  {
   "cell_type": "markdown",
   "id": "4b8143e7",
   "metadata": {},
   "source": [
    "## Create polygons of static obstacles\n",
    "In the previous notebook, we performed a change detection algorithm that calculated M3C2 distance for each point in the point cloud. Based on negative and positive threshold values we can filter for the static points in the point cloud. We then cluster these into individual obstacles and create bounding polygons for each."
   ]
  },
  {
   "cell_type": "code",
   "execution_count": null,
   "id": "c253e6b3-d2da-42b3-ab15-efb5dfb45ed9",
   "metadata": {},
   "outputs": [],
   "source": [
    "pc_data_folder = '../datasets/pointclouds/'\n",
    "out_folder = '../datasets/obstacles/'\n",
    "CRS = 'epsg:28992'\n",
    "\n",
    "# Distance threshold for static obstacles.\n",
    "m3c2_threshold = 0.2\n",
    "\n",
    "# Convert 3D Obstacle blobs to 2D polygons using a clustering algorithm.\n",
    "# Set use_concave=False to use the faster convex hull.\n",
    "# Change alpha to determine the 'concaveness' of the concave hull, with 0 being convex.\n",
    "c2p = Cluster2Polygon(min_component_size=100, grid_size=0.2, use_concave=True, alpha=0.5)"
   ]
  },
  {
   "cell_type": "code",
   "execution_count": null,
   "id": "0772aa69-493e-4303-83f1-ee882a12f5e0",
   "metadata": {},
   "outputs": [],
   "source": [
    "all_tiles = las_utils.get_tilecodes_from_folder(f'{pc_data_folder}m3c2/')"
   ]
  },
  {
   "cell_type": "code",
   "execution_count": null,
   "id": "8a5cb680-47b9-4c58-8e83-e7b6bba6ba2f",
   "metadata": {},
   "outputs": [],
   "source": [
    "tile_tqdm = tqdm(all_tiles, unit='tile', smoothing=0)\n",
    "\n",
    "obstacle_df = gpd.GeoDataFrame(columns=['tilecode', 'type', 'geometry'], geometry='geometry', crs=CRS)\n",
    "\n",
    "for tilecode in tile_tqdm:\n",
    "    tile_tqdm.set_postfix_str(tilecode)\n",
    "    \n",
    "    # Read point cloud with M3C2 distances\n",
    "    in_file = f'{pc_data_folder}m3c2/m3c2_{tilecode}.laz'\n",
    "    points, m3c2_distance = sw_utils.read_las(in_file, extra_val='M3C2_distance', extra_val_dtype='float32')\n",
    "\n",
    "    # Filter for static points\n",
    "    mask = np.abs(m3c2_distance) < m3c2_threshold\n",
    "    \n",
    "    # Get the polygons\n",
    "    polygons, types = c2p.get_obstacle_polygons(points[mask])\n",
    "    data = {'tilecode': [tilecode]*len(polygons),\n",
    "            'type': types,\n",
    "            'geometry': polygons}\n",
    "    obstacle_df = obstacle_df.append(gpd.GeoDataFrame(data, geometry='geometry', crs=CRS))"
   ]
  },
  {
   "cell_type": "code",
   "execution_count": null,
   "id": "06821564-05df-4237-b3f7-5771c1c65034",
   "metadata": {},
   "outputs": [],
   "source": [
    "# Save the obstacle GeoDataFrame.\n",
    "pathlib.Path(out_folder).mkdir(parents=True, exist_ok=True)\n",
    "obstacle_df.to_file(f'{out_folder}obstacles.shp')"
   ]
  },
  {
   "cell_type": "markdown",
   "id": "39cbfd10",
   "metadata": {},
   "source": [
    "## Merge sidewalk polygons with obstacles\n",
    "The found obstacles (polygons) in the previous step are merged with the sidewalk polygons as interiors."
   ]
  },
  {
   "cell_type": "code",
   "execution_count": null,
   "id": "28ee717c-3a7a-49eb-8f50-58bbca894d68",
   "metadata": {},
   "outputs": [],
   "source": [
    "# Scraped sidewalk data for the area (see Notebook 1)\n",
    "sidewalk_data = '../datasets/bgt/bgt_voetpad.csv'\n",
    "obstacle_data = '../datasets/obstacles/obstacles.shp'"
   ]
  },
  {
   "cell_type": "code",
   "execution_count": null,
   "id": "1754cb02-a45c-42ed-b22d-5569db89e51f",
   "metadata": {},
   "outputs": [],
   "source": [
    "# Read the sidewalk data\n",
    "sidewalk_df = gpd.read_file(sidewalk_data, crs=CRS)\n",
    "sidewalk_df = sidewalk_df[sidewalk_df['bgt_name']=='voetpad']\n",
    "\n",
    "# Convert to Polygons and keep only the necessary columns\n",
    "sidewalk_df['geometry'] = sidewalk_df.progress_apply(lambda row: Polygon(ast.literal_eval(row['polygon'])), axis=1)\n",
    "sidewalk_df = sidewalk_df[['bgt_name', 'geometry']]\n",
    "\n",
    "# Save the sidewalk data.\n",
    "sidewalk_df.to_file(f'{out_folder}sidewalks.shp')"
   ]
  },
  {
   "cell_type": "code",
   "execution_count": null,
   "id": "5238a7ba-529b-4001-a889-7d66dd974acb",
   "metadata": {},
   "outputs": [],
   "source": [
    "obstacle_df = gpd.read_file(obstacle_data, crs=CRS)"
   ]
  },
  {
   "cell_type": "code",
   "execution_count": null,
   "id": "e4bd59c7-4bce-4f46-a137-041b1cd59b90",
   "metadata": {},
   "outputs": [],
   "source": [
    "def merge_obstacles(row):\n",
    "    # Subtract all obstacles that intersect the sidewalk polygon.\n",
    "    sw_poly = row.geometry\n",
    "    obst_polys = obstacle_df[obstacle_df.intersects(sw_poly)].geometry.values\n",
    "    # TODO: do something with obstacle type.\n",
    "    if len(obst_polys) > 1:\n",
    "        obst_polys = MultiPolygon(unary_union(obst_polys))\n",
    "    sw_poly = sw_poly - MultiPolygon(obst_polys)\n",
    "    if type(sw_poly) == MultiPolygon:\n",
    "        parts = [p for p in sw_poly.geoms if p.area > 1] # TODO: magic number\n",
    "        if len(parts) > 1:\n",
    "            # TODO: do something clever here.\n",
    "            sw_poly = MultiPolygon(parts)\n",
    "        else:\n",
    "            sw_poly = parts[0]\n",
    "    return sw_poly\n",
    "\n",
    "sw_merged_df = sidewalk_df.copy()\n",
    "sidewalk_df['geometry'] = sidewalk_df.progress_apply(merge_obstacles, axis=1)"
   ]
  },
  {
   "cell_type": "code",
   "execution_count": null,
   "id": "df878a2f",
   "metadata": {},
   "outputs": [],
   "source": [
    "# Save the merged sidewelk data.\n",
    "# TODO: this will throw an error if one of the sidewalks is a MultiPolygon\n",
    "sidewalk_df.to_file(f'{out_folder}sidewalks_merged.shp')"
   ]
  },
  {
   "cell_type": "code",
   "execution_count": null,
   "id": "8159db2e-5284-49d9-b74a-62137038d8f1",
   "metadata": {},
   "outputs": [],
   "source": []
  }
 ],
 "metadata": {
  "kernelspec": {
   "display_name": "Python 3 (ipykernel)",
   "language": "python",
   "name": "python3"
  },
  "language_info": {
   "codemirror_mode": {
    "name": "ipython",
    "version": 3
   },
   "file_extension": ".py",
   "mimetype": "text/x-python",
   "name": "python",
   "nbconvert_exporter": "python",
   "pygments_lexer": "ipython3",
   "version": "3.8.12"
  }
 },
 "nbformat": 4,
 "nbformat_minor": 5
}
