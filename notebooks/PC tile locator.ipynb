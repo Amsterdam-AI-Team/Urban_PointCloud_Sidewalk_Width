{
 "cells": [
  {
   "cell_type": "markdown",
   "id": "db497f47-e750-48cb-b8bc-a348232535e1",
   "metadata": {},
   "source": [
    "# Locate point cloud tiles in storage based on target areas"
   ]
  },
  {
   "cell_type": "code",
   "execution_count": null,
   "id": "47e5f43f-37ed-4f43-ae4d-06f7180a6cad",
   "metadata": {},
   "outputs": [],
   "source": [
    "import pandas as pd\n",
    "import geopandas as gpd\n",
    "from tqdm.notebook import tqdm\n",
    "tqdm.pandas()\n",
    "import shapely.geometry as sg\n",
    "import shutil\n",
    "import pathlib\n",
    "import matplotlib.pyplot as plt"
   ]
  },
  {
   "cell_type": "code",
   "execution_count": null,
   "id": "cc9bb2b0-b181-408c-a493-5f1c08b75a20",
   "metadata": {},
   "outputs": [],
   "source": [
    "### SETTINGS ###\n",
    "\n",
    "run = 'run2'  # or 'run2'\n",
    "\n",
    "base_folder = '/XX/YY/ZZ'\n",
    "data_file = f'../datasets/AMS_{run}_tiles_list.csv'\n",
    "out_folder = f'extract_{run}/'\n",
    "\n",
    "# For target points only: target points in RD coordinates\n",
    "target_points = [(122583.85, 485431.99),\n",
    "                 (122579.3, 489044.4),\n",
    "                 (118957.2, 488194.2),\n",
    "                 (119461.9, 485670.7)]\n",
    "\n",
    "# For neighbourhoods only: specify which neighbourhoods to keep\n",
    "neighbourhood_data = '../datasets/neighbourhoods_amsterdam.csv'\n",
    "neighbourhood_codes = ['M27', 'M28']\n",
    "\n",
    "# For target area only: target area as Shapely Polygon or MultiPolygon\n",
    "target_area = sg.Polygon([(122550, 485300), (122750, 485300), (122550, 485500)])\n",
    "\n",
    "# Create output folder if it doesn't exist\n",
    "pathlib.Path(out_folder).mkdir(parents=True, exist_ok=True)"
   ]
  },
  {
   "cell_type": "markdown",
   "id": "44892c81-f67f-42a4-ae0a-c6871c78a9f4",
   "metadata": {},
   "source": [
    "## Load CycloMedia tile data"
   ]
  },
  {
   "cell_type": "code",
   "execution_count": null,
   "id": "daf07ba5-fead-4add-b22e-c9229304d20b",
   "metadata": {},
   "outputs": [],
   "source": [
    "all_tiles = pd.read_csv(data_file)\n",
    "all_tiles.head()"
   ]
  },
  {
   "cell_type": "code",
   "execution_count": null,
   "id": "da8eccf7-df2f-4247-84b4-adec2ab1f0e5",
   "metadata": {},
   "outputs": [],
   "source": [
    "# If we know the stadsdeel, we can filter to speed things up.\n",
    "# E.g., Zuid:\n",
    "# all_tiles = all_tiles[all_tiles.folder=='nl-amsd-200608-7415-laz']"
   ]
  },
  {
   "cell_type": "code",
   "execution_count": null,
   "id": "dd985172-df96-4aaa-bdb0-3358c5366d5f",
   "metadata": {},
   "outputs": [],
   "source": [
    "# Convert to GeoDataFrame\n",
    "all_tiles['geometry'] = all_tiles_gdf.progress_apply(lambda row: sg.box(row.RD_X, row.RD_Y, row.RD_X+50, row.RD_Y+50), axis=1)\n",
    "all_tiles_gdf = gpd.GeoDataFrame(all_tiles)\n",
    "all_tiles = None"
   ]
  },
  {
   "cell_type": "markdown",
   "id": "15dca3b9-73e4-45b9-9228-a1468cffa935",
   "metadata": {},
   "source": [
    "## Filter by target points"
   ]
  },
  {
   "cell_type": "code",
   "execution_count": null,
   "id": "e7a45f88-a2b7-41cb-9433-969e56a860be",
   "metadata": {},
   "outputs": [],
   "source": [
    "# Convert to GeoDataFrame\n",
    "target_points = gpd.GeoDataFrame({'geometry': [sg.Point(pt) for pt in target_points]})\n",
    "\n",
    "# Locate tiles which contain any of the target points\n",
    "all_tiles_gdf['target'] = all_tiles_gdf.progress_apply(lambda row: target_points.intersects(row.geometry).any(), axis=1)\n",
    "target_tiles_gdf = all_tiles_gdf[all_tiles_gdf.target]\n",
    "print(f'{len(target_tiles_gdf)} tiles located ({len(target_tiles_gdf.tilecode.unique())} unique).')\n",
    "print(\"TODO: if these numbers don't match, duplicate tiles are present. Deal with that :)\")"
   ]
  },
  {
   "cell_type": "code",
   "execution_count": null,
   "id": "98edcd8d-2e83-4d81-b541-bcc1a28c63db",
   "metadata": {},
   "outputs": [],
   "source": [
    "# Check which target points are covered by point cloud tiles\n",
    "target_points['covered'] = target_points.progress_apply(lambda row: target_tiles_gdf.contains(row.geometry).any(), axis=1)\n",
    "print(f'{target_points.covered.sum()} out of {target_points.covered.count()} points covered.')"
   ]
  },
  {
   "cell_type": "code",
   "execution_count": null,
   "id": "e4d69227-2475-4ade-a173-f76c318c41d2",
   "metadata": {},
   "outputs": [],
   "source": [
    "# Visualize the result\n",
    "fig, ax = plt.subplots(1)\n",
    "\n",
    "target_tiles_gdf.plot(ax=ax, edgecolor=\"black\", linewidth=0.4, alpha=0.25)\n",
    "target_points.plot(ax=ax, color='red', markersize=1)\n",
    "ax.set_aspect('equal')"
   ]
  },
  {
   "cell_type": "markdown",
   "id": "95e51706-83b1-42f4-a85e-25f8e40c14a7",
   "metadata": {
    "tags": []
   },
   "source": [
    "## Filter by target area"
   ]
  },
  {
   "cell_type": "markdown",
   "id": "9f43c31d-dfde-4e41-ab2f-380b2076a73b",
   "metadata": {},
   "source": [
    "### If the area is defined by neighbourhood codes, process those first"
   ]
  },
  {
   "cell_type": "code",
   "execution_count": null,
   "id": "34d73ce3-428b-45e3-ac67-3bb5309edb93",
   "metadata": {},
   "outputs": [],
   "source": [
    "# Load neighbourhood data and convert to RD\n",
    "neighbourhood_df = pd.read_csv(neighbourhood_data, index_col=0)\n",
    "neighbourhood_df['geometry'] = gpd.GeoSeries.from_wkt(neighbourhood_df['geometry'])\n",
    "neighbourhood_gdf = gpd.GeoDataFrame(neighbourhood_df, crs='wgs84')\n",
    "neighbourhood_gdf.to_crs(epsg='28992', inplace=True)\n",
    "neighbourhood_df = None"
   ]
  },
  {
   "cell_type": "code",
   "execution_count": null,
   "id": "99c3f0d8-31a3-4939-ae4d-8eb1f4665e5f",
   "metadata": {},
   "outputs": [],
   "source": [
    "# Filter by target areas\n",
    "neighbourhood_gdf['target'] = neighbourhood_gdf['neighbourhood_combination_code'].isin(neighbourhood_codes)"
   ]
  },
  {
   "cell_type": "code",
   "execution_count": null,
   "id": "306dc211-9ead-4857-86e2-6c1df197cb8e",
   "metadata": {},
   "outputs": [],
   "source": [
    "# Visualize\n",
    "neighbourhood_gdf.plot(column='target')"
   ]
  },
  {
   "cell_type": "code",
   "execution_count": null,
   "id": "e8696508-6330-41d5-8a0b-1b9d7bc0883d",
   "metadata": {},
   "outputs": [],
   "source": [
    "# Merge areas\n",
    "target_area = neighbourhood_gdf[neighbourhood_gdf['target']].unary_union"
   ]
  },
  {
   "cell_type": "markdown",
   "id": "00071535-99e7-4fde-b70d-b3aac8a1227c",
   "metadata": {},
   "source": [
    "### Locate the required tiles"
   ]
  },
  {
   "cell_type": "code",
   "execution_count": null,
   "id": "50f7ad3a-52de-455f-83f5-cd37d4c1fa38",
   "metadata": {},
   "outputs": [],
   "source": [
    "# Match point cloud tiles\n",
    "all_tiles_gdf['target'] = all_tiles_gdf.progress_apply(\n",
    "            lambda row: target_area.intersects(row.geometry) and not target_area.touches(row.geometry),\n",
    "            axis=1)\n",
    "target_tiles_gdf = all_tiles_gdf[all_tiles_gdf.target]\n",
    "print(f'{len(target_tiles_gdf)} tiles located ({len(target_tiles_gdf.tilecode.unique())} unique).')\n",
    "print(\"TODO: if these numbers don't match, duplicate tiles are present. Deal with that :)\")"
   ]
  },
  {
   "cell_type": "code",
   "execution_count": null,
   "id": "5be24416-9a69-4dcc-bc95-24cc4d7224e4",
   "metadata": {},
   "outputs": [],
   "source": [
    "coverage_percent = (target_area.intersection(target_tiles_gdf.unary_union).area\n",
    "                    / target_area.area) * 100\n",
    "print(f'Coverage of target area: {coverage_percent:.2f} %')"
   ]
  },
  {
   "cell_type": "code",
   "execution_count": null,
   "id": "f14621ea-f3b2-4a77-8fef-b2705ccd8589",
   "metadata": {},
   "outputs": [],
   "source": [
    "# Visualize the result\n",
    "fig, ax = plt.subplots(1)\n",
    "\n",
    "target_tiles_gdf.plot(ax=ax, edgecolor=\"black\", linewidth=0.4, alpha=0.25)\n",
    "if type(target_area) == sg.Polygon:\n",
    "    target_area = sg.MultiPolygon([target_area])\n",
    "for ta in target_area.geoms:\n",
    "    ax.plot(*ta.exterior.xy, '--k')\n",
    "ax.set_aspect('equal')"
   ]
  },
  {
   "cell_type": "markdown",
   "id": "bd033710-095d-4d94-a3c5-015b1ba154c0",
   "metadata": {},
   "source": [
    "## Copy the files"
   ]
  },
  {
   "cell_type": "code",
   "execution_count": null,
   "id": "4a5bb241-17bd-41b1-ba1e-5eec8d50d6e0",
   "metadata": {},
   "outputs": [],
   "source": [
    "# Copy the located tiles.\n",
    "\n",
    "dry_run = True\n",
    "\n",
    "files = [pathlib.Path(f'{base_folder}{folder}/las_processor_bundled_out/filtered_{tilecode}.laz')\n",
    "         for folder, tilecode in zip(target_tiles_gdf['folder'], target_tiles_gdf['tilecode'])]\n",
    "\n",
    "for f in tqdm(files):\n",
    "    if dry_run:\n",
    "        print(f'{f.as_posix()} => {out_folder}{f.name}')\n",
    "    else:\n",
    "        shutil.copy(f.as_posix(), f'{out_folder}{f.name}')"
   ]
  },
  {
   "cell_type": "code",
   "execution_count": null,
   "id": "1c61589c-d672-42b2-b9f0-a0e5df45d8b0",
   "metadata": {},
   "outputs": [],
   "source": []
  }
 ],
 "metadata": {
  "kernelspec": {
   "display_name": "Python 3 (ipykernel)",
   "language": "python",
   "name": "python3"
  },
  "language_info": {
   "codemirror_mode": {
    "name": "ipython",
    "version": 3
   },
   "file_extension": ".py",
   "mimetype": "text/x-python",
   "name": "python",
   "nbconvert_exporter": "python",
   "pygments_lexer": "ipython3",
   "version": "3.8.12"
  }
 },
 "nbformat": 4,
 "nbformat_minor": 5
}
