{
 "cells": [
  {
   "cell_type": "markdown",
   "id": "5f034096",
   "metadata": {},
   "source": [
    "# Calculate relevant variable"
   ]
  },
  {
   "cell_type": "code",
   "execution_count": null,
   "id": "071158b6",
   "metadata": {},
   "outputs": [],
   "source": [
    "import set_path\n",
    "\n",
    "import numpy as np\n",
    "import pandas as pd\n",
    "\n",
    "import matplotlib.pyplot as plt\n",
    "import matplotlib.patches as mpatches\n",
    "\n",
    "from shapely.geometry import MultiLineString, MultiPoint\n",
    "from shapely.ops import linemerge, nearest_points\n",
    "import geopandas as gpd\n",
    "from geopandas import GeoDataFrame\n",
    "from centerline.geometry import Centerline\n",
    "\n",
    "import networkx as nx\n",
    "import momepy\n",
    "\n",
    "from tqdm.notebook import tqdm_notebook\n",
    "tqdm_notebook.pandas()\n",
    "\n",
    "import upc_sw.poly_utils as poly_utils"
   ]
  },
  {
   "cell_type": "code",
   "execution_count": null,
   "id": "da19f85c",
   "metadata": {},
   "outputs": [],
   "source": [
    "import warnings  # temporary, to supress deprecationwarnings from shapely\n",
    "warnings.filterwarnings('ignore')"
   ]
  },
  {
   "cell_type": "markdown",
   "id": "5a2efe93",
   "metadata": {},
   "source": [
    "## Settings"
   ]
  },
  {
   "cell_type": "code",
   "execution_count": null,
   "id": "7a8dc9b1",
   "metadata": {},
   "outputs": [],
   "source": [
    "# Paths\n",
    "bgt_road_file = '../datasets/bgt/bgt_voetpad.gpkg'\n",
    "point_cloud_file = '../datasets/output/sidewalks_with_obstacles.gpkg'\n",
    "segments_file = '../datasets/output/sidewalk_segments.gpkg'\n",
    "output_file = '../datasets/output/final_output_segments.geojson'\n",
    "output_image = '../datasets/output/final_output_image.png'\n",
    "\n",
    "# A CRS tells Python how those coordinates relate to places on the Earth. Rijksdriehoek = epsg:28992\n",
    "CRS = 'epsg:28992'\n",
    "\n",
    "# Boundary for filtering out (in meters)\n",
    "min_path_width = 0.4 \n",
    "\n",
    "# Boundaries between the final colors green/orange/red (in meters)\n",
    "width_lower = 0.9  \n",
    "width_upper = 1.5 \n",
    "\n",
    "# Maximum distance between intended start point and start node (in meters)\n",
    "max_dist = 3 \n",
    "\n",
    "# Maximum length of linestring (in meters), otherwise cut\n",
    "max_ls_length = 30"
   ]
  },
  {
   "cell_type": "markdown",
   "id": "9a555a6e",
   "metadata": {},
   "source": [
    "## Import data"
   ]
  },
  {
   "cell_type": "code",
   "execution_count": null,
   "id": "7d916cc8",
   "metadata": {},
   "outputs": [],
   "source": [
    "# Read BGT data\n",
    "df_bgt = gpd.read_file(bgt_road_file, crs=CRS)"
   ]
  },
  {
   "cell_type": "code",
   "execution_count": null,
   "id": "c46b13f8",
   "metadata": {},
   "outputs": [],
   "source": [
    "# Read sidewalk with obstacle data (point cloud)\n",
    "df_pc = gpd.read_file(point_cloud_file, crs=CRS)"
   ]
  },
  {
   "cell_type": "code",
   "execution_count": null,
   "id": "2a69b43f",
   "metadata": {},
   "outputs": [],
   "source": [
    "# Read lines with widths (calculated in previous notebook)\n",
    "df_segments = gpd.read_file(segments_file, crs=CRS)"
   ]
  },
  {
   "cell_type": "markdown",
   "id": "1a75dd16",
   "metadata": {},
   "source": [
    "## Process data"
   ]
  },
  {
   "cell_type": "markdown",
   "id": "339d6256",
   "metadata": {},
   "source": [
    "### Remove too narrow paths"
   ]
  },
  {
   "cell_type": "code",
   "execution_count": null,
   "id": "efd9d0b7",
   "metadata": {},
   "outputs": [],
   "source": [
    "# Apply minimal path width\n",
    "df_segments_wide = df_segments[df_segments['min_width'] > min_path_width].reset_index(drop=True)\n",
    "print(df_segments.shape)\n",
    "print(df_segments_wide.shape)"
   ]
  },
  {
   "cell_type": "code",
   "execution_count": null,
   "id": "f8ad2920",
   "metadata": {},
   "outputs": [],
   "source": [
    "# Remove short dead-end segments - need to make multilinestring first to make it work properly\n",
    "long_segments = poly_utils.remove_short_lines(MultiLineString(list(df_segments_wide['geometry']))) # slow\n",
    "long_segments_df = GeoDataFrame(long_segments, columns = ['geometry'])\n",
    "df_segments_wide = df_segments_wide.merge(long_segments_df, how='inner')\n",
    "df_segments_wide.shape"
   ]
  },
  {
   "cell_type": "markdown",
   "id": "2c9faf42",
   "metadata": {},
   "source": [
    "### Use color codes"
   ]
  },
  {
   "cell_type": "code",
   "execution_count": null,
   "id": "8fb0a379",
   "metadata": {},
   "outputs": [],
   "source": [
    "conditions = [\n",
    "    (df_segments_wide['min_width'] < width_lower),\n",
    "    (df_segments_wide['min_width'] >= width_lower) & (df_segments_wide['min_width'] < width_upper),\n",
    "    (df_segments_wide['min_width'] >= width_upper)\n",
    "]\n",
    "\n",
    "values = ['red', 'orange', 'lightgreen']"
   ]
  },
  {
   "cell_type": "code",
   "execution_count": null,
   "id": "dc8429fa",
   "metadata": {},
   "outputs": [],
   "source": [
    "df_segments_wide['min_width_color'] = np.select(conditions, values)\n",
    "df_segments_wide['min_width_color'].value_counts()"
   ]
  },
  {
   "cell_type": "code",
   "execution_count": null,
   "id": "c493347c",
   "metadata": {},
   "outputs": [],
   "source": [
    "# Add width factor, for calculating the weights of the paths later\n",
    "values = [1000000, 1000, 1]\n",
    "df_segments_wide['min_width_factor'] = np.select(conditions, values)"
   ]
  },
  {
   "cell_type": "markdown",
   "id": "a1318c09",
   "metadata": {},
   "source": [
    "### Create centerlines without obstacles"
   ]
  },
  {
   "cell_type": "code",
   "execution_count": null,
   "id": "300c513c",
   "metadata": {},
   "outputs": [],
   "source": [
    "# Put polygons together\n",
    "gdf_bgt = GeoDataFrame(geometry=gpd.GeoSeries(df_bgt['geometry'].unary_union))\n",
    "gdf_bgt = gpd.GeoDataFrame(gdf_bgt.geometry.explode()) \n",
    "#gdf_bgt = GeoDataFrame(geometry=gpd.GeoSeries(df_bgt['geometry'])) # if you don't want to merge sidewalk polygons"
   ]
  },
  {
   "cell_type": "code",
   "execution_count": null,
   "id": "2383e782",
   "metadata": {},
   "outputs": [],
   "source": [
    "# Calculate centerlines\n",
    "gdf_bgt['centerlines'] = gdf_bgt.progress_apply(\n",
    "    lambda row: Centerline(row.geometry, interpolation_distance=0.5), axis=1)\n",
    "gdf_bgt = gdf_bgt.set_geometry('centerlines')"
   ]
  },
  {
   "cell_type": "markdown",
   "id": "d6841a4b",
   "metadata": {},
   "source": [
    "#### Remove dead-ends"
   ]
  },
  {
   "cell_type": "code",
   "execution_count": null,
   "id": "8866d56b",
   "metadata": {},
   "outputs": [],
   "source": [
    "gdf_bgt['centerlines'] = gdf_bgt['centerlines'].progress_apply(linemerge)"
   ]
  },
  {
   "cell_type": "code",
   "execution_count": null,
   "id": "9941ce39",
   "metadata": {},
   "outputs": [],
   "source": [
    "gdf_bgt['centerlines'] = gdf_bgt['centerlines'].progress_apply(poly_utils.remove_short_lines)"
   ]
  },
  {
   "cell_type": "markdown",
   "id": "ea288a1f",
   "metadata": {},
   "source": [
    "## Create relevant variable"
   ]
  },
  {
   "cell_type": "code",
   "execution_count": null,
   "id": "9fb5d3f3",
   "metadata": {},
   "outputs": [],
   "source": [
    "# Create final dataframe\n",
    "final_df = pd.DataFrame()\n",
    "\n",
    "for i in range(len(gdf_bgt['centerlines'])):\n",
    "    \n",
    "    # Get centerline\n",
    "    my_centerline = gdf_bgt['centerlines'].values[i]\n",
    "    \n",
    "    # Create dataframe with linestrings of centerline\n",
    "    centerline_df = poly_utils.create_df_centerlines(my_centerline)\n",
    "    centerline_df['length'] = centerline_df['geometry'].length\n",
    "    centerline_df['route_weight'] = np.nan\n",
    "    \n",
    "    # Cut linestrings that are too long\n",
    "    centerline_df = poly_utils.shorten_linestrings(centerline_df, max_ls_length)\n",
    "        \n",
    "    # Get sidewalk polygon for this centerline\n",
    "    my_sidewalk = gdf_bgt['geometry'].values[i]\n",
    "    \n",
    "    # Create graph for all paths withing this sidewalk polygon\n",
    "    df_sidewalk = df_segments_wide[df_segments_wide['geometry'].within(my_sidewalk)].reset_index(drop=True)\n",
    "    G = momepy.gdf_to_nx(df_sidewalk, approach=\"primal\", multigraph=True)\n",
    "    \n",
    "    for j in range(len(centerline_df['geometry'])):\n",
    "        \n",
    "        # Get line\n",
    "        my_line = centerline_df.iloc[[j]]['geometry'].values[0]\n",
    "        \n",
    "        # Get origin and destination location\n",
    "        if len(list(G.nodes)) > 0:\n",
    "            origin_point, dest_point = my_line.boundary\n",
    "            origin_node_loc = nearest_points(origin_point, MultiPoint(list(G.nodes)))[1]\n",
    "            dest_node_loc = nearest_points(dest_point, MultiPoint(list(G.nodes)))[1]\n",
    "\n",
    "            # Get origin and destination node\n",
    "            if (origin_point.distance(origin_node_loc) > max_dist) or (dest_point.distance(dest_node_loc) > max_dist):\n",
    "                print('origin and/or destination node too far from line start/end for line (j)', j, 'in sidewalk (i)', i) \n",
    "            else:    \n",
    "                origin_node = (origin_node_loc.x, origin_node_loc.y)\n",
    "                dest_node = (dest_node_loc.x, dest_node_loc.y)   \n",
    "\n",
    "                # Get weight of optimal route in graph\n",
    "                try:\n",
    "                    route_weight = nx.shortest_path_length(G, origin_node, dest_node, \n",
    "                                                           weight='min_width_factor')\n",
    "                    centerline_df['route_weight'][j] = route_weight\n",
    "                except nx.NetworkXNoPath:\n",
    "                    print('no route found for line (j)', j, 'in sidewalk (i)', i)       \n",
    "        else:\n",
    "            print('network has zero nodes')\n",
    "\n",
    "    # Append data to final dataframe\n",
    "    final_df = final_df.append(centerline_df)\n",
    "final_df = final_df.reset_index()    "
   ]
  },
  {
   "cell_type": "code",
   "execution_count": null,
   "id": "82a25585",
   "metadata": {},
   "outputs": [],
   "source": [
    "# Get final color of the routes\n",
    "final_df['final_color'] = final_df.progress_apply(\n",
    "    lambda row: poly_utils.get_route_color(row.route_weight), axis=1)"
   ]
  },
  {
   "cell_type": "code",
   "execution_count": null,
   "id": "907bb619",
   "metadata": {},
   "outputs": [],
   "source": [
    "# Get dataframe with only valid lines\n",
    "final_df_select = final_df[final_df['final_color'].isin(['lightgreen', 'orange', 'red'])]"
   ]
  },
  {
   "cell_type": "markdown",
   "id": "f22a863a",
   "metadata": {},
   "source": [
    "## Visualisation"
   ]
  },
  {
   "cell_type": "code",
   "execution_count": null,
   "id": "19285add",
   "metadata": {},
   "outputs": [],
   "source": [
    "# Boundaries for plotting a subset of the data - select part of dataframe before plotting instead?\n",
    "#x_min = 125730 # area 4 \n",
    "#x_max = 125810\n",
    "#y_min = 489820\n",
    "#y_max = 489960\n",
    "#x_min = 122700 # area 13\n",
    "#x_max = 122800\n",
    "#y_min = 490240\n",
    "#y_max = 490340\n",
    "#x_min = 114680 # area 8\n",
    "#x_max = 114830\n",
    "#y_min = 487520\n",
    "#y_max = 487690\n",
    "x_min = 122400 # larger area east\n",
    "x_max = 123600\n",
    "y_min = 485400\n",
    "y_max = 486100"
   ]
  },
  {
   "cell_type": "code",
   "execution_count": null,
   "id": "80c27bc8",
   "metadata": {},
   "outputs": [],
   "source": [
    "fig, (ax1, ax2, ax3) = plt.subplots(1, 3, figsize=(10,5), dpi=100, \n",
    "                                    frameon=False, constrained_layout=True)\n",
    "\n",
    "# Plot process step 1\n",
    "df_bgt.plot(ax=ax1, color=\"silver\")\n",
    "df_pc.plot(ax=ax1)\n",
    "df_segments_wide.plot(ax=ax1, color=df_segments_wide['min_width_color'])\n",
    "ax1.axis('off')\n",
    "\n",
    "# Plot process step 2\n",
    "df_bgt.plot(ax=ax2, color=\"silver\")\n",
    "df_pc.plot(ax=ax2)\n",
    "final_df.plot(ax=ax2, linewidth=3, color=final_df.final_color)  \n",
    "ax2.axis('off')\n",
    "\n",
    "# Plot process step 3\n",
    "df_bgt.plot(ax=ax3)\n",
    "final_df_select.plot(ax=ax3, linewidth=3, color=final_df_select.final_color)  \n",
    "ax3.axis('off')\n",
    "\n",
    "# Create legend\n",
    "acc = mpatches.Patch(color='lightgreen', label='accessible (>' + str(width_upper) + 'm)')\n",
    "narrow = mpatches.Patch(color='orange', label='narrow (' + str(width_lower) + '-' + str(width_upper) + 'm)')\n",
    "notacc = mpatches.Patch(color='red', label='not accessible (<' + str(width_lower) + 'm)')\n",
    "rnan = mpatches.Patch(color='purple', label='no route (node too far or no path)')\n",
    "rl0 = mpatches.Patch(color='black', label='route length 0')\n",
    "plt.legend(handles=[acc,narrow,notacc,rl0,rnan], \n",
    "           bbox_to_anchor=(0.5, -0.5, 0.5, 0.5))\n",
    "\n",
    "# Set plot limits\n",
    "ax1.set_xlim([x_min, x_max])   \n",
    "ax1.set_ylim([y_min, y_max])\n",
    "ax2.set_xlim([x_min, x_max])\n",
    "ax2.set_ylim([y_min, y_max])\n",
    "ax3.set_xlim([x_min, x_max])\n",
    "ax3.set_ylim([y_min, y_max])\n",
    "\n",
    "plt.savefig(output_image, bbox_inches='tight')\n",
    "plt.show()"
   ]
  },
  {
   "cell_type": "markdown",
   "id": "31919f60",
   "metadata": {},
   "source": [
    "## Post-process output"
   ]
  },
  {
   "cell_type": "code",
   "execution_count": null,
   "id": "b9e6c28b",
   "metadata": {},
   "outputs": [],
   "source": [
    "final_df = final_df.set_crs(CRS) \n",
    "df_projected = final_df #.to_crs('epsg:4326')  # TODO: check CRS they want for maps.amsterdam.nl"
   ]
  },
  {
   "cell_type": "code",
   "execution_count": null,
   "id": "32851d3f",
   "metadata": {},
   "outputs": [],
   "source": [
    "# TODO: any post-processing we need to do for maps.amsterdam.nl?"
   ]
  },
  {
   "cell_type": "markdown",
   "id": "10991d1e",
   "metadata": {},
   "source": [
    "## Store output"
   ]
  },
  {
   "cell_type": "code",
   "execution_count": null,
   "id": "a2d416f4",
   "metadata": {},
   "outputs": [],
   "source": [
    "with open(output_file, 'w') as f:\n",
    "    f.write(df_projected.to_json())"
   ]
  },
  {
   "cell_type": "code",
   "execution_count": null,
   "id": "970982f9",
   "metadata": {},
   "outputs": [],
   "source": []
  }
 ],
 "metadata": {
  "kernelspec": {
   "display_name": "sidewalk",
   "language": "python",
   "name": "sidewalk"
  },
  "language_info": {
   "codemirror_mode": {
    "name": "ipython",
    "version": 3
   },
   "file_extension": ".py",
   "mimetype": "text/x-python",
   "name": "python",
   "nbconvert_exporter": "python",
   "pygments_lexer": "ipython3",
   "version": "3.10.3"
  }
 },
 "nbformat": 4,
 "nbformat_minor": 5
}
