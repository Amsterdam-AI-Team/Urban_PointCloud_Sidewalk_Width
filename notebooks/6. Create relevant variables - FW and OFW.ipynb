{
 "cells": [
  {
   "cell_type": "markdown",
   "id": "5f034096",
   "metadata": {},
   "source": [
    "# Calculate relevant variables"
   ]
  },
  {
   "cell_type": "code",
   "execution_count": null,
   "id": "071158b6",
   "metadata": {},
   "outputs": [],
   "source": [
    "import set_path\n",
    "\n",
    "import numpy as np\n",
    "import pandas as pd\n",
    "\n",
    "import shapely.geometry as sg\n",
    "import shapely.ops as so\n",
    "import geopandas as gpd\n",
    "from geopandas import GeoDataFrame\n",
    "from centerline.geometry import Centerline\n",
    "\n",
    "import networkx as nx\n",
    "import momepy\n",
    "\n",
    "from tqdm.notebook import tqdm_notebook\n",
    "tqdm_notebook.pandas()\n",
    "\n",
    "import upc_sw.poly_utils as poly_utils\n",
    "\n",
    "import matplotlib.pyplot as plt\n",
    "import matplotlib.patches as mpatches\n",
    "\n",
    "import pickle"
   ]
  },
  {
   "cell_type": "code",
   "execution_count": null,
   "id": "da19f85c",
   "metadata": {},
   "outputs": [],
   "source": [
    "import warnings  # temporary, to supress deprecationwarnings from shapely\n",
    "warnings.filterwarnings('ignore')"
   ]
  },
  {
   "cell_type": "code",
   "execution_count": null,
   "id": "48fc09a2",
   "metadata": {},
   "outputs": [],
   "source": [
    "import importlib\n",
    "importlib.reload(poly_utils)"
   ]
  },
  {
   "cell_type": "markdown",
   "id": "5a2efe93",
   "metadata": {},
   "source": [
    "## Settings"
   ]
  },
  {
   "cell_type": "code",
   "execution_count": null,
   "id": "7a8dc9b1",
   "metadata": {},
   "outputs": [],
   "source": [
    "# BGT paths\n",
    "bgt_road_file = '../datasets/bgt/bgt_voetpad.gpkg' # old area east\n",
    "bgt_cl_file = '../datasets/output/bgt_cl_east.pkl'\n",
    "#bgt_road_file = '../datasets/output/amsterdam/bgt_voetpad.gpkg' \n",
    "#bgt_cl_file = '../datasets/output/bgt_cl.pkl'\n",
    "\n",
    "# A CRS tells Python how those coordinates relate to places on the Earth. Rijksdriehoek = epsg:28992\n",
    "CRS = 'epsg:28992'\n",
    "\n",
    "# Boundary for filtering out (in meters)\n",
    "min_path_width = 0.4 \n",
    "\n",
    "# Boundaries between the final colors green/orange/red (in meters)\n",
    "width_lower = 0.9  \n",
    "width_upper = 1.8\n",
    "width_top = 2.9 \n",
    "\n",
    "# Maximum distance between intended start point and start node (in meters)\n",
    "max_dist = 3 \n",
    "\n",
    "# Maximum length of linestring (in meters), otherwise cut # TO DO: LOWER THIS, AND IMPLEMENT IN NB5\n",
    "max_ls_length = 90 \n",
    "\n",
    "# Minimum length for short-ends (in meters), otherwise removed # TO DO: CHANGE VARIABLE NAME\n",
    "max_line_length = 10\n",
    "\n",
    "# Minimum interior size to remain in BGT data\n",
    "min_interior_size = 10\n",
    "\n",
    "# Min area size of a sidewalk polygon in sqm for which width will be computed\n",
    "min_area_size = 5\n",
    "\n",
    "# Resolution (in m) for min and avg width computation\n",
    "width_resolution = 1\n",
    "\n",
    "# Precision (in decimals) for min and avg width computation\n",
    "width_precision = 1"
   ]
  },
  {
   "cell_type": "code",
   "execution_count": null,
   "id": "86f498e2",
   "metadata": {},
   "outputs": [],
   "source": [
    "# Paths - old area east\n",
    "segments_file = '../datasets/output/sidewalk_segments.gpkg'\n",
    "output_file = '../datasets/output/final_output_segments_ae.geojson'\n",
    "output_image = '../datasets/output/final_output_image_ae.png'\n",
    "output_image_no = '../datasets/output/final_output_image_no_ae.png'\n",
    "\n",
    "## Paths - entire city\n",
    "#segments_file1 = '../datasets/output/sidewalk_segments_1.gpkg'\n",
    "#segments_file2 = '../datasets/output/sidewalk_segments_2.gpkg'\n",
    "#segments_file3 = '../datasets/output/sidewalk_segments_3.gpkg'\n",
    "#segments_file4 = '../datasets/output/sidewalk_segments_4.gpkg'\n",
    "#segments_file5 = '../datasets/output/sidewalk_segments_5.gpkg'\n",
    "#segments_file6 = '../datasets/output/sidewalk_segments_6.gpkg'\n",
    "\n",
    "#output_file = '../datasets/output/final_output_segments_all.geojson'\n",
    "#output_image = '../datasets/output/final_output_image_all.png'\n",
    "#output_image_no = '../datasets/output/final_output_image_no_all.png'"
   ]
  },
  {
   "cell_type": "markdown",
   "id": "50c6b9b1",
   "metadata": {},
   "source": [
    "## Import BGT data"
   ]
  },
  {
   "cell_type": "code",
   "execution_count": null,
   "id": "7d916cc8",
   "metadata": {},
   "outputs": [],
   "source": [
    "### Read BGT data\n",
    "#df_bgt = gpd.read_file(bgt_road_file)\n",
    "#df_bgt = df_bgt.set_crs(CRS, allow_override=True)\n",
    "#df_bgt = df_bgt.drop_duplicates()"
   ]
  },
  {
   "cell_type": "markdown",
   "id": "e7cc4590",
   "metadata": {},
   "source": [
    "## Prepare BGT data"
   ]
  },
  {
   "cell_type": "markdown",
   "id": "229baa3a",
   "metadata": {},
   "source": [
    "### Remove obstacles (small interiors)"
   ]
  },
  {
   "cell_type": "code",
   "execution_count": null,
   "id": "afbae909",
   "metadata": {},
   "outputs": [],
   "source": [
    "#df_bgt['geometry_no_holes'] = df_bgt.progress_apply(\n",
    "#    lambda row: poly_utils.remove_interiors(row.geometry, min_interior_size), axis=1)\n",
    "#df_bgt = df_bgt.set_geometry('geometry_no_holes')"
   ]
  },
  {
   "cell_type": "markdown",
   "id": "a1318c09",
   "metadata": {},
   "source": [
    "### Create centerlines without obstacles"
   ]
  },
  {
   "cell_type": "code",
   "execution_count": null,
   "id": "300c513c",
   "metadata": {},
   "outputs": [],
   "source": [
    "## Merge sidewalk polygons (optional, but should be in line with notebook 5 'merge_sidewalks' parameter)\n",
    "#df_bgt = GeoDataFrame(geometry=gpd.GeoSeries(df_bgt['geometry_no_holes'].unary_union))\n",
    "#df_bgt = gpd.GeoDataFrame(df_bgt.geometry.explode()) "
   ]
  },
  {
   "cell_type": "code",
   "execution_count": null,
   "id": "67b6a88c",
   "metadata": {},
   "outputs": [],
   "source": [
    "## Ignore sidewalk polygons that are too small\n",
    "#df_bgt['area'] = df_bgt['geometry'].area\n",
    "#df_bgt = df_bgt[df_bgt.area > min_area_size]"
   ]
  },
  {
   "cell_type": "code",
   "execution_count": null,
   "id": "2383e782",
   "metadata": {},
   "outputs": [],
   "source": [
    "## Calculate centerlines\n",
    "#df_bgt['centerlines'] = df_bgt.progress_apply(\n",
    "#    lambda row: Centerline(row.geometry, interpolation_distance=0.5), axis=1)\n",
    "#df_bgt = df_bgt.set_geometry('centerlines')"
   ]
  },
  {
   "cell_type": "code",
   "execution_count": null,
   "id": "8866d56b",
   "metadata": {},
   "outputs": [],
   "source": [
    "#df_bgt['centerlines'] = df_bgt['centerlines'].progress_apply(so.linemerge)"
   ]
  },
  {
   "cell_type": "code",
   "execution_count": null,
   "id": "9941ce39",
   "metadata": {},
   "outputs": [],
   "source": [
    "#df_bgt['centerlines'] = df_bgt['centerlines'].progress_apply(poly_utils.remove_short_lines)"
   ]
  },
  {
   "cell_type": "markdown",
   "id": "2ff46e1d",
   "metadata": {},
   "source": [
    "### Store BGT dataframe with centerlines"
   ]
  },
  {
   "cell_type": "code",
   "execution_count": null,
   "id": "c5879d2a",
   "metadata": {},
   "outputs": [],
   "source": [
    "#with open(bgt_cl_file, 'wb') as f:\n",
    "#    pickle.dump(df_bgt.to_dict(), f)"
   ]
  },
  {
   "cell_type": "markdown",
   "id": "9dd444d6",
   "metadata": {},
   "source": [
    "## Load prepared BGT data (if already present)"
   ]
  },
  {
   "cell_type": "code",
   "execution_count": null,
   "id": "99a5fbf1",
   "metadata": {},
   "outputs": [],
   "source": [
    "df_bgt = GeoDataFrame(pd.read_pickle(bgt_cl_file, compression='infer'), \n",
    "                      crs=CRS, geometry='centerlines')"
   ]
  },
  {
   "cell_type": "code",
   "execution_count": null,
   "id": "3d2df096",
   "metadata": {},
   "outputs": [],
   "source": [
    "df_bgt.head(2)"
   ]
  },
  {
   "cell_type": "code",
   "execution_count": null,
   "id": "1d73f9f4",
   "metadata": {},
   "outputs": [],
   "source": [
    "df_bgt.shape"
   ]
  },
  {
   "cell_type": "markdown",
   "id": "65658aaf",
   "metadata": {},
   "source": [
    "## Create relevant variable - full width"
   ]
  },
  {
   "cell_type": "code",
   "execution_count": null,
   "id": "821a1c16",
   "metadata": {},
   "outputs": [],
   "source": [
    "# Add sidewalk ID\n",
    "df_bgt['sidewalk_id'] = range(0, len(df_bgt))"
   ]
  },
  {
   "cell_type": "code",
   "execution_count": null,
   "id": "21b19cf9",
   "metadata": {},
   "outputs": [],
   "source": [
    "# Get each centerline in separate row\n",
    "df_bgt_exp = df_bgt.explode(ignore_index=True)"
   ]
  },
  {
   "cell_type": "code",
   "execution_count": null,
   "id": "521e2368",
   "metadata": {},
   "outputs": [],
   "source": [
    "# Remove few missing centerlines\n",
    "df_bgt_exp = df_bgt_exp.dropna()\n",
    "df_bgt_exp = df_bgt_exp.reset_index()"
   ]
  },
  {
   "cell_type": "code",
   "execution_count": null,
   "id": "89054bf9",
   "metadata": {},
   "outputs": [],
   "source": [
    "df_bgt_exp.head(2)"
   ]
  },
  {
   "cell_type": "markdown",
   "id": "6e464e84",
   "metadata": {},
   "source": [
    "### Cut lines that are too long"
   ]
  },
  {
   "cell_type": "code",
   "execution_count": null,
   "id": "1fce6de3",
   "metadata": {},
   "outputs": [],
   "source": [
    "# Remove geometry column and rename centerlines column to geometry for shorten linestrings function\n",
    "df_bgt_cut = df_bgt_exp.drop('geometry', axis=1)\n",
    "df_bgt_cut = df_bgt_cut.rename(columns = {'centerlines': 'geometry'}) "
   ]
  },
  {
   "cell_type": "code",
   "execution_count": null,
   "id": "8f704b19",
   "metadata": {},
   "outputs": [],
   "source": [
    "# Cut linestrings longer than a max length\n",
    "df_bgt_cut['length'] = df_bgt_cut['geometry'].length\n",
    "df_bgt_cut = poly_utils.shorten_linestrings(df_bgt_cut, max_ls_length, return_index=True)"
   ]
  },
  {
   "cell_type": "code",
   "execution_count": null,
   "id": "febadc2c",
   "metadata": {},
   "outputs": [],
   "source": [
    "# Rename centerline column back again, to be able to merge properly\n",
    "df_bgt_cut = df_bgt_cut.rename(columns = {'geometry': 'centerlines'})"
   ]
  },
  {
   "cell_type": "code",
   "execution_count": null,
   "id": "17c542c3",
   "metadata": {},
   "outputs": [],
   "source": [
    "# Add shortened linestrings to previous dataframe\n",
    "df_bgt_exp = df_bgt_exp.drop(['centerlines'], axis=1).merge(df_bgt_cut.drop(['area', 'sidewalk_id'], axis=1), \n",
    "                                                            how = 'outer', on = 'index')"
   ]
  },
  {
   "cell_type": "code",
   "execution_count": null,
   "id": "7c23acab",
   "metadata": {},
   "outputs": [],
   "source": [
    "del df_bgt_cut"
   ]
  },
  {
   "cell_type": "markdown",
   "id": "70725eb3",
   "metadata": {},
   "source": [
    "### Get width and color"
   ]
  },
  {
   "cell_type": "code",
   "execution_count": null,
   "id": "4fdea8e0",
   "metadata": {},
   "outputs": [],
   "source": [
    "df_bgt_exp[['avg_width', 'min_width']] = df_bgt_exp.progress_apply(\n",
    "    lambda row: poly_utils.get_avg_width_cl(row.geometry, row.centerlines, \n",
    "                                            width_resolution, width_precision), axis=1)"
   ]
  },
  {
   "cell_type": "code",
   "execution_count": null,
   "id": "0ae7a34a",
   "metadata": {},
   "outputs": [],
   "source": [
    "conditions = [\n",
    "    (df_bgt_exp['min_width'] < width_lower),\n",
    "    (df_bgt_exp['min_width'] >= width_lower) & (df_bgt_exp['min_width'] < width_upper),\n",
    "    (df_bgt_exp['min_width'] >= width_upper) & (df_bgt_exp['min_width'] < width_top),\n",
    "    (df_bgt_exp['min_width'] >= width_top)\n",
    "]\n",
    "\n",
    "values_color = ['red', 'orange', 'lightgreen', 'green']\n",
    "values_indication = ['<' + str(width_lower) + 'm', \n",
    "                     str(width_lower) + '-' + str(width_upper) + 'm', \n",
    "                     str(width_upper) + '-' + str(width_top) + 'm', \n",
    "                     '>' + str(width_top) + 'm']"
   ]
  },
  {
   "cell_type": "code",
   "execution_count": null,
   "id": "b148d1fb",
   "metadata": {},
   "outputs": [],
   "source": [
    "df_bgt_exp['full_width_color'] = np.select(conditions, values_color)\n",
    "df_bgt_exp['full_width'] = np.select(conditions, values_indication)\n",
    "df_bgt_exp['full_width'].value_counts()"
   ]
  },
  {
   "cell_type": "markdown",
   "id": "3f55cc94",
   "metadata": {},
   "source": [
    "### Remove too narrow paths and short-ends"
   ]
  },
  {
   "cell_type": "code",
   "execution_count": null,
   "id": "761ed7e8",
   "metadata": {},
   "outputs": [],
   "source": [
    "# Apply minimal path width on BGT centerlines\n",
    "print(df_bgt_exp.shape)\n",
    "df_bgt_exp = df_bgt_exp[df_bgt_exp['min_width'] > min_path_width].reset_index(drop=True)\n",
    "print(df_bgt_exp.shape)"
   ]
  },
  {
   "cell_type": "code",
   "execution_count": null,
   "id": "a0f232f8",
   "metadata": {},
   "outputs": [],
   "source": [
    "## Remove short lines\n",
    "df_bgt_exp = df_bgt_exp.rename(columns={'geometry':'geometry_sidewalks', 'centerlines':'geometry'}) \n",
    "mls_per_id = poly_utils.create_mls_per_sidewalk(df_bgt_exp, crs=CRS) \n",
    "mls_per_id['geometry'] = mls_per_id['geometry'].progress_apply(\n",
    "    lambda x: poly_utils.remove_short_lines(x, max_line_length))"
   ]
  },
  {
   "cell_type": "code",
   "execution_count": null,
   "id": "bd88bd59",
   "metadata": {},
   "outputs": [],
   "source": [
    "## Apply selection of longer lines to original dataframe\n",
    "long_segments_df = gpd.GeoDataFrame(mls_per_id.geometry.explode())\n",
    "df_bgt_exp = df_bgt_exp.merge(long_segments_df, how='inner')\n",
    "df_bgt_exp.shape"
   ]
  },
  {
   "cell_type": "markdown",
   "id": "9a555a6e",
   "metadata": {},
   "source": [
    "## Import segments data"
   ]
  },
  {
   "cell_type": "code",
   "execution_count": null,
   "id": "2a69b43f",
   "metadata": {},
   "outputs": [],
   "source": [
    "# Read lines with widths (calculated in notebook 5)\n",
    "df_segments = gpd.read_file(segments_file, crs=CRS)\n",
    "#df_segments1 = gpd.read_file(segments_file1, crs=CRS)\n",
    "#df_segments2 = gpd.read_file(segments_file2, crs=CRS)\n",
    "#df_segments3 = gpd.read_file(segments_file3, crs=CRS)\n",
    "#df_segments4 = gpd.read_file(segments_file4, crs=CRS)\n",
    "#df_segments5 = gpd.read_file(segments_file5, crs=CRS)\n",
    "#df_segments6 = gpd.read_file(segments_file6, crs=CRS)"
   ]
  },
  {
   "cell_type": "code",
   "execution_count": null,
   "id": "d6fe4a9f",
   "metadata": {},
   "outputs": [],
   "source": [
    "# Add together\n",
    "#df_segments = pd.concat([df_segments1, df_segments2, df_segments3, \n",
    "#                         df_segments4, df_segments5, df_segments6]).reset_index()"
   ]
  },
  {
   "cell_type": "code",
   "execution_count": null,
   "id": "fca26728",
   "metadata": {},
   "outputs": [],
   "source": [
    "# Remove dataframes\n",
    "#del df_segments1\n",
    "#del df_segments2\n",
    "#del df_segments3\n",
    "#del df_segments4\n",
    "#del df_segments5\n",
    "#del df_segments6"
   ]
  },
  {
   "cell_type": "markdown",
   "id": "1a75dd16",
   "metadata": {},
   "source": [
    "## Create relevant variable - obstacle-free width"
   ]
  },
  {
   "cell_type": "markdown",
   "id": "339d6256",
   "metadata": {},
   "source": [
    "### Remove too narrow paths and short-ends"
   ]
  },
  {
   "cell_type": "code",
   "execution_count": null,
   "id": "efd9d0b7",
   "metadata": {},
   "outputs": [],
   "source": [
    "# Apply minimal path width\n",
    "df_segments_wide = df_segments[df_segments['min_width'] > min_path_width].reset_index(drop=True)\n",
    "print(df_segments.shape)\n",
    "print(df_segments_wide.shape)"
   ]
  },
  {
   "cell_type": "code",
   "execution_count": null,
   "id": "206c47a6",
   "metadata": {},
   "outputs": [],
   "source": [
    "# Remove short lines  \n",
    "mls_per_id = poly_utils.create_mls_per_sidewalk(df_segments_wide, crs=CRS)\n",
    "mls_per_id['geometry'] = mls_per_id['geometry'].progress_apply(poly_utils.remove_short_lines)"
   ]
  },
  {
   "cell_type": "code",
   "execution_count": null,
   "id": "f00d2b0e",
   "metadata": {},
   "outputs": [],
   "source": [
    "# Apply selection of longer lines to original dataframe\n",
    "long_segments_df = gpd.GeoDataFrame(mls_per_id.geometry.explode())\n",
    "df_segments_wide = df_segments_wide.merge(long_segments_df, how='inner')\n",
    "df_segments_wide.shape"
   ]
  },
  {
   "cell_type": "markdown",
   "id": "2c9faf42",
   "metadata": {},
   "source": [
    "### Use color codes"
   ]
  },
  {
   "cell_type": "code",
   "execution_count": null,
   "id": "8fb0a379",
   "metadata": {},
   "outputs": [],
   "source": [
    "conditions = [\n",
    "    (df_segments_wide['min_width'] < width_lower),\n",
    "    (df_segments_wide['min_width'] >= width_lower) & (df_segments_wide['min_width'] < width_upper),\n",
    "    (df_segments_wide['min_width'] >= width_upper) & (df_segments_wide['min_width'] < width_top),\n",
    "    (df_segments_wide['min_width'] >= width_top)\n",
    "]\n",
    "\n",
    "values = ['red', 'orange', 'lightgreen', 'green']"
   ]
  },
  {
   "cell_type": "code",
   "execution_count": null,
   "id": "dc8429fa",
   "metadata": {},
   "outputs": [],
   "source": [
    "df_segments_wide['min_width_color'] = np.select(conditions, values)\n",
    "df_segments_wide['min_width_color'].value_counts()"
   ]
  },
  {
   "cell_type": "code",
   "execution_count": null,
   "id": "c493347c",
   "metadata": {},
   "outputs": [],
   "source": [
    "# Add width factor, for calculating the weights of the paths later\n",
    "values = [1000000000, 1000000, 1000, 1]\n",
    "df_segments_wide['min_width_factor'] = np.select(conditions, values).astype('int64')"
   ]
  },
  {
   "cell_type": "markdown",
   "id": "4c484f08",
   "metadata": {},
   "source": [
    "### Take point cloud coverage into account"
   ]
  },
  {
   "cell_type": "code",
   "execution_count": null,
   "id": "1490e750",
   "metadata": {},
   "outputs": [],
   "source": [
    "df_segments_wide['min_width_factor'][df_segments_wide['pc_coverage'] == False] = 1000000000001"
   ]
  },
  {
   "cell_type": "code",
   "execution_count": null,
   "id": "1007b745",
   "metadata": {},
   "outputs": [],
   "source": [
    "df_segments_wide['min_width_factor'].value_counts()"
   ]
  },
  {
   "cell_type": "markdown",
   "id": "ea288a1f",
   "metadata": {},
   "source": [
    "### Do network calculation"
   ]
  },
  {
   "cell_type": "code",
   "execution_count": null,
   "id": "35b2a910",
   "metadata": {},
   "outputs": [],
   "source": [
    "df_bgt_exp['route_weight'] = np.nan"
   ]
  },
  {
   "cell_type": "code",
   "execution_count": null,
   "id": "f26bd1a9",
   "metadata": {},
   "outputs": [],
   "source": [
    "# Create final dataframe\n",
    "final_df = pd.DataFrame()\n",
    "\n",
    "for i in range(len(df_bgt['sidewalk_id'])):  \n",
    "      \n",
    "    # Get sidewalk polygon for this centerline \n",
    "    my_sidewalk = df_bgt['geometry'].values[i]   \n",
    "    \n",
    "    # Create graph for all paths withing this sidewalk polygon\n",
    "    df_sidewalk = df_segments_wide[df_segments_wide['geometry'].within(my_sidewalk)].reset_index(drop=True)\n",
    "    G = momepy.gdf_to_nx(df_sidewalk, approach=\"primal\", multigraph=True)\n",
    "    \n",
    "    # Create dataframe with linestrings of centerline\n",
    "    centerline_df = df_bgt_exp[df_bgt_exp['sidewalk_id'] == i].reset_index(drop=True)\n",
    "    #print(centerline_df)\n",
    "    \n",
    "    for j in range(len(centerline_df['geometry'])):  \n",
    "        \n",
    "        # Get line\n",
    "        my_line = centerline_df.iloc[[j]]['geometry'].values[0]\n",
    "        \n",
    "        if len(list(G.nodes)) > 0:\n",
    "            # Check if my_line has start and end (not a ring)\n",
    "            if len(my_line.boundary) == 0:\n",
    "                print('no route calculated for line (j)', j, 'in sidewalk (i)', i, '(ring)') # get i (=sw_id) from df\n",
    "                centerline_df['route_weight'][j] = 0\n",
    "            else:\n",
    "                # Get origin and destination location\n",
    "                origin_point, dest_point = my_line.boundary\n",
    "                origin_node_loc = so.nearest_points(origin_point, sg.MultiPoint(list(G.nodes)))[1]\n",
    "                dest_node_loc = so.nearest_points(dest_point, sg.MultiPoint(list(G.nodes)))[1]\n",
    "\n",
    "                # Get origin and destination node\n",
    "                origin_node = (origin_node_loc.x, origin_node_loc.y)\n",
    "                dest_node = (dest_node_loc.x, dest_node_loc.y)   \n",
    "\n",
    "                # Get weight of optimal route in graph\n",
    "                try:\n",
    "                    route_weight = nx.shortest_path_length(G, origin_node, dest_node,\n",
    "                                                           weight='min_width_factor')\n",
    "                    if (origin_point.distance(origin_node_loc) < max_dist) and (dest_point.distance(dest_node_loc) < max_dist):\n",
    "                        centerline_df['route_weight'][j] = route_weight\n",
    "                    else:\n",
    "                        print('origin and/or destination node too far from line start/end for line (j)', j, 'in sidewalk (i)', i) \n",
    "                        centerline_df['route_weight'][j] = np.nan\n",
    "                except nx.NetworkXNoPath:\n",
    "                    print('no route found for line (j)', j, 'in sidewalk (i)', i)\n",
    "                    centerline_df['route_weight'][j] = 1000000000000\n",
    "        else:\n",
    "            print('network has zero nodes')\n",
    "\n",
    "    # Append data to final dataframe\n",
    "    final_df = final_df.append(centerline_df)\n",
    "final_df = final_df.reset_index()"
   ]
  },
  {
   "cell_type": "code",
   "execution_count": null,
   "id": "e46a40c2",
   "metadata": {},
   "outputs": [],
   "source": [
    "#del df_bgt_exp"
   ]
  },
  {
   "cell_type": "code",
   "execution_count": null,
   "id": "82a25585",
   "metadata": {},
   "outputs": [],
   "source": [
    "# Get final color of the routes\n",
    "final_df['final_color'] = final_df.progress_apply(\n",
    "    lambda row: poly_utils.get_route_color(row.route_weight), axis=1)"
   ]
  },
  {
   "cell_type": "code",
   "execution_count": null,
   "id": "11ede5a1",
   "metadata": {},
   "outputs": [],
   "source": [
    "final_df_group = final_df.groupby('final_color').sum()\n",
    "final_df_group['length_perc'] = round(100 * final_df_group['length'] / sum(final_df_group['length']), 1)\n",
    "final_df_group[['length_perc']]"
   ]
  },
  {
   "cell_type": "markdown",
   "id": "31919f60",
   "metadata": {},
   "source": [
    "## Post-process "
   ]
  },
  {
   "cell_type": "code",
   "execution_count": null,
   "id": "a13648a3",
   "metadata": {},
   "outputs": [],
   "source": [
    "final_df = final_df.set_geometry('geometry')"
   ]
  },
  {
   "cell_type": "markdown",
   "id": "ffd88a06",
   "metadata": {},
   "source": [
    "### Set final color and indication"
   ]
  },
  {
   "cell_type": "code",
   "execution_count": null,
   "id": "907bb619",
   "metadata": {},
   "outputs": [],
   "source": [
    "# Get dataframe with only valid lines\n",
    "final_df_select = final_df[final_df['final_color'].isin(['green', 'lightgreen', 'orange', \n",
    "                                                         'red', 'purple', 'black', 'grey'])]\n",
    "final_df_select = final_df_select.reset_index(drop=True)"
   ]
  },
  {
   "cell_type": "code",
   "execution_count": null,
   "id": "35d4495c",
   "metadata": {},
   "outputs": [],
   "source": [
    "# Recolor paths with unknown widths\n",
    "final_df_select['final_color'] = final_df_select['final_color'].replace(['black', 'purple'], 'grey')"
   ]
  },
  {
   "cell_type": "code",
   "execution_count": null,
   "id": "e24e0623",
   "metadata": {},
   "outputs": [],
   "source": [
    "# Add meter indication\n",
    "conditions = [\n",
    "    (final_df_select['final_color'] == 'red'),\n",
    "    (final_df_select['final_color'] == 'orange'),   \n",
    "    (final_df_select['final_color'] == 'lightgreen'),\n",
    "    (final_df_select['final_color'] == 'green'),  \n",
    "    (final_df_select['final_color'] == 'grey')\n",
    "]\n",
    "values_indication = ['<' + str(width_lower) + 'm', \n",
    "                     str(width_lower) + '-' + str(width_upper) + 'm', \n",
    "                     str(width_upper) + '-' + str(width_top) + 'm', \n",
    "                     '>' + str(width_top) + 'm',\n",
    "                    'unknown']\n",
    "final_df_select['obstacle_free_width'] = np.select(conditions, values_indication)"
   ]
  },
  {
   "cell_type": "code",
   "execution_count": null,
   "id": "f514ac90",
   "metadata": {},
   "outputs": [],
   "source": [
    "final_df_select.shape"
   ]
  },
  {
   "cell_type": "markdown",
   "id": "3c190fc9",
   "metadata": {},
   "source": [
    "### Get correct columns"
   ]
  },
  {
   "cell_type": "code",
   "execution_count": null,
   "id": "32851d3f",
   "metadata": {},
   "outputs": [],
   "source": [
    "# Select only relevant columns\n",
    "final_df_select = final_df_select[['geometry', 'final_color', 'obstacle_free_width', 'full_width', 'full_width_color']]"
   ]
  },
  {
   "cell_type": "code",
   "execution_count": null,
   "id": "72acc76c",
   "metadata": {},
   "outputs": [],
   "source": [
    "## Add object ID\n",
    "final_df_select['object_id'] = final_df_select.index"
   ]
  },
  {
   "cell_type": "markdown",
   "id": "4c9bd80b",
   "metadata": {},
   "source": [
    "### Fix incorrect labeling of obstacle-free width (> full width)"
   ]
  },
  {
   "cell_type": "code",
   "execution_count": null,
   "id": "cdcb0e6c",
   "metadata": {},
   "outputs": [],
   "source": [
    "final_df_select['obstacle_free_width'][(final_df_select['obstacle_free_width'] == '0.9-1.8m') & \n",
    "                                       (final_df_select['full_width'] == '<0.9m')] = '<0.9m'\n",
    "final_df_select['obstacle_free_width'][(final_df_select['obstacle_free_width'] == '1.8-2.9m') & \n",
    "                                       (final_df_select['full_width'] == '<0.9m')] = '<0.9m'\n",
    "final_df_select['obstacle_free_width'][(final_df_select['obstacle_free_width'] == '1.8-2.9m') & \n",
    "                                       (final_df_select['full_width'] == '0.9-1.8m')] = '0.9-1.8m'\n",
    "final_df_select['obstacle_free_width'][(final_df_select['obstacle_free_width'] == '>2.9m') & \n",
    "                                       (final_df_select['full_width'] == '<0.9m')] = '<0.9m'\n",
    "final_df_select['obstacle_free_width'][(final_df_select['obstacle_free_width'] == '>2.9m') & \n",
    "                                       (final_df_select['full_width'] == '0.9-1.8m')] = '0.9-1.8m'\n",
    "final_df_select['obstacle_free_width'][(final_df_select['obstacle_free_width'] == '>2.9m') & \n",
    "                                       (final_df_select['full_width'] == '1.8-2.9m')] = '1.8-2.9m'"
   ]
  },
  {
   "cell_type": "markdown",
   "id": "b5ba9b38",
   "metadata": {},
   "source": [
    "### Adjust crs"
   ]
  },
  {
   "cell_type": "code",
   "execution_count": null,
   "id": "65af7db5",
   "metadata": {},
   "outputs": [],
   "source": [
    "final_df_select = final_df_select.set_crs(CRS) "
   ]
  },
  {
   "cell_type": "code",
   "execution_count": null,
   "id": "b9e6c28b",
   "metadata": {},
   "outputs": [],
   "source": [
    "# maps.amsterdam.nl requested WGS84 (Lng-Lat) \n",
    "df_projected = final_df_select.to_crs('epsg:4326') "
   ]
  },
  {
   "cell_type": "code",
   "execution_count": null,
   "id": "be1a9eb4",
   "metadata": {},
   "outputs": [],
   "source": [
    "df_projected.tail(2)"
   ]
  },
  {
   "cell_type": "markdown",
   "id": "10991d1e",
   "metadata": {},
   "source": [
    "## Store final output"
   ]
  },
  {
   "cell_type": "code",
   "execution_count": null,
   "id": "a2d416f4",
   "metadata": {},
   "outputs": [],
   "source": [
    "with open(output_file, 'w') as f:\n",
    "    f.write(df_projected.to_json())"
   ]
  },
  {
   "cell_type": "markdown",
   "id": "bff0944b",
   "metadata": {},
   "source": [
    "## Visualizations"
   ]
  },
  {
   "cell_type": "code",
   "execution_count": null,
   "id": "19285add",
   "metadata": {},
   "outputs": [],
   "source": [
    "# Boundaries for plotting a subset of the data\n",
    "x_min = 122400 # old area east\n",
    "x_max = 123600\n",
    "y_min = 485400\n",
    "y_max = 486000"
   ]
  },
  {
   "cell_type": "code",
   "execution_count": null,
   "id": "b5cb6833",
   "metadata": {},
   "outputs": [],
   "source": [
    "fig, (ax1, ax2, ax3) = plt.subplots(1, 3, figsize=(10,5), dpi=2000, \n",
    "                                    frameon=False, constrained_layout=True)\n",
    "\n",
    "# Plot process step 1\n",
    "df_bgt.set_geometry('geometry').plot(ax=ax1, color=\"silver\")\n",
    "df_segments_wide.plot(ax=ax1, linewidth=0.1, color=df_segments_wide['min_width_color'])\n",
    "ax1.axis('off')\n",
    "\n",
    "# Plot process step 2\n",
    "df_bgt.set_geometry('geometry').plot(ax=ax2, color=\"silver\")\n",
    "final_df.plot(ax=ax2, linewidth=0.5, color=final_df.final_color)  \n",
    "ax2.axis('off')\n",
    "\n",
    "# Plot process step 3\n",
    "df_bgt.set_geometry('geometry').plot(ax=ax3, color=\"silver\")\n",
    "final_df_select.plot(ax=ax3, linewidth=0.5, color=final_df_select.final_color)  \n",
    "ax3.axis('off')\n",
    "\n",
    "# Create legends\n",
    "wide = mpatches.Patch(color='green', label='>' + str(width_top) + 'm')\n",
    "acc = mpatches.Patch(color='lightgreen', label= str(width_upper) + '-' + str(width_top) + 'm')\n",
    "narrow = mpatches.Patch(color='orange', label= str(width_lower) + '-' + str(width_upper) + 'm')\n",
    "notacc = mpatches.Patch(color='red', label='<' + str(width_lower) + 'm')\n",
    "rno = mpatches.Patch(color='darkred', label='no route possible')\n",
    "rnan = mpatches.Patch(color='purple', label='node too far')\n",
    "rl0 = mpatches.Patch(color='black', label='route length 0')\n",
    "rnpc = mpatches.Patch(color='grey', label='no pc coverage')\n",
    "runk = mpatches.Patch(color='grey', label='unknown')\n",
    "\n",
    "legend1 = plt.legend(handles=[wide,acc,narrow,notacc,rno,rnan,rl0,rnpc], \n",
    "           bbox_to_anchor=(-0.5, -0.5, 0.5, 0.5))\n",
    "plt.legend(handles=[wide,acc,narrow,notacc,runk], \n",
    "           bbox_to_anchor=(0.5, -0.5, 0.5, 0.5))\n",
    "plt.gca().add_artist(legend1)\n",
    "\n",
    "# Set plot limits\n",
    "#ax1.set_xlim([x_min, x_max])   \n",
    "#ax1.set_ylim([y_min, y_max])\n",
    "#ax2.set_xlim([x_min, x_max])\n",
    "#ax2.set_ylim([y_min, y_max])\n",
    "#ax3.set_xlim([x_min, x_max])\n",
    "#ax3.set_ylim([y_min, y_max])\n",
    "\n",
    "plt.savefig(output_image, bbox_inches='tight')\n",
    "plt.show()"
   ]
  },
  {
   "cell_type": "code",
   "execution_count": null,
   "id": "b848afb5",
   "metadata": {},
   "outputs": [],
   "source": [
    "fig, (ax1, ax2) = plt.subplots(1, 2, figsize=(10,5), dpi=2000, \n",
    "                                    frameon=False, constrained_layout=True)\n",
    "\n",
    "# Plot process step 3\n",
    "df_bgt.set_geometry('geometry').plot(ax=ax1, color=\"silver\")\n",
    "final_df_select.plot(ax=ax1, linewidth=0.5, color=final_df_select.final_color)  \n",
    "ax1.axis('off')\n",
    "\n",
    "# Plot process step 3\n",
    "df_bgt.set_geometry('geometry').plot(ax=ax2, color=\"silver\")\n",
    "final_df_select.plot(ax=ax2, linewidth=0.5, color=final_df_select.full_width_color)  \n",
    "ax2.axis('off')\n",
    "\n",
    "# Create legends\n",
    "wide = mpatches.Patch(color='green', label='>' + str(width_top) + 'm')\n",
    "acc = mpatches.Patch(color='lightgreen', label= str(width_upper) + '-' + str(width_top) + 'm')\n",
    "narrow = mpatches.Patch(color='orange', label= str(width_lower) + '-' + str(width_upper) + 'm')\n",
    "notacc = mpatches.Patch(color='red', label='<' + str(width_lower) + 'm')\n",
    "runk = mpatches.Patch(color='grey', label='unknown')\n",
    "\n",
    "legend1 = plt.legend(handles=[wide,acc,narrow,notacc,runk], \n",
    "           bbox_to_anchor=(-0.5, -0.5, 0.5, 0.5), title = \"obstacle free width\")\n",
    "plt.legend(handles=[wide,acc,narrow,notacc], \n",
    "           bbox_to_anchor=(0.5, -0.5, 0.5, 0.5), title = \"full width\")\n",
    "plt.gca().add_artist(legend1)\n",
    "\n",
    "# Set plot limits\n",
    "#ax1.set_xlim([x_min, x_max])   \n",
    "#ax1.set_ylim([y_min, y_max])\n",
    "#ax2.set_xlim([x_min, x_max])   \n",
    "#ax2.set_ylim([y_min, y_max])\n",
    "\n",
    "plt.savefig(output_image_no, bbox_inches='tight')\n",
    "plt.show()"
   ]
  }
 ],
 "metadata": {
  "kernelspec": {
   "display_name": "sidewalk",
   "language": "python",
   "name": "sidewalk"
  },
  "language_info": {
   "codemirror_mode": {
    "name": "ipython",
    "version": 3
   },
   "file_extension": ".py",
   "mimetype": "text/x-python",
   "name": "python",
   "nbconvert_exporter": "python",
   "pygments_lexer": "ipython3",
   "version": "3.10.3"
  }
 },
 "nbformat": 4,
 "nbformat_minor": 5
}
