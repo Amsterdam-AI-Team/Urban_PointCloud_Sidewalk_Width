{
 "cells": [
  {
   "cell_type": "markdown",
   "id": "5f034096",
   "metadata": {},
   "source": [
    "# Calculate sidewalk width\n",
    "Using centerline extraction (also called skeleton line, axis line, or medial line extraction)"
   ]
  },
  {
   "cell_type": "code",
   "execution_count": 1,
   "id": "071158b6",
   "metadata": {},
   "outputs": [
    {
     "name": "stderr",
     "output_type": "stream",
     "text": [
      "<frozen importlib._bootstrap>:219: RuntimeWarning: scipy._lib.messagestream.MessageStream size changed, may indicate binary incompatibility. Expected 56 from C header, got 64 from PyObject\n"
     ]
    }
   ],
   "source": [
    "# Add project src to path.\n",
    "import set_path\n",
    "\n",
    "import os\n",
    "\n",
    "import numpy as np\n",
    "import pandas as pd\n",
    "import matplotlib.pyplot as plt\n",
    "\n",
    "from shapely.ops import linemerge\n",
    "from shapely.geometry import box\n",
    "\n",
    "import geopandas as gpd\n",
    "from centerline.geometry import Centerline\n",
    "\n",
    "from tqdm.notebook import tqdm_notebook\n",
    "tqdm_notebook.pandas()\n",
    "\n",
    "import upcp.utils.bgt_utils as bgt_utils\n",
    "import upcp.utils.las_utils as las_utils\n",
    "\n",
    "import upc_sw.poly_utils as poly_utils"
   ]
  },
  {
   "cell_type": "markdown",
   "id": "9a555a6e",
   "metadata": {},
   "source": [
    "## Read the sidewalk and obstacle data"
   ]
  },
  {
   "cell_type": "code",
   "execution_count": 2,
   "id": "dd1aefc7",
   "metadata": {},
   "outputs": [],
   "source": [
    "# Read sidewalk with obstacle data\n",
    "df = gpd.read_file('../datasets/obstacles/sidewalks_with_obstacles.shp')\n",
    "\n",
    "# A CRS tells Python how those coordinates relate to places on the Earth. Rijksdriehoek = epsg:28992\n",
    "crs = 'epsg:28992' #local crs"
   ]
  },
  {
   "cell_type": "markdown",
   "id": "e3ed52b7",
   "metadata": {},
   "source": [
    "## Merge the sidewalk polygons"
   ]
  },
  {
   "cell_type": "code",
   "execution_count": 3,
   "id": "242c9874",
   "metadata": {},
   "outputs": [],
   "source": [
    "df_dissolved = gpd.GeoDataFrame(geometry=gpd.GeoSeries([geom for geom in df.unary_union.geoms]))\n",
    "df_exploded = gpd.GeoDataFrame(df_dissolved.geometry.explode(index_parts=True))"
   ]
  },
  {
   "cell_type": "code",
   "execution_count": 4,
   "id": "b3056b3b",
   "metadata": {},
   "outputs": [],
   "source": [
    "# Ignore sidewalk polygons that are too small\n",
    "min_area_size = 5\n",
    "df_exploded = df_exploded[df_exploded.geometry.area > min_area_size]"
   ]
  },
  {
   "cell_type": "markdown",
   "id": "972a8ee2",
   "metadata": {},
   "source": [
    "## Calculate the centerlines"
   ]
  },
  {
   "cell_type": "code",
   "execution_count": 5,
   "id": "4984add4",
   "metadata": {},
   "outputs": [
    {
     "data": {
      "application/vnd.jupyter.widget-view+json": {
       "model_id": "adc06d5214e142249a736c4216f5d379",
       "version_major": 2,
       "version_minor": 0
      },
      "text/plain": [
       "  0%|          | 0/6 [00:00<?, ?it/s]"
      ]
     },
     "metadata": {},
     "output_type": "display_data"
    }
   ],
   "source": [
    "# if you get an error here, make sure you use tqdm>=4.61.2\n",
    "df_exploded['centerlines'] = df_exploded.progress_apply(lambda row: Centerline(row.geometry), axis=1)\n",
    "df_exploded = df_exploded.set_geometry('centerlines')"
   ]
  },
  {
   "cell_type": "markdown",
   "id": "f8176ac6",
   "metadata": {},
   "source": [
    "## Remove Short Line Ends"
   ]
  },
  {
   "cell_type": "code",
   "execution_count": 6,
   "id": "69835f02",
   "metadata": {},
   "outputs": [
    {
     "data": {
      "application/vnd.jupyter.widget-view+json": {
       "model_id": "50c73177aa2b47e3b1d1a223860688dc",
       "version_major": 2,
       "version_minor": 0
      },
      "text/plain": [
       "  0%|          | 0/6 [00:00<?, ?it/s]"
      ]
     },
     "metadata": {},
     "output_type": "display_data"
    }
   ],
   "source": [
    "df_exploded['centerlines'] = df_exploded['centerlines'].progress_apply(linemerge)"
   ]
  },
  {
   "cell_type": "code",
   "execution_count": 7,
   "id": "31416fd4",
   "metadata": {},
   "outputs": [
    {
     "data": {
      "application/vnd.jupyter.widget-view+json": {
       "model_id": "b20e83a3c8de4733be7c434214cd7693",
       "version_major": 2,
       "version_minor": 0
      },
      "text/plain": [
       "  0%|          | 0/6 [00:00<?, ?it/s]"
      ]
     },
     "metadata": {},
     "output_type": "display_data"
    }
   ],
   "source": [
    "df_exploded['centerlines'] = df_exploded['centerlines'].progress_apply(poly_utils.remove_short_lines)"
   ]
  },
  {
   "cell_type": "markdown",
   "id": "79e94fbb",
   "metadata": {},
   "source": [
    "## Get Sidewalk Widths"
   ]
  },
  {
   "cell_type": "code",
   "execution_count": 8,
   "id": "02391e30",
   "metadata": {},
   "outputs": [
    {
     "data": {
      "application/vnd.jupyter.widget-view+json": {
       "model_id": "7eaf066937fe45e88389c204477de359",
       "version_major": 2,
       "version_minor": 0
      },
      "text/plain": [
       "  0%|          | 0/6 [00:00<?, ?it/s]"
      ]
     },
     "metadata": {},
     "output_type": "display_data"
    }
   ],
   "source": [
    "df_exploded['centerlines'] = df_exploded['centerlines'].progress_apply(lambda row: row.simplify(0.2, preserve_topology=True))"
   ]
  },
  {
   "cell_type": "code",
   "execution_count": 9,
   "id": "51e35b8c",
   "metadata": {},
   "outputs": [
    {
     "data": {
      "application/vnd.jupyter.widget-view+json": {
       "model_id": "3253f44a2463456887232c93cafaaa5d",
       "version_major": 2,
       "version_minor": 0
      },
      "text/plain": [
       "  0%|          | 0/6 [00:00<?, ?it/s]"
      ]
     },
     "metadata": {},
     "output_type": "display_data"
    }
   ],
   "source": [
    "df_exploded['segments'] = df_exploded['centerlines'].progress_apply(poly_utils.get_segments)"
   ]
  },
  {
   "cell_type": "code",
   "execution_count": 10,
   "id": "e6ddc9ac",
   "metadata": {},
   "outputs": [
    {
     "data": {
      "application/vnd.jupyter.widget-view+json": {
       "model_id": "cf046a8496234a1882e99404bd1e896f",
       "version_major": 2,
       "version_minor": 0
      },
      "text/plain": [
       "  0%|          | 0/6 [00:00<?, ?it/s]"
      ]
     },
     "metadata": {},
     "output_type": "display_data"
    }
   ],
   "source": [
    "df_exploded[['avg_distances', 'min_distances']] = df_exploded.progress_apply(lambda row: poly_utils.get_avg_distances(row), axis=1)"
   ]
  },
  {
   "cell_type": "code",
   "execution_count": 11,
   "id": "fcc422b7",
   "metadata": {},
   "outputs": [],
   "source": [
    "data = {'geometry': [], 'avg_width': [], 'min_width': []}\n",
    "\n",
    "for i, row in df_exploded.iterrows():\n",
    "    \n",
    "    for segment in row.segments:\n",
    "        data['geometry'].append(segment)\n",
    "    \n",
    "    for avg_distance in row.avg_distances:\n",
    "        data['avg_width'].append(avg_distance * 2)\n",
    "    \n",
    "    for min_distance in row.min_distances:\n",
    "        data['min_width'].append(min_distance * 2)\n",
    "        \n",
    "df_segments = pd.DataFrame(data)\n",
    "df_segments = gpd.GeoDataFrame(df_segments, crs=crs, geometry='geometry')"
   ]
  },
  {
   "cell_type": "code",
   "execution_count": 12,
   "id": "eca885ae",
   "metadata": {},
   "outputs": [],
   "source": [
    "# Width in meters\n",
    "df_segments['avg_width'] = round(df_segments['avg_width'] * 10) / 10\n",
    "df_segments['min_width'] = round(df_segments['min_width'] * 10) / 10"
   ]
  },
  {
   "cell_type": "markdown",
   "id": "b12dd85c",
   "metadata": {},
   "source": [
    "## Check coverage of point cloud data on sidewalks"
   ]
  },
  {
   "cell_type": "code",
   "execution_count": 13,
   "id": "ced56e4a",
   "metadata": {},
   "outputs": [],
   "source": [
    "pc_data_folder = '../datasets/pointclouds/'\n",
    "\n",
    "all_tiles = las_utils.get_tilecodes_from_folder(f'{pc_data_folder}m3c2/')"
   ]
  },
  {
   "cell_type": "code",
   "execution_count": 14,
   "id": "a78539e8",
   "metadata": {},
   "outputs": [],
   "source": [
    "def get_tile_dimensions(tilecode):\n",
    "    ((x_min, y_max), (x_max, y_min)) = las_utils.get_bbox_from_tile_code(tilecode, padding=0)\n",
    "    tile_polygon = box(*[x_min, y_min, x_max, y_max], ccw=True)\n",
    "    return tile_polygon\n",
    "\n",
    "tile_dimensions = [get_tile_dimensions(tile) for tile in all_tiles]"
   ]
  },
  {
   "cell_type": "code",
   "execution_count": 15,
   "id": "c3130ca7",
   "metadata": {},
   "outputs": [],
   "source": [
    "df_tile_dimensions = gpd.GeoDataFrame(crs=crs, geometry=tile_dimensions)\n",
    "\n",
    "# When True, take the union of the polygons\n",
    "if len(tile_dimensions) > 1:\n",
    "    df_tile_dimensions = gpd.GeoDataFrame(geometry=gpd.GeoSeries([geom for geom in df_tile_dimensions.unary_union.geoms]))\n",
    "    df_tile_dimensions = gpd.GeoDataFrame(df_tile_dimensions.geometry.explode(index_parts=True))"
   ]
  },
  {
   "cell_type": "code",
   "execution_count": 16,
   "id": "f8780221",
   "metadata": {},
   "outputs": [],
   "source": [
    "# Check if line segment intersects with point cloud tile\n",
    "df_segments['pc_coverage'] = df_segments.apply(lambda row: df_tile_dimensions.intersects(row.geometry).any(), axis=1)"
   ]
  },
  {
   "cell_type": "markdown",
   "id": "b59e0994",
   "metadata": {},
   "source": [
    "## Store output"
   ]
  },
  {
   "cell_type": "code",
   "execution_count": 17,
   "id": "694e3558",
   "metadata": {},
   "outputs": [],
   "source": [
    "df_projected = df_segments.to_crs('EPSG:4326')\n",
    "with open('../datasets/output/intermediate_output_segments.geojson', 'w') as f:\n",
    "    f.write(df_projected.to_json())"
   ]
  }
 ],
 "metadata": {
  "kernelspec": {
   "display_name": "Python 3 (ipykernel)",
   "language": "python",
   "name": "python3"
  },
  "language_info": {
   "codemirror_mode": {
    "name": "ipython",
    "version": 3
   },
   "file_extension": ".py",
   "mimetype": "text/x-python",
   "name": "python",
   "nbconvert_exporter": "python",
   "pygments_lexer": "ipython3",
   "version": "3.8.12"
  }
 },
 "nbformat": 4,
 "nbformat_minor": 5
}
