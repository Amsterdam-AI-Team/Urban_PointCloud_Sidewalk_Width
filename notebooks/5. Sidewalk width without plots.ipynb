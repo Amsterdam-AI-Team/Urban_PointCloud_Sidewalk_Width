{
 "cells": [
  {
   "cell_type": "markdown",
   "id": "5f034096",
   "metadata": {},
   "source": [
    "# Calculate sidewalk width\n",
    "Using centerline extraction (also called skeleton line, axis line, or medial line extraction)"
   ]
  },
  {
   "cell_type": "code",
   "execution_count": null,
   "id": "071158b6",
   "metadata": {},
   "outputs": [],
   "source": [
    "# Add project src to path.\n",
    "import set_path\n",
    "\n",
    "import os\n",
    "\n",
    "import numpy as np\n",
    "import pandas as pd\n",
    "import matplotlib.pyplot as plt\n",
    "import pathlib\n",
    "\n",
    "from shapely.ops import linemerge\n",
    "from shapely.geometry import box\n",
    "\n",
    "import geopandas as gpd\n",
    "from centerline.geometry import Centerline\n",
    "\n",
    "from tqdm.notebook import tqdm_notebook\n",
    "tqdm_notebook.pandas()\n",
    "\n",
    "import upcp.utils.bgt_utils as bgt_utils\n",
    "import upcp.utils.las_utils as las_utils\n",
    "\n",
    "import upc_sw.poly_utils as poly_utils"
   ]
  },
  {
   "cell_type": "code",
   "execution_count": null,
   "id": "dd1aefc7",
   "metadata": {},
   "outputs": [],
   "source": [
    "# Paths\n",
    "pc_data_folder = '../datasets/pointclouds/'\n",
    "out_folder = '../datasets/output/'\n",
    "\n",
    "# A CRS tells Python how those coordinates relate to places on the Earth. Rijksdriehoek = epsg:28992\n",
    "crs = 'epsg:28992' #local crs\n",
    "\n",
    "# Shapely tolerance argument\n",
    "simplify_tolerance = 0.2\n",
    "\n",
    "# Min area size of a sidewalk polygon in meters\n",
    "min_area_size = 5\n",
    "\n",
    "# Max linestring length in meters\n",
    "max_line_length = 5"
   ]
  },
  {
   "cell_type": "markdown",
   "id": "9a555a6e",
   "metadata": {},
   "source": [
    "## Read the sidewalk and obstacle data"
   ]
  },
  {
   "cell_type": "code",
   "execution_count": null,
   "id": "2f981e72",
   "metadata": {},
   "outputs": [],
   "source": [
    "# Read sidewalk with obstacle data\n",
    "df = gpd.read_file('../datasets/obstacles/sidewalks_with_obstacles.shp')"
   ]
  },
  {
   "cell_type": "markdown",
   "id": "e3ed52b7",
   "metadata": {},
   "source": [
    "## Merge the sidewalk polygons"
   ]
  },
  {
   "cell_type": "code",
   "execution_count": null,
   "id": "242c9874",
   "metadata": {},
   "outputs": [],
   "source": [
    "df = gpd.GeoDataFrame(geometry=gpd.GeoSeries([geom for geom in df.unary_union.geoms]))\n",
    "df = gpd.GeoDataFrame(df.geometry.explode(index_parts=True))"
   ]
  },
  {
   "cell_type": "code",
   "execution_count": null,
   "id": "b3056b3b",
   "metadata": {},
   "outputs": [],
   "source": [
    "# Ignore sidewalk polygons that are too small\n",
    "df = df[df.geometry.area > min_area_size]"
   ]
  },
  {
   "cell_type": "markdown",
   "id": "972a8ee2",
   "metadata": {},
   "source": [
    "## Calculate the centerlines"
   ]
  },
  {
   "cell_type": "code",
   "execution_count": null,
   "id": "1bad3ee9",
   "metadata": {},
   "outputs": [],
   "source": [
    "def get_centerlines(row_geometry):\n",
    "    ''' Save a NaN value when centerline calculation fails. '''\n",
    "    try:\n",
    "        x = Centerline(row_geometry)\n",
    "    except Exception as e:\n",
    "        print(e) # TODO also print rows.name[0] ??\n",
    "        x = np.nan\n",
    "    return x"
   ]
  },
  {
   "cell_type": "code",
   "execution_count": null,
   "id": "4984add4",
   "metadata": {},
   "outputs": [],
   "source": [
    "# if you get an error here, make sure you use tqdm>=4.61.2\n",
    "df['centerlines'] = df.progress_apply(lambda row: get_centerlines(row.geometry), axis=1)\n",
    "df = df.set_geometry('centerlines')"
   ]
  },
  {
   "cell_type": "markdown",
   "id": "f8176ac6",
   "metadata": {},
   "source": [
    "## Remove short line ends and dead-ends"
   ]
  },
  {
   "cell_type": "code",
   "execution_count": null,
   "id": "69835f02",
   "metadata": {},
   "outputs": [],
   "source": [
    "df['centerlines'] = df['centerlines'].progress_apply(linemerge)"
   ]
  },
  {
   "cell_type": "code",
   "execution_count": null,
   "id": "31416fd4",
   "metadata": {},
   "outputs": [],
   "source": [
    "df['centerlines'] = df['centerlines'].progress_apply(lambda x: poly_utils.remove_short_lines(x, max_line_length))"
   ]
  },
  {
   "cell_type": "markdown",
   "id": "79e94fbb",
   "metadata": {},
   "source": [
    "## Get sidewalk widths"
   ]
  },
  {
   "cell_type": "code",
   "execution_count": null,
   "id": "02391e30",
   "metadata": {},
   "outputs": [],
   "source": [
    "df['centerlines'] = df['centerlines'].progress_apply(lambda row: row.simplify(simplify_tolerance, preserve_topology=True))"
   ]
  },
  {
   "cell_type": "code",
   "execution_count": null,
   "id": "51e35b8c",
   "metadata": {},
   "outputs": [],
   "source": [
    "df['segments'] = df['centerlines'].progress_apply(poly_utils.get_segments)"
   ]
  },
  {
   "cell_type": "code",
   "execution_count": null,
   "id": "e6ddc9ac",
   "metadata": {},
   "outputs": [],
   "source": [
    "df[['avg_distances', 'min_distances']] = df.progress_apply(lambda row: poly_utils.get_avg_distances(row), axis=1)"
   ]
  },
  {
   "cell_type": "code",
   "execution_count": null,
   "id": "fcc422b7",
   "metadata": {},
   "outputs": [],
   "source": [
    "data = {'geometry': [], 'avg_width': [], 'min_width': []}\n",
    "\n",
    "for i, row in df.iterrows():\n",
    "    \n",
    "    for segment in row.segments:\n",
    "        data['geometry'].append(segment)\n",
    "    \n",
    "    for avg_distance in row.avg_distances:\n",
    "        data['avg_width'].append(avg_distance * 2)\n",
    "    \n",
    "    for min_distance in row.min_distances:\n",
    "        data['min_width'].append(min_distance * 2)\n",
    "        \n",
    "df = pd.DataFrame(data)\n",
    "df = gpd.GeoDataFrame(df, crs=crs, geometry='geometry')"
   ]
  },
  {
   "cell_type": "code",
   "execution_count": null,
   "id": "eca885ae",
   "metadata": {},
   "outputs": [],
   "source": [
    "# Width in meters\n",
    "df['avg_width'] = np.around(df['avg_width'], decimals=1)\n",
    "df['min_width'] = np.around(df['min_width'], decimals=1)"
   ]
  },
  {
   "cell_type": "markdown",
   "id": "b12dd85c",
   "metadata": {},
   "source": [
    "## Check coverage of point cloud data on sidewalks"
   ]
  },
  {
   "cell_type": "code",
   "execution_count": null,
   "id": "ced56e4a",
   "metadata": {},
   "outputs": [],
   "source": [
    "all_tiles = las_utils.get_tilecodes_from_folder(f'{pc_data_folder}m3c2/')"
   ]
  },
  {
   "cell_type": "code",
   "execution_count": null,
   "id": "c3130ca7",
   "metadata": {},
   "outputs": [],
   "source": [
    "tile_dimensions = [poly_utils.tilecode_to_poly(tile) for tile in all_tiles]\n",
    "df_tile_dimensions = gpd.GeoDataFrame(crs=crs, geometry=tile_dimensions)\n",
    "\n",
    "# When True, take the union of the polygons\n",
    "if len(tile_dimensions) > 1:\n",
    "    df_tile_dimensions = gpd.GeoDataFrame(geometry=gpd.GeoSeries([geom for geom in df_tile_dimensions.unary_union.geoms]))\n",
    "    df_tile_dimensions = gpd.GeoDataFrame(df_tile_dimensions.geometry.explode(index_parts=True))"
   ]
  },
  {
   "cell_type": "code",
   "execution_count": null,
   "id": "f8780221",
   "metadata": {},
   "outputs": [],
   "source": [
    "# Check if line segment intersects with point cloud tile\n",
    "df['pc_coverage'] = df.apply(lambda row: df_tile_dimensions.intersects(row.geometry).any(), axis=1)"
   ]
  },
  {
   "cell_type": "markdown",
   "id": "b59e0994",
   "metadata": {},
   "source": [
    "## Store output"
   ]
  },
  {
   "cell_type": "code",
   "execution_count": null,
   "id": "694e3558",
   "metadata": {},
   "outputs": [],
   "source": [
    "df = df.to_crs('EPSG:4326')\n",
    "\n",
    "pathlib.Path(out_folder).mkdir(parents=True, exist_ok=True)\n",
    "with open(f'{output_folder}intermediate_output_segments.geojson', 'w') as f:\n",
    "    f.write(df.to_json())"
   ]
  }
 ],
 "metadata": {
  "kernelspec": {
   "display_name": "Python 3 (ipykernel)",
   "language": "python",
   "name": "python3"
  },
  "language_info": {
   "codemirror_mode": {
    "name": "ipython",
    "version": 3
   },
   "file_extension": ".py",
   "mimetype": "text/x-python",
   "name": "python",
   "nbconvert_exporter": "python",
   "pygments_lexer": "ipython3",
   "version": "3.8.12"
  }
 },
 "nbformat": 4,
 "nbformat_minor": 5
}
