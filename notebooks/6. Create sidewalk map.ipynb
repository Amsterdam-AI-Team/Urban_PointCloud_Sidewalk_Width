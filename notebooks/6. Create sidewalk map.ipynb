{
  "cells": [
    {
      "cell_type": "markdown",
      "source": [
        "# Generate final output \n",
        "A postprocessing step that calculates relevant variables and produces the sidewalk map."
      ],
      "metadata": {},
      "id": "5f034096"
    },
    {
      "cell_type": "code",
      "source": [
        "# Select where to run notebook: \"azure\" or \"local\"\n",
        "my_run = \"azure\""
      ],
      "outputs": [],
      "execution_count": null,
      "metadata": {
        "jupyter": {
          "source_hidden": false,
          "outputs_hidden": false
        },
        "nteract": {
          "transient": {
            "deleting": false
          }
        }
      },
      "id": "99175144-9be5-4aaa-93ff-cbaafda2181d"
    },
    {
      "cell_type": "code",
      "source": [
        "import set_path\n",
        "\n",
        "import numpy as np\n",
        "import pandas as pd\n",
        "\n",
        "import shapely.geometry as sg\n",
        "import shapely.ops as so\n",
        "import geopandas as gpd\n",
        "from geopandas import GeoDataFrame\n",
        "from centerline.geometry import Centerline\n",
        "\n",
        "import networkx as nx\n",
        "import momepy\n",
        "\n",
        "from tqdm.notebook import tqdm_notebook\n",
        "tqdm_notebook.pandas()\n",
        "\n",
        "import upc_sw.poly_utils as poly_utils\n",
        "\n",
        "import matplotlib.pyplot as plt\n",
        "import matplotlib.patches as mpatches\n",
        "\n",
        "import pickle\n",
        "\n",
        "if my_run == \"azure\":\n",
        "    import config_azure as cf\n",
        "elif my_run == \"local\":\n",
        "    import config as cf"
      ],
      "outputs": [],
      "execution_count": null,
      "metadata": {},
      "id": "071158b6"
    },
    {
      "cell_type": "code",
      "source": [
        "import warnings  # temporary, to supress deprecationwarnings from shapely\n",
        "warnings.filterwarnings('ignore')"
      ],
      "outputs": [],
      "execution_count": null,
      "metadata": {},
      "id": "da19f85c"
    },
    {
      "cell_type": "markdown",
      "source": [
        "## Settings"
      ],
      "metadata": {},
      "id": "5a2efe93"
    },
    {
      "cell_type": "markdown",
      "source": [
        "## Import BGT data"
      ],
      "metadata": {},
      "id": "50c6b9b1"
    },
    {
      "cell_type": "code",
      "source": [
        "# Read BGT data\n",
        "df_bgt = gpd.read_file(cf.bgt_road_file)\n",
        "df_bgt = df_bgt.set_crs(cf.CRS, allow_override=True)\n",
        "df_bgt = df_bgt.drop_duplicates()\n",
        "\n",
        "# Remove obstacles (small interiors)\n",
        "df_bgt['geometry_no_holes'] = df_bgt.progress_apply(\n",
        "   lambda row: poly_utils.remove_interiors(row.geometry, cf.min_interior_size), axis=1)\n",
        "df_bgt = df_bgt.set_geometry('geometry_no_holes')\n",
        "\n",
        "# Merge sidewalk polygons (optional, but should be in line with notebook 5 'merge_sidewalks' parameter)\n",
        "df_bgt = GeoDataFrame(geometry=gpd.GeoSeries(df_bgt['geometry_no_holes'].unary_union))\n",
        "df_bgt = gpd.GeoDataFrame(df_bgt.geometry.explode()) \n",
        "\n",
        "# Ignore sidewalk polygons that are too small\n",
        "df_bgt['area'] = df_bgt['geometry'].area\n",
        "df_bgt = df_bgt[df_bgt.area > cf.min_area_size]\n",
        "\n",
        "# Calculate centerlines\n",
        "df_bgt['centerlines'] = df_bgt.progress_apply(\n",
        "   lambda row: Centerline(row.geometry, interpolation_distance=0.5), axis=1)\n",
        "df_bgt = df_bgt.set_geometry('centerlines')\n",
        "\n",
        "df_bgt['centerlines'] = df_bgt['centerlines'].progress_apply(so.linemerge)\n",
        "df_bgt['centerlines'] = df_bgt['centerlines'].progress_apply(poly_utils.remove_short_lines)"
      ],
      "outputs": [],
      "execution_count": null,
      "metadata": {},
      "id": "7d916cc8"
    },
    {
      "cell_type": "markdown",
      "source": [
        "## Create relevant variable - full width"
      ],
      "metadata": {},
      "id": "65658aaf"
    },
    {
      "cell_type": "code",
      "source": [
        "# Add sidewalk ID\n",
        "df_bgt['sidewalk_id'] = range(0, len(df_bgt))"
      ],
      "outputs": [],
      "execution_count": null,
      "metadata": {},
      "id": "821a1c16"
    },
    {
      "cell_type": "code",
      "source": [
        "# Get each centerline in separate row\n",
        "df_bgt_exp = df_bgt.explode(ignore_index=True)"
      ],
      "outputs": [],
      "execution_count": null,
      "metadata": {},
      "id": "21b19cf9"
    },
    {
      "cell_type": "code",
      "source": [
        "# Remove few missing centerlines\n",
        "df_bgt_exp = df_bgt_exp.dropna()\n",
        "df_bgt_exp = df_bgt_exp.reset_index()"
      ],
      "outputs": [],
      "execution_count": null,
      "metadata": {},
      "id": "521e2368"
    },
    {
      "cell_type": "markdown",
      "source": [
        "### Cut lines that are too long"
      ],
      "metadata": {},
      "id": "6e464e84"
    },
    {
      "cell_type": "code",
      "source": [
        "# Remove geometry column and add length column\n",
        "df_bgt_cut = df_bgt_exp.drop('geometry', axis=1)\n",
        "df_bgt_cut['length'] = df_bgt_cut['centerlines'].length"
      ],
      "outputs": [],
      "execution_count": null,
      "metadata": {},
      "id": "1fce6de3"
    },
    {
      "cell_type": "code",
      "source": [
        "# Cut linestrings longer than a max length\n",
        "df_bgt_cut = poly_utils.shorten_linestrings(df_bgt_cut, cf.max_ls_length)"
      ],
      "outputs": [],
      "execution_count": null,
      "metadata": {},
      "id": "8f704b19"
    },
    {
      "cell_type": "code",
      "source": [
        "# Add shortened linestrings to previous dataframe\n",
        "df_bgt_exp = df_bgt_exp.drop(['centerlines'], axis=1).merge(df_bgt_cut.drop(['area', 'sidewalk_id'], axis=1), \n",
        "                                                            how = 'outer', on = 'index')"
      ],
      "outputs": [],
      "execution_count": null,
      "metadata": {},
      "id": "17c542c3"
    },
    {
      "cell_type": "code",
      "source": [
        "del df_bgt_cut"
      ],
      "outputs": [],
      "execution_count": null,
      "metadata": {},
      "id": "7c23acab"
    },
    {
      "cell_type": "markdown",
      "source": [
        "### Get width and color"
      ],
      "metadata": {},
      "id": "70725eb3"
    },
    {
      "cell_type": "code",
      "source": [
        "df_bgt_exp[['avg_width', 'min_width']] = df_bgt_exp.progress_apply(\n",
        "    lambda row: poly_utils.get_avg_width_cl(row.geometry, row.centerlines, \n",
        "                                            cf.width_resolution, cf.width_precision), axis=1)"
      ],
      "outputs": [],
      "execution_count": null,
      "metadata": {},
      "id": "4fdea8e0"
    },
    {
      "cell_type": "code",
      "source": [
        "conditions = [\n",
        "    (df_bgt_exp['min_width'] < cf.width_1),\n",
        "    (df_bgt_exp['min_width'] >= cf.width_1) & (df_bgt_exp['min_width'] < cf.width_2),\n",
        "    (df_bgt_exp['min_width'] >= cf.width_2) & (df_bgt_exp['min_width'] < cf.width_3),\n",
        "    (df_bgt_exp['min_width'] >= cf.width_3) & (df_bgt_exp['min_width'] < cf.width_4),\n",
        "    (df_bgt_exp['min_width'] >= cf.width_4) & (df_bgt_exp['min_width'] < cf.width_5),\n",
        "    (df_bgt_exp['min_width'] >= cf.width_5) & (df_bgt_exp['min_width'] < cf.width_6),\n",
        "    (df_bgt_exp['min_width'] >= cf.width_6)\n",
        "]\n",
        "\n",
        "values_color = ['darkred', 'red', 'orange', 'yellow', 'greenyellow', 'limegreen', 'green']\n",
        "values_indication = ['<' + str(cf.width_1) + 'm', \n",
        "                     str(cf.width_1) + '-' + str(cf.width_2) + 'm', \n",
        "                     str(cf.width_2) + '-' + str(cf.width_3) + 'm', \n",
        "                     str(cf.width_3) + '-' + str(cf.width_5) + 'm', \n",
        "                     str(cf.width_4) + '-' + str(cf.width_5) + 'm', \n",
        "                     str(cf.width_5) + '-' + str(cf.width_6) + 'm', \n",
        "                     '>' + str(cf.width_6) + 'm']"
      ],
      "outputs": [],
      "execution_count": null,
      "metadata": {},
      "id": "0ae7a34a"
    },
    {
      "cell_type": "code",
      "source": [
        "df_bgt_exp['full_width_color'] = np.select(conditions, values_color)\n",
        "df_bgt_exp['full_width'] = np.select(conditions, values_indication)\n",
        "df_bgt_exp['full_width'].value_counts()"
      ],
      "outputs": [],
      "execution_count": null,
      "metadata": {},
      "id": "b148d1fb"
    },
    {
      "cell_type": "markdown",
      "source": [
        "### Remove too narrow paths and short-ends"
      ],
      "metadata": {},
      "id": "3f55cc94"
    },
    {
      "cell_type": "code",
      "source": [
        "# Apply minimal path width on BGT centerlines\n",
        "print(df_bgt_exp.shape)\n",
        "df_bgt_exp = df_bgt_exp[df_bgt_exp['min_width'] > cf.min_path_width].reset_index(drop=True)\n",
        "print(df_bgt_exp.shape)"
      ],
      "outputs": [],
      "execution_count": null,
      "metadata": {},
      "id": "761ed7e8"
    },
    {
      "cell_type": "code",
      "source": [
        "# Remove short lines\n",
        "df_bgt_exp = df_bgt_exp.rename(columns={'geometry':'geometry_sidewalks', 'centerlines':'geometry'}) \n",
        "mls_per_id = poly_utils.create_mls_per_sidewalk(df_bgt_exp, crs=cf.CRS) \n",
        "mls_per_id['geometry'] = mls_per_id['geometry'].progress_apply(\n",
        "    lambda x: poly_utils.remove_short_lines(x, cf.min_se_length_fw))"
      ],
      "outputs": [],
      "execution_count": null,
      "metadata": {},
      "id": "a0f232f8"
    },
    {
      "cell_type": "code",
      "source": [
        "# Apply selection of longer lines to original dataframe\n",
        "long_segments_df = gpd.GeoDataFrame(mls_per_id.geometry.explode())\n",
        "df_bgt_exp = df_bgt_exp.merge(long_segments_df, how='inner')\n",
        "df_bgt_exp.shape"
      ],
      "outputs": [],
      "execution_count": null,
      "metadata": {},
      "id": "bd88bd59"
    },
    {
      "cell_type": "markdown",
      "source": [
        "## Import segments data"
      ],
      "metadata": {},
      "id": "9a555a6e"
    },
    {
      "cell_type": "code",
      "source": [
        "# Read lines with widths (calculated in notebook 5)\n",
        "df_segments = gpd.read_file(cf.segments_file, crs=cf.CRS)"
      ],
      "outputs": [],
      "execution_count": null,
      "metadata": {},
      "id": "2a69b43f"
    },
    {
      "cell_type": "markdown",
      "source": [
        "## Create relevant variable - obstacle-free width"
      ],
      "metadata": {},
      "id": "1a75dd16"
    },
    {
      "cell_type": "markdown",
      "source": [
        "### Remove too narrow paths and short-ends"
      ],
      "metadata": {},
      "id": "339d6256"
    },
    {
      "cell_type": "code",
      "source": [
        "# Apply minimal path width\n",
        "df_segments_wide = df_segments[df_segments['min_width'] > cf.min_path_width].reset_index(drop=True)\n",
        "print(df_segments.shape)\n",
        "print(df_segments_wide.shape)"
      ],
      "outputs": [],
      "execution_count": null,
      "metadata": {},
      "id": "efd9d0b7"
    },
    {
      "cell_type": "code",
      "source": [
        "# Remove short lines  \n",
        "mls_per_id = poly_utils.create_mls_per_sidewalk(df_segments_wide, crs=cf.CRS)\n",
        "mls_per_id['geometry'] = mls_per_id['geometry'].progress_apply(poly_utils.remove_short_lines)"
      ],
      "outputs": [],
      "execution_count": null,
      "metadata": {},
      "id": "206c47a6"
    },
    {
      "cell_type": "code",
      "source": [
        "# Apply selection of longer lines to original dataframe\n",
        "long_segments_df = gpd.GeoDataFrame(mls_per_id.geometry.explode())\n",
        "df_segments_wide = df_segments_wide.merge(long_segments_df, how='inner')\n",
        "df_segments_wide.shape"
      ],
      "outputs": [],
      "execution_count": null,
      "metadata": {},
      "id": "f00d2b0e"
    },
    {
      "cell_type": "markdown",
      "source": [
        "### Use color codes"
      ],
      "metadata": {},
      "id": "2c9faf42"
    },
    {
      "cell_type": "code",
      "source": [
        "conditions = [\n",
        "    (df_segments_wide['min_width'] < cf.width_1),\n",
        "    (df_segments_wide['min_width'] >= cf.width_1) & (df_segments_wide['min_width'] < cf.width_2),\n",
        "    (df_segments_wide['min_width'] >= cf.width_2) & (df_segments_wide['min_width'] < cf.width_3),\n",
        "    (df_segments_wide['min_width'] >= cf.width_3) & (df_segments_wide['min_width'] < cf.width_4),\n",
        "    (df_segments_wide['min_width'] >= cf.width_4) & (df_segments_wide['min_width'] < cf.width_5),\n",
        "    (df_segments_wide['min_width'] >= cf.width_5) & (df_segments_wide['min_width'] < cf.width_6),\n",
        "    (df_segments_wide['min_width'] >= cf.width_6)\n",
        "]\n",
        "\n",
        "values = ['darkred', 'red', 'orange', 'yellow', 'greenyellow', 'limegreen', 'green']"
      ],
      "outputs": [],
      "execution_count": null,
      "metadata": {},
      "id": "8fb0a379"
    },
    {
      "cell_type": "code",
      "source": [
        "df_segments_wide['min_width_color'] = np.select(conditions, values)\n",
        "df_segments_wide['min_width_color'].value_counts()"
      ],
      "outputs": [],
      "execution_count": null,
      "metadata": {},
      "id": "dc8429fa"
    },
    {
      "cell_type": "code",
      "source": [
        "# Add width factor, for calculating the weights of the paths later\n",
        "#values = [1000000000, 1000000, 1000, 1]\n",
        "values = [1000000000000, 10000000000, 100000000, 1000000, 10000, 100, 1]\n",
        "df_segments_wide['min_width_factor'] = np.select(conditions, values).astype('int64')"
      ],
      "outputs": [],
      "execution_count": null,
      "metadata": {},
      "id": "c493347c"
    },
    {
      "cell_type": "markdown",
      "source": [
        "### Take point cloud coverage into account"
      ],
      "metadata": {},
      "id": "4c484f08"
    },
    {
      "cell_type": "code",
      "source": [
        "df_segments_wide['min_width_factor'][df_segments_wide['pc_coverage'] == False] = 100000000000001"
      ],
      "outputs": [],
      "execution_count": null,
      "metadata": {},
      "id": "1490e750"
    },
    {
      "cell_type": "code",
      "source": [
        "df_segments_wide['min_width_factor'].value_counts()"
      ],
      "outputs": [],
      "execution_count": null,
      "metadata": {},
      "id": "1007b745"
    },
    {
      "cell_type": "markdown",
      "source": [
        "### Do network calculation"
      ],
      "metadata": {},
      "id": "ea288a1f"
    },
    {
      "cell_type": "code",
      "source": [
        "df_bgt_exp['route_weight'] = np.nan"
      ],
      "outputs": [],
      "execution_count": null,
      "metadata": {},
      "id": "35b2a910"
    },
    {
      "cell_type": "code",
      "source": [
        "# Create final dataframe\n",
        "final_df = pd.DataFrame()\n",
        "\n",
        "for i in range(len(df_bgt['sidewalk_id'])):  \n",
        "      \n",
        "    # Get sidewalk polygon for this centerline \n",
        "    my_sidewalk = df_bgt['geometry'].values[i]   \n",
        "    \n",
        "    # Create graph for all paths withing this sidewalk polygon\n",
        "    df_sidewalk = df_segments_wide[df_segments_wide['geometry'].within(my_sidewalk)].reset_index(drop=True)\n",
        "    G = momepy.gdf_to_nx(df_sidewalk, approach=\"primal\", multigraph=True)\n",
        "    \n",
        "    # Create dataframe with linestrings of centerline\n",
        "    centerline_df = df_bgt_exp[df_bgt_exp['sidewalk_id'] == i].reset_index(drop=True)\n",
        "    \n",
        "    for j in range(len(centerline_df['geometry'])):  \n",
        "        \n",
        "        # Get line\n",
        "        my_line = centerline_df.iloc[[j]]['geometry'].values[0]\n",
        "        \n",
        "        if len(list(G.nodes)) > 0:\n",
        "            # Check if my_line has start and end (not a ring)\n",
        "            if len(my_line.boundary) == 0:\n",
        "                print('no route calculated for line (j)', j, 'in sidewalk (i)', i, '(ring)')\n",
        "                centerline_df['route_weight'][j] = 0\n",
        "            else:\n",
        "                # Get origin and destination location\n",
        "                origin_point, dest_point = my_line.boundary\n",
        "                origin_node_loc = so.nearest_points(origin_point, sg.MultiPoint(list(G.nodes)))[1]\n",
        "                dest_node_loc = so.nearest_points(dest_point, sg.MultiPoint(list(G.nodes)))[1]\n",
        "\n",
        "                # Get origin and destination node\n",
        "                origin_node = (origin_node_loc.x, origin_node_loc.y)\n",
        "                dest_node = (dest_node_loc.x, dest_node_loc.y)   \n",
        "\n",
        "                # Get weight of optimal route in graph\n",
        "                try:\n",
        "                    route_weight = nx.shortest_path_length(G, origin_node, dest_node,\n",
        "                                                           weight='min_width_factor')\n",
        "                    if (origin_point.distance(origin_node_loc) < cf.max_dist) and (dest_point.distance(dest_node_loc) < cf.max_dist):\n",
        "                        centerline_df['route_weight'][j] = route_weight\n",
        "                    else:\n",
        "                        print('origin and/or destination node too far from line start/end for line (j)', j, 'in sidewalk (i)', i) \n",
        "                        centerline_df['route_weight'][j] = np.nan\n",
        "                except nx.NetworkXNoPath:\n",
        "                    print('no route found for line (j)', j, 'in sidewalk (i)', i)\n",
        "                    centerline_df['route_weight'][j] = 100000000000000\n",
        "        else:\n",
        "            print('network has zero nodes')\n",
        "\n",
        "    # Append data to final dataframe\n",
        "    final_df = final_df.append(centerline_df)\n",
        "final_df = final_df.reset_index()"
      ],
      "outputs": [],
      "execution_count": null,
      "metadata": {},
      "id": "f26bd1a9"
    },
    {
      "cell_type": "code",
      "source": [
        "del df_bgt_exp"
      ],
      "outputs": [],
      "execution_count": null,
      "metadata": {},
      "id": "e46a40c2"
    },
    {
      "cell_type": "code",
      "source": [
        "# Get final color of the routes\n",
        "final_df['final_color'] = final_df.progress_apply(\n",
        "    lambda row: poly_utils.get_route_color(row.route_weight), axis=1)"
      ],
      "outputs": [],
      "execution_count": null,
      "metadata": {},
      "id": "82a25585"
    },
    {
      "cell_type": "code",
      "source": [
        "final_df_group = final_df.groupby('final_color').sum()\n",
        "final_df_group['length_perc'] = round(100 * final_df_group['length'] / sum(final_df_group['length']), 1)\n",
        "final_df_group[['length_perc']]"
      ],
      "outputs": [],
      "execution_count": null,
      "metadata": {},
      "id": "1e6cb8d1"
    },
    {
      "cell_type": "markdown",
      "source": [
        "## Post-process "
      ],
      "metadata": {},
      "id": "31919f60"
    },
    {
      "cell_type": "code",
      "source": [
        "final_df = final_df.set_geometry('geometry')"
      ],
      "outputs": [],
      "execution_count": null,
      "metadata": {},
      "id": "a13648a3"
    },
    {
      "cell_type": "markdown",
      "source": [
        "### Set final color and indication"
      ],
      "metadata": {},
      "id": "ffd88a06"
    },
    {
      "cell_type": "code",
      "source": [
        "# Get dataframe with only valid lines\n",
        "final_df_select = final_df[final_df['final_color'].isin(['green', 'limegreen', 'greenyellow', \n",
        "                                                         'yellow', 'orange', 'red',\n",
        "                                                         'darkred', 'purple', 'black', 'grey'])]\n",
        "\n",
        "final_df_select = final_df_select.reset_index(drop=True)"
      ],
      "outputs": [],
      "execution_count": null,
      "metadata": {},
      "id": "907bb619"
    },
    {
      "cell_type": "code",
      "source": [
        "# Recolor paths with unknown widths\n",
        "final_df_select['final_color'] = final_df_select['final_color'].replace(['black', 'purple'], 'grey')"
      ],
      "outputs": [],
      "execution_count": null,
      "metadata": {},
      "id": "35d4495c"
    },
    {
      "cell_type": "code",
      "source": [
        "# Add meter indication\n",
        "conditions = [\n",
        "    (final_df_select['final_color'] == 'darkred'),\n",
        "    (final_df_select['final_color'] == 'red'),   \n",
        "    (final_df_select['final_color'] == 'orange'),\n",
        "    (final_df_select['final_color'] == 'yellow'),\n",
        "    (final_df_select['final_color'] == 'greenyellow'),\n",
        "    (final_df_select['final_color'] == 'limegreen'),  \n",
        "    (final_df_select['final_color'] == 'green'),  \n",
        "    (final_df_select['final_color'] == 'grey')\n",
        "]\n",
        "values_indication = ['<' + str(cf.width_1) + 'm', \n",
        "                     str(cf.width_1) + '-' + str(cf.width_2) + 'm', \n",
        "                     str(cf.width_2) + '-' + str(cf.width_3) + 'm', \n",
        "                     str(cf.width_3) + '-' + str(cf.width_4) + 'm', \n",
        "                     str(cf.width_4) + '-' + str(cf.width_5) + 'm', \n",
        "                     str(cf.width_5) + '-' + str(cf.width_6) + 'm', \n",
        "                     '>' + str(cf.width_6) + 'm',\n",
        "                    'unknown']\n",
        "final_df_select['obstacle_free_width'] = np.select(conditions, values_indication)"
      ],
      "outputs": [],
      "execution_count": null,
      "metadata": {},
      "id": "e24e0623"
    },
    {
      "cell_type": "code",
      "source": [
        "final_df_select.shape"
      ],
      "outputs": [],
      "execution_count": null,
      "metadata": {},
      "id": "f514ac90"
    },
    {
      "cell_type": "markdown",
      "source": [
        "### Get correct columns"
      ],
      "metadata": {},
      "id": "3c190fc9"
    },
    {
      "cell_type": "code",
      "source": [
        "# Select only relevant columns\n",
        "final_df_select = final_df_select[['geometry', 'final_color', 'obstacle_free_width', \n",
        "                                   'full_width', 'full_width_color']]"
      ],
      "outputs": [],
      "execution_count": null,
      "metadata": {},
      "id": "32851d3f"
    },
    {
      "cell_type": "code",
      "source": [
        "# Add object ID\n",
        "final_df_select['object_id'] = final_df_select.index"
      ],
      "outputs": [],
      "execution_count": null,
      "metadata": {},
      "id": "72acc76c"
    },
    {
      "cell_type": "markdown",
      "source": [
        "### Fix incorrect labeling of obstacle-free width (> full width)"
      ],
      "metadata": {},
      "id": "4c9bd80b"
    },
    {
      "cell_type": "code",
      "source": [
        "final_df_select['obstacle_free_width'][(final_df_select['obstacle_free_width'].isin(['0.9-1.5m', '1.5-2.0m', '2.0-2.2m', '2.2-2.9m', '2.9-3.6m', '>3.6m'])) & \n",
        "                                       (final_df_select['full_width'] == '<0.9m')] = '<0.9m'\n",
        "final_df_select['obstacle_free_width'][(final_df_select['obstacle_free_width'].isin(['1.5-2.0m', '2.0-2.2m', '2.2-2.9m', '2.9-3.6m', '>3.6m'])) & \n",
        "                                       (final_df_select['full_width'] == '0.9-1.5m')] = '0.9-1.5m'\n",
        "final_df_select['obstacle_free_width'][(final_df_select['obstacle_free_width'].isin(['2.0-2.2m', '2.2-2.9m', '2.9-3.6m', '>3.6m'])) & \n",
        "                                       (final_df_select['full_width'] == '1.5-2.0m')] = '1.5-2.0m'\n",
        "final_df_select['obstacle_free_width'][(final_df_select['obstacle_free_width'].isin(['2.2-2.9m', '2.9-3.6m', '>3.6m'])) & \n",
        "                                       (final_df_select['full_width'] == '2.0-2.2m')] = '2.0-2.2m'\n",
        "final_df_select['obstacle_free_width'][(final_df_select['obstacle_free_width'].isin(['2.9-3.6m', '>3.6m'])) & \n",
        "                                       (final_df_select['full_width'] == '2.2-2.9m')] = '2.2-2.9m'\n",
        "final_df_select['obstacle_free_width'][(final_df_select['obstacle_free_width'] == '>3.6m') & \n",
        "                                       (final_df_select['full_width'] == '2.9-3.6m')] = '2.9-3.6m'"
      ],
      "outputs": [],
      "execution_count": null,
      "metadata": {},
      "id": "cdcb0e6c"
    },
    {
      "cell_type": "markdown",
      "source": [
        "### Adjust crs"
      ],
      "metadata": {},
      "id": "b5ba9b38"
    },
    {
      "cell_type": "code",
      "source": [
        "final_df_select = final_df_select.set_crs(cf.CRS) "
      ],
      "outputs": [],
      "execution_count": null,
      "metadata": {},
      "id": "65af7db5"
    },
    {
      "cell_type": "markdown",
      "source": [
        "## Store final output"
      ],
      "metadata": {},
      "id": "10991d1e"
    },
    {
      "cell_type": "code",
      "source": [
        "final_df_select.to_file(cf.output_file, driver='GPKG')"
      ],
      "outputs": [],
      "execution_count": null,
      "metadata": {},
      "id": "a2d416f4"
    },
    {
      "cell_type": "markdown",
      "source": [
        "## Visualizations"
      ],
      "metadata": {},
      "id": "bff0944b"
    },
    {
      "cell_type": "code",
      "source": [
        "fig, (ax1, ax2, ax3) = plt.subplots(1, 3, figsize=(10,5), dpi=2000, \n",
        "                                    frameon=False, constrained_layout=True)\n",
        "\n",
        "# Plot process step 1\n",
        "df_bgt.set_geometry('geometry').plot(ax=ax1, color=\"silver\")\n",
        "df_segments_wide.plot(ax=ax1, linewidth=0.1, color=df_segments_wide['min_width_color'])\n",
        "ax1.axis('off')\n",
        "\n",
        "# Plot process step 2\n",
        "df_bgt.set_geometry('geometry').plot(ax=ax2, color=\"silver\")\n",
        "final_df.plot(ax=ax2, linewidth=0.5, color=final_df.final_color)  \n",
        "ax2.axis('off')\n",
        "\n",
        "# Plot process step 3\n",
        "df_bgt.set_geometry('geometry').plot(ax=ax3, color=\"silver\")\n",
        "final_df_select.plot(ax=ax3, linewidth=0.5, color=final_df_select.final_color)  \n",
        "ax3.axis('off')\n",
        "\n",
        "# Create legends\n",
        "wa = mpatches.Patch(color='green', label='>' + str(cf.width_6) + 'm')\n",
        "wb = mpatches.Patch(color='limegreen', label= str(cf.width_5) + '-' + str(cf.width_6) + 'm')\n",
        "wc = mpatches.Patch(color='greenyellow', label= str(cf.width_4) + '-' + str(cf.width_5) + 'm')\n",
        "wd = mpatches.Patch(color='yellow', label= str(cf.width_3) + '-' + str(cf.width_4) + 'm')\n",
        "we = mpatches.Patch(color='orange', label= str(cf.width_2) + '-' + str(cf.width_3) + 'm')\n",
        "wf = mpatches.Patch(color='red', label= str(cf.width_1) + '-' + str(cf.width_2) + 'm')\n",
        "wg = mpatches.Patch(color='darkred', label='<' + str(cf.width_1) + 'm')\n",
        "rno = mpatches.Patch(color='brown', label='no route possible')\n",
        "rnan = mpatches.Patch(color='purple', label='node too far')\n",
        "rl0 = mpatches.Patch(color='black', label='route length 0')\n",
        "rnpc = mpatches.Patch(color='grey', label='no pc coverage')\n",
        "runk = mpatches.Patch(color='grey', label='unknown')\n",
        "\n",
        "legend1 = plt.legend(handles=[wa,wb,wc,wd,we,wf,wg,rno,rnan,rl0,rnpc], \n",
        "           bbox_to_anchor=(-0.5, -0.5, 0.5, 0.5))\n",
        "plt.legend(handles=[wa,wb,wc,wd,we,wf,wg,runk], \n",
        "           bbox_to_anchor=(0.5, -0.5, 0.5, 0.5))\n",
        "plt.gca().add_artist(legend1)\n",
        "\n",
        "plt.savefig(cf.output_image, bbox_inches='tight')\n",
        "plt.show()"
      ],
      "outputs": [],
      "execution_count": null,
      "metadata": {},
      "id": "b5cb6833"
    },
    {
      "cell_type": "code",
      "source": [
        "fig, (ax1, ax2) = plt.subplots(1, 2, figsize=(10,5), dpi=2000, \n",
        "                                    frameon=False, constrained_layout=True)\n",
        "\n",
        "# Plot process step 3 - OFW\n",
        "df_bgt.set_geometry('geometry').plot(ax=ax1, color=\"silver\")\n",
        "final_df_select.plot(ax=ax1, linewidth=0.5, color=final_df_select.final_color)  \n",
        "ax1.axis('off')\n",
        "\n",
        "# Plot process step 3 - FW\n",
        "df_bgt.set_geometry('geometry').plot(ax=ax2, color=\"silver\")\n",
        "final_df_select.plot(ax=ax2, linewidth=0.5, color=final_df_select.full_width_color)  \n",
        "ax2.axis('off')\n",
        "\n",
        "# Create legends\n",
        "wa = mpatches.Patch(color='green', label='>' + str(cf.width_6) + 'm')\n",
        "wb = mpatches.Patch(color='limegreen', label= str(cf.width_5) + '-' + str(cf.width_6) + 'm')\n",
        "wc = mpatches.Patch(color='greenyellow', label= str(cf.width_4) + '-' + str(cf.width_5) + 'm')\n",
        "wd = mpatches.Patch(color='yellow', label= str(cf.width_3) + '-' + str(cf.width_4) + 'm')\n",
        "we = mpatches.Patch(color='orange', label= str(cf.width_2) + '-' + str(cf.width_3) + 'm')\n",
        "wf = mpatches.Patch(color='red', label= str(cf.width_1) + '-' + str(cf.width_2) + 'm')\n",
        "wg = mpatches.Patch(color='darkred', label='<' + str(cf.width_1) + 'm')\n",
        "runk = mpatches.Patch(color='grey', label='unknown')\n",
        "\n",
        "legend1 = plt.legend(handles=[wa,wb,wc,wd,we,wf,wg,runk], \n",
        "           bbox_to_anchor=(-0.5, -0.5, 0.5, 0.5), title = \"obstacle free width\")\n",
        "plt.legend(handles=[wa,wb,wc,wd,we,wf,wg], \n",
        "           bbox_to_anchor=(0.5, -0.5, 0.5, 0.5), title = \"full width\")\n",
        "plt.gca().add_artist(legend1)\n",
        "\n",
        "plt.savefig(cf.output_image_no, bbox_inches='tight')\n",
        "plt.show()"
      ],
      "outputs": [],
      "execution_count": null,
      "metadata": {},
      "id": "b848afb5"
    }
  ],
  "metadata": {
    "kernelspec": {
      "name": "python3",
      "language": "python",
      "display_name": "Python 3 (ipykernel)"
    },
    "language_info": {
      "name": "python",
      "version": "3.8.5",
      "mimetype": "text/x-python",
      "codemirror_mode": {
        "name": "ipython",
        "version": 3
      },
      "pygments_lexer": "ipython3",
      "nbconvert_exporter": "python",
      "file_extension": ".py"
    },
    "microsoft": {
      "ms_spell_check": {
        "ms_spell_check_language": "en"
      }
    },
    "kernel_info": {
      "name": "python3"
    },
    "nteract": {
      "version": "nteract-front-end@1.0.0"
    }
  },
  "nbformat": 4,
  "nbformat_minor": 5
}