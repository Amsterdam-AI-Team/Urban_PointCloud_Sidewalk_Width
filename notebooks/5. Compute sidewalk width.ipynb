{
 "cells": [
  {
   "cell_type": "markdown",
   "id": "5f034096",
   "metadata": {},
   "source": [
    "# Calculate sidewalk width\n",
    "Using centerline extraction (also called skeleton line, axis line, or medial line extraction)"
   ]
  },
  {
   "cell_type": "code",
   "execution_count": 1,
   "id": "071158b6",
   "metadata": {},
   "outputs": [
    {
     "name": "stderr",
     "output_type": "stream",
     "text": [
      "C:\\Users\\jansen252\\Documents\\P3_AforAll\\DS\\Urban_PointCloud_Sidewalk_Width\\venv\\lib\\site-packages\\geopandas\\_compat.py:111: UserWarning: The Shapely GEOS version (3.10.2-CAPI-1.16.0) is incompatible with the GEOS version PyGEOS was compiled with (3.10.1-CAPI-1.16.0). Conversions between both will be slow.\n",
      "  warnings.warn(\n"
     ]
    }
   ],
   "source": [
    "# Add project src to path.\n",
    "import set_path\n",
    "\n",
    "import numpy as np\n",
    "import pathlib\n",
    "import pandas as pd\n",
    "import geopandas as gpd\n",
    "from tqdm.notebook import tqdm_notebook\n",
    "tqdm_notebook.pandas()\n",
    "from centerline.geometry import Centerline\n",
    "import shapely.ops as so\n",
    "\n",
    "import upcp.utils.bgt_utils as bgt_utils\n",
    "import upcp.utils.las_utils as las_utils\n",
    "\n",
    "import upc_sw.poly_utils as poly_utils"
   ]
  },
  {
   "cell_type": "code",
   "execution_count": 2,
   "id": "dd1aefc7",
   "metadata": {},
   "outputs": [],
   "source": [
    "# Paths\n",
    "pc_data_folder = '../datasets/pointclouds/'\n",
    "out_folder = '../datasets/output/'\n",
    "\n",
    "# A CRS tells Python how those coordinates relate to places on the Earth. Rijksdriehoek = epsg:28992\n",
    "CRS = 'epsg:28992' #local crs\n",
    "\n",
    "# Tolerance for centerline simplification\n",
    "simplify_tolerance = 0.2\n",
    "\n",
    "# Min area size of a sidewalk polygon in meters for which width will be computed\n",
    "min_area_size = 5\n",
    "\n",
    "# Max linestring length in meters\n",
    "max_line_length = 5\n",
    "\n",
    "# Resolution (in m) for min and avg width computation\n",
    "width_resolution = 1\n",
    "\n",
    "# Precision (in decimals) for min and avg width computation\n",
    "width_precision = 1"
   ]
  },
  {
   "cell_type": "markdown",
   "id": "9a555a6e",
   "metadata": {},
   "source": [
    "## Read the sidewalk and obstacle data"
   ]
  },
  {
   "cell_type": "code",
   "execution_count": 3,
   "id": "2f981e72",
   "metadata": {},
   "outputs": [],
   "source": [
    "# Read sidewalk with obstacle data\n",
    "df = gpd.read_file('../datasets/shp_files/sidewalks_with_obstacles.shp', crs=CRS)"
   ]
  },
  {
   "cell_type": "markdown",
   "id": "e3ed52b7",
   "metadata": {},
   "source": [
    "## Merge the sidewalk polygons"
   ]
  },
  {
   "cell_type": "code",
   "execution_count": 4,
   "id": "242c9874",
   "metadata": {},
   "outputs": [],
   "source": [
    "df = gpd.GeoDataFrame(geometry=gpd.GeoSeries([geom for geom in df.unary_union.geoms]), crs=CRS)\n",
    "df = gpd.GeoDataFrame(df.geometry.explode(index_parts=True), crs=CRS)"
   ]
  },
  {
   "cell_type": "code",
   "execution_count": 5,
   "id": "b3056b3b",
   "metadata": {},
   "outputs": [],
   "source": [
    "# Ignore sidewalk polygons that are too small\n",
    "df = df[df.geometry.area > min_area_size]"
   ]
  },
  {
   "cell_type": "markdown",
   "id": "972a8ee2",
   "metadata": {},
   "source": [
    "## Calculate the centerlines"
   ]
  },
  {
   "cell_type": "code",
   "execution_count": 6,
   "id": "1bad3ee9",
   "metadata": {},
   "outputs": [],
   "source": [
    "def get_centerlines(row_geometry):\n",
    "    ''' Save a NaN value when centerline calculation fails. '''\n",
    "    try:\n",
    "        x = Centerline(row_geometry)\n",
    "    except Exception as e:\n",
    "        print(e) # TODO also print rows.name[0] ??\n",
    "        x = np.nan\n",
    "    return x"
   ]
  },
  {
   "cell_type": "code",
   "execution_count": 7,
   "id": "4984add4",
   "metadata": {},
   "outputs": [
    {
     "data": {
      "application/vnd.jupyter.widget-view+json": {
       "model_id": "b11c0896a345420b83ae58415a02f3e4",
       "version_major": 2,
       "version_minor": 0
      },
      "text/plain": [
       "  0%|          | 0/37 [00:00<?, ?it/s]"
      ]
     },
     "metadata": {},
     "output_type": "display_data"
    },
    {
     "name": "stderr",
     "output_type": "stream",
     "text": [
      "C:\\Users\\jansen252\\Documents\\P3_AforAll\\DS\\Urban_PointCloud_Sidewalk_Width\\venv\\lib\\site-packages\\centerline\\geometry.py:34: ShapelyDeprecationWarning: Setting custom attributes on geometry objects is deprecated, and will raise an AttributeError in Shapely 2.0\n",
      "  self._input_geometry = input_geometry\n",
      "C:\\Users\\jansen252\\Documents\\P3_AforAll\\DS\\Urban_PointCloud_Sidewalk_Width\\venv\\lib\\site-packages\\centerline\\geometry.py:35: ShapelyDeprecationWarning: Setting custom attributes on geometry objects is deprecated, and will raise an AttributeError in Shapely 2.0\n",
      "  self._interpolation_distance = abs(interpolation_distance)\n",
      "C:\\Users\\jansen252\\Documents\\P3_AforAll\\DS\\Urban_PointCloud_Sidewalk_Width\\venv\\lib\\site-packages\\centerline\\geometry.py:40: ShapelyDeprecationWarning: Setting custom attributes on geometry objects is deprecated, and will raise an AttributeError in Shapely 2.0\n",
      "  self._min_x, self._min_y = self._get_reduced_coordinates()\n",
      "C:\\Users\\jansen252\\Documents\\P3_AforAll\\DS\\Urban_PointCloud_Sidewalk_Width\\venv\\lib\\site-packages\\pandas\\core\\dtypes\\inference.py:383: ShapelyDeprecationWarning: Iteration over multi-part geometries is deprecated and will be removed in Shapely 2.0. Use the `geoms` property to access the constituent parts of a multi-part geometry.\n",
      "  iter(obj)  # Can iterate over it.\n",
      "C:\\Users\\jansen252\\Documents\\P3_AforAll\\DS\\Urban_PointCloud_Sidewalk_Width\\venv\\lib\\site-packages\\pandas\\core\\dtypes\\inference.py:384: ShapelyDeprecationWarning: __len__ for multi-part geometries is deprecated and will be removed in Shapely 2.0. Check the length of the `geoms` property instead to get the  number of parts of a multi-part geometry.\n",
      "  len(obj)  # Has a length associated with it.\n",
      "C:\\Users\\jansen252\\Documents\\P3_AforAll\\DS\\Urban_PointCloud_Sidewalk_Width\\venv\\lib\\site-packages\\pandas\\core\\dtypes\\cast.py:1981: ShapelyDeprecationWarning: __len__ for multi-part geometries is deprecated and will be removed in Shapely 2.0. Check the length of the `geoms` property instead to get the  number of parts of a multi-part geometry.\n",
      "  result[:] = values\n"
     ]
    }
   ],
   "source": [
    "# if you get an error here, make sure you use tqdm>=4.61.2\n",
    "df['centerlines'] = df.progress_apply(\n",
    "                        lambda row: get_centerlines(row.geometry), axis=1)\n",
    "df = df.set_geometry('centerlines')"
   ]
  },
  {
   "cell_type": "markdown",
   "id": "f8176ac6",
   "metadata": {},
   "source": [
    "## Remove short line ends and dead-ends"
   ]
  },
  {
   "cell_type": "code",
   "execution_count": 8,
   "id": "69835f02",
   "metadata": {},
   "outputs": [
    {
     "data": {
      "application/vnd.jupyter.widget-view+json": {
       "model_id": "5959ce05f6d3447e82a293589918e60e",
       "version_major": 2,
       "version_minor": 0
      },
      "text/plain": [
       "  0%|          | 0/37 [00:00<?, ?it/s]"
      ]
     },
     "metadata": {},
     "output_type": "display_data"
    }
   ],
   "source": [
    "df['centerlines'] = df['centerlines'].progress_apply(so.linemerge)"
   ]
  },
  {
   "cell_type": "code",
   "execution_count": 9,
   "id": "31416fd4",
   "metadata": {},
   "outputs": [
    {
     "data": {
      "application/vnd.jupyter.widget-view+json": {
       "model_id": "edf4fc796a434a3cb0f2c8d11864e696",
       "version_major": 2,
       "version_minor": 0
      },
      "text/plain": [
       "  0%|          | 0/37 [00:00<?, ?it/s]"
      ]
     },
     "metadata": {},
     "output_type": "display_data"
    }
   ],
   "source": [
    "df['centerlines'] = df['centerlines'].progress_apply(\n",
    "                        lambda x: poly_utils.remove_short_lines(x, max_line_length))"
   ]
  },
  {
   "cell_type": "markdown",
   "id": "79e94fbb",
   "metadata": {},
   "source": [
    "## Get sidewalk widths"
   ]
  },
  {
   "cell_type": "code",
   "execution_count": 10,
   "id": "02391e30",
   "metadata": {},
   "outputs": [
    {
     "data": {
      "application/vnd.jupyter.widget-view+json": {
       "model_id": "09d186b609c342acbe734292c577d15f",
       "version_major": 2,
       "version_minor": 0
      },
      "text/plain": [
       "  0%|          | 0/37 [00:00<?, ?it/s]"
      ]
     },
     "metadata": {},
     "output_type": "display_data"
    }
   ],
   "source": [
    "df['centerlines'] = df['centerlines'].progress_apply(\n",
    "                        lambda row: row.simplify(simplify_tolerance, preserve_topology=True))"
   ]
  },
  {
   "cell_type": "code",
   "execution_count": 11,
   "id": "51e35b8c",
   "metadata": {},
   "outputs": [
    {
     "data": {
      "application/vnd.jupyter.widget-view+json": {
       "model_id": "cfb327918ebe432c8f741354a17d9a43",
       "version_major": 2,
       "version_minor": 0
      },
      "text/plain": [
       "  0%|          | 0/37 [00:00<?, ?it/s]"
      ]
     },
     "metadata": {},
     "output_type": "display_data"
    }
   ],
   "source": [
    "df['segments'] = df['centerlines'].progress_apply(poly_utils.get_segments)"
   ]
  },
  {
   "cell_type": "code",
   "execution_count": 12,
   "id": "e6ddc9ac",
   "metadata": {},
   "outputs": [
    {
     "data": {
      "application/vnd.jupyter.widget-view+json": {
       "model_id": "9dad7f761b5c44d5990e0c1f14e946d9",
       "version_major": 2,
       "version_minor": 0
      },
      "text/plain": [
       "  0%|          | 0/37 [00:00<?, ?it/s]"
      ]
     },
     "metadata": {},
     "output_type": "display_data"
    }
   ],
   "source": [
    "df[['avg_width', 'min_width']] = df.progress_apply(\n",
    "                        lambda row: poly_utils.get_avg_width(row, width_resolution, width_precision), axis=1)"
   ]
  },
  {
   "cell_type": "code",
   "execution_count": 13,
   "id": "84732b22-e29a-4f04-9158-a4fa30e22e2a",
   "metadata": {},
   "outputs": [],
   "source": [
    "# TODO: keep sidewalk ID along with segments for back-reference\n",
    "segment_gdf = pd.concat([gpd.GeoDataFrame({'geometry': row.segments,\n",
    "                                           'avg_width': row.avg_width,\n",
    "                                           'min_width': row.min_width})\n",
    "                         for _, row in df.iterrows()])\n",
    "segment_gdf.set_crs(crs=CRS, inplace=True);"
   ]
  },
  {
   "cell_type": "markdown",
   "id": "b12dd85c",
   "metadata": {},
   "source": [
    "## Check coverage of point cloud data on sidewalks"
   ]
  },
  {
   "cell_type": "code",
   "execution_count": 14,
   "id": "fb6e88aa-1d2a-401f-8266-5e13524dad19",
   "metadata": {},
   "outputs": [],
   "source": [
    "all_tiles = las_utils.get_tilecodes_from_folder(f'{pc_data_folder}run1/')\n",
    "all_tiles_poly = so.unary_union([poly_utils.tilecode_to_poly(tile) for tile in all_tiles])\n",
    "\n",
    "segment_gdf['pc_coverage'] = segment_gdf.intersects(all_tiles_poly)"
   ]
  },
  {
   "cell_type": "markdown",
   "id": "b59e0994",
   "metadata": {},
   "source": [
    "## Store output"
   ]
  },
  {
   "cell_type": "code",
   "execution_count": 15,
   "id": "694e3558",
   "metadata": {},
   "outputs": [
    {
     "name": "stderr",
     "output_type": "stream",
     "text": [
      "C:\\Users\\jansen252\\Documents\\P3_AforAll\\DS\\Urban_PointCloud_Sidewalk_Width\\venv\\lib\\site-packages\\geopandas\\io\\file.py:362: FutureWarning: pandas.Int64Index is deprecated and will be removed from pandas in a future version. Use pandas.Index with the appropriate dtype instead.\n",
      "  pd.Int64Index,\n"
     ]
    }
   ],
   "source": [
    "pathlib.Path(out_folder).mkdir(parents=True, exist_ok=True)\n",
    "\n",
    "segments_file = f'{out_folder}sidewalk_segments.gpkg'\n",
    "segment_gdf.to_file(segments_file, driver='GPKG')"
   ]
  },
  {
   "cell_type": "code",
   "execution_count": null,
   "id": "878f1f5e-1d2a-4a3b-8fc6-da28d10fe4fb",
   "metadata": {},
   "outputs": [],
   "source": []
  }
 ],
 "metadata": {
  "kernelspec": {
   "display_name": "sidewalk",
   "language": "python",
   "name": "sidewalk"
  },
  "language_info": {
   "codemirror_mode": {
    "name": "ipython",
    "version": 3
   },
   "file_extension": ".py",
   "mimetype": "text/x-python",
   "name": "python",
   "nbconvert_exporter": "python",
   "pygments_lexer": "ipython3",
   "version": "3.10.3"
  }
 },
 "nbformat": 4,
 "nbformat_minor": 5
}
