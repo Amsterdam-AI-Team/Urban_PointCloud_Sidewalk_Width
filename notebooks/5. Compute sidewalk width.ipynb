{
 "cells": [
  {
   "cell_type": "markdown",
   "id": "5f034096",
   "metadata": {},
   "source": [
    "# Compute sidewalk width\n",
    "Using centerline extraction (also called skeleton line, axis line, or medial line extraction)"
   ]
  },
  {
   "cell_type": "code",
   "execution_count": null,
   "id": "071158b6",
   "metadata": {},
   "outputs": [],
   "source": [
    "# Add project src to path.\n",
    "import set_path\n",
    "\n",
    "import numpy as np\n",
    "import os\n",
    "import pathlib\n",
    "import pickle\n",
    "import pandas as pd\n",
    "import geopandas as gpd\n",
    "from tqdm.notebook import tqdm_notebook\n",
    "tqdm_notebook.pandas()\n",
    "import shapely.ops as so\n",
    "\n",
    "import upcp.utils.bgt_utils as bgt_utils\n",
    "import upcp.utils.las_utils as las_utils\n",
    "\n",
    "import upc_sw.poly_utils as poly_utils"
   ]
  },
  {
   "cell_type": "code",
   "execution_count": null,
   "id": "efc1defc-cc76-4d8b-82d8-ae13a3229f2e",
   "metadata": {},
   "outputs": [],
   "source": [
    "import warnings  # temporary, to supress deprecationwarnings from shapely\n",
    "warnings.filterwarnings('ignore')"
   ]
  },
  {
   "cell_type": "code",
   "execution_count": null,
   "id": "39d80581",
   "metadata": {},
   "outputs": [],
   "source": [
    "# Paths\n",
    "pc_data_folder = '../datasets/pointclouds/'\n",
    "out_folder = '../datasets/output/'  \n",
    "\n",
    "# Save intermediate output in case of errors\n",
    "tmp_file = f'{out_folder}sw_seg_tmp.pkl'\n",
    "\n",
    "# A CRS tells Python how those coordinates relate to places on the Earth. Rijksdriehoek = epsg:28992\n",
    "CRS = 'epsg:28992' #local crs\n",
    "\n",
    "# Whether to merge sidewalks before segmentation and width computation\n",
    "merge_sidewalks = True\n",
    "\n",
    "# Tolerance for centerline simplification\n",
    "simplify_tolerance = 0.2\n",
    "\n",
    "# Min area size of a sidewalk polygon in sqm for which width will be computed\n",
    "min_area_size = 5\n",
    "\n",
    "# Minimum length for short-ends (in meters), otherwise removed\n",
    "min_se_length = 5\n",
    "\n",
    "# Max segment length in meters\n",
    "max_seg_length = 5 \n",
    "\n",
    "# Resolution (in m) for min and avg width computation\n",
    "width_resolution = 1\n",
    "\n",
    "# Precision (in decimals) for min and avg width computation\n",
    "width_precision = 1\n",
    "\n",
    "# Create folder if it doesn't exist\n",
    "pathlib.Path(out_folder).mkdir(parents=True, exist_ok=True)"
   ]
  },
  {
   "cell_type": "markdown",
   "id": "9a555a6e",
   "metadata": {},
   "source": [
    "## Read the sidewalk and obstacle data"
   ]
  },
  {
   "cell_type": "code",
   "execution_count": null,
   "id": "2f981e72",
   "metadata": {},
   "outputs": [],
   "source": [
    "# Read sidewalk with obstacle data\n",
    "obstacle_file = f'{out_folder}/sidewalks_with_obstacles.gpkg'\n",
    "df = gpd.read_file(obstacle_file, geometry='geometry', crs=CRS)\n",
    "\n",
    "if merge_sidewalks:\n",
    "    # Merge sidewalk polygons\n",
    "    df = gpd.GeoDataFrame(geometry=gpd.GeoSeries([geom for geom in df.unary_union.geoms]), crs=CRS)\n",
    "    df['ogc_fid'] = range(0, len(df))  \n",
    "    \n",
    "else:\n",
    "    # Explode MultiPolygons into their parts\n",
    "    df = df.explode(index_parts=False)\n",
    "\n",
    "# Ignore sidewalk polygons that are too small\n",
    "df = df[df.area > min_area_size]"
   ]
  },
  {
   "cell_type": "markdown",
   "id": "972a8ee2",
   "metadata": {},
   "source": [
    "## Calculate width along centerline segments"
   ]
  },
  {
   "cell_type": "code",
   "execution_count": null,
   "id": "fb577bc3",
   "metadata": {},
   "outputs": [],
   "source": [
    "def get_segments_width_cut(row, max_seg_length):\n",
    "    # Get centerlines.\n",
    "    cl = poly_utils.get_centerlines(row.geometry)\n",
    "    # Merge linestrings.\n",
    "    cl = so.linemerge(cl)\n",
    "    # Remove short line ends and dead-ends.\n",
    "    cl = poly_utils.remove_short_lines(cl, min_se_length)\n",
    "    # Simplify lines.\n",
    "    cl = cl.simplify(simplify_tolerance, preserve_topology=True)\n",
    "    # Segment lines \n",
    "    segments_long = poly_utils.get_segments(cl)   \n",
    "    # Cut segments (with maximum segment length)\n",
    "    segments = []\n",
    "    for seg in segments_long:\n",
    "        seg_cut = poly_utils.cut(seg, max_seg_length)\n",
    "        segments.extend(seg_cut)\n",
    "    # Compute avg and min width per cut segment   \n",
    "    avg_width, min_width = poly_utils.get_avg_width(\n",
    "                    row.geometry, segments, width_resolution, width_precision)\n",
    "    return {'segments_long': segments_long, 'segments': segments, \n",
    "            'avg_width': avg_width, 'min_width': min_width, 'sidewalk_id': row.ogc_fid}      "
   ]
  },
  {
   "cell_type": "markdown",
   "id": "fc21bd6e-71e3-42b3-850c-11503b4cc630",
   "metadata": {},
   "source": [
    "### Single thread"
   ]
  },
  {
   "cell_type": "code",
   "execution_count": null,
   "id": "4984add4",
   "metadata": {},
   "outputs": [],
   "source": [
    "# if you get an error here, make sure you use tqdm>=4.61.2\n",
    "segment_df = pd.DataFrame(df.progress_apply(get_segments_width_cut, max_seg_length=max_seg_length, axis=1).values.tolist())\n",
    "\n",
    "with open(tmp_file, 'wb') as f:\n",
    "    pickle.dump(segment_df.to_dict(), f)"
   ]
  },
  {
   "cell_type": "markdown",
   "id": "ce4c024b-6c64-405c-a593-b1a90b8dfd52",
   "metadata": {},
   "source": [
    "### Explode into individual segments"
   ]
  },
  {
   "cell_type": "code",
   "execution_count": null,
   "id": "84732b22-e29a-4f04-9158-a4fa30e22e2a",
   "metadata": {},
   "outputs": [],
   "source": [
    "segment_df = pd.concat([gpd.GeoDataFrame({'geometry': row.segments,\n",
    "                                          'avg_width': row.avg_width,\n",
    "                                          'min_width': row.min_width,\n",
    "                                          'sidewalk_id': row.sidewalk_id} \n",
    "                                        )\n",
    "                         for _, row in segment_df.iterrows()],\n",
    "                       ignore_index=True)\n",
    "segment_df.set_crs(crs=CRS, inplace=True);\n",
    "\n",
    "with open(tmp_file, 'wb') as f:\n",
    "    pickle.dump(segment_df.to_dict(), f)"
   ]
  },
  {
   "cell_type": "markdown",
   "id": "b12dd85c",
   "metadata": {},
   "source": [
    "## Check coverage of point cloud data on sidewalks"
   ]
  },
  {
   "cell_type": "code",
   "execution_count": null,
   "id": "83575a59",
   "metadata": {},
   "outputs": [],
   "source": [
    "pc_file_prefix = 'processed'\n",
    "\n",
    "# Get a list of all tilecodes for which we have two runs.\n",
    "all_tiles = (las_utils.get_tilecodes_from_folder(f'{pc_data_folder}run1/', las_prefix=pc_file_prefix)\n",
    "             .intersection(las_utils.get_tilecodes_from_folder(f'{pc_data_folder}run2/', las_prefix=pc_file_prefix)))\n",
    "all_tiles_poly = so.unary_union([poly_utils.tilecode_to_poly(tile) for tile in all_tiles])\n",
    "\n",
    "segment_df['pc_coverage'] = segment_df.intersects(all_tiles_poly)"
   ]
  },
  {
   "cell_type": "code",
   "execution_count": null,
   "id": "8352e386",
   "metadata": {},
   "outputs": [],
   "source": [
    "segment_df['pc_coverage'].value_counts()"
   ]
  },
  {
   "cell_type": "markdown",
   "id": "b59e0994",
   "metadata": {},
   "source": [
    "## Store output"
   ]
  },
  {
   "cell_type": "code",
   "execution_count": null,
   "id": "694e3558",
   "metadata": {},
   "outputs": [],
   "source": [
    "segments_file = f'{out_folder}sidewalk_segments.gpkg'\n",
    "segment_df.to_file(segments_file, driver='GPKG')\n",
    "\n",
    "# Delete intermediate output\n",
    "if os.path.exists(tmp_file):\n",
    "    os.remove(tmp_file)"
   ]
  },
  {
   "cell_type": "markdown",
   "id": "8db2f148-9c9f-44f9-84f8-100926f57d94",
   "metadata": {},
   "source": [
    "## Plot results"
   ]
  },
  {
   "cell_type": "code",
   "execution_count": null,
   "id": "353446ae-b46e-46b0-bc87-15fa8b0380e6",
   "metadata": {},
   "outputs": [],
   "source": [
    "# Optional: read the saved segments file.\n",
    "segment_df = gpd.read_file(f'{out_folder}sidewalk_segments.gpkg', crs=CRS)"
   ]
  },
  {
   "cell_type": "code",
   "execution_count": null,
   "id": "9f0a9c9e-a02e-4f08-ab34-737a275ed2c8",
   "metadata": {},
   "outputs": [],
   "source": [
    "%matplotlib widget\n",
    "import matplotlib.pyplot as plt\n",
    "\n",
    "\n",
    "tilecodes = all_tiles\n",
    "\n",
    "plot_shape = so.unary_union([poly_utils.tilecode_to_poly(tilecode) for tilecode in tilecodes])\n",
    "(x_min, y_min, x_max, y_max) = plot_shape.bounds\n",
    "df_plot = df[df.intersects(plot_shape)]\n",
    "seg_plot = segment_df[segment_df.intersects(plot_shape)]\n",
    "\n",
    "fig, ax = plt.subplots(1, figsize=(6,6))\n",
    "\n",
    "df_plot.set_geometry('geometry').plot(ax=ax, color='grey', alpha=0.5)\n",
    "seg_plot.plot(ax=ax, column='min_width', cmap='Spectral', vmin=0, vmax=3, legend=True)\n",
    "\n",
    "ax.set_xlim([x_min, x_max])\n",
    "ax.set_ylim([y_min, y_max])\n",
    "\n",
    "plt.show()"
   ]
  }
 ],
 "metadata": {
  "kernelspec": {
   "display_name": "sidewalk",
   "language": "python",
   "name": "sidewalk"
  },
  "language_info": {
   "codemirror_mode": {
    "name": "ipython",
    "version": 3
   },
   "file_extension": ".py",
   "mimetype": "text/x-python",
   "name": "python",
   "nbconvert_exporter": "python",
   "pygments_lexer": "ipython3",
   "version": "3.10.3"
  }
 },
 "nbformat": 4,
 "nbformat_minor": 5
}
