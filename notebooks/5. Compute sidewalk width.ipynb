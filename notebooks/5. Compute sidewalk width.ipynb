{
 "cells": [
  {
   "cell_type": "markdown",
   "id": "5f034096",
   "metadata": {},
   "source": [
    "# Calculate sidewalk width\n",
    "Using centerline extraction (also called skeleton line, axis line, or medial line extraction)"
   ]
  },
  {
   "cell_type": "code",
   "execution_count": null,
   "id": "071158b6",
   "metadata": {},
   "outputs": [],
   "source": [
    "# Add project src to path.\n",
    "import set_path\n",
    "\n",
    "import numpy as np\n",
    "import pathlib\n",
    "import pandas as pd\n",
    "import geopandas as gpd\n",
    "from tqdm.notebook import tqdm_notebook\n",
    "tqdm_notebook.pandas()\n",
    "import shapely.ops as so\n",
    "\n",
    "import upcp.utils.bgt_utils as bgt_utils\n",
    "import upcp.utils.las_utils as las_utils\n",
    "\n",
    "import upc_sw.poly_utils as poly_utils"
   ]
  },
  {
   "cell_type": "code",
   "execution_count": null,
   "id": "efc1defc-cc76-4d8b-82d8-ae13a3229f2e",
   "metadata": {},
   "outputs": [],
   "source": [
    "import warnings  # temporary, to supress deprecationwarnings from shapely\n",
    "warnings.filterwarnings('ignore')"
   ]
  },
  {
   "cell_type": "code",
   "execution_count": null,
   "id": "d0b2b031-c172-43d3-85a8-d6f89e1d9302",
   "metadata": {},
   "outputs": [],
   "source": [
    "# Optional, for parallel processing of geodataframes.\n",
    "import dask_geopandas as dgpd\n",
    "from dask.diagnostics import ProgressBar\n",
    "pbar = ProgressBar()\n",
    "pbar.register()"
   ]
  },
  {
   "cell_type": "code",
   "execution_count": null,
   "id": "dd1aefc7",
   "metadata": {},
   "outputs": [],
   "source": [
    "# Paths\n",
    "pc_data_folder = '../datasets/pointclouds/'\n",
    "out_folder = '../datasets/output/'\n",
    "\n",
    "# A CRS tells Python how those coordinates relate to places on the Earth. Rijksdriehoek = epsg:28992\n",
    "CRS = 'epsg:28992' #local crs\n",
    "\n",
    "# Whether to merge sidewalks before segmentation and width computation\n",
    "merge_sidewalks = True\n",
    "\n",
    "# Tolerance for centerline simplification\n",
    "simplify_tolerance = 0.2\n",
    "\n",
    "# Min area size of a sidewalk polygon in sqm for which width will be computed\n",
    "min_area_size = 1\n",
    "\n",
    "# Max linestring length in meters\n",
    "max_line_length = 5\n",
    "\n",
    "# Resolution (in m) for min and avg width computation\n",
    "width_resolution = 1\n",
    "\n",
    "# Precision (in decimals) for min and avg width computation\n",
    "width_precision = 1"
   ]
  },
  {
   "cell_type": "markdown",
   "id": "9a555a6e",
   "metadata": {},
   "source": [
    "## Read the sidewalk and obstacle data"
   ]
  },
  {
   "cell_type": "code",
   "execution_count": null,
   "id": "2f981e72",
   "metadata": {},
   "outputs": [],
   "source": [
    "# Read sidewalk with obstacle data\n",
    "obstacle_file = f'{out_folder}/sidewalks_with_obstacles.gpkg'\n",
    "df = gpd.read_file(obstacle_file, geometry='geometry', crs=CRS)\n",
    "\n",
    "if merge_sidewalks:\n",
    "    # Merge sidewalk polygons\n",
    "    df = gpd.GeoDataFrame(geometry=gpd.GeoSeries([geom for geom in df.unary_union.geoms]), crs=CRS)\n",
    "else:\n",
    "    # Explode MultiPolygons into their parts\n",
    "    df = df.explode(index_parts=False)\n",
    "\n",
    "# Ignore sidewalk polygons that are too small\n",
    "df = df[df.area > min_area_size]"
   ]
  },
  {
   "cell_type": "markdown",
   "id": "972a8ee2",
   "metadata": {},
   "source": [
    "## Calculate width along centerline segments"
   ]
  },
  {
   "cell_type": "code",
   "execution_count": null,
   "id": "7d788c82-9bd7-4086-a256-1e5f9bd317bb",
   "metadata": {},
   "outputs": [],
   "source": [
    "# TODO: keep sidewalk ID along with segments for back-reference?\n",
    "\n",
    "def get_segments_width(row):\n",
    "    # Get centerlines.\n",
    "    cl = poly_utils.get_centerlines(row.geometry)\n",
    "    # Merge linestrings.\n",
    "    cl = so.linemerge(cl)\n",
    "    # Remove short line ends and dead-ends.\n",
    "    cl = poly_utils.remove_short_lines(cl, max_line_length)\n",
    "    # Simplify lines.\n",
    "    cl = cl.simplify(simplify_tolerance, preserve_topology=True)\n",
    "    # Segment lines and compute avg and min width per segment.\n",
    "    segments = poly_utils.get_segments(cl)\n",
    "    avg_width, min_width = poly_utils.get_avg_width(\n",
    "                    row.geometry, segments, width_resolution, width_precision)\n",
    "    return {'segments': segments, 'avg_width': avg_width, 'min_width': min_width}"
   ]
  },
  {
   "cell_type": "markdown",
   "id": "fc21bd6e-71e3-42b3-850c-11503b4cc630",
   "metadata": {},
   "source": [
    "### Single thread"
   ]
  },
  {
   "cell_type": "code",
   "execution_count": null,
   "id": "4984add4",
   "metadata": {},
   "outputs": [],
   "source": [
    "# Single thread, can be slow for big dataframes.\n",
    "\n",
    "# if you get an error here, make sure you use tqdm>=4.61.2\n",
    "segment_df = pd.DataFrame(df.progress_apply(get_segments_width, axis=1).values.tolist())"
   ]
  },
  {
   "cell_type": "markdown",
   "id": "405bbf49-ac03-4f8e-83fc-9070a1ddae12",
   "metadata": {},
   "source": [
    "### Parallel"
   ]
  },
  {
   "cell_type": "code",
   "execution_count": null,
   "id": "53eb7bd3-76ba-4639-bf56-3ee976d69122",
   "metadata": {},
   "outputs": [],
   "source": [
    "# Alternative: parallel processing for big dataframes.\n",
    "\n",
    "# TODO: sensible (or variable) setting for npartitions\n",
    "ddf = dgpd.from_geopandas(df, npartitions=24)"
   ]
  },
  {
   "cell_type": "code",
   "execution_count": null,
   "id": "ccad63ce-5bfc-49b7-b7c3-bf7cf37defde",
   "metadata": {},
   "outputs": [],
   "source": [
    "segment_df = pd.DataFrame(\n",
    "                    (ddf.apply(get_segments_width, axis=1, meta=(object))\n",
    "                     .compute().values.tolist()))"
   ]
  },
  {
   "cell_type": "markdown",
   "id": "ce4c024b-6c64-405c-a593-b1a90b8dfd52",
   "metadata": {},
   "source": [
    "### Explode into individual segments"
   ]
  },
  {
   "cell_type": "code",
   "execution_count": null,
   "id": "84732b22-e29a-4f04-9158-a4fa30e22e2a",
   "metadata": {},
   "outputs": [],
   "source": [
    "segment_df = pd.concat([gpd.GeoDataFrame({'geometry': row.segments,\n",
    "                                           'avg_width': row.avg_width,\n",
    "                                           'min_width': row.min_width})\n",
    "                         for _, row in segment_df.iterrows()])\n",
    "segment_df.set_crs(crs=CRS, inplace=True);"
   ]
  },
  {
   "cell_type": "markdown",
   "id": "b12dd85c",
   "metadata": {},
   "source": [
    "## Check coverage of point cloud data on sidewalks"
   ]
  },
  {
   "cell_type": "code",
   "execution_count": null,
   "id": "fb6e88aa-1d2a-401f-8266-5e13524dad19",
   "metadata": {},
   "outputs": [],
   "source": [
    "all_tiles = las_utils.get_tilecodes_from_folder(f'{pc_data_folder}run1/')\n",
    "all_tiles_poly = so.unary_union([poly_utils.tilecode_to_poly(tile) for tile in all_tiles])\n",
    "\n",
    "segment_df['pc_coverage'] = segment_df.intersects(all_tiles_poly)"
   ]
  },
  {
   "cell_type": "markdown",
   "id": "b59e0994",
   "metadata": {},
   "source": [
    "## Store output"
   ]
  },
  {
   "cell_type": "code",
   "execution_count": null,
   "id": "694e3558",
   "metadata": {},
   "outputs": [],
   "source": [
    "pathlib.Path(out_folder).mkdir(parents=True, exist_ok=True)\n",
    "\n",
    "segments_file = f'{out_folder}sidewalk_segments.gpkg'\n",
    "segment_df.to_file(segments_file, driver='GPKG')"
   ]
  },
  {
   "cell_type": "markdown",
   "id": "8db2f148-9c9f-44f9-84f8-100926f57d94",
   "metadata": {},
   "source": [
    "## Plot results"
   ]
  },
  {
   "cell_type": "code",
   "execution_count": null,
   "id": "9f0a9c9e-a02e-4f08-ab34-737a275ed2c8",
   "metadata": {},
   "outputs": [],
   "source": [
    "%matplotlib widget\n",
    "import matplotlib.pyplot as plt\n",
    "\n",
    "\n",
    "tilecodes = all_tiles\n",
    "\n",
    "plot_shape = so.unary_union([poly_utils.tilecode_to_poly(tilecode) for tilecode in tilecodes])\n",
    "(x_min, y_min, x_max, y_max) = plot_shape.bounds\n",
    "df_plot = df[df.intersects(plot_shape)]\n",
    "\n",
    "fig, ax = plt.subplots(1, figsize=(6,6))\n",
    "\n",
    "df_plot.set_geometry('geometry').plot(ax=ax, color='grey', alpha=0.5)\n",
    "segment_df.plot(ax=ax, column='min_width', cmap='Spectral', vmin=0, vmax=10, legend=True)\n",
    "\n",
    "ax.set_xlim([x_min, x_max])\n",
    "ax.set_ylim([y_min, y_max])\n",
    "\n",
    "plt.show()"
   ]
  },
  {
   "cell_type": "code",
   "execution_count": null,
   "id": "596f6f4a-908f-4850-b589-6ff74f6f5332",
   "metadata": {},
   "outputs": [],
   "source": []
  }
 ],
 "metadata": {
  "kernelspec": {
   "display_name": "Python 3 (ipykernel)",
   "language": "python",
   "name": "python3"
  },
  "language_info": {
   "codemirror_mode": {
    "name": "ipython",
    "version": 3
   },
   "file_extension": ".py",
   "mimetype": "text/x-python",
   "name": "python",
   "nbconvert_exporter": "python",
   "pygments_lexer": "ipython3",
   "version": "3.8.12"
  }
 },
 "nbformat": 4,
 "nbformat_minor": 5
}
