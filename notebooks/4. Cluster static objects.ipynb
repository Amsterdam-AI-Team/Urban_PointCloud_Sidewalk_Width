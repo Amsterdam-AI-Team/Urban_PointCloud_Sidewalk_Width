{
 "cells": [
  {
   "cell_type": "markdown",
   "id": "e07af1a9",
   "metadata": {},
   "source": [
    "## Obstacle detection on sidewalks"
   ]
  },
  {
   "cell_type": "code",
   "execution_count": null,
   "id": "f32d435c",
   "metadata": {},
   "outputs": [],
   "source": [
    "from accessibility import Accessibility\n",
    "\n",
    "# Read M3C2 result point cloud\n",
    "points, m3c2 = read_las_m3c2('../datasets/pointclouds/m3c2/M3C2_2386_9702.laz')\n",
    "\n",
    "# Filter for static objects\n",
    "mask = ((m3c2 > -0.2) & (m3c2 < 0.2))\n",
    "\n",
    "# 3D Obstacle blobs to 2D polygons using a clustering algorithm and BGT road data.\n",
    "accesibility_class = Accessibility(min_component_size=100, grid_size=0.05)\n",
    "\n",
    "static_objects_mask = accesibility_class.get_obstacle_polygons(points, mask)\n",
    "\n",
    "write_las(points[static_objects_mask], '../datasets/pointclouds/obstacles/obstacles_2386_9702.laz')"
   ]
  },
  {
   "cell_type": "code",
   "execution_count": null,
   "id": "6503fbae",
   "metadata": {},
   "outputs": [],
   "source": []
  }
 ],
 "metadata": {
  "kernelspec": {
   "display_name": "Python 3 (ipykernel)",
   "language": "python",
   "name": "python3"
  },
  "language_info": {
   "codemirror_mode": {
    "name": "ipython",
    "version": 3
   },
   "file_extension": ".py",
   "mimetype": "text/x-python",
   "name": "python",
   "nbconvert_exporter": "python",
   "pygments_lexer": "ipython3",
   "version": "3.8.12"
  }
 },
 "nbformat": 4,
 "nbformat_minor": 5
}
