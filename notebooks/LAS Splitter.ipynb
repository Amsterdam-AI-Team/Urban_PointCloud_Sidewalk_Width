{
 "cells": [
  {
   "cell_type": "code",
   "execution_count": null,
   "id": "3f8a4d31-8655-4a6b-b8d7-c26cfb1d9010",
   "metadata": {},
   "outputs": [],
   "source": [
    "import numpy as np\n",
    "import pathlib\n",
    "import laspy\n",
    "import shapely.geometry as sg\n",
    "import shapely.ops as so\n",
    "import geopandas as gpd\n",
    "from tqdm.notebook import tqdm\n",
    "tqdm.pandas()\n",
    "\n",
    "from upcp.utils import clip_utils\n",
    "\n",
    "import set_path\n",
    "from upc_sw import poly_utils"
   ]
  },
  {
   "cell_type": "code",
   "execution_count": null,
   "id": "c7c2cfed-baba-4543-b931-3f8f4ed9db89",
   "metadata": {},
   "outputs": [],
   "source": [
    "ahn_raw_folder = '/Volumes/Daan 1TB/AHN4/Bronbestanden/'\n",
    "ahn_subtile_folder = '../../datasets/AHN4/AMS_subtiles_1000/'\n",
    "box_size = 1000"
   ]
  },
  {
   "cell_type": "markdown",
   "id": "f24d65f9-500b-45dd-8905-8711e5549214",
   "metadata": {},
   "source": [
    "## Data preparation"
   ]
  },
  {
   "cell_type": "markdown",
   "id": "68677da9-c672-4814-9a80-864bfd2e83c0",
   "metadata": {},
   "source": [
    "### Read stadsdelen shapes"
   ]
  },
  {
   "cell_type": "code",
   "execution_count": null,
   "id": "7246d2e0-a71c-4ba8-91eb-3b0e97268c5b",
   "metadata": {},
   "outputs": [],
   "source": [
    "ams_gdf = gpd.read_file('stadsdelen.gpkg')"
   ]
  },
  {
   "cell_type": "code",
   "execution_count": null,
   "id": "30c4bc29-4c18-4066-bf23-f4885761608c",
   "metadata": {},
   "outputs": [],
   "source": [
    "ams_gdf.unary_union.bounds"
   ]
  },
  {
   "cell_type": "code",
   "execution_count": null,
   "id": "c47fe8b0-6789-4bed-8cf3-dd62324fcb2f",
   "metadata": {},
   "outputs": [],
   "source": [
    "# Extend bounds to nearest 1000m\n",
    "ams_bounds = (110000, 476000, 135000, 494000)"
   ]
  },
  {
   "cell_type": "markdown",
   "id": "b6976a6e-e58d-47c2-89bd-fc0c4a3debbf",
   "metadata": {
    "tags": []
   },
   "source": [
    "### Load pointcloud tiles"
   ]
  },
  {
   "cell_type": "code",
   "execution_count": null,
   "id": "9fc3f41d-b4a7-49a4-a4c0-78743986dfae",
   "metadata": {},
   "outputs": [],
   "source": [
    "run1_tiles = gpd.read_file('run1_tiles_10k.gpkg')\n",
    "run2_tiles = gpd.read_file('run2_tiles_10k.gpkg')"
   ]
  },
  {
   "cell_type": "code",
   "execution_count": null,
   "id": "eac07d0f-7a6f-4445-b5ac-3eac7e4b44fe",
   "metadata": {},
   "outputs": [],
   "source": [
    "all_tiles = list(set(run1_tiles['tilecode']).union(set(run2_tiles['tilecode'])))\n",
    "all_tiles.sort()"
   ]
  },
  {
   "cell_type": "code",
   "execution_count": null,
   "id": "4a47e54b-d12a-49b9-af60-d70fa10c7b02",
   "metadata": {},
   "outputs": [],
   "source": [
    "run1_tiles = None\n",
    "run2_tiles = None"
   ]
  },
  {
   "cell_type": "code",
   "execution_count": null,
   "id": "9cfcdb5b-0217-4dd7-b008-0840bb3ec7b3",
   "metadata": {},
   "outputs": [],
   "source": [
    "all_tiles_gdf = gpd.GeoDataFrame({'tilecode': all_tiles,\n",
    "                                  'geometry': [poly_utils.tilecode_to_poly(tc) for tc in all_tiles]})"
   ]
  },
  {
   "cell_type": "code",
   "execution_count": null,
   "id": "ebd8cb62-9066-40f1-b70a-e887878b6957",
   "metadata": {},
   "outputs": [],
   "source": [
    "all_tiles_merged = gpd.GeoDataFrame({'geometry': [geom for geom in all_tiles_gdf.unary_union.geoms]})"
   ]
  },
  {
   "cell_type": "markdown",
   "id": "d6783ea6-a1f7-4f46-a568-28feb1ce05b7",
   "metadata": {},
   "source": [
    "### Create subtiles grid"
   ]
  },
  {
   "cell_type": "code",
   "execution_count": null,
   "id": "67693870-6084-4a07-9b57-d66a0ac2e09a",
   "metadata": {},
   "outputs": [],
   "source": [
    "def box_to_name(box):\n",
    "    (x_min, y_min, _, _) = box.bounds\n",
    "    return f'{x_min/box_size:.0f}_{y_min/box_size:.0f}'\n",
    "\n",
    "xs = np.arange(ams_bounds[0], ams_bounds[2], box_size)\n",
    "ys = np.arange(ams_bounds[1], ams_bounds[3], box_size)\n",
    "\n",
    "geoms = [sg.box(x, y, x+box_size, y+box_size) for x in xs for y in ys]\n",
    "names = [box_to_name(box) for box in geoms]\n",
    "\n",
    "ams_subtiles_gdf = gpd.GeoDataFrame({'name': names, 'geometry': geoms})\n",
    "\n",
    "target_shape = so.unary_union([all_tiles_merged.unary_union, ams_gdf.unary_union])\n",
    "\n",
    "ams_subtiles_gdf = ams_subtiles_gdf[ams_subtiles_gdf.intersects(target_shape)]"
   ]
  },
  {
   "cell_type": "markdown",
   "id": "11320d73-059f-4551-81fe-26bf5e429c4d",
   "metadata": {},
   "source": [
    "### Load AHN bronbestanden"
   ]
  },
  {
   "cell_type": "code",
   "execution_count": null,
   "id": "4836b343-ec98-45e5-8827-a424b23f9bf9",
   "metadata": {},
   "outputs": [],
   "source": [
    "ahn_raw_files = list(pathlib.Path(ahn_raw_folder).glob('*.LAZ'))"
   ]
  },
  {
   "cell_type": "code",
   "execution_count": null,
   "id": "2752baaa-2d3c-482e-a295-33b417890a3e",
   "metadata": {},
   "outputs": [],
   "source": [
    "bounds = []\n",
    "for f in ahn_raw_files:\n",
    "    with laspy.open(f) as las:\n",
    "        [x_min, y_min] = las.header.mins[0:2]\n",
    "        [x_max, y_max] = las.header.maxs[0:2]\n",
    "        bounds.append([x_min, y_min, x_max, y_max])"
   ]
  },
  {
   "cell_type": "code",
   "execution_count": null,
   "id": "7052e038-c9da-437e-adc7-fd18fe0ecee2",
   "metadata": {},
   "outputs": [],
   "source": [
    "ahn_raw_gdf = gpd.GeoDataFrame({'filename': [f.name for f in ahn_raw_files],\n",
    "                                'geometry': [sg.box(*b) for b in bounds]})\n",
    "\n",
    "ahn_raw_gdf = ahn_raw_gdf[ahn_raw_gdf.intersects(ams_subtiles_gdf.unary_union)]"
   ]
  },
  {
   "cell_type": "markdown",
   "id": "5011f3d9-09bf-4d18-9076-dbc99d46a99a",
   "metadata": {},
   "source": [
    "### Plotting (optional)"
   ]
  },
  {
   "cell_type": "code",
   "execution_count": null,
   "id": "e8064080-b953-43df-acba-8ade2fd0f526",
   "metadata": {},
   "outputs": [],
   "source": [
    "%matplotlib widget\n",
    "import matplotlib.pyplot as plt\n",
    "\n",
    "fig, ax = plt.subplots(figsize=(6,6))\n",
    "\n",
    "ahn_raw_gdf.plot(ax=ax, color='grey', alpha=0.25)\n",
    "ams_subtiles_gdf.plot(ax=ax, color='grey', edgecolor='black', alpha=0.5)\n",
    "ams_gdf.plot(ax=ax, color='lightblue', alpha=0.5)\n",
    "all_tiles_merged.plot(ax=ax, color='blue', alpha=0.5)"
   ]
  },
  {
   "cell_type": "markdown",
   "id": "b0cbbf15-a0d0-4415-ab73-ffe311ff0ae3",
   "metadata": {},
   "source": [
    "## Perform splitting"
   ]
  },
  {
   "cell_type": "code",
   "execution_count": null,
   "id": "e81fbb51-e225-4b7a-b3fc-ae317e5406b3",
   "metadata": {},
   "outputs": [],
   "source": [
    "points_per_iter = int(1e6)\n",
    "buffer = 5"
   ]
  },
  {
   "cell_type": "code",
   "execution_count": null,
   "id": "f29cf8f6-91a4-48f4-8072-9da10c6594ec",
   "metadata": {},
   "outputs": [],
   "source": [
    "ams_subtiles_gdf['geometry'] = ams_subtiles_gdf.buffer(buffer)\n",
    "ams_subtiles_gdf['bounds'] = ams_subtiles_gdf.apply(lambda row: row['geometry'].bounds, axis=1)"
   ]
  },
  {
   "cell_type": "code",
   "execution_count": null,
   "id": "e52cb4c7-9f3a-47ff-a291-64f9124614e5",
   "metadata": {},
   "outputs": [],
   "source": [
    "ams_subtiles_gdf.reset_index(inplace=True)"
   ]
  },
  {
   "cell_type": "code",
   "execution_count": null,
   "id": "959a12aa-3308-4064-8002-77d51b222a79",
   "metadata": {},
   "outputs": [],
   "source": [
    "pathlib.Path(ahn_subtile_folder).mkdir(parents=True, exist_ok=True)"
   ]
  },
  {
   "cell_type": "code",
   "execution_count": null,
   "id": "32822f7a-a915-4e89-b777-45aeba9f0cec",
   "metadata": {},
   "outputs": [],
   "source": [
    "ahn_total_points = 0\n",
    "for f in list(ahn_raw_gdf['filename']):\n",
    "    file_path = pathlib.Path(ahn_raw_folder) / f\n",
    "    with laspy.open(file_path) as las:\n",
    "        ahn_total_points += las.header.point_count"
   ]
  },
  {
   "cell_type": "code",
   "execution_count": null,
   "id": "fcc899bb-76bc-462f-a0c9-1c37012cb153",
   "metadata": {},
   "outputs": [],
   "source": [
    "from typing import List\n",
    "from typing import Optional\n",
    "\n",
    "pbar = tqdm(total=ahn_total_points, unit=' points', unit_scale=True, unit_divisor=1000, smoothing=0)\n",
    "\n",
    "writers: List[Optional[laspy.LasWriter]] = [None] * len(ams_subtiles_gdf)\n",
    "\n",
    "for _, row in ahn_raw_gdf.iterrows():\n",
    "    ahn_file = row['filename']\n",
    "    ahn_shape = row['geometry']\n",
    "    pbar.set_postfix_str(ahn_file)\n",
    "    file_path = pathlib.Path(ahn_raw_folder) / ahn_file\n",
    "    with laspy.open(file_path) as file:\n",
    "        try:\n",
    "            for points in file.chunk_iterator(points_per_iter):\n",
    "\n",
    "                # For performance we need to use copy\n",
    "                # so that the underlying arrays are contiguous\n",
    "                points_xy = np.vstack((points.x.copy(), points.y.copy())).T\n",
    "\n",
    "                for i, row in ams_subtiles_gdf.iterrows():\n",
    "                    if not sg.box(*row['bounds']).intersects(ahn_shape):\n",
    "                        continue\n",
    "                    mask = clip_utils.rectangle_clip(points_xy, row['bounds'])\n",
    "\n",
    "                    if np.any(mask):\n",
    "                        if writers[i] is None:\n",
    "                            output_path = pathlib.Path(ahn_subtile_folder) / f\"ahn4_{row['name']}.laz\"\n",
    "                            writers[i] = laspy.open(output_path,\n",
    "                                                    mode='w',\n",
    "                                                    header=file.header)\n",
    "                        sub_points = points[mask]\n",
    "                        writers[i].write_points(sub_points)\n",
    "\n",
    "                pbar.update(len(points))\n",
    "        finally: pass\n",
    "pbar.close()\n",
    "\n",
    "for writer in writers:\n",
    "    if writer is not None:\n",
    "        writer.close()"
   ]
  },
  {
   "cell_type": "code",
   "execution_count": null,
   "id": "64d2503f-fb48-4f41-acbe-6da095bbea77",
   "metadata": {},
   "outputs": [],
   "source": []
  }
 ],
 "metadata": {
  "kernelspec": {
   "display_name": "Python 3 (ipykernel)",
   "language": "python",
   "name": "python3"
  },
  "language_info": {
   "codemirror_mode": {
    "name": "ipython",
    "version": 3
   },
   "file_extension": ".py",
   "mimetype": "text/x-python",
   "name": "python",
   "nbconvert_exporter": "python",
   "pygments_lexer": "ipython3",
   "version": "3.9.7"
  }
 },
 "nbformat": 4,
 "nbformat_minor": 5
}
