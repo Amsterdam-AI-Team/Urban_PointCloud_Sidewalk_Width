{
 "cells": [
  {
   "cell_type": "markdown",
   "id": "20f8c133",
   "metadata": {},
   "source": [
    "# Scrape and parse reference data from BGT\n",
    "This notebook scrapes sidewalk (\"voetpad\") polygons from the Amsterdam BGT API. The documentation of this data source can be found at:\n",
    "- https://www.amsterdam.nl/stelselpedia/bgt-index/producten-bgt/prodspec-bgt-dgn-imgeo"
   ]
  },
  {
   "cell_type": "code",
   "execution_count": null,
   "id": "ffb98ee6",
   "metadata": {},
   "outputs": [],
   "source": [
    "from tqdm.notebook import tqdm\n",
    "\n",
    "import upcp.scrapers.ams_bgt_scraper as ams_bgt_scraper\n",
    "import upcp.utils.las_utils as las_utils\n",
    "import upcp.utils.csv_utils as csv_utils"
   ]
  },
  {
   "cell_type": "code",
   "execution_count": null,
   "id": "edc64b0d",
   "metadata": {},
   "outputs": [],
   "source": [
    "# Output file for the BGT fuser.\n",
    "bgt_data_file = '../datasets/bgt/bgt_voetpad.csv'\n",
    "csv_headers = ['bgt_name', 'polygon', 'x_min', 'y_max', 'x_max', 'y_min']\n",
    "    \n",
    "# Road and parking spots layers in BGT\n",
    "bgt_layers = ['BGT_WGL_voetpad']"
   ]
  },
  {
   "cell_type": "code",
   "execution_count": null,
   "id": "0886d671-98c8-48b6-a59b-9fdaa5234429",
   "metadata": {},
   "outputs": [],
   "source": [
    "def get_data_for_bbox(bbox, layers):\n",
    "    content = []\n",
    "    for layer in layers:\n",
    "        # Scrape data from the Amsterdam WFS, this will return a json response.\n",
    "        json_content = ams_bgt_scraper.scrape_amsterdam_bgt(layer, bbox=bbox)\n",
    "\n",
    "        # Parse the downloaded json response.\n",
    "        content += ams_bgt_scraper.parse_polygons(json_content)\n",
    "    return content"
   ]
  },
  {
   "cell_type": "markdown",
   "id": "dab253e4",
   "metadata": {},
   "source": [
    "## Single tile or list of tiles"
   ]
  },
  {
   "cell_type": "code",
   "execution_count": null,
   "id": "b2703050",
   "metadata": {},
   "outputs": [],
   "source": [
    "# Specify individual tiles\n",
    "tiles = ['2386_9702']\n",
    "\n",
    "# Use all tiles in a folder\n",
    "# tiles = las_utils.get_tilecodes_from_folder('../datasets/pointclouds/run1/')\n",
    "\n",
    "bgt_data = []\n",
    "\n",
    "tile_tqdm = tqdm(tiles, unit='tile', smoothing=0)\n",
    "for tilecode in tile_tqdm:\n",
    "    tile_tqdm.set_postfix_str(tilecode)\n",
    "    \n",
    "    bbox = las_utils.get_bbox_from_tile_code(tilecode, padding=0)\n",
    "    bgt_data.extend(get_data_for_bbox(bbox, bgt_layers))\n",
    "\n",
    "# Write the csv\n",
    "csv_utils.write_csv(bgt_data_file, bgt_data, csv_headers)"
   ]
  },
  {
   "cell_type": "markdown",
   "id": "139a4b10-7e4b-4fec-95f8-7fe761c4ffcd",
   "metadata": {},
   "source": [
    "## Scrape an area based on all files in a folder"
   ]
  },
  {
   "cell_type": "code",
   "execution_count": null,
   "id": "e72f4e78",
   "metadata": {},
   "outputs": [],
   "source": [
    "folder = '../datasets/pointclouds/run1/'\n",
    "bbox = las_utils.get_bbox_from_las_folder(folder, padding=0)\n",
    "bgt_data = get_data_for_bbox(bbox, bgt_layers)\n",
    "\n",
    "# Write the csv\n",
    "csv_utils.write_csv(bgt_data_file, bgt_data, csv_headers)"
   ]
  }
 ],
 "metadata": {
  "kernelspec": {
   "display_name": "Python 3 (ipykernel)",
   "language": "python",
   "name": "python3"
  },
  "language_info": {
   "codemirror_mode": {
    "name": "ipython",
    "version": 3
   },
   "file_extension": ".py",
   "mimetype": "text/x-python",
   "name": "python",
   "nbconvert_exporter": "python",
   "pygments_lexer": "ipython3",
   "version": "3.8.12"
  }
 },
 "nbformat": 4,
 "nbformat_minor": 5
}
