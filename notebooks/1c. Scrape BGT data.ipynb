{
 "cells": [
  {
   "cell_type": "markdown",
   "id": "20f8c133",
   "metadata": {},
   "source": [
    "# Scrape and parse reference data\n",
    "\n",
    "This notebook helps to scrape the necessary reference data (mainly BGT-like data in the form of points and polygons)."
   ]
  },
  {
   "cell_type": "code",
   "execution_count": null,
   "id": "ffb98ee6",
   "metadata": {},
   "outputs": [],
   "source": [
    "# Add project src to path.\n",
    "import set_path\n",
    "\n",
    "import shapely.geometry as sg\n",
    "import pandas as pd\n",
    "import geopandas as gpd\n",
    "from tqdm.notebook import tqdm\n",
    "tqdm.pandas()\n",
    "\n",
    "import upcp.scrapers.ams_bgt_scraper as ams_bgt_scraper\n",
    "import upcp.utils.las_utils as las_utils\n",
    "import upcp.utils.csv_utils as csv_utils\n",
    "\n",
    "import upc_sw.poly_utils as poly_utils"
   ]
  },
  {
   "cell_type": "code",
   "execution_count": null,
   "id": "0886d671-98c8-48b6-a59b-9fdaa5234429",
   "metadata": {},
   "outputs": [],
   "source": [
    "# Helper functions\n",
    "\n",
    "def get_bgt_data_for_bbox(bbox, layers):\n",
    "    content = []\n",
    "    for layer in layers:\n",
    "        # Scrape data from the Amsterdam WFS, this will return a json response.\n",
    "        json_content = ams_bgt_scraper.scrape_amsterdam_bgt(layer, bbox=bbox)\n",
    "\n",
    "        # Parse the downloaded json response.\n",
    "        content += ams_bgt_scraper.parse_polygons(json_content)\n",
    "    return content\n",
    "\n",
    "# This method scrapes data precisely for the needed area.\n",
    "def process_tiles(tiles, bgt_layers, out_file, csv_headers):\n",
    "    bgt_data = []\n",
    "\n",
    "    tile_tqdm = tqdm(tiles, unit='tile', smoothing=0)\n",
    "    for tilecode in tile_tqdm:\n",
    "        tile_tqdm.set_postfix_str(tilecode)\n",
    "\n",
    "        bbox = las_utils.get_bbox_from_tile_code(tilecode, padding=0)\n",
    "        bgt_data.extend(get_bgt_data_for_bbox(bbox, bgt_layers))\n",
    "\n",
    "    # Write the csv\n",
    "    csv_utils.write_csv(out_file, bgt_data, csv_headers)\n",
    "\n",
    "# This method scrapes all data in an area defined as the bounding box for all point cloud tiles \n",
    "# in a given folder. This results in some unnecessary data, but is much faster if the folder \n",
    "# contains many files, and / or is densily packed within the bounding box.\n",
    "def process_folder(folder, bgt_layers, out_file, csv_headers):\n",
    "    bbox = las_utils.get_bbox_from_las_folder(folder, padding=0)\n",
    "    bgt_data = get_bgt_data_for_bbox(bbox, bgt_layers)\n",
    "\n",
    "    # Write the csv\n",
    "    csv_utils.write_csv(out_file, bgt_data, csv_headers)"
   ]
  },
  {
   "cell_type": "code",
   "execution_count": null,
   "id": "41bdee3c-7020-4125-90bb-e239dbb3014c",
   "metadata": {},
   "outputs": [],
   "source": [
    "### SETTINGS ###\n",
    "\n",
    "# Specify individual tiles to scrape data for\n",
    "tiles = ['2386_9702']\n",
    "\n",
    "# Or, use all tiles in a given folder\n",
    "# pc_folder = '../datasets/pointclouds/run1/'\n",
    "# tiles = las_utils.get_tilecodes_from_folder(pc_folder)\n",
    "\n",
    "# Output file for the BGT fuser.\n",
    "bgt_folder = '../datasets/bgt/'"
   ]
  },
  {
   "cell_type": "markdown",
   "id": "093e50af-29fa-40ac-9357-7e3fb0069d30",
   "metadata": {},
   "source": [
    "## 1. Sidewalk polygons\n",
    "\n",
    "We first scrape sidewalk (\"voetpad\") polygons from the Amsterdam BGT API. The documentation of this data source can be found at:\n",
    "- https://www.amsterdam.nl/stelselpedia/bgt-index/producten-bgt/prodspec-bgt-dgn-imgeo"
   ]
  },
  {
   "cell_type": "code",
   "execution_count": null,
   "id": "edc64b0d",
   "metadata": {},
   "outputs": [],
   "source": [
    "# Output file\n",
    "bgt_data_file = f'{bgt_folder}bgt_voetpad.csv'\n",
    "\n",
    "# BGT layers and output headers\n",
    "bgt_layers = ['BGT_WGL_voetpad']\n",
    "csv_headers = ['bgt_name', 'polygon', 'x_min', 'y_max', 'x_max', 'y_min']"
   ]
  },
  {
   "cell_type": "code",
   "execution_count": null,
   "id": "b2703050",
   "metadata": {},
   "outputs": [],
   "source": [
    "# Process single tile or list of tiles\n",
    "process_tiles(tiles, bgt_layers, bgt_data_file, csv_headers)"
   ]
  },
  {
   "cell_type": "code",
   "execution_count": null,
   "id": "e72f4e78",
   "metadata": {},
   "outputs": [],
   "source": [
    "# Or, scrape an area based on all files in a folder\n",
    "folder = '../datasets/pointclouds/run1/'\n",
    "process_folder(folder, bgt_layers, bgt_data_file, csv_headers)"
   ]
  },
  {
   "cell_type": "markdown",
   "id": "afe85c85-2d67-434a-b0ed-9a94562e0a52",
   "metadata": {},
   "source": [
    "## 2. \"Terras\" polygons\n",
    "\n",
    "We use these to mark \"horeca\" terraces as static obstacles.\n",
    "\n",
    "See https://data.amsterdam.nl/datasets/GsY50tEkoJKCGw/"
   ]
  },
  {
   "cell_type": "code",
   "execution_count": null,
   "id": "7a8e3bbb-0b82-4b8b-b2f8-b84576eb760f",
   "metadata": {},
   "outputs": [],
   "source": [
    "# Output file\n",
    "terras_data_file = f'{bgt_folder}terras_polygons.csv'\n",
    "\n",
    "terras_database = 'temp_terras_shapes.csv'"
   ]
  },
  {
   "cell_type": "code",
   "execution_count": null,
   "id": "61386d0c-2a23-44bf-b93c-64f12547d987",
   "metadata": {},
   "outputs": [],
   "source": [
    "# TODO use a more pythonic download method\n",
    "!wget https://api.data.amsterdam.nl/dcatd/datasets/GsY50tEkoJKCGw/purls/4 -O {terras_database}"
   ]
  },
  {
   "cell_type": "code",
   "execution_count": null,
   "id": "2efc9549-bfcb-4128-bac7-39b505bf30a4",
   "metadata": {},
   "outputs": [],
   "source": [
    "df = pd.read_csv(terras_database)\n",
    "df['geometry'] = df.progress_apply(lambda row: row['terrasgeometrie'].split(';')[1], axis=1)\n",
    "\n",
    "terras_gpd = gpd.GeoDataFrame({'name': ['terras']*len(df),\n",
    "                               'geometry': gpd.GeoSeries.from_wkt(df['geometry'])},\n",
    "                              geometry='geometry', crs='wgs84')\n",
    "terras_gpd.to_crs(epsg='28992', inplace=True)\n",
    "df = None"
   ]
  },
  {
   "cell_type": "code",
   "execution_count": null,
   "id": "64851f7e-0939-47f3-b16d-7e2362c82de2",
   "metadata": {},
   "outputs": [],
   "source": [
    "# Fix invalid polygons\n",
    "terras_gpd['geometry'] = terras_gpd['geometry'].progress_apply(poly_utils.fix_invalid)"
   ]
  },
  {
   "cell_type": "code",
   "execution_count": null,
   "id": "bce4aab8-a70b-4da6-bd85-1511242e70c9",
   "metadata": {},
   "outputs": [],
   "source": [
    "terras_data = []\n",
    "target_area = sg.MultiPolygon([poly_utils.tilecode_to_poly(tilecode) for tilecode in tiles])\n",
    "terras_gpd = terras_gpd[terras_gpd.intersects(target_area)]\n",
    "\n",
    "# Write to CSV\n",
    "terras_gpd.to_csv(terras_data_file, index=False)"
   ]
  },
  {
   "cell_type": "markdown",
   "id": "375cd177-d725-4f60-9b84-87d6abcf7ca7",
   "metadata": {},
   "source": [
    "## 3. BGT obstacle points"
   ]
  },
  {
   "cell_type": "code",
   "execution_count": null,
   "id": "01dbb02e-fcbf-483d-8791-44f880484f9a",
   "metadata": {},
   "outputs": [],
   "source": [
    "csv_headers = ['bgt_type', 'x', 'y']\n",
    "\n",
    "# BGT layers (without the traffic sign layer)\n",
    "bgt_layers = ['BGTPLUS_PAL_lichtmast', 'BGTPLUS_VGT_boom']"
   ]
  },
  {
   "cell_type": "code",
   "execution_count": null,
   "id": "a6f65f01-57fc-4dbc-86c4-3129ba786188",
   "metadata": {},
   "outputs": [],
   "source": [
    "# Scrape traffic sign data from NDW. The municipality code of Amsterdam is GM0363.\n",
    "json_content = ndw_scraper.scrape_ndw(town_code='GM0363')\n",
    "\n",
    "# Parse the downloaded json response.\n",
    "parsed_content = ndw_scraper.parse_traffic_signs(json_content, bbox)\n",
    "bgt_point_objects_csv += parsed_content"
   ]
  },
  {
   "cell_type": "code",
   "execution_count": null,
   "id": "8d24a632-02f4-4809-986d-434471111af4",
   "metadata": {},
   "outputs": [],
   "source": [
    "obst_2018 = gpd.read_file('../datasets/obstakels_totaal_2018.gpkg')"
   ]
  },
  {
   "cell_type": "code",
   "execution_count": null,
   "id": "933624e9-6f48-4221-a304-06ec1370378f",
   "metadata": {},
   "outputs": [],
   "source": []
  }
 ],
 "metadata": {
  "kernelspec": {
   "display_name": "Python 3 (ipykernel)",
   "language": "python",
   "name": "python3"
  },
  "language_info": {
   "codemirror_mode": {
    "name": "ipython",
    "version": 3
   },
   "file_extension": ".py",
   "mimetype": "text/x-python",
   "name": "python",
   "nbconvert_exporter": "python",
   "pygments_lexer": "ipython3",
   "version": "3.8.12"
  }
 },
 "nbformat": 4,
 "nbformat_minor": 5
}
