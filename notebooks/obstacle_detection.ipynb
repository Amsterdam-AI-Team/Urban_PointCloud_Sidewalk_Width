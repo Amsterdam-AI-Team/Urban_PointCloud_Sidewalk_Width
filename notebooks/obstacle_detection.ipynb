{
 "cells": [
  {
   "cell_type": "code",
   "execution_count": 1,
   "id": "f67c5c2a",
   "metadata": {},
   "outputs": [],
   "source": [
    "import laspy\n",
    "import numpy as np"
   ]
  },
  {
   "cell_type": "markdown",
   "id": "6c32fec8",
   "metadata": {},
   "source": [
    "## Merge the two point clouds\n",
    "We used the (data fusion project) to label objects in the point cloud with the classes: !!TODO!!. It is unknown to which classes the remaining points belong. Therefore, we use the M3C2 algorithm in CloudCompare to remove non-static objects from the point cloud data.\n"
   ]
  },
  {
   "cell_type": "code",
   "execution_count": 2,
   "id": "1959a182",
   "metadata": {},
   "outputs": [],
   "source": [
    "cloud_labelled = '../datasets/pointclouds/processed_2386_9702.laz'\n",
    "cloud_m3c2 = '../datasets/pointclouds/processed_2386_9702_m3c2.laz'"
   ]
  },
  {
   "cell_type": "code",
   "execution_count": 3,
   "id": "86741e91",
   "metadata": {},
   "outputs": [
    {
     "name": "stdout",
     "output_type": "stream",
     "text": [
      "Saving LAS lidar data\n"
     ]
    }
   ],
   "source": [
    "def read_pointcloud(las_path, jm=False):\n",
    "    pointcloud = laspy.read(las_path)\n",
    "\n",
    "    if 'label' not in pointcloud.point_format.extra_dimension_names:\n",
    "        labels = np.zeros((len(pointcloud.x),), dtype='uint16')\n",
    "    else:\n",
    "        labels = pointcloud.label\n",
    "\n",
    "    points = np.vstack((pointcloud.x, pointcloud.y, pointcloud.z, labels)).T\n",
    "    \n",
    "    if jm:\n",
    "        exclude_label = 0\n",
    "        mask = labels != exclude_label\n",
    "        points = points[mask, :]\n",
    "\n",
    "    return points\n",
    "\n",
    "def merge_pointclouds(arr1, arr2):\n",
    "    # Concatenating operation\n",
    "    # axis = 1 implies that it is being done column-wise\n",
    "    merged = np.concatenate((arr1, arr2), axis=0)\n",
    "    return merged\n",
    "    \n",
    "def write_las(points, labels, las_path):\n",
    "    \"\"\"\n",
    "    Saving the ndarray points data into a .las file.\n",
    "    :param content: ndarray\n",
    "    :param las_path: string, path to save the las file\n",
    "    \"\"\"\n",
    "    print('Saving LAS lidar data')\n",
    "    \n",
    "    outfile = laspy.create(file_version=\"1.2\", point_format=3)\n",
    "    outfile.x = points[:, 0]\n",
    "    outfile.y = points[:, 1]\n",
    "    outfile.z = points[:, 2]\n",
    "    outfile.add_extra_dim(laspy.ExtraBytesParams(name=\"label\", type=\"uint16\",\n",
    "                          description=\"Labels\"))\n",
    "    outfile.label = labels\n",
    "    outfile.write(las_path)\n",
    "    \n",
    "een = read_pointcloud(cloud_labelled, True)\n",
    "twee = read_pointcloud(cloud_m3c2)\n",
    "\n",
    "merged = merge_pointclouds(een, twee)\n",
    "\n",
    "write_las(merged[:, [0,1,2]], merged[:, 3], 'jm.laz')"
   ]
  },
  {
   "cell_type": "markdown",
   "id": "145d63b5",
   "metadata": {},
   "source": [
    "## Scrape and parse reference data from BGT\n",
    "Download sidewalk data\n"
   ]
  },
  {
   "cell_type": "code",
   "execution_count": 4,
   "id": "2970ce2e",
   "metadata": {},
   "outputs": [],
   "source": [
    "# Add project src to path.\n",
    "#import set_path\n",
    "\n",
    "import upcp.scrapers.ams_bgt_scraper as ams_bgt_scraper\n",
    "import upcp.scrapers.ndw_scraper as ndw_scraper\n",
    "import upcp.utils.las_utils as las_utils\n",
    "import upcp.utils.csv_utils as csv_utils\n",
    "import upcp.utils.bgt_utils as bgt_utils\n",
    "import upcp.utils.ahn_utils as ahn_utils\n",
    "from upcp.utils import clip_utils"
   ]
  },
  {
   "cell_type": "code",
   "execution_count": 5,
   "id": "73ff9228",
   "metadata": {},
   "outputs": [],
   "source": [
    "# Single file\n",
    "tilecode = '2386_9702'\n",
    "bbox = las_utils.get_bbox_from_tile_code(tilecode, padding=0)"
   ]
  },
  {
   "cell_type": "code",
   "execution_count": 6,
   "id": "5e1af709",
   "metadata": {},
   "outputs": [],
   "source": [
    "# Output file for the BGT fuser.\n",
    "bgt_data_file = '../datasets/bgt/bgt_voetpad_demo.csv'\n",
    "csv_headers = ['bgt_name', 'polygon', 'x_min', 'y_max', 'x_max', 'y_min']\n",
    "    \n",
    "# Road and parking spots layers in BGT\n",
    "bgt_layers = ['BGT_WGL_voetpad']"
   ]
  },
  {
   "cell_type": "code",
   "execution_count": 7,
   "id": "888c2b76",
   "metadata": {},
   "outputs": [
    {
     "name": "stderr",
     "output_type": "stream",
     "text": [
      "OMP: Info #271: omp_set_nested routine deprecated, please use omp_set_max_active_levels instead.\n"
     ]
    }
   ],
   "source": [
    "# Scrape data from the Amsterdam WFS and parse the json.\n",
    "bgt_road_polygons_csv = []\n",
    "for layer in bgt_layers:\n",
    "    # Scrape data from the Amsterdam WFS, this will return a json response.\n",
    "    json_content = ams_bgt_scraper.scrape_amsterdam_bgt(layer, bbox=bbox)\n",
    "    \n",
    "    # Parse the downloaded json response.\n",
    "    parsed_content = ams_bgt_scraper.parse_polygons(json_content)\n",
    "    bgt_road_polygons_csv += parsed_content\n",
    "\n",
    "# Write the csv\n",
    "csv_utils.write_csv(bgt_data_file, bgt_road_polygons_csv, csv_headers)"
   ]
  },
  {
   "cell_type": "markdown",
   "id": "e2d9c524",
   "metadata": {},
   "source": [
    "## Filter all the points in the point cloud above sidewalk\n",
    "(NOTE: same code as building fuser)"
   ]
  },
  {
   "cell_type": "code",
   "execution_count": 8,
   "id": "52f4adb2",
   "metadata": {},
   "outputs": [],
   "source": [
    "import matplotlib.pyplot as plt"
   ]
  },
  {
   "cell_type": "code",
   "execution_count": 9,
   "id": "42f584f2",
   "metadata": {},
   "outputs": [],
   "source": [
    "# Create reader for BGT road part polygons.\n",
    "bgt_road_file = '../datasets/bgt/bgt_voetpad_demo.csv'\n",
    "bgt_sidewalk_reader = bgt_utils.BGTPolyReader(bgt_file=bgt_road_file)\n",
    "\n",
    "sidewalk_polygons = bgt_sidewalk_reader.filter_tile(\n",
    "                            tilecode, bgt_types=['voetpad'],\n",
    "                            padding=0, offset=0,\n",
    "                            merge=False)"
   ]
  },
  {
   "cell_type": "code",
   "execution_count": 10,
   "id": "9fb3b70d",
   "metadata": {},
   "outputs": [
    {
     "data": {
      "image/png": "[encoded data removed]",
      "text/plain": [
       "<Figure size 432x288 with 1 Axes>"
      ]
     },
     "metadata": {
      "needs_background": "light"
     },
     "output_type": "display_data"
    }
   ],
   "source": [
    "for poly in sidewalk_polygons:\n",
    "    x,y = poly.exterior.xy\n",
    "    plt.plot(x,y)"
   ]
  },
  {
   "cell_type": "code",
   "execution_count": 11,
   "id": "08b7a05a",
   "metadata": {},
   "outputs": [],
   "source": [
    "# We need elevation data to determine object height above ground.\n",
    "ahn_data_folder = '../datasets/ahn/'\n",
    "ahn_reader = ahn_utils.NPZReader(ahn_data_folder)"
   ]
  },
  {
   "cell_type": "code",
   "execution_count": 12,
   "id": "d13d53cc",
   "metadata": {},
   "outputs": [
    {
     "name": "stdout",
     "output_type": "stream",
     "text": [
      "Saving LAS lidar data\n"
     ]
    }
   ],
   "source": [
    "def get_label_mask(points, mask, tilecode, sidewalk_polygons, ahn_reader):\n",
    "    ahn_eps = 0.2\n",
    "    \n",
    "    label_mask = np.zeros((len(points),), dtype=bool)\n",
    "\n",
    "    if len(sidewalk_polygons) == 0:\n",
    "        print('No sidewalk polygons found for tile, skipping.')\n",
    "        return label_mask\n",
    "\n",
    "    if mask is None:\n",
    "        mask = np.ones((len(points),), dtype=bool)\n",
    "    mask_ids = np.where(mask)[0]\n",
    "\n",
    "    obstacle_mask = np.zeros((len(mask_ids),), dtype=bool)\n",
    "    for polygon in sidewalk_polygons:\n",
    "        clip_mask = clip_utils.poly_clip(points[mask, :], polygon)\n",
    "        obstacle_mask = obstacle_mask | clip_mask\n",
    "\n",
    "    # TODO remove \n",
    "    if ahn_reader is not None:\n",
    "        bld_z = ahn_reader.interpolate(\n",
    "            tilecode, points[mask, :], mask, 'ground_surface')\n",
    "        bld_z_valid = np.isfinite(bld_z)\n",
    "        ahn_mask = (points[mask_ids[bld_z_valid], 2]\n",
    "                    <= bld_z[bld_z_valid] + 4) # Alles boven de 4 meter boven de grond\n",
    "        obstacle_mask[bld_z_valid] = obstacle_mask[bld_z_valid] & ahn_mask\n",
    "\n",
    "    label_mask[mask_ids[obstacle_mask]] = True\n",
    "\n",
    "    return label_mask\n",
    "\n",
    "def create_mask(labels, exclude_labels):\n",
    "    \"\"\"Create mask based on `exclude_labels`.\"\"\"\n",
    "    mask = np.ones((len(labels),), dtype=bool)\n",
    "    if len(exclude_labels) > 0:\n",
    "        for exclude_label in exclude_labels:\n",
    "            mask = mask & (labels != exclude_label)\n",
    "    return mask\n",
    "\n",
    "labels = merged[:, 3]\n",
    "exclude_label = [1, 2, 7] # We need to ignore ground, buildings and cars\n",
    "mask = create_mask(labels, exclude_label)\n",
    "\n",
    "# Mask obstacles\n",
    "label_mask = get_label_mask(merged[:, [0,1,2]], mask, tilecode, sidewalk_polygons, ahn_reader)\n",
    "\n",
    "labels[label_mask] = 33\n",
    "\n",
    "write_las(merged[:, [0,1,2]], labels, 'sidewalk_filter.laz')"
   ]
  },
  {
   "cell_type": "markdown",
   "id": "a27d4ded",
   "metadata": {},
   "source": [
    "## Obstacle detection on sidewalks based change detection and BGT information"
   ]
  },
  {
   "cell_type": "code",
   "execution_count": 13,
   "id": "14a481a5",
   "metadata": {},
   "outputs": [],
   "source": [
    "# We need elevation data to determine object height above ground.\n",
    "ahn_data_folder = '../datasets/ahn/'\n",
    "ahn_reader = ahn_utils.NPZReader(ahn_data_folder)"
   ]
  },
  {
   "cell_type": "code",
   "execution_count": 14,
   "id": "3fabaf68",
   "metadata": {},
   "outputs": [],
   "source": [
    "mask = (labels == 33)"
   ]
  },
  {
   "cell_type": "code",
   "execution_count": 15,
   "id": "f2938d40",
   "metadata": {},
   "outputs": [],
   "source": [
    "from accessibility import Accessibility"
   ]
  },
  {
   "cell_type": "code",
   "execution_count": 17,
   "id": "eb7c33fe",
   "metadata": {},
   "outputs": [
    {
     "name": "stdout",
     "output_type": "stream",
     "text": [
      "Saving LAS lidar data\n"
     ]
    }
   ],
   "source": [
    "# Min and max height above AHN plane\n",
    "obstacle_params = {'min_height': 0, 'max_height': 1.8}\n",
    "\n",
    "# 3D Obstacle blobs to 2D polygons using a clustering algorithm and BGT road data.\n",
    "accesibility_class = Accessibility(33, ahn_reader, min_component_size=100, bgt_file=bgt_data_file, grid_size=0.05,\n",
    "                            params=obstacle_params)\n",
    "\n",
    "label_mask = accesibility_class.get_obstacle_polygons(merged[:, [0,1,2]], mask, tilecode)\n",
    "\n",
    "labels[label_mask] = 44\n",
    "\n",
    "write_las(merged[:, [0,1,2]], labels, 'obstacle1.laz')"
   ]
  },
  {
   "cell_type": "code",
   "execution_count": 18,
   "id": "7a99deac",
   "metadata": {},
   "outputs": [],
   "source": [
    "import pandas as pd\n",
    "from pathlib import Path\n",
    "import ast\n",
    "from shapely.geometry import Polygon\n",
    "\n",
    "def get_obstacles():\n",
    "    \"\"\"\n",
    "    Return a list of polygons representing each of the roads found in\n",
    "    the area represented by the given CycloMedia tile-code.\n",
    "    \"\"\"\n",
    "    obstacles = [ast.literal_eval(poly) for poly in df_obstacles.obstacle.values]\n",
    "    poly_obstacles = [Polygon(rds)\n",
    "                      for rds in obstacles]\n",
    "    return poly_obstacles\n",
    "\n",
    "bgt_obstacle_file = '../datasets/bgt/bgt_obstacle_demo.csv'\n",
    "df_obstacles = pd.read_csv(Path(bgt_obstacle_file))\n",
    "obstacles = get_obstacles()"
   ]
  },
  {
   "cell_type": "code",
   "execution_count": 19,
   "id": "3bfee9b1",
   "metadata": {},
   "outputs": [
    {
     "data": {
      "image/png": "[encoded data removed]",
      "text/plain": [
       "<Figure size 432x288 with 1 Axes>"
      ]
     },
     "metadata": {
      "needs_background": "light"
     },
     "output_type": "display_data"
    }
   ],
   "source": [
    "for obstacle in obstacles:\n",
    "    x,y = obstacle.exterior.xy\n",
    "    plt.plot(x,y)"
   ]
  }
 ],
 "metadata": {
  "kernelspec": {
   "display_name": "Python 3 (ipykernel)",
   "language": "python",
   "name": "python3"
  },
  "language_info": {
   "codemirror_mode": {
    "name": "ipython",
    "version": 3
   },
   "file_extension": ".py",
   "mimetype": "text/x-python",
   "name": "python",
   "nbconvert_exporter": "python",
   "pygments_lexer": "ipython3",
   "version": "3.8.12"
  }
 },
 "nbformat": 4,
 "nbformat_minor": 5
}
