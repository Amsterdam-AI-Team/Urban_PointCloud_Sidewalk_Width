{
 "cells": [
  {
   "cell_type": "markdown",
   "id": "4cc82fe8-d804-4c40-8026-d212d38b1cb0",
   "metadata": {},
   "source": [
    "# Compute residual sidewalk width\n",
    "\n",
    "This notebook demonstrates how to compute the residual sidewalk width based on obstacles extracted from MLS points clouds. Using two scans of the same area we apply change detection to extract static obstacles above the sidewalk. These are then used to compute the residual width.\n",
    "\n",
    "Input (for each tile):\n",
    "- Two pointcloud scans\n",
    "- Elevation data (unless gronund points are labaled)\n",
    "- Sidewalk polygons\n",
    "\n",
    "Output:\n",
    "- Polygons of static obstacles above the sidewalk\n",
    "- Paths traversing the sidewalk annotated with minimal width per meter"
   ]
  },
  {
   "cell_type": "code",
   "execution_count": null,
   "id": "08637b78-b8ee-479f-b1a9-d1b5ed858ddf",
   "metadata": {},
   "outputs": [],
   "source": [
    "# Add project src to path.\n",
    "import set_path\n",
    "\n",
    "import numpy as np\n",
    "import pathlib\n",
    "from tqdm.notebook import tqdm\n",
    "\n",
    "import upcp.fusion as fusion\n",
    "import upcp.utils.ahn_utils as ahn_utils\n",
    "import upcp.utils.bgt_utils as bgt_utils\n",
    "import upcp.utils.log_utils as log_utils\n",
    "import upcp.utils.las_utils as las_utils\n",
    "from upcp.labels import Labels\n",
    "\n",
    "# Local imports\n",
    "import upc_sw.sw_utils as sw_utils"
   ]
  },
  {
   "cell_type": "code",
   "execution_count": null,
   "id": "807b5a51-9443-40fa-8f10-0a58ef1a561d",
   "metadata": {},
   "outputs": [],
   "source": [
    "# Data folders.\n",
    "ahn_data_folder = '../datasets/ahn/'\n",
    "bgt_data_file = '../datasets/bgt/bgt_voetpad.csv'\n",
    "pc_data_folder = '../datasets/pointclouds/'\n",
    "pc_file_prefix = 'processed'\n",
    "\n",
    "ground_labels = [Labels.GROUND, Labels.ROAD]"
   ]
  },
  {
   "cell_type": "code",
   "execution_count": null,
   "id": "b473345f-63ed-4d69-98bc-975f313ad70d",
   "metadata": {},
   "outputs": [],
   "source": [
    "# AHN elevation reader.\n",
    "ahn_reader = ahn_utils.NPZReader(data_folder=ahn_data_folder, caching=False)\n",
    "\n",
    "# Sidewalk polygon reader.\n",
    "sw_poly_reader = bgt_utils.BGTPolyReader(bgt_file=bgt_data_file)\n",
    "\n",
    "# Ground fuser using pre-processed AHN data.\n",
    "ground_fuser = fusion.AHNFuser(Labels.GROUND, ahn_reader=ahn_reader,\n",
    "                               target='ground', epsilon=0.2,\n",
    "                               params={'bottom': 0., 'buffer': 0.02})"
   ]
  },
  {
   "cell_type": "code",
   "execution_count": null,
   "id": "6de46348-817f-4452-bcb8-8cc2b25c5390",
   "metadata": {},
   "outputs": [],
   "source": [
    "# Create folders for obstacle files.\n",
    "for run in ['run1', 'run2']:\n",
    "    new_path = f'{pc_data_folder}obstacles_{run}'\n",
    "    pathlib.Path(new_path).mkdir(parents=True, exist_ok=True)"
   ]
  },
  {
   "cell_type": "code",
   "execution_count": null,
   "id": "57cb36c8-694c-4892-a46a-b505b889b373",
   "metadata": {},
   "outputs": [],
   "source": [
    "# Get a list of all tilecodes for which we have two runs.\n",
    "all_tiles = (las_utils.get_tilecodes_from_folder(f'{pc_data_folder}run1/')\n",
    "             .union(las_utils.get_tilecodes_from_folder(f'{pc_data_folder}run2/')))"
   ]
  },
  {
   "cell_type": "code",
   "execution_count": null,
   "id": "eaece3af-6a54-492a-9c78-c4e1ce3f5c81",
   "metadata": {},
   "outputs": [],
   "source": [
    "tile_tqdm = tqdm(all_tiles, unit='tile', smoothing=0)\n",
    "\n",
    "for tilecode in tile_tqdm:\n",
    "    tile_tqdm.set_postfix_str(tilecode)\n",
    "    print(f'Processing tile {tilecode}...')\n",
    "    for run in ['run1', 'run2']:\n",
    "        file = f'{pc_data_folder}{run}/{pc_file_prefix}_{tilecode}.laz'\n",
    "        \n",
    "        # Load pointcloud data.\n",
    "        points, labels = sw_utils.read_las(file, extra_val='label')\n",
    "        obstacle_mask = np.zeros((len(points),), dtype=bool)\n",
    "        \n",
    "        # Load ground points.\n",
    "        if np.count_nonzero(labels) > 0:\n",
    "            print('Using labels found in pointcloud file.')\n",
    "            ground_mask = sw_utils.create_label_mask(labels, target_labels=ground_labels)\n",
    "        else:\n",
    "            mask = np.ones((len(points),), dtype=bool)\n",
    "            ground_mask = ground_fuser.get_label_mask(points, labels, mask, tilecode)\n",
    "        \n",
    "        # Extract points aboves sidewalk.\n",
    "        mask_ids = np.where(~ground_mask)[0]\n",
    "        sw_mask = sw_utils.sidewalk_clip(\n",
    "                                points[~ground_mask], tilecode, sw_poly_reader=sw_poly_reader,\n",
    "                                ahn_reader=ahn_reader, max_height=2.0)\n",
    "        obstacle_mask[mask_ids] = sw_mask\n",
    "        \n",
    "        # Save the new point cloud\n",
    "        out_file = f'{pc_data_folder}obstacles_{run}/obst_{tilecode}.laz'\n",
    "        sw_utils.write_las(points[obstacle_mask], out_file, values=labels[obstacle_mask])"
   ]
  },
  {
   "cell_type": "code",
   "execution_count": null,
   "id": "2b1d38e7-e783-4b45-b921-1d9dbda59166",
   "metadata": {},
   "outputs": [],
   "source": []
  }
 ],
 "metadata": {
  "kernelspec": {
   "display_name": "Python 3 (ipykernel)",
   "language": "python",
   "name": "python3"
  },
  "language_info": {
   "codemirror_mode": {
    "name": "ipython",
    "version": 3
   },
   "file_extension": ".py",
   "mimetype": "text/x-python",
   "name": "python",
   "nbconvert_exporter": "python",
   "pygments_lexer": "ipython3",
   "version": "3.8.12"
  }
 },
 "nbformat": 4,
 "nbformat_minor": 5
}
