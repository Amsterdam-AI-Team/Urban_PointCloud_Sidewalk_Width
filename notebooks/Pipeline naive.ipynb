{
 "cells": [
  {
   "cell_type": "markdown",
   "id": "6c32fec8",
   "metadata": {},
   "source": [
    "## Pipeline naive\n",
    "TODO tell what we do here\n",
    "\n",
    "We used the (data fusion project) to label objects in the point cloud with the classes: !!TODO!!. It is unknown to which classes the remaining points belong. Therefore, we use the M3C2 algorithm in CloudCompare to remove non-static objects from the point cloud data.\n"
   ]
  },
  {
   "cell_type": "code",
   "execution_count": 1,
   "id": "f67c5c2a",
   "metadata": {},
   "outputs": [],
   "source": [
    "import laspy # TODO also imported in classes\n",
    "import numpy as np # TODO also imported in classes\n",
    "import glob\n",
    "import os\n",
    "\n",
    "import upcp.utils.bgt_utils as bgt_utils\n",
    "import upcp.utils.ahn_utils as ahn_utils\n",
    "\n",
    "from las_dingen import *"
   ]
  },
  {
   "cell_type": "markdown",
   "id": "e76005de",
   "metadata": {},
   "source": [
    "## Filter all the points in the point cloud above sidewalk\n"
   ]
  },
  {
   "cell_type": "code",
   "execution_count": 2,
   "id": "8c276bfc",
   "metadata": {},
   "outputs": [],
   "source": [
    "cloud_run1 = '../datasets/pointclouds/run1/'\n",
    "cloud_run2 = '../datasets/pointclouds/run2/'\n",
    "\n",
    "max_obstacle_height = 2.0 # In meters\n",
    "label_ground = 1\n",
    "label_obstacle = 15\n",
    "\n",
    "exclude_label = [1, 2, 7] # We need to ignore ground, buildings and cars\n",
    "\n",
    "# Create reader for BGT sidewalk part polygons.\n",
    "bgt_road_file = '../datasets/bgt/bgt_voetpad_demo.csv'\n",
    "bgt_sidewalk_reader = bgt_utils.BGTPolyReader(bgt_file=bgt_road_file)\n",
    "\n",
    "# We need elevation data to determine object height above ground.\n",
    "ahn_data_folder = '../datasets/ahn/'\n",
    "ahn_reader = ahn_utils.NPZReader(ahn_data_folder)"
   ]
  },
  {
   "cell_type": "code",
   "execution_count": 3,
   "id": "cbefaced",
   "metadata": {},
   "outputs": [],
   "source": [
    "# TODO move\n",
    "\n",
    "from sidewalk_filter import *\n",
    "\n",
    "def things(points, labels, bgt_sidewalk_reader, tilecode):\n",
    "    # TODO maak mooier\n",
    "    sidewalk_polygons = bgt_sidewalk_reader.filter_tile(\n",
    "                            tilecode, bgt_types=['voetpad'],\n",
    "                            padding=0, offset=0,\n",
    "                            merge=False)\n",
    "    \n",
    "    # TODO check if bgt_voetpad_demo is empty!\n",
    "    \n",
    "    mask = create_mask(labels, exclude_label)\n",
    "\n",
    "    # Mask obstacles\n",
    "    label_mask = get_label_mask(points, mask, tilecode, sidewalk_polygons, ahn_reader, max_obstacle_height)\n",
    "\n",
    "    return label_mask"
   ]
  },
  {
   "cell_type": "code",
   "execution_count": 4,
   "id": "8a344685",
   "metadata": {},
   "outputs": [
    {
     "name": "stderr",
     "output_type": "stream",
     "text": [
      "OMP: Info #271: omp_set_nested routine deprecated, please use omp_set_max_active_levels instead.\n"
     ]
    },
    {
     "name": "stdout",
     "output_type": "stream",
     "text": [
      "Saving LAS lidar data\n",
      "Saving LAS lidar data\n"
     ]
    }
   ],
   "source": [
    "# Iterate over laz files in folder\n",
    "for path in glob.glob(f'{cloud_run1}*.laz'):\n",
    "    filename = os.path.basename(path)\n",
    "    \n",
    "    # Start with reading laz file from the other folder\n",
    "    for pc in [cloud_run2, cloud_run1]:\n",
    "        # Read\n",
    "        try: # TODO of os.path.exists\n",
    "            points, labels = read_las(os.path.join(pc, filename))\n",
    "        except FileNotFoundError:\n",
    "            print(f'File {filename} is not present in the other folder. Next...') # TODO better text\n",
    "            break\n",
    "\n",
    "        # Check if pc contains ground points\n",
    "        if label_ground not in labels:\n",
    "            print(f\"No ground/sidewalk points available for file {filename}. Next...\")\n",
    "            break\n",
    "\n",
    "        # Filter all the points above sidewalk\n",
    "        tilecode = os.path.splitext(filename)[0].split('processed_')[1]\n",
    "        label_mask = things(points, labels, bgt_sidewalk_reader, tilecode)\n",
    "\n",
    "        # Write laz files (TODO make sidewalk folder if not exists)\n",
    "        write_las(points[label_mask], labels[label_mask], os.path.join(pc, 'sidewalk', filename))"
   ]
  },
  {
   "cell_type": "markdown",
   "id": "52eaef8b",
   "metadata": {},
   "source": [
    "## Perform change detection using M3C2 algorithm"
   ]
  },
  {
   "cell_type": "code",
   "execution_count": 5,
   "id": "e2a12196",
   "metadata": {},
   "outputs": [],
   "source": [
    "# TODO"
   ]
  },
  {
   "cell_type": "markdown",
   "id": "a27d4ded",
   "metadata": {},
   "source": [
    "## Obstacle detection on sidewalks"
   ]
  },
  {
   "cell_type": "code",
   "execution_count": 6,
   "id": "cad72267",
   "metadata": {},
   "outputs": [],
   "source": [
    "from accessibility import Accessibility"
   ]
  },
  {
   "cell_type": "code",
   "execution_count": 9,
   "id": "eb7c33fe",
   "metadata": {},
   "outputs": [
    {
     "name": "stdout",
     "output_type": "stream",
     "text": [
      "Saving LAS lidar data\n"
     ]
    }
   ],
   "source": [
    "bgt_data_file = '../datasets/bgt/bgt_voetpad_demo.csv' # TODO\n",
    "\n",
    "# Read M3C2 result point cloud\n",
    "points, m3c2, labels = read_las_m3c2('../datasets/pointclouds/m3c2/M3C2_2386_9702.laz') # TODO\n",
    "\n",
    "# Filter for static objects\n",
    "mask = ((m3c2 > -0.2) & (m3c2 < 0.2))\n",
    "\n",
    "# 3D Obstacle blobs to 2D polygons using a clustering algorithm and BGT road data.\n",
    "accesibility_class = Accessibility(min_component_size=100, bgt_file=bgt_data_file, grid_size=0.05)\n",
    "\n",
    "label_mask = accesibility_class.get_obstacle_polygons(points, mask, tilecode)\n",
    "\n",
    "write_las(points[label_mask], labels[label_mask], '../datasets/pointclouds/obstacles/obstacles_2386_9702.laz')\n",
    "# TODO remove label scalar field\n"
   ]
  },
  {
   "cell_type": "code",
   "execution_count": null,
   "id": "4aabeb46",
   "metadata": {},
   "outputs": [],
   "source": []
  }
 ],
 "metadata": {
  "kernelspec": {
   "display_name": "Python 3 (ipykernel)",
   "language": "python",
   "name": "python3"
  },
  "language_info": {
   "codemirror_mode": {
    "name": "ipython",
    "version": 3
   },
   "file_extension": ".py",
   "mimetype": "text/x-python",
   "name": "python",
   "nbconvert_exporter": "python",
   "pygments_lexer": "ipython3",
   "version": "3.8.12"
  }
 },
 "nbformat": 4,
 "nbformat_minor": 5
}
