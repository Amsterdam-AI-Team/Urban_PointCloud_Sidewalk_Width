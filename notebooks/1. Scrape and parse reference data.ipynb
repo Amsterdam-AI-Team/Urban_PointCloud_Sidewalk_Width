{
 "cells": [
  {
   "cell_type": "markdown",
   "id": "20f8c133",
   "metadata": {},
   "source": [
    "# Scrape and parse reference data\n",
    "\n",
    "This notebook helps to scrape the necessary reference data (mainly BGT-like data in the form of points and polygons). Please follow [this link](https://github.com/Amsterdam-AI-Team/Urban_PointCloud_Processing/blob/main/notebooks/1.%20AHN%20preprocessing.ipynb) to download and pre-process AHN elevation data in .npz format."
   ]
  },
  {
   "cell_type": "code",
   "execution_count": null,
   "id": "ffb98ee6",
   "metadata": {},
   "outputs": [],
   "source": [
    "# Add project src to path.\n",
    "import set_path\n",
    "\n",
    "import pathlib\n",
    "import pandas as pd\n",
    "import geopandas as gpd\n",
    "\n",
    "from upcp.utils import las_utils\n",
    "\n",
    "import upc_sw.poly_utils as poly_utils\n",
    "import upc_sw.scraping_utils as scraping"
   ]
  },
  {
   "cell_type": "code",
   "execution_count": null,
   "id": "41bdee3c-7020-4125-90bb-e239dbb3014c",
   "metadata": {},
   "outputs": [],
   "source": [
    "### SETTINGS ###\n",
    "\n",
    "# Specify individual tiles to scrape data for\n",
    "tiles = ['2386_9702']\n",
    "\n",
    "# Or, use all tiles in a given folder\n",
    "pc_folder = '../datasets/pointcloud/'\n",
    "# tiles = las_utils.get_tilecodes_from_folder(pc_folder)\n",
    "\n",
    "# Output file for the BGT fuser.\n",
    "bgt_folder = '../datasets/bgt/'\n",
    "\n",
    "# Create folder if it does not exist\n",
    "pathlib.Path(bgt_folder).mkdir(parents=True, exist_ok=True)"
   ]
  },
  {
   "cell_type": "markdown",
   "id": "093e50af-29fa-40ac-9357-7e3fb0069d30",
   "metadata": {},
   "source": [
    "## 1. Sidewalk polygons\n",
    "\n",
    "We first scrape sidewalk (\"voetpad\") polygons from the Amsterdam BGT API. The documentation of this data source can be found at:\n",
    "- https://www.amsterdam.nl/stelselpedia/bgt-index/producten-bgt/prodspec-bgt-dgn-imgeo"
   ]
  },
  {
   "cell_type": "code",
   "execution_count": null,
   "id": "edc64b0d",
   "metadata": {},
   "outputs": [],
   "source": [
    "# Output file\n",
    "bgt_data_file = f'{bgt_folder}bgt_voetpad.gpkg'\n",
    "\n",
    "# BGT layers and output headers\n",
    "bgt_layers = ['BGT_WGL_voetpad']"
   ]
  },
  {
   "cell_type": "code",
   "execution_count": null,
   "id": "b2703050",
   "metadata": {},
   "outputs": [],
   "source": [
    "# Process single tile or list of tiles\n",
    "gdf = scraping.process_tiles(tiles, bgt_layers)"
   ]
  },
  {
   "cell_type": "code",
   "execution_count": null,
   "id": "e72f4e78",
   "metadata": {},
   "outputs": [],
   "source": [
    "# Or, scrape an area based on all files in a folder\n",
    "gdf = scraping.process_folder(pc_folder, bgt_layers)"
   ]
  },
  {
   "cell_type": "code",
   "execution_count": null,
   "id": "9c4462c0-d247-4907-bb7f-fd58067a0d47",
   "metadata": {},
   "outputs": [],
   "source": [
    "# Save as GeoPackage file\n",
    "gdf.to_file(bgt_data_file, driver='GPKG')"
   ]
  },
  {
   "cell_type": "markdown",
   "id": "afe85c85-2d67-434a-b0ed-9a94562e0a52",
   "metadata": {},
   "source": [
    "## 2. \"Terras\" polygons\n",
    "\n",
    "We use these to mark \"horeca\" terraces as static obstacles.\n",
    "\n",
    "See https://data.amsterdam.nl/datasets/GsY50tEkoJKCGw/"
   ]
  },
  {
   "cell_type": "code",
   "execution_count": null,
   "id": "7a8e3bbb-0b82-4b8b-b2f8-b84576eb760f",
   "metadata": {},
   "outputs": [],
   "source": [
    "# Output file\n",
    "terras_data_file = f'{bgt_folder}terras_data.gpkg'"
   ]
  },
  {
   "cell_type": "code",
   "execution_count": null,
   "id": "2efc9549-bfcb-4128-bac7-39b505bf30a4",
   "metadata": {},
   "outputs": [],
   "source": [
    "# Process single tile or list of tiles\n",
    "gdf = scraping.process_tiles(tiles, None, scraper=scraping.get_terras_data_for_bbox)"
   ]
  },
  {
   "cell_type": "code",
   "execution_count": null,
   "id": "f51d5d18-cc18-49d6-bd42-093108095406",
   "metadata": {},
   "outputs": [],
   "source": [
    "# Or, scrape an area based on all files in a folder\n",
    "gdf = scraping.process_folder(pc_folder, None, scraper=scraping.get_terras_data_for_bbox)"
   ]
  },
  {
   "cell_type": "code",
   "execution_count": null,
   "id": "bce4aab8-a70b-4da6-bd85-1511242e70c9",
   "metadata": {},
   "outputs": [],
   "source": [
    "# Save as GeoPackage file\n",
    "gdf.to_file(terras_data_file, driver='GPKG')"
   ]
  },
  {
   "cell_type": "markdown",
   "id": "375cd177-d725-4f60-9b84-87d6abcf7ca7",
   "metadata": {
    "tags": []
   },
   "source": [
    "## 3. BGT obstacle points\n",
    "\n",
    "For now only trees."
   ]
  },
  {
   "cell_type": "code",
   "execution_count": null,
   "id": "e463748a-edc0-4d0b-84f7-982b7438a849",
   "metadata": {},
   "outputs": [],
   "source": [
    "# Output file\n",
    "obstacle_data_file = f'{bgt_folder}obstacle_data.gpkg'\n",
    "\n",
    "# BGT layers and output headers\n",
    "bgt_layers = ['BGTPLUS_VGT_boom']"
   ]
  },
  {
   "cell_type": "code",
   "execution_count": null,
   "id": "f1cc20a9-c85b-4bbd-a579-8953d0d28a62",
   "metadata": {},
   "outputs": [],
   "source": [
    "# Process single tile or list of tiles\n",
    "gdf = scraping.process_tiles(tiles, bgt_layers)"
   ]
  },
  {
   "cell_type": "code",
   "execution_count": null,
   "id": "adfaeb8f-fab3-4f5a-a607-2370d181aa42",
   "metadata": {},
   "outputs": [],
   "source": [
    "# Or, scrape an area based on all files in a folder\n",
    "gdf = scraping.process_folder(pc_folder, bgt_layers)"
   ]
  },
  {
   "cell_type": "code",
   "execution_count": null,
   "id": "77b91031-d9bd-4a18-bfc4-257897bdf0ea",
   "metadata": {},
   "outputs": [],
   "source": [
    "# Save as GeoPackage file\n",
    "gdf.to_file(obstacle_data_file, driver='GPKG')"
   ]
  },
  {
   "cell_type": "code",
   "execution_count": null,
   "id": "6a0f286d-6769-44a5-a2e0-ca188856fb4a",
   "metadata": {},
   "outputs": [],
   "source": []
  }
 ],
 "metadata": {
  "kernelspec": {
   "display_name": "Python 3 (ipykernel)",
   "language": "python",
   "name": "python3"
  },
  "language_info": {
   "codemirror_mode": {
    "name": "ipython",
    "version": 3
   },
   "file_extension": ".py",
   "mimetype": "text/x-python",
   "name": "python",
   "nbconvert_exporter": "python",
   "pygments_lexer": "ipython3",
   "version": "3.8.12"
  }
 },
 "nbformat": 4,
 "nbformat_minor": 5
}
