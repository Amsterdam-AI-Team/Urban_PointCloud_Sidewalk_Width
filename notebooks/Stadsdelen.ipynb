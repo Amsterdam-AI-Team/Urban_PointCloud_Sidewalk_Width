{
 "cells": [
  {
   "cell_type": "markdown",
   "id": "20f8c133",
   "metadata": {},
   "source": [
    "# Split data by Stadsdeel"
   ]
  },
  {
   "cell_type": "code",
   "execution_count": null,
   "id": "ffb98ee6",
   "metadata": {},
   "outputs": [],
   "source": [
    "%matplotlib widget\n",
    "import matplotlib.pyplot as plt\n",
    "import pandas as pd\n",
    "import geopandas as gpd\n",
    "import shapely.geometry as sg"
   ]
  },
  {
   "cell_type": "code",
   "execution_count": null,
   "id": "cd589cf4-1f19-46cc-9d00-264374db6181",
   "metadata": {},
   "outputs": [],
   "source": [
    "# Load neighbourhood data and convert to RD\n",
    "neighbourhood_data = '../datasets/neighbourhoods_amsterdam.csv'\n",
    "\n",
    "neighbourhood_gdf = pd.read_csv(neighbourhood_data, index_col=0)\n",
    "neighbourhood_gdf['geometry'] = gpd.GeoSeries.from_wkt(neighbourhood_gdf['geometry'])\n",
    "neighbourhood_gdf = gpd.GeoDataFrame(neighbourhood_gdf, crs='wgs84')\n",
    "neighbourhood_gdf.to_crs(epsg='28992', inplace=True)"
   ]
  },
  {
   "cell_type": "code",
   "execution_count": null,
   "id": "0412bb57-ea80-4e74-b1d3-cea74bffb056",
   "metadata": {},
   "outputs": [],
   "source": [
    "district_dict = {'B': 'haven',\n",
    "                 'T': 'zuid_oost',\n",
    "                 'A': 'centrum',\n",
    "                 'K': 'zuid',\n",
    "                 'E': 'west',\n",
    "                 'M': 'oost',\n",
    "                 'N': 'noord',\n",
    "                 'F': 'nieuw_west'}"
   ]
  },
  {
   "cell_type": "code",
   "execution_count": null,
   "id": "cd5a7c48-fe3b-4b37-b35c-8decd34c11b3",
   "metadata": {},
   "outputs": [],
   "source": [
    "neighbourhood_gdf['naam'] = neighbourhood_gdf['district_code'].replace(district_dict)\n",
    "stadsdelen_poly = neighbourhood_gdf[['naam', 'geometry']].dissolve(by='naam')"
   ]
  },
  {
   "cell_type": "code",
   "execution_count": null,
   "id": "f353b42b-fc09-4aea-bf37-2bd988aeff8b",
   "metadata": {},
   "outputs": [],
   "source": [
    "stadsdelen_poly.to_file('stadsdelen.gpkg', driver='GPKG')"
   ]
  },
  {
   "cell_type": "code",
   "execution_count": null,
   "id": "f47d3d19-2b8e-431d-9e1b-2b6e6ab3fa46",
   "metadata": {},
   "outputs": [],
   "source": [
    "# Load tile data\n",
    "tiles_file = f'../datasets/tile_info/AMS_run1_tiles_list.csv'\n",
    "all_tiles_gdf = pd.read_csv(tiles_file)\n",
    "all_tiles_gdf['geometry'] = all_tiles_gdf.apply(\n",
    "    lambda row: sg.box(row.RD_X, row.RD_Y, row.RD_X+50, row.RD_Y+50), axis=1)\n",
    "all_tiles_gdf = gpd.GeoDataFrame(all_tiles_gdf)"
   ]
  },
  {
   "cell_type": "code",
   "execution_count": null,
   "id": "63dd5e99-d1b0-4695-8a3e-6acfdfe7653e",
   "metadata": {},
   "outputs": [],
   "source": [
    "drop_folders = ('nl-amsd-200605-7415-laz', 'nl-amsd-200625-7415-laz')\n",
    "all_tiles_gdf = all_tiles_gdf[~all_tiles_gdf['folder'].isin(drop_folders)]"
   ]
  },
  {
   "cell_type": "code",
   "execution_count": null,
   "id": "a068aa9f-a0c9-4781-bb0b-673ddded3daf",
   "metadata": {},
   "outputs": [],
   "source": [
    "folder_dict = {'nl-amsd-200519-7415-laz': 'haven',\n",
    "               'nl-amsd-200604-7415-laz': 'zuid_oost',\n",
    "               'nl-amsd-200606-7415-laz': 'centrum',\n",
    "               'nl-amsd-200608-7415-laz': 'zuid',\n",
    "               'nl-amsd-200618-7415-laz': 'west',\n",
    "               'nl-amsd-200622-7415-laz': 'oost',\n",
    "               'nl-amsd-200702-7415-laz': 'noord',\n",
    "               'nl-amsd-200707-7415-laz': 'nieuw_west'}"
   ]
  },
  {
   "cell_type": "code",
   "execution_count": null,
   "id": "a4fbe7d6-4cc6-4a91-8216-b79040609a4b",
   "metadata": {},
   "outputs": [],
   "source": [
    "all_tiles_gdf['naam'] = all_tiles_gdf['folder'].replace(folder_dict)"
   ]
  },
  {
   "cell_type": "code",
   "execution_count": null,
   "id": "79bd6680-bd22-4209-a2ed-2d88fd56ef76",
   "metadata": {},
   "outputs": [],
   "source": [
    "stadsdelen_tiles = all_tiles_gdf[['naam', 'geometry']].dissolve(by='naam')"
   ]
  },
  {
   "cell_type": "code",
   "execution_count": null,
   "id": "8dc1fad6-4447-42c0-be21-cd7a09ca7c1e",
   "metadata": {},
   "outputs": [],
   "source": [
    "fig, ax = plt.subplots(figsize=(8,6))\n",
    "\n",
    "stadsdelen_tiles.plot(ax=ax, cmap='tab10', alpha=0.5, legend=True)\n",
    "stadsdelen_poly.boundary.plot(ax=ax, edgecolor='black')\n",
    "# stadsdelen_poly.plot(ax=ax, column='district_code', cmap='tab10', legend=True)"
   ]
  },
  {
   "cell_type": "code",
   "execution_count": null,
   "id": "6a0f286d-6769-44a5-a2e0-ca188856fb4a",
   "metadata": {},
   "outputs": [],
   "source": [
    "plt.savefig('stadsdelen_dekking.png', ax=ax, dpi=200)"
   ]
  },
  {
   "cell_type": "code",
   "execution_count": null,
   "id": "49663ff9-00e8-4a53-b08f-ce9083519140",
   "metadata": {},
   "outputs": [],
   "source": []
  }
 ],
 "metadata": {
  "kernelspec": {
   "display_name": "Python 3 (ipykernel)",
   "language": "python",
   "name": "python3"
  },
  "language_info": {
   "codemirror_mode": {
    "name": "ipython",
    "version": 3
   },
   "file_extension": ".py",
   "mimetype": "text/x-python",
   "name": "python",
   "nbconvert_exporter": "python",
   "pygments_lexer": "ipython3",
   "version": "3.9.7"
  }
 },
 "nbformat": 4,
 "nbformat_minor": 5
}
