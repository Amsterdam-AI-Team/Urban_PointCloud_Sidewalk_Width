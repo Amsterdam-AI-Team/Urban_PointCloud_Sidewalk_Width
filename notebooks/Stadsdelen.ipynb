{
 "cells": [
  {
   "cell_type": "markdown",
   "id": "20f8c133",
   "metadata": {},
   "source": [
    "# Split data by Stadsdeel"
   ]
  },
  {
   "cell_type": "code",
   "execution_count": null,
   "id": "ffb98ee6",
   "metadata": {},
   "outputs": [],
   "source": [
    "%matplotlib widget\n",
    "import matplotlib.pyplot as plt\n",
    "import pandas as pd\n",
    "import geopandas as gpd\n",
    "import shapely.geometry as sg\n",
    "import pathlib\n",
    "\n",
    "import set_path\n",
    "import upc_sw.poly_utils as poly_utils\n",
    "import upc_sw.scraping_utils as scraping"
   ]
  },
  {
   "cell_type": "code",
   "execution_count": null,
   "id": "0412bb57-ea80-4e74-b1d3-cea74bffb056",
   "metadata": {},
   "outputs": [],
   "source": [
    "district_dict = {'B': 'haven',\n",
    "                 'T': 'zuid_oost',\n",
    "                 'A': 'centrum',\n",
    "                 'K': 'zuid',\n",
    "                 'E': 'west',\n",
    "                 'M': 'oost',\n",
    "                 'N': 'noord',\n",
    "                 'F': 'nieuw_west'}"
   ]
  },
  {
   "cell_type": "code",
   "execution_count": null,
   "id": "a068aa9f-a0c9-4781-bb0b-673ddded3daf",
   "metadata": {},
   "outputs": [],
   "source": [
    "cyclomedia_dict = {'nl-amsd-200519-7415-laz': 'haven',\n",
    "                   'nl-amsd-200604-7415-laz': 'zuid_oost',\n",
    "                   'nl-amsd-200605-7415-laz': 'ring',\n",
    "                   'nl-amsd-200606-7415-laz': 'centrum',\n",
    "                   'nl-amsd-200608-7415-laz': 'zuid',\n",
    "                   'nl-amsd-200618-7415-laz': 'west',\n",
    "                   'nl-amsd-200622-7415-laz': 'oost',\n",
    "                   'nl-amsd-200702-7415-laz': 'noord',\n",
    "                   'nl-amsd-200707-7415-laz': 'nieuw_west',\n",
    "                   'nl-amsd-200823-7415-laz': 'haven',\n",
    "                   'nl-amsd-200824-7415-laz': 'west',\n",
    "                   'nl-amsd-200903-7415-laz': 'zuid',\n",
    "                   'nl-amsd-200904-7415-laz': 'ring',\n",
    "                   'nl-amsd-200918-7415-laz': 'noord',\n",
    "                   'nl-amsd-200920-7415-laz': 'nieuw_west',\n",
    "                   'nl-amsd-200921-7415-laz': 'centrum',\n",
    "                   'nl-amsd-200923-7415-laz': 'zuid_oost',\n",
    "                   'nl-amsv-201001-7415-laz': 'oost'}"
   ]
  },
  {
   "cell_type": "code",
   "execution_count": null,
   "id": "eb4a6c9c-5449-4f67-94a4-e38ed7351466",
   "metadata": {},
   "outputs": [],
   "source": [
    "# Stadsdelen dataset\n",
    "stadsdelen_folder = '../../datasets/Stadsdelen/'\n",
    "\n",
    "for (_, stdsdl) in district_dict.items():\n",
    "    pathlib.Path(f'{stadsdelen_folder}{stdsdl}').mkdir(parents=True, exist_ok=True)"
   ]
  },
  {
   "cell_type": "markdown",
   "id": "385bcdd6-f934-4a5d-aa46-c448688b0f77",
   "metadata": {},
   "source": [
    "## Generate polygons for each stadsdeel"
   ]
  },
  {
   "cell_type": "code",
   "execution_count": null,
   "id": "cd589cf4-1f19-46cc-9d00-264374db6181",
   "metadata": {},
   "outputs": [],
   "source": [
    "# Load neighbourhood data and convert to RD\n",
    "neighbourhood_data = '../datasets/neighbourhoods_amsterdam.csv'\n",
    "\n",
    "neighbourhood_gdf = pd.read_csv(neighbourhood_data, index_col=0)\n",
    "neighbourhood_gdf['geometry'] = gpd.GeoSeries.from_wkt(neighbourhood_gdf['geometry'])\n",
    "neighbourhood_gdf = gpd.GeoDataFrame(neighbourhood_gdf, crs='wgs84')\n",
    "neighbourhood_gdf.to_crs(epsg='28992', inplace=True)"
   ]
  },
  {
   "cell_type": "code",
   "execution_count": null,
   "id": "cd5a7c48-fe3b-4b37-b35c-8decd34c11b3",
   "metadata": {},
   "outputs": [],
   "source": [
    "neighbourhood_gdf['naam'] = neighbourhood_gdf['district_code'].replace(district_dict)\n",
    "stadsdelen_poly = neighbourhood_gdf[['naam', 'geometry']].dissolve(by='naam')"
   ]
  },
  {
   "cell_type": "code",
   "execution_count": null,
   "id": "f353b42b-fc09-4aea-bf37-2bd988aeff8b",
   "metadata": {},
   "outputs": [],
   "source": [
    "stadsdelen_poly.to_file('../../datasets/Stadsdelen/stadsdelen.gpkg', driver='GPKG')"
   ]
  },
  {
   "cell_type": "markdown",
   "id": "bc4f63e2-9afd-42cf-a2a6-d255fe72abe8",
   "metadata": {},
   "source": [
    "## Generate polygons for all CycloMedia tiles epr stadsdeel"
   ]
  },
  {
   "cell_type": "code",
   "execution_count": null,
   "id": "f47d3d19-2b8e-431d-9e1b-2b6e6ab3fa46",
   "metadata": {},
   "outputs": [],
   "source": [
    "# Load tile data\n",
    "tiles_file = f'../datasets/tile_info/AMS_run2_tiles_list.csv'\n",
    "all_tiles_gdf = pd.read_csv(tiles_file)\n",
    "all_tiles_gdf['geometry'] = all_tiles_gdf.apply(\n",
    "    lambda row: sg.box(row.RD_X, row.RD_Y, row.RD_X+50, row.RD_Y+50), axis=1)\n",
    "all_tiles_gdf = gpd.GeoDataFrame(all_tiles_gdf)"
   ]
  },
  {
   "cell_type": "code",
   "execution_count": null,
   "id": "63dd5e99-d1b0-4695-8a3e-6acfdfe7653e",
   "metadata": {},
   "outputs": [],
   "source": [
    "drop_folders = ['nl-amsd-200625-7415-laz']\n",
    "all_tiles_gdf = all_tiles_gdf[~all_tiles_gdf['folder'].isin(drop_folders)]"
   ]
  },
  {
   "cell_type": "code",
   "execution_count": null,
   "id": "40f0d397-605b-4df4-ab25-6c0896b6b870",
   "metadata": {},
   "outputs": [],
   "source": [
    "all_tiles_gdf = all_tiles_gdf[all_tiles_gdf['n_points'] >= 10000]"
   ]
  },
  {
   "cell_type": "code",
   "execution_count": null,
   "id": "a4fbe7d6-4cc6-4a91-8216-b79040609a4b",
   "metadata": {},
   "outputs": [],
   "source": [
    "all_tiles_gdf['naam'] = all_tiles_gdf['folder'].replace(cyclomedia_dict)"
   ]
  },
  {
   "cell_type": "code",
   "execution_count": null,
   "id": "79bd6680-bd22-4209-a2ed-2d88fd56ef76",
   "metadata": {},
   "outputs": [],
   "source": [
    "stadsdelen_tiles = all_tiles_gdf[['naam', 'geometry']].dissolve(by='naam')"
   ]
  },
  {
   "cell_type": "code",
   "execution_count": null,
   "id": "500ec082-4d12-4de7-ada3-e32ae2bfdd77",
   "metadata": {},
   "outputs": [],
   "source": [
    "all_tiles_gdf.to_file('run2_tiles_10k.gpkg', driver='GPKG')"
   ]
  },
  {
   "cell_type": "markdown",
   "id": "56b3dcb1-32ad-4026-863b-b7154413cb26",
   "metadata": {},
   "source": [
    "## Plot data"
   ]
  },
  {
   "cell_type": "code",
   "execution_count": null,
   "id": "8dc1fad6-4447-42c0-be21-cd7a09ca7c1e",
   "metadata": {},
   "outputs": [],
   "source": [
    "fig, ax = plt.subplots(figsize=(8,6))\n",
    "\n",
    "stadsdelen_tiles.plot(ax=ax, cmap='tab10', alpha=0.5, legend=True)\n",
    "stadsdelen_poly.boundary.plot(ax=ax, edgecolor='black')\n",
    "# stadsdelen_poly.plot(ax=ax, column='district_code', cmap='tab10', legend=True)"
   ]
  },
  {
   "cell_type": "code",
   "execution_count": null,
   "id": "6a0f286d-6769-44a5-a2e0-ca188856fb4a",
   "metadata": {},
   "outputs": [],
   "source": [
    "plt.savefig('stadsdelen_dekking.png', ax=ax, dpi=200)"
   ]
  },
  {
   "cell_type": "markdown",
   "id": "d34f0174-afa8-44b5-a193-1d1b54536b21",
   "metadata": {},
   "source": [
    "## Generate BGT per stadsdeel"
   ]
  },
  {
   "cell_type": "code",
   "execution_count": null,
   "id": "f3821572-e0a0-42f0-ac72-42e88ddab3c5",
   "metadata": {},
   "outputs": [],
   "source": [
    "stadsdelen_poly.reset_index()"
   ]
  },
  {
   "cell_type": "code",
   "execution_count": null,
   "id": "b9a4f8ac-c323-4f2c-96cf-8a6d803294bf",
   "metadata": {},
   "outputs": [],
   "source": [
    "for _, row in stadsdelen_poly.reset_index().iterrows():\n",
    "    bgt_folder = f\"{stadsdelen_folder}{row['naam']}/\"\n",
    "    target_area = row['geometry']\n",
    "\n",
    "    (x_min, y_min, x_max, y_max) = target_area.bounds\n",
    "    bbox = ((x_min, y_max), (x_max, y_min))\n",
    "\n",
    "    # Output file\n",
    "    bgt_data_file = f'{bgt_folder}bgt_voetpad.gpkg'\n",
    "    terras_data_file = f'{bgt_folder}terras_data.gpkg'\n",
    "    obstacle_data_file = f'{bgt_folder}obstacle_data.gpkg'\n",
    "\n",
    "    # Voetpad\n",
    "    bgt_layers = ['BGT_WGL_voetpad']\n",
    "    gdf = scraping.get_bgt_data_for_bbox(bbox, bgt_layers)\n",
    "    gdf = gdf[gdf.intersects(target_area)]\n",
    "    if len(gdf) > 0:\n",
    "        gdf.to_file(bgt_data_file, driver='GPKG')\n",
    "\n",
    "    # Terras\n",
    "    gdf = scraping.get_terras_data_for_bbox(bbox)\n",
    "    gdf = gdf[gdf.intersects(target_area)]\n",
    "    if len(gdf) > 0:\n",
    "        gdf.to_file(terras_data_file, driver='GPKG')\n",
    "\n",
    "    # Obstacles\n",
    "    bgt_layers = ['BGTPLUS_VGT_boom']\n",
    "    gdf = scraping.get_bgt_data_for_bbox(bbox, bgt_layers)\n",
    "    gdf = gdf[gdf.intersects(target_area)]\n",
    "    if len(gdf) > 0:\n",
    "        gdf.to_file(obstacle_data_file, driver='GPKG')"
   ]
  },
  {
   "cell_type": "code",
   "execution_count": null,
   "id": "b174fffe-0c00-4a2b-87e5-db071a88fdbb",
   "metadata": {},
   "outputs": [],
   "source": []
  }
 ],
 "metadata": {
  "kernelspec": {
   "display_name": "Python 3 (ipykernel)",
   "language": "python",
   "name": "python3"
  },
  "language_info": {
   "codemirror_mode": {
    "name": "ipython",
    "version": 3
   },
   "file_extension": ".py",
   "mimetype": "text/x-python",
   "name": "python",
   "nbconvert_exporter": "python",
   "pygments_lexer": "ipython3",
   "version": "3.9.7"
  }
 },
 "nbformat": 4,
 "nbformat_minor": 5
}
