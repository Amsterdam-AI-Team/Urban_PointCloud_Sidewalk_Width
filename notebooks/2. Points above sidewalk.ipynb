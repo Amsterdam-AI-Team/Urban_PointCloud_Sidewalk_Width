{
 "cells": [
  {
   "cell_type": "markdown",
   "id": "4636d31d",
   "metadata": {},
   "source": [
    "# Filter all the points in the point cloud above sidewalk\n",
    "In the previous notebook we scraped and parsed sidewalk data in the form of polygons. With the help of this reference data, we can filter all the points in the point cloud cloud that are above the sidewalk. This preprocessing step is performed in this notebook to reduce the amount of points in the point cloud. The provided input point cloud in this example is already partly labelled using the [Urban_PointCloud_Processing](https://github.com/Amsterdam-AI-Team/Urban_PointCloud_Processing) project with the classes: ground, buildings and cars."
   ]
  },
  {
   "cell_type": "code",
   "execution_count": null,
   "id": "f67c5c2a",
   "metadata": {},
   "outputs": [],
   "source": [
    "import glob\n",
    "import os\n",
    "from pathlib import Path\n",
    "\n",
    "import upcp.utils.bgt_utils as bgt_utils\n",
    "import upcp.utils.ahn_utils as ahn_utils\n",
    "from upcp.labels import Labels\n",
    "\n",
    "from las_dingen import *\n",
    "from sidewalk_filter import *"
   ]
  },
  {
   "cell_type": "code",
   "execution_count": null,
   "id": "f8ad3101",
   "metadata": {},
   "outputs": [],
   "source": [
    "partly_labelled_folder = '../datasets/pointclouds/partly_labelled/'\n",
    "sidewalk_filter_folder = '../datasets/pointclouds/sidewalk/'\n",
    "cloud_run1 = 'run1/'\n",
    "cloud_run2 = 'run2/'\n",
    "\n",
    "max_obstacle_height = 2.0 # In meters\n",
    "\n",
    "exclude_label = [Labels.GROUND, Labels.BUILDING, Labels.CAR]\n",
    "\n",
    "# Create reader for BGT sidewalk part polygons.\n",
    "bgt_road_file = '../datasets/bgt/bgt_voetpad_demo.csv'\n",
    "bgt_sidewalk_reader = bgt_utils.BGTPolyReader(bgt_file=bgt_road_file)\n",
    "\n",
    "# We need elevation data to determine the height of points above ground.\n",
    "ahn_data_folder = '../datasets/ahn/'\n",
    "ahn_reader = ahn_utils.NPZReader(ahn_data_folder)"
   ]
  },
  {
   "cell_type": "code",
   "execution_count": null,
   "id": "1638b8ce",
   "metadata": {},
   "outputs": [],
   "source": [
    "# Make new folder structure if not exists\n",
    "for run in [cloud_run2, cloud_run1]:\n",
    "    new_path = os.path.join(sidewalk_filter_folder, run)\n",
    "    Path(new_path).mkdir(parents=True, exist_ok=True)\n",
    "\n",
    "# Iterate over laz files in folder\n",
    "for path in glob.glob(f'{os.path.join(partly_labelled_folder, cloud_run1)}*.laz'):\n",
    "    filename = os.path.basename(path)\n",
    "    tilecode = os.path.splitext(filename)[0].split('processed_')[1]\n",
    "\n",
    "    sidewalk_polygons = bgt_sidewalk_reader.filter_tile(\n",
    "                            tilecode, bgt_types=['voetpad'],\n",
    "                            padding=0, offset=0,\n",
    "                            merge=False)\n",
    "    \n",
    "    if len(sidewalk_polygons) == 0:\n",
    "        print('No sidewalk polygons found for tile. Next...')\n",
    "        continue\n",
    "        \n",
    "    # Start with file from the other folder\n",
    "    for run in [cloud_run2, cloud_run1]:\n",
    "        try:\n",
    "            # Read point cloud file\n",
    "            points, labels = read_las(os.path.join(partly_labelled_folder, run, filename))\n",
    "        except FileNotFoundError:\n",
    "            print(f'Tile {filename} is not present in both runs. Next...')\n",
    "            break\n",
    "\n",
    "        # Check if point cloud has \"ground\" labelled points\n",
    "        if Labels.GROUND not in labels:\n",
    "            print(f\"No ground/sidewalk points available for file {filename}. Next...\")\n",
    "            break\n",
    "\n",
    "        mask = create_mask(labels, exclude_label)\n",
    "\n",
    "        # Filter all the points above sidewalk        \n",
    "        label_mask = get_label_mask(points, mask, tilecode, sidewalk_polygons, ahn_reader, max_obstacle_height)\n",
    "\n",
    "        # Save the new point cloud\n",
    "        write_las(points[label_mask], os.path.join(sidewalk_filter_folder, run, filename), labels[label_mask])"
   ]
  },
  {
   "cell_type": "code",
   "execution_count": null,
   "id": "ce07d7f2",
   "metadata": {},
   "outputs": [],
   "source": []
  }
 ],
 "metadata": {
  "kernelspec": {
   "display_name": "Python 3 (ipykernel)",
   "language": "python",
   "name": "python3"
  },
  "language_info": {
   "codemirror_mode": {
    "name": "ipython",
    "version": 3
   },
   "file_extension": ".py",
   "mimetype": "text/x-python",
   "name": "python",
   "nbconvert_exporter": "python",
   "pygments_lexer": "ipython3",
   "version": "3.8.12"
  }
 },
 "nbformat": 4,
 "nbformat_minor": 5
}
