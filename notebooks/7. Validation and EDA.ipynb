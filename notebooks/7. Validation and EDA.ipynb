{
 "cells": [
  {
   "cell_type": "markdown",
   "id": "5f034096",
   "metadata": {},
   "source": [
    "# Validation and exploratory data analysis \n",
    "# on accessible sidewalk widths"
   ]
  },
  {
   "cell_type": "code",
   "execution_count": null,
   "id": "071158b6",
   "metadata": {},
   "outputs": [],
   "source": [
    "import set_path\n",
    "\n",
    "import numpy as np\n",
    "import pandas as pd\n",
    "\n",
    "import shapely.geometry as sg\n",
    "import shapely.ops as so\n",
    "import geopandas as gpd\n",
    "from geopandas import GeoDataFrame\n",
    "\n",
    "import matplotlib.pyplot as plt\n",
    "import matplotlib.patches as mpatches\n",
    "import matplotlib\n",
    "\n",
    "import contextily as cx\n",
    "\n",
    "import upc_sw.poly_utils as poly_utils\n",
    "\n",
    "from tqdm.notebook import tqdm_notebook\n",
    "tqdm_notebook.pandas()"
   ]
  },
  {
   "cell_type": "code",
   "execution_count": null,
   "id": "da19f85c",
   "metadata": {},
   "outputs": [],
   "source": [
    "import warnings  # temporary, to supress deprecation warnings from shapely\n",
    "warnings.filterwarnings('ignore')"
   ]
  },
  {
   "cell_type": "markdown",
   "id": "5a2efe93",
   "metadata": {},
   "source": [
    "## Settings"
   ]
  },
  {
   "cell_type": "code",
   "execution_count": null,
   "id": "94bd151d",
   "metadata": {},
   "outputs": [],
   "source": [
    "# Paths\n",
    "output_legend = '../datasets/output/new/final_output_legend.csv'\n",
    "\n",
    "bgt_road_file = '../datasets/output/new/bgt_voetpad.gpkg' \n",
    "\n",
    "output_file = '../datasets/output/new/final_output_segments_all_vf.geojson'\n",
    "output_image = '../datasets/output/new/EDA_segments_all_vf.png'\n",
    "output_image_no = '../datasets/output/new/EDA_segments_all_no_vf.png'\n",
    "\n",
    "segments_file = '../datasets/output/new/sidewalk_segments.gpkg'"
   ]
  },
  {
   "cell_type": "code",
   "execution_count": null,
   "id": "7a8dc9b1",
   "metadata": {},
   "outputs": [],
   "source": [
    "# A CRS tells Python how those coordinates relate to places on the Earth. Rijksdriehoek = epsg:28992\n",
    "CRS = 'epsg:28992'\n",
    "\n",
    "# Boundary for filtering out (in meters)\n",
    "min_path_width = 0.4 \n",
    "\n",
    "# Boundaries between the final colors green/orange/red (in meters)\n",
    "width_lower = 0.9\n",
    "width_upper = 1.8\n",
    "width_top = 2.9"
   ]
  },
  {
   "cell_type": "markdown",
   "id": "7b5178b3",
   "metadata": {},
   "source": [
    "## Create and store legend"
   ]
  },
  {
   "cell_type": "code",
   "execution_count": null,
   "id": "9e13c325",
   "metadata": {},
   "outputs": [],
   "source": [
    "df_legend = pd.DataFrame(np.array([['green', 'green', '>' + str(width_top) + 'm', '>' + str(width_top) + 'm'],\n",
    "                                   ['lightgreen', 'lightgreen', str(width_upper) + '-' + str(width_top) + 'm', str(width_upper) + '-' + str(width_top) + 'm'],                        \n",
    "                                   ['orange', 'yellow', str(width_lower) + '-' + str(width_upper) + 'm', str(width_lower) + '-' + str(width_upper) + 'm'],\n",
    "                                   ['red', 'red', '<' + str(width_lower) + 'm', '<' + str(width_lower) + 'm'],\n",
    "                                   ['grey', 'grey', 'onbekend', 'unknown']\n",
    "                                  ]), columns = ['final_color', 'color_displayed', 'label_NL', 'label_ENG'])"
   ]
  },
  {
   "cell_type": "code",
   "execution_count": null,
   "id": "b843bbff",
   "metadata": {},
   "outputs": [],
   "source": [
    "df_legend"
   ]
  },
  {
   "cell_type": "code",
   "execution_count": null,
   "id": "1508dfe8",
   "metadata": {},
   "outputs": [],
   "source": [
    "df_legend.to_csv(output_legend, index=False)"
   ]
  },
  {
   "cell_type": "markdown",
   "id": "9a555a6e",
   "metadata": {},
   "source": [
    "## Import data"
   ]
  },
  {
   "cell_type": "code",
   "execution_count": null,
   "id": "7d916cc8",
   "metadata": {},
   "outputs": [],
   "source": [
    "# Read BGT data\n",
    "df_bgt = gpd.read_file(bgt_road_file)\n",
    "df_bgt = df_bgt.set_crs(CRS, allow_override=True)"
   ]
  },
  {
   "cell_type": "code",
   "execution_count": null,
   "id": "77ed258c",
   "metadata": {},
   "outputs": [],
   "source": [
    "# Read width output data (from notebook 6)\n",
    "df_raw = gpd.read_file(output_file)"
   ]
  },
  {
   "cell_type": "markdown",
   "id": "929fc0e4",
   "metadata": {},
   "source": [
    "### First inspection"
   ]
  },
  {
   "cell_type": "code",
   "execution_count": null,
   "id": "19e1ef83",
   "metadata": {},
   "outputs": [],
   "source": [
    "df_raw.info()"
   ]
  },
  {
   "cell_type": "code",
   "execution_count": null,
   "id": "10366078",
   "metadata": {},
   "outputs": [],
   "source": [
    "df_raw.head(2)"
   ]
  },
  {
   "cell_type": "code",
   "execution_count": null,
   "id": "522cc212",
   "metadata": {},
   "outputs": [],
   "source": [
    "df_raw.shape"
   ]
  },
  {
   "cell_type": "markdown",
   "id": "f7e8da73",
   "metadata": {},
   "source": [
    "## Process for analysis"
   ]
  },
  {
   "cell_type": "markdown",
   "id": "16f33ef4",
   "metadata": {},
   "source": [
    "### Check and remove duplicates"
   ]
  },
  {
   "cell_type": "code",
   "execution_count": null,
   "id": "3d19983c",
   "metadata": {},
   "outputs": [],
   "source": [
    "df = df_raw.drop(['id', 'object_id'], axis=1)"
   ]
  },
  {
   "cell_type": "code",
   "execution_count": null,
   "id": "7c851055",
   "metadata": {},
   "outputs": [],
   "source": [
    "df = df.drop_duplicates()"
   ]
  },
  {
   "cell_type": "code",
   "execution_count": null,
   "id": "636c0818",
   "metadata": {},
   "outputs": [],
   "source": [
    "df.shape"
   ]
  },
  {
   "cell_type": "code",
   "execution_count": null,
   "id": "74c6a8a8",
   "metadata": {},
   "outputs": [],
   "source": [
    "df[['geometry']].drop_duplicates().shape # check amount of different geometries"
   ]
  },
  {
   "cell_type": "markdown",
   "id": "a6bcbf13",
   "metadata": {},
   "source": [
    "### CRS"
   ]
  },
  {
   "cell_type": "code",
   "execution_count": null,
   "id": "e7fa8d51",
   "metadata": {},
   "outputs": [],
   "source": [
    "df = df.to_crs(CRS)"
   ]
  },
  {
   "cell_type": "markdown",
   "id": "c190efd4",
   "metadata": {},
   "source": [
    "### Add columns"
   ]
  },
  {
   "cell_type": "code",
   "execution_count": null,
   "id": "0790a254",
   "metadata": {},
   "outputs": [],
   "source": [
    "df['length'] = round(df['geometry'].length,2)"
   ]
  },
  {
   "cell_type": "markdown",
   "id": "56d6ce80",
   "metadata": {},
   "source": [
    "### Rename columns"
   ]
  },
  {
   "cell_type": "code",
   "execution_count": null,
   "id": "1dfdf214",
   "metadata": {},
   "outputs": [],
   "source": [
    "df = df.rename(columns={'full_width': 'full width',\n",
    "                        'obstacle_free_width': 'obstacle-free width'\n",
    "                        })"
   ]
  },
  {
   "cell_type": "markdown",
   "id": "dd1d4ab5",
   "metadata": {},
   "source": [
    "### Order categories"
   ]
  },
  {
   "cell_type": "code",
   "execution_count": null,
   "id": "f2d113ad",
   "metadata": {},
   "outputs": [],
   "source": [
    "df['obstacle-free width'] = pd.Categorical(df['obstacle-free width'], \n",
    "                                           categories=['<0.9m', '0.9-1.8m', '1.8-2.9m', '>2.9m', 'unknown'])"
   ]
  },
  {
   "cell_type": "code",
   "execution_count": null,
   "id": "97252d80",
   "metadata": {},
   "outputs": [],
   "source": [
    "df['full width'] = pd.Categorical(df['full width'], categories=['<0.9m', '0.9-1.8m', '1.8-2.9m', '>2.9m', 'unknown'])"
   ]
  },
  {
   "cell_type": "markdown",
   "id": "021ad97e",
   "metadata": {},
   "source": [
    "## 1. Images for physical validation"
   ]
  },
  {
   "cell_type": "markdown",
   "id": "cc6714f1",
   "metadata": {},
   "source": [
    "### Get sements data for minor lines image"
   ]
  },
  {
   "cell_type": "code",
   "execution_count": null,
   "id": "b8474c2d",
   "metadata": {},
   "outputs": [],
   "source": [
    "df_segments = gpd.read_file(segments_file, crs=CRS)"
   ]
  },
  {
   "cell_type": "markdown",
   "id": "fe7925f0",
   "metadata": {},
   "source": [
    "### Select area"
   ]
  },
  {
   "cell_type": "code",
   "execution_count": null,
   "id": "3fa0860c",
   "metadata": {},
   "outputs": [],
   "source": [
    "#my_lat = 52.3712801 # Iva 1\n",
    "#my_lon = 4.8524367\n",
    "#my_lat = 52.3811564 # Iva 2\n",
    "#my_lon = 4.8688583\n",
    "#my_lat = 52.3630876091457 # Weesperstraat 113\n",
    "#my_lon = 4.907223655265446\n",
    "#my_lat = 52.37330899988559 # Shayla 1 \n",
    "#my_lon = 4.941617895847236\n",
    "#my_lat = 52.311846 # Daan 1\n",
    "#my_lon = 4.973736\n",
    "#my_lat = 52.315221 # Daan 2\n",
    "#my_lon = 4.976473\n",
    "#my_lat = 52.369324 # Iva 3\n",
    "#my_lon = 4.855894\n",
    "#my_lat = 52.362991703136586 # Claudia 1\n",
    "#my_lon = 4.892166054326174\n",
    "#my_lat = 52.383559 # Iva 4\n",
    "#my_lon = 4.873875\n",
    "#my_lat = 52.317213 # Daan 3\n",
    "#my_lon = 4.968181\n",
    "#my_lat = 52.35927331379236   # Blog 1\n",
    "#my_lon = 4.991672146550689\n",
    "#my_lat = 52.3615579891934 # Blog 2\n",
    "#my_lon = 4.979760215260225\n",
    "#my_lat = 52.40526076459767 # Blog 3\n",
    "#my_lon = 4.913909138960928 \n",
    "#my_lat = 52.354584356367624 # Blog 4\n",
    "#my_lon = 4.794089043031844\n",
    "my_lat = 52.361207 # Claudia 2\n",
    "my_lon = 4.908029 \n",
    "#my_lat = 52.372116 # Claudia 3\n",
    "#my_lon = 4.900810 "
   ]
  },
  {
   "cell_type": "code",
   "execution_count": null,
   "id": "fa4da4af",
   "metadata": {},
   "outputs": [],
   "source": [
    "#output_image_val = '../datasets/output/amsterdam/Sidewalk_validation_Iva1.png'\n",
    "#output_image_val = '../datasets/output/amsterdam/Sidewalk_validation_Iva2.png'\n",
    "#output_image_val = '../datasets/output/amsterdam/Sidewalk_validation_WPS113.png'\n",
    "#output_image_val = '../datasets/output/amsterdam/Sidewalk_validation_Shayla1.png'\n",
    "#output_image_val = '../datasets/output/amsterdam/Sidewalk_validation_Daan1.png'\n",
    "#output_image_val = '../datasets/output/amsterdam/Sidewalk_validation_Daan2.png'\n",
    "#output_image_val = '../datasets/output/amsterdam/Sidewalk_validation_Iva3.png'\n",
    "#output_image_val = '../datasets/output/amsterdam/Sidewalk_validation_Claudia1.png'\n",
    "#output_image_val = '../datasets/output/amsterdam/Sidewalk_validation_Iva4.png'\n",
    "#output_image_val = '../datasets/output/amsterdam/Sidewalk_validation_Daan3.png'\n",
    "#output_image_val = '../datasets/output/amsterdam/Sidewalk_validation_Blog1.png'\n",
    "#output_image_val = '../datasets/output/amsterdam/Sidewalk_validation_Blog2.png'\n",
    "#output_image_val_red = '../datasets/output/amsterdam/Sidewalk_validation_Blog2_red.png'\n",
    "#output_image_val = '../datasets/output/amsterdam/Sidewalk_validation_Blog3.png'\n",
    "#output_image_val_red = '../datasets/output/amsterdam/Sidewalk_validation_Blog3_red.png'\n",
    "#output_image_val = '../datasets/output/amsterdam/Sidewalk_validation_Blog4.png'\n",
    "#output_image_val_red = '../datasets/output/amsterdam/Sidewalk_validation_Blog4_red.png'\n",
    "output_image_val = '../datasets/output/amsterdam/Sidewalk_validation_Claudia2.png'\n",
    "output_image_val_red = '../datasets/output/amsterdam/Sidewalk_validation_Claudia2_red.png'\n",
    "#output_image_val = '../datasets/output/amsterdam/Sidewalk_validation_Claudia3.png'\n",
    "#output_image_val_red = '../datasets/output/amsterdam/Sidewalk_validation_Claudia3_red.png'"
   ]
  },
  {
   "cell_type": "code",
   "execution_count": null,
   "id": "d2631c8f",
   "metadata": {},
   "outputs": [],
   "source": [
    "# Set size of square you want to validate\n",
    "my_rad = 250"
   ]
  },
  {
   "cell_type": "code",
   "execution_count": null,
   "id": "16f5bc8a",
   "metadata": {},
   "outputs": [],
   "source": [
    "df_loc = GeoDataFrame({'geometry': [sg.Point(my_lon, my_lat)]}, crs=\"EPSG:4326\").to_crs(CRS)\n",
    "df_loc['buffer'] = df_loc['geometry'].buffer(my_rad, cap_style=3)"
   ]
  },
  {
   "cell_type": "markdown",
   "id": "fbb40625",
   "metadata": {},
   "source": [
    "### Do calculation for minor lines image"
   ]
  },
  {
   "cell_type": "code",
   "execution_count": null,
   "id": "6afce7d4",
   "metadata": {},
   "outputs": [],
   "source": [
    "df_segments_val = gpd.sjoin(df_segments, df_loc.set_geometry('buffer'), how='inner')"
   ]
  },
  {
   "cell_type": "code",
   "execution_count": null,
   "id": "d0892420",
   "metadata": {},
   "outputs": [],
   "source": [
    "df_segments_val = df_segments_val.set_geometry('geometry_left')\n",
    "df_segments_val = df_segments_val.drop(['index_right', 'geometry_right'], axis=1)\n",
    "df_segments_val = df_segments_val.rename(columns={'geometry_left':'geometry'})"
   ]
  },
  {
   "cell_type": "code",
   "execution_count": null,
   "id": "6d687d1e",
   "metadata": {},
   "outputs": [],
   "source": [
    "# Apply minimal path width\n",
    "df_segments_wide = df_segments_val[df_segments_val['min_width'] > min_path_width].reset_index(drop=True)\n",
    "print(df_segments_val.shape)\n",
    "print(df_segments_wide.shape)"
   ]
  },
  {
   "cell_type": "code",
   "execution_count": null,
   "id": "ed54e21d",
   "metadata": {},
   "outputs": [],
   "source": [
    "# Remove short lines\n",
    "mls_per_id = poly_utils.create_mls_per_sidewalk(df_segments_wide, crs=CRS)\n",
    "mls_per_id['geometry'] = mls_per_id['geometry'].progress_apply(\n",
    "                        lambda x: poly_utils.remove_short_lines(x))"
   ]
  },
  {
   "cell_type": "code",
   "execution_count": null,
   "id": "06c2812d",
   "metadata": {},
   "outputs": [],
   "source": [
    "# Apply selection of longer lines to original dataframe\n",
    "long_segments_df = gpd.GeoDataFrame(mls_per_id.geometry.explode())\n",
    "df_segments_wide = df_segments_wide.merge(long_segments_df, how='inner')\n",
    "df_segments_wide.shape"
   ]
  },
  {
   "cell_type": "code",
   "execution_count": null,
   "id": "b1572197",
   "metadata": {},
   "outputs": [],
   "source": [
    "conditions = [\n",
    "    (df_segments_wide['min_width'] < width_lower),\n",
    "    (df_segments_wide['min_width'] >= width_lower) & (df_segments_wide['min_width'] < width_upper),\n",
    "    (df_segments_wide['min_width'] >= width_upper) & (df_segments_wide['min_width'] < width_top),\n",
    "    (df_segments_wide['min_width'] >= width_top)\n",
    "]\n",
    "\n",
    "values = ['red', 'orange', 'lightgreen', 'green']"
   ]
  },
  {
   "cell_type": "code",
   "execution_count": null,
   "id": "5441934f",
   "metadata": {},
   "outputs": [],
   "source": [
    "df_segments_wide['min_width_color'] = np.select(conditions, values)\n",
    "df_segments_wide['min_width_color'].value_counts()"
   ]
  },
  {
   "cell_type": "code",
   "execution_count": null,
   "id": "580dbb33",
   "metadata": {},
   "outputs": [],
   "source": [
    "gdf_segments_wide = GeoDataFrame(df_segments_wide, crs=CRS)"
   ]
  },
  {
   "cell_type": "markdown",
   "id": "8325e8ff",
   "metadata": {},
   "source": [
    "### Get next two images"
   ]
  },
  {
   "cell_type": "code",
   "execution_count": null,
   "id": "0e041149",
   "metadata": {},
   "outputs": [],
   "source": [
    "df_val = gpd.sjoin(df, df_loc.set_geometry('buffer'), how='inner') \n",
    "df_val = df_val.set_geometry('geometry_left')"
   ]
  },
  {
   "cell_type": "markdown",
   "id": "b820cd8f",
   "metadata": {},
   "source": [
    "### Get BGT Background"
   ]
  },
  {
   "cell_type": "code",
   "execution_count": null,
   "id": "0a96715b",
   "metadata": {},
   "outputs": [],
   "source": [
    "df_bgt_val = gpd.sjoin(df_bgt, df_loc.set_geometry('buffer'), how='inner')\n",
    "df_bgt_val = df_bgt_val.set_geometry('geometry_left')"
   ]
  },
  {
   "cell_type": "markdown",
   "id": "a6d94cad",
   "metadata": {},
   "source": [
    "### Plot"
   ]
  },
  {
   "cell_type": "code",
   "execution_count": null,
   "id": "8b67959b",
   "metadata": {},
   "outputs": [],
   "source": [
    "df_loc = df_loc.set_geometry('buffer')\n",
    "df_loc = df_loc.to_crs(epsg=3857)\n",
    "x_min = sg.Polygon(df_loc['buffer'][0]).bounds[0] \n",
    "x_max = sg.Polygon(df_loc['buffer'][0]).bounds[2]\n",
    "y_min = sg.Polygon(df_loc['buffer'][0]).bounds[1]\n",
    "y_max = sg.Polygon(df_loc['buffer'][0]).bounds[3]"
   ]
  },
  {
   "cell_type": "code",
   "execution_count": null,
   "id": "a9b7bc70",
   "metadata": {},
   "outputs": [],
   "source": [
    "fig, (ax1, ax2, ax3) = plt.subplots(3, 1, figsize=(14,14), dpi=600, \n",
    "                                    frameon=False, constrained_layout=True)\n",
    "\n",
    "# Plot minor paths\n",
    "df_bgt_val.to_crs(epsg=3857).plot(ax=ax1, color='silver', alpha=0.5)\n",
    "gdf_segments_wide.to_crs(epsg=3857).plot(ax=ax1, linewidth=1, color=gdf_segments_wide.min_width_color) \n",
    "cx.add_basemap(ax1, source = cx.providers.Esri.WorldImagery)\n",
    "ax1.axis('off')\n",
    "\n",
    "# Plot OFW\n",
    "df_bgt_val.to_crs(epsg=3857).plot(ax=ax2, color='silver', alpha=0.5)\n",
    "df_val.to_crs(epsg=3857).plot(ax=ax2, linewidth=2, color=df_val.final_color) \n",
    "cx.add_basemap(ax2, source = cx.providers.Esri.WorldImagery)\n",
    "ax2.axis('off')\n",
    "\n",
    "# Plot FW\n",
    "df_bgt_val.to_crs(epsg=3857).plot(ax=ax3, color='silver', alpha=0.5)\n",
    "df_val.to_crs(epsg=3857).plot(ax=ax3, linewidth=2, color=df_val.full_width_color)  \n",
    "cx.add_basemap(ax3, source = cx.providers.Esri.WorldImagery)\n",
    "ax3.axis('off')\n",
    "\n",
    "# Create legends\n",
    "wide = mpatches.Patch(color='green', label='>' + str(width_top) + 'm')\n",
    "acc = mpatches.Patch(color='lightgreen', label= str(width_upper) + '-' + str(width_top) + 'm')\n",
    "narrow = mpatches.Patch(color='orange', label= str(width_lower) + '-' + str(width_upper) + 'm')\n",
    "notacc = mpatches.Patch(color='red', label='<' + str(width_lower) + 'm')\n",
    "runk = mpatches.Patch(color='grey', label='unknown')\n",
    "plt.legend(handles=[wide,acc,narrow,notacc,runk], \n",
    "           bbox_to_anchor=(1, 0.5, 0.5, 0.5))\n",
    "\n",
    "ax1.set_title('minor paths (input for obstacle-free width)')\n",
    "ax2.set_title('obstacle-free width')\n",
    "ax3.set_title('full width')\n",
    "\n",
    "ax1.set_xlim([x_min, x_max])\n",
    "ax1.set_ylim([y_min, y_max])\n",
    "ax2.set_xlim([x_min, x_max])\n",
    "ax2.set_ylim([y_min, y_max])\n",
    "ax3.set_xlim([x_min, x_max])\n",
    "ax3.set_ylim([y_min, y_max])\n",
    "\n",
    "plt.savefig(output_image_val, bbox_inches='tight')\n",
    "\n",
    "plt.show()"
   ]
  },
  {
   "cell_type": "code",
   "execution_count": null,
   "id": "0f76ad19",
   "metadata": {},
   "outputs": [],
   "source": [
    "df_val2 = df_val[df_val['final_color'] =='red']\n",
    "df_val2 = df_val2[df_val2['full_width_color'] =='red']"
   ]
  },
  {
   "cell_type": "code",
   "execution_count": null,
   "id": "ee41ccec",
   "metadata": {},
   "outputs": [],
   "source": [
    "fig, (ax1, ax2, ax3) = plt.subplots(3, 1, figsize=(14,14), dpi=600, \n",
    "                                    frameon=False, constrained_layout=True)\n",
    "\n",
    "# Plot minor paths\n",
    "df_bgt_val.to_crs(epsg=3857).plot(ax=ax1, color='silver', alpha=0.5)\n",
    "gdf_segments_wide.to_crs(epsg=3857).plot(ax=ax1, linewidth=1, color=gdf_segments_wide.min_width_color) \n",
    "cx.add_basemap(ax1, source = cx.providers.Esri.WorldImagery)\n",
    "ax1.axis('off')\n",
    "\n",
    "# Plot OFW\n",
    "df_bgt_val.to_crs(epsg=3857).plot(ax=ax2, color='silver', alpha=0.5)\n",
    "df_val2.to_crs(epsg=3857).plot(ax=ax2, linewidth=2, color=df_val2.final_color) \n",
    "cx.add_basemap(ax2, source = cx.providers.Esri.WorldImagery)\n",
    "ax2.axis('off')\n",
    "\n",
    "# Plot FW\n",
    "df_bgt_val.to_crs(epsg=3857).plot(ax=ax3, color='silver', alpha=0.5)\n",
    "df_val2.to_crs(epsg=3857).plot(ax=ax3, linewidth=2, color=df_val2.full_width_color)  \n",
    "cx.add_basemap(ax3, source = cx.providers.Esri.WorldImagery)\n",
    "ax3.axis('off')\n",
    "\n",
    "# Create legends\n",
    "wide = mpatches.Patch(color='green', label='>' + str(width_top) + 'm')\n",
    "acc = mpatches.Patch(color='lightgreen', label= str(width_upper) + '-' + str(width_top) + 'm')\n",
    "narrow = mpatches.Patch(color='orange', label= str(width_lower) + '-' + str(width_upper) + 'm')\n",
    "notacc = mpatches.Patch(color='red', label='<' + str(width_lower) + 'm')\n",
    "runk = mpatches.Patch(color='grey', label='unknown')\n",
    "plt.legend(handles=[wide,acc,narrow,notacc,runk], \n",
    "           bbox_to_anchor=(1, 0.5, 0.5, 0.5))\n",
    "\n",
    "ax1.set_title('minor paths (input for obstacle-free width)')\n",
    "ax2.set_title('obstacle-free width')\n",
    "ax3.set_title('full width')\n",
    "\n",
    "ax1.set_xlim([x_min, x_max])\n",
    "ax1.set_ylim([y_min, y_max])\n",
    "ax2.set_xlim([x_min, x_max])\n",
    "ax2.set_ylim([y_min, y_max])\n",
    "ax3.set_xlim([x_min, x_max])\n",
    "ax3.set_ylim([y_min, y_max])\n",
    "\n",
    "plt.savefig(output_image_val_red, bbox_inches='tight')\n",
    "\n",
    "plt.show()"
   ]
  },
  {
   "cell_type": "markdown",
   "id": "0f2994fe",
   "metadata": {},
   "source": [
    "## 2. Summary - entire city"
   ]
  },
  {
   "cell_type": "markdown",
   "id": "44d21b6b",
   "metadata": {},
   "source": [
    "### Obstacle free width"
   ]
  },
  {
   "cell_type": "code",
   "execution_count": null,
   "id": "18d04958",
   "metadata": {},
   "outputs": [],
   "source": [
    "fig, (ax1, ax2) = plt.subplots(1, 2, figsize=(10,5), dpi=600, \n",
    "                                    frameon=False, constrained_layout=True)\n",
    "\n",
    "# Plot process step 3\n",
    "df_bgt.plot(ax=ax1, color='silver')\n",
    "df.plot(ax=ax1, linewidth=1, color=df.final_color)  \n",
    "ax1.axis('off')\n",
    "\n",
    "# Plot process step 3\n",
    "df_bgt.plot(ax=ax2, color='silver')\n",
    "df.plot(ax=ax2, linewidth=1, color=df.full_width_color) \n",
    "ax2.axis('off')\n",
    "\n",
    "# Create legends\n",
    "wide = mpatches.Patch(color='green', label='>' + str(width_top) + 'm')\n",
    "acc = mpatches.Patch(color='lightgreen', label= str(width_upper) + '-' + str(width_top) + 'm')\n",
    "narrow = mpatches.Patch(color='orange', label= str(width_lower) + '-' + str(width_upper) + 'm')\n",
    "notacc = mpatches.Patch(color='red', label='<' + str(width_lower) + 'm')\n",
    "runk = mpatches.Patch(color='grey', label='unknown')\n",
    "\n",
    "legend1 = plt.legend(handles=[wide,acc,narrow,notacc,runk], \n",
    "           bbox_to_anchor=(-0.5, -0.5, 0.5, 0.5), title = \"obstacle free width\")\n",
    "plt.legend(handles=[wide,acc,narrow,notacc], \n",
    "           bbox_to_anchor=(0.5, -0.5, 0.5, 0.5), title = \"full width\")\n",
    "plt.gca().add_artist(legend1)\n",
    "\n",
    "plt.savefig(output_image_no, bbox_inches='tight')\n",
    "#plt.show()"
   ]
  },
  {
   "cell_type": "code",
   "execution_count": null,
   "id": "b6bfd97d",
   "metadata": {},
   "outputs": [],
   "source": [
    "df['final_color'].value_counts() "
   ]
  },
  {
   "cell_type": "code",
   "execution_count": null,
   "id": "297487df",
   "metadata": {},
   "outputs": [],
   "source": [
    "df_group = df.groupby('obstacle-free width').sum()\n",
    "df_group['%'] = round(100 * df_group['length'] / sum(df_group['length']), 1)\n",
    "df_group.reset_index()[['obstacle-free width', '%']].sort_values('obstacle-free width')"
   ]
  },
  {
   "cell_type": "markdown",
   "id": "75d0f57b",
   "metadata": {},
   "source": [
    "#### Without unknown"
   ]
  },
  {
   "cell_type": "code",
   "execution_count": null,
   "id": "6f99dcc4",
   "metadata": {},
   "outputs": [],
   "source": [
    "df_ng = df[df['final_color'] != 'grey'] "
   ]
  },
  {
   "cell_type": "code",
   "execution_count": null,
   "id": "9fe99d9a",
   "metadata": {},
   "outputs": [],
   "source": [
    "df_group = df_ng.groupby('obstacle-free width').sum()\n",
    "df_group['%'] = round(100 * df_group['length'] / sum(df_group['length']), 1)\n",
    "df_group.reset_index()[['obstacle-free width', '%']]"
   ]
  },
  {
   "cell_type": "markdown",
   "id": "b54b0fd8",
   "metadata": {},
   "source": [
    "### Full width"
   ]
  },
  {
   "cell_type": "code",
   "execution_count": null,
   "id": "74c91d6a",
   "metadata": {},
   "outputs": [],
   "source": [
    "df_group = df.groupby('full width').sum()\n",
    "df_group['%'] = round(100 * df_group['length'] / sum(df_group['length']), 1)\n",
    "df_group.reset_index()[['full width', '%']]"
   ]
  },
  {
   "cell_type": "markdown",
   "id": "4aa0942e",
   "metadata": {},
   "source": [
    "### Full width vs. obstacle free width"
   ]
  },
  {
   "cell_type": "code",
   "execution_count": null,
   "id": "e393d8fb",
   "metadata": {},
   "outputs": [],
   "source": [
    "df_group = df_ng.groupby('obstacle-free width').sum()\n",
    "df_group_mix = df_ng.groupby(['obstacle-free width', 'full width']).sum()"
   ]
  },
  {
   "cell_type": "code",
   "execution_count": null,
   "id": "a0505f7b",
   "metadata": {},
   "outputs": [],
   "source": [
    "df_group_mix['%'] = round(100 * df_group_mix['length'] / sum(df_group_mix['length']), 1)"
   ]
  },
  {
   "cell_type": "code",
   "execution_count": null,
   "id": "4ac95311",
   "metadata": {},
   "outputs": [],
   "source": [
    "df_group_mix_disp = df_group_mix[['%']].reset_index()\n",
    "df_group_mix_disp[df_group_mix_disp['full width'] != 'unknown'].set_index(['obstacle-free width', 'full width'])"
   ]
  },
  {
   "cell_type": "code",
   "execution_count": null,
   "id": "cc9a4124",
   "metadata": {},
   "outputs": [],
   "source": [
    "df_group_mix = df_group_mix.reset_index().merge(df_group.reset_index(), on='obstacle-free width', suffixes=('', '_total'))"
   ]
  },
  {
   "cell_type": "code",
   "execution_count": null,
   "id": "3cd2ac82",
   "metadata": {},
   "outputs": [],
   "source": [
    "df_group_mix['%'] = round(100 * df_group_mix['length'] / df_group_mix['length_total'])"
   ]
  },
  {
   "cell_type": "code",
   "execution_count": null,
   "id": "54e09c93",
   "metadata": {},
   "outputs": [],
   "source": [
    "df_group_mix[['obstacle-free width', 'full width', '%']][df_group_mix['full width'] != 'unknown'].set_index(['obstacle-free width', 'full width'])"
   ]
  },
  {
   "cell_type": "markdown",
   "id": "5f35715c",
   "metadata": {},
   "source": [
    "## 3. Summary - aggregated per stadsdeel etc."
   ]
  },
  {
   "cell_type": "markdown",
   "id": "a07636a0",
   "metadata": {},
   "source": [
    "### Prepare"
   ]
  },
  {
   "cell_type": "code",
   "execution_count": null,
   "id": "cae31dfa",
   "metadata": {},
   "outputs": [],
   "source": [
    "# Definitions of areas (downloaded from Amsterdam website)\n",
    "area_files_path = 'C:/Users/jansen252/Documents/P3_AforAll/DS/Urban_pointCloud_Sidewalk_Width_m2/Urban_PointCloud_Sidewalk_Width/datasets/areas/'"
   ]
  },
  {
   "cell_type": "code",
   "execution_count": null,
   "id": "ea8b6e33",
   "metadata": {},
   "outputs": [],
   "source": [
    "area_level = 'stadsdeel' # buurt, wijk, gebied, stadsdeel"
   ]
  },
  {
   "cell_type": "code",
   "execution_count": null,
   "id": "2552354d",
   "metadata": {},
   "outputs": [],
   "source": [
    "if area_level == 'buurt':\n",
    "    area_file = area_files_path + 'neighborhoods.json'\n",
    "    df_area = gpd.read_file(area_file).to_crs(CRS) \n",
    "    df_area = df_area.rename(columns={'Buurtnaam': 'area'})\n",
    "elif area_level == 'wijk':\n",
    "    area_file = area_files_path + 'wijken.json'\n",
    "    df_area = gpd.read_file(area_file).to_crs(CRS) \n",
    "    df_area = df_area.rename(columns={'Wijk': 'area'})\n",
    "elif area_level == 'wijk':\n",
    "    area_file = area_files_path + 'gebieden.json'\n",
    "    df_area = gpd.read_file(area_file).to_crs(CRS) \n",
    "    df_area = df_area.rename(columns={'Gebied': 'area'})\n",
    "elif area_level == 'stadsdeel':\n",
    "    area_file = area_files_path + 'stadsdelen_water.json'\n",
    "    df_area = gpd.read_file(area_file).to_crs(CRS) \n",
    "    df_area = df_area.rename(columns={'Stadsdeel': 'area'})"
   ]
  },
  {
   "cell_type": "code",
   "execution_count": null,
   "id": "43afa51f",
   "metadata": {},
   "outputs": [],
   "source": [
    "df_area.head(3)"
   ]
  },
  {
   "cell_type": "code",
   "execution_count": null,
   "id": "11ecb606",
   "metadata": {},
   "outputs": [],
   "source": [
    "# Remove Weesp\n",
    "df_area = df_area[df_area['Stadsdeelcode'] != 'S'] "
   ]
  },
  {
   "cell_type": "code",
   "execution_count": null,
   "id": "fad2047c",
   "metadata": {},
   "outputs": [],
   "source": [
    "# Add areas to final dataframe \n",
    "df_merge = df.sjoin(df_area[['area', 'geometry']], how='left', predicate='within') # right, intersects?"
   ]
  },
  {
   "cell_type": "markdown",
   "id": "41c71199",
   "metadata": {},
   "source": [
    "### Obstacle-free width"
   ]
  },
  {
   "cell_type": "code",
   "execution_count": null,
   "id": "f50f8e76",
   "metadata": {},
   "outputs": [],
   "source": [
    "# Aggregate by area and color\n",
    "df_group_sd_color = df_merge.groupby(['obstacle-free width', 'area']).sum().reset_index()"
   ]
  },
  {
   "cell_type": "code",
   "execution_count": null,
   "id": "1c6a03fa",
   "metadata": {},
   "outputs": [],
   "source": [
    "# Add length per area\n",
    "df_group_sd = df_merge.groupby(['area']).sum().reset_index()\n",
    "df_group_sd_color = df_group_sd_color.merge(df_group_sd, on='area', suffixes=('', '_per_area'))"
   ]
  },
  {
   "cell_type": "code",
   "execution_count": null,
   "id": "f96ab447",
   "metadata": {},
   "outputs": [],
   "source": [
    "# Calculate percentage length\n",
    "df_group_sd_color['%'] = round(100 * df_group_sd_color['length'] / df_group_sd_color['length_per_area']).astype(int)\n",
    "df_group_sd_color[['area', 'obstacle-free width', '%']]"
   ]
  },
  {
   "cell_type": "markdown",
   "id": "9d4bbbb4",
   "metadata": {},
   "source": [
    "#### Without unknown"
   ]
  },
  {
   "cell_type": "code",
   "execution_count": null,
   "id": "9210fa65",
   "metadata": {},
   "outputs": [],
   "source": [
    "df_merge_ng = df_merge[df_merge['final_color'] != 'grey'] # remove unknown widths"
   ]
  },
  {
   "cell_type": "code",
   "execution_count": null,
   "id": "709799b2",
   "metadata": {},
   "outputs": [],
   "source": [
    "# Aggregate by area and color\n",
    "df_group_sd_color = df_merge_ng.groupby(['obstacle-free width', 'area']).sum().reset_index()"
   ]
  },
  {
   "cell_type": "code",
   "execution_count": null,
   "id": "cd1a19df",
   "metadata": {},
   "outputs": [],
   "source": [
    "# Add length per area\n",
    "df_group_sd = df_merge_ng.groupby(['area']).sum().reset_index()\n",
    "df_group_sd_color = df_group_sd_color.merge(df_group_sd, on='area', suffixes=('', '_per_area'))"
   ]
  },
  {
   "cell_type": "code",
   "execution_count": null,
   "id": "30a12209",
   "metadata": {},
   "outputs": [],
   "source": [
    "# Calculate percentage length\n",
    "df_group_sd_color['%'] = round(100 * df_group_sd_color['length'] / df_group_sd_color['length_per_area']).astype(int)\n",
    "df_group_sd_color[['area', 'obstacle-free width', '%']]"
   ]
  },
  {
   "cell_type": "markdown",
   "id": "5bb102f6",
   "metadata": {},
   "source": [
    "#### Plot"
   ]
  },
  {
   "cell_type": "code",
   "execution_count": null,
   "id": "039cceb9",
   "metadata": {},
   "outputs": [],
   "source": [
    "# Add geometry of area back to the dataframe\n",
    "df_group_sd_color = df_area.merge(df_group_sd_color, on='area')"
   ]
  },
  {
   "cell_type": "code",
   "execution_count": null,
   "id": "847b3bbd",
   "metadata": {},
   "outputs": [],
   "source": [
    "# Get subset of data \n",
    "df_plot = df_group_sd_color[df_group_sd_color['obstacle-free width'] == '<0.9m']"
   ]
  },
  {
   "cell_type": "code",
   "execution_count": null,
   "id": "fcc7e32c",
   "metadata": {},
   "outputs": [],
   "source": [
    "fig, ax = plt.subplots(figsize = (20, 20), dpi = 200, frameon = False)\n",
    "\n",
    "# plot all areas\n",
    "df_area.plot(color='grey', ax=ax) \n",
    "\n",
    "# plot variable\n",
    "df_plot.plot(column ='%', cmap=\"YlOrRd\", ax=ax, legend=True, legend_kwds={'shrink': 0.4}) #, norm=matplotlib.colors.Normalize(vmin=0, vmax=100))\n",
    "\n",
    "plt.title('Accessibility of sidewalks per area (percentage of <0.9m wide path meters)')\n",
    "plt.axis('off')\n",
    "\n",
    "plt.show()"
   ]
  },
  {
   "cell_type": "markdown",
   "id": "924f6632",
   "metadata": {},
   "source": [
    "### Full width"
   ]
  },
  {
   "cell_type": "code",
   "execution_count": null,
   "id": "75b6035f",
   "metadata": {},
   "outputs": [],
   "source": [
    "# Aggregate by area and color\n",
    "df_group_sd_color = df_merge.groupby(['full width', 'area']).sum().reset_index()"
   ]
  },
  {
   "cell_type": "code",
   "execution_count": null,
   "id": "e064bef9",
   "metadata": {},
   "outputs": [],
   "source": [
    "# Add length per area\n",
    "df_group_sd = df_merge.groupby(['area']).sum().reset_index()\n",
    "df_group_sd_color = df_group_sd_color.merge(df_group_sd, on='area', suffixes=('', '_per_area'))"
   ]
  },
  {
   "cell_type": "code",
   "execution_count": null,
   "id": "8431ced1",
   "metadata": {},
   "outputs": [],
   "source": [
    "# Calculate percentage length\n",
    "df_group_sd_color['%'] = round(100 * df_group_sd_color['length'] / df_group_sd_color['length_per_area']).astype(int)\n",
    "df_group_sd_color[['area', 'full width', '%']]"
   ]
  },
  {
   "cell_type": "markdown",
   "id": "ed0c0553",
   "metadata": {},
   "source": [
    "#### Plot"
   ]
  },
  {
   "cell_type": "code",
   "execution_count": null,
   "id": "5ed1f362",
   "metadata": {},
   "outputs": [],
   "source": [
    "# Add geometry of area back to the dataframe\n",
    "df_group_sd_color = df_area.merge(df_group_sd_color, on='area')"
   ]
  },
  {
   "cell_type": "code",
   "execution_count": null,
   "id": "37c442a6",
   "metadata": {},
   "outputs": [],
   "source": [
    "# Get subset data\n",
    "df_plot = df_group_sd_color[df_group_sd_color['full width'].isin(['<0.9m', '0.9-1.8m'])]\n",
    "df_plot = df_plot.groupby(['area']).sum().reset_index().merge(df_group_sd_color[['area', 'geometry']]) # add percentages of <0.9 and 0.9-1.8 together"
   ]
  },
  {
   "cell_type": "code",
   "execution_count": null,
   "id": "abd77391",
   "metadata": {},
   "outputs": [],
   "source": [
    "# Sort\n",
    "df_plot[['area', '%']].sort_values(by='%').drop_duplicates()"
   ]
  },
  {
   "cell_type": "code",
   "execution_count": null,
   "id": "0ecf7e35",
   "metadata": {},
   "outputs": [],
   "source": [
    "fig, ax = plt.subplots(figsize = (20, 20), dpi = 200, frameon = False)\n",
    "\n",
    "# plot all areas\n",
    "df_area.plot(color='grey', ax=ax) \n",
    "\n",
    "# plot variable\n",
    "df_plot.plot(column ='%', cmap=\"YlOrRd\", ax=ax, legend=True, legend_kwds={'shrink': 0.4}) #, norm=matplotlib.colors.Normalize(vmin=0, vmax=100))\n",
    "\n",
    "plt.title('Sidewalks <1.8m (already when not taking obstacles into account)')\n",
    "plt.axis('off')\n",
    "\n",
    "plt.show()"
   ]
  }
 ],
 "metadata": {
  "kernelspec": {
   "display_name": "Python 3",
   "language": "python",
   "name": "python3"
  },
  "language_info": {
   "codemirror_mode": {
    "name": "ipython",
    "version": 3
   },
   "file_extension": ".py",
   "mimetype": "text/x-python",
   "name": "python",
   "nbconvert_exporter": "python",
   "pygments_lexer": "ipython3",
   "version": "3.7.9"
  }
 },
 "nbformat": 4,
 "nbformat_minor": 5
}
