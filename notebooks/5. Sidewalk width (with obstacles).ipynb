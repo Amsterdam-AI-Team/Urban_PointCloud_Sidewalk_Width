{
 "cells": [
  {
   "cell_type": "markdown",
   "id": "5f034096",
   "metadata": {},
   "source": [
    "## Calculate sidewalk width\n",
    "Using skeletons and centerlines from the medial axis transform"
   ]
  },
  {
   "cell_type": "code",
   "execution_count": 1,
   "id": "071158b6",
   "metadata": {},
   "outputs": [],
   "source": [
    "import os\n",
    "\n",
    "import numpy as np\n",
    "import pandas as pd\n",
    "\n",
    "from shapely.geometry import LineString\n",
    "from shapely.geometry import Point, MultiPoint, MultiLineString\n",
    "from shapely.ops import linemerge, nearest_points\n",
    "\n",
    "import geopandas as gpd\n",
    "from geopandas import GeoDataFrame\n",
    "from centerline.geometry import Centerline\n",
    "\n",
    "from tqdm.notebook import tqdm_notebook\n",
    "tqdm_notebook.pandas()"
   ]
  },
  {
   "cell_type": "code",
   "execution_count": 2,
   "id": "eb96c860",
   "metadata": {},
   "outputs": [],
   "source": [
    "import upcp.utils.las_utils as las_utils\n",
    "\n",
    "tilecode = '2386_9702'\n",
    "((x_min, y_max), (x_max, y_min)) = las_utils.get_bbox_from_tile_code(tilecode, padding=1)"
   ]
  },
  {
   "cell_type": "markdown",
   "id": "9a555a6e",
   "metadata": {},
   "source": [
    "## Get Sidewalk Centerlines"
   ]
  },
  {
   "cell_type": "code",
   "execution_count": null,
   "id": "b601d2e5",
   "metadata": {},
   "outputs": [],
   "source": [
    "df = gpd.read_file('../datasets/dataframe.shp')\n",
    "crs = {'init': 'epsg:28992'} #local crs\n",
    "df.plot(figsize=(12, 12), cmap='tab10')"
   ]
  },
  {
   "cell_type": "code",
   "execution_count": null,
   "id": "242c9874",
   "metadata": {},
   "outputs": [],
   "source": [
    "df_dissolved = gpd.GeoDataFrame(geometry=gpd.GeoSeries([geom for geom in df.unary_union.geoms]))"
   ]
  },
  {
   "cell_type": "code",
   "execution_count": null,
   "id": "8c15a015",
   "metadata": {},
   "outputs": [],
   "source": [
    "df_exploded = gpd.GeoDataFrame(df_dissolved.geometry.explode())"
   ]
  },
  {
   "cell_type": "code",
   "execution_count": null,
   "id": "99f1e3de",
   "metadata": {},
   "outputs": [],
   "source": [
    "df_exploded.plot(figsize=(12, 12), cmap='tab10')"
   ]
  },
  {
   "cell_type": "code",
   "execution_count": null,
   "id": "4984add4",
   "metadata": {},
   "outputs": [],
   "source": [
    "# if you get an error here, make sure you use tqdm>=4.61.2\n",
    "df_exploded['centerlines'] = df_exploded.progress_apply(lambda row: Centerline(row.geometry), axis=1)"
   ]
  },
  {
   "cell_type": "code",
   "execution_count": null,
   "id": "c4c66ccc",
   "metadata": {},
   "outputs": [],
   "source": [
    "df_exploded = df_exploded.set_geometry('centerlines')"
   ]
  },
  {
   "cell_type": "code",
   "execution_count": null,
   "id": "cd0449db",
   "metadata": {},
   "outputs": [],
   "source": [
    "df_exploded.plot(figsize=(12, 12), cmap='tab10')"
   ]
  },
  {
   "cell_type": "markdown",
   "id": "f8176ac6",
   "metadata": {},
   "source": [
    "## Remove Short Line Ends"
   ]
  },
  {
   "cell_type": "code",
   "execution_count": null,
   "id": "69835f02",
   "metadata": {},
   "outputs": [],
   "source": [
    "df_exploded['centerlines'] = df_exploded['centerlines'].progress_apply(linemerge)"
   ]
  },
  {
   "cell_type": "code",
   "execution_count": null,
   "id": "43443f3f",
   "metadata": {},
   "outputs": [],
   "source": [
    "def remove_short_lines(line):\n",
    "    \n",
    "    if line.type == 'MultiLineString':\n",
    "        \n",
    "        passing_lines = []\n",
    "    \n",
    "        for i, linestring in enumerate(line):\n",
    "            \n",
    "            other_lines = MultiLineString([x for j, x in enumerate(line) if j != i])\n",
    "            \n",
    "            p0 = Point(linestring.coords[0])\n",
    "            p1 = Point(linestring.coords[-1])\n",
    "            \n",
    "            is_deadend = False\n",
    "            \n",
    "            if p0.disjoint(other_lines): is_deadend = True\n",
    "            if p1.disjoint(other_lines): is_deadend = True\n",
    "            \n",
    "            if not is_deadend or linestring.length > 5:                \n",
    "                passing_lines.append(linestring)\n",
    "            \n",
    "        return MultiLineString(passing_lines)\n",
    "            \n",
    "    if line.type == 'LineString':\n",
    "        return line"
   ]
  },
  {
   "cell_type": "code",
   "execution_count": null,
   "id": "31416fd4",
   "metadata": {},
   "outputs": [],
   "source": [
    "df_exploded['centerlines'] = df_exploded['centerlines'].progress_apply(remove_short_lines)"
   ]
  },
  {
   "cell_type": "code",
   "execution_count": null,
   "id": "89c556c6",
   "metadata": {},
   "outputs": [],
   "source": [
    "df_exploded.head()"
   ]
  },
  {
   "cell_type": "code",
   "execution_count": null,
   "id": "38e13421",
   "metadata": {},
   "outputs": [],
   "source": [
    "df_exploded.plot(figsize=(12, 12), cmap='tab10')"
   ]
  },
  {
   "cell_type": "markdown",
   "id": "79e94fbb",
   "metadata": {},
   "source": [
    "## Get Sidewalk Widths"
   ]
  },
  {
   "cell_type": "code",
   "execution_count": null,
   "id": "02391e30",
   "metadata": {},
   "outputs": [],
   "source": [
    "df_exploded['centerlines'] = df_exploded['centerlines'].progress_apply(lambda row: row.simplify(1, preserve_topology=True))"
   ]
  },
  {
   "cell_type": "code",
   "execution_count": null,
   "id": "a02f031c",
   "metadata": {},
   "outputs": [],
   "source": [
    "df_exploded.plot(figsize=(12, 12), cmap='tab10')"
   ]
  },
  {
   "cell_type": "code",
   "execution_count": null,
   "id": "7df2f2e8",
   "metadata": {},
   "outputs": [],
   "source": [
    "def linestring_to_segments(linestring):\n",
    "    return [LineString([linestring.coords[i], linestring.coords[i+1]]) for i in range(len(linestring.coords) - 1)]"
   ]
  },
  {
   "cell_type": "code",
   "execution_count": null,
   "id": "3f451401",
   "metadata": {},
   "outputs": [],
   "source": [
    "def get_segments(line):\n",
    "    \n",
    "    line_segments = []\n",
    "\n",
    "    if line.type == 'MultiLineString':\n",
    "        \n",
    "        for linestring in line.geoms:\n",
    "            \n",
    "            line_segments.extend(linestring_to_segments(linestring))\n",
    "\n",
    "    if line.type == 'LineString':\n",
    "        \n",
    "        line_segments.extend(linestring_to_segments(line))\n",
    "\n",
    "    return line_segments"
   ]
  },
  {
   "cell_type": "code",
   "execution_count": null,
   "id": "0c15914b",
   "metadata": {},
   "outputs": [],
   "source": [
    "df_exploded.head(1)"
   ]
  },
  {
   "cell_type": "code",
   "execution_count": null,
   "id": "51e35b8c",
   "metadata": {},
   "outputs": [],
   "source": [
    "df_exploded['segments'] = df_exploded['centerlines'].progress_apply(get_segments)\n",
    "df_exploded.head(1)"
   ]
  },
  {
   "cell_type": "code",
   "execution_count": null,
   "id": "fc992cee",
   "metadata": {},
   "outputs": [],
   "source": [
    "def interpolate_by_distance(linestring):\n",
    "    \n",
    "    distance = 1\n",
    "    all_points = []\n",
    "    count = round(linestring.length / distance) + 1\n",
    "    \n",
    "    if count == 1:\n",
    "        all_points.append(linestring.interpolate(linestring.length / 2))\n",
    "    \n",
    "    else:\n",
    "        for i in range(count):\n",
    "            all_points.append(linestring.interpolate(distance * i))\n",
    "    \n",
    "    return all_points\n",
    "\n",
    "def interpolate(line):\n",
    "    \n",
    "    if line.type == 'MultiLineString':\n",
    "        \n",
    "        all_points = []\n",
    "        \n",
    "        for linestring in line:\n",
    "            all_points.extend(interpolate_by_distance(linestring))\n",
    "        \n",
    "        return MultiPoint(all_points)\n",
    "            \n",
    "    if line.type == 'LineString':\n",
    "        return MultiPoint(interpolate_by_distance(line))\n",
    "    \n",
    "    \n",
    "def polygon_to_multilinestring(polygon):\n",
    "\n",
    "    return MultiLineString([polygon.exterior] + [line for line in polygon.interiors])\n",
    "    \n",
    "\n",
    "def get_avg_distances(row):\n",
    "    \n",
    "    avg_distances = []\n",
    "    \n",
    "    sidewalk_lines = polygon_to_multilinestring(row.geometry)\n",
    "    \n",
    "    for segment in row.segments:\n",
    "        \n",
    "        points = interpolate(segment)\n",
    "        \n",
    "        distances = []\n",
    "        \n",
    "        for point in points:\n",
    "            p1, p2 = nearest_points(sidewalk_lines, point)\n",
    "            distances.append(p1.distance(p2))\n",
    "            \n",
    "        avg_distances.append(sum(distances) / len(distances))\n",
    "        \n",
    "    return avg_distances"
   ]
  },
  {
   "cell_type": "code",
   "execution_count": null,
   "id": "e6ddc9ac",
   "metadata": {},
   "outputs": [],
   "source": [
    "df_exploded['avg_distances'] = df_exploded.progress_apply(lambda row: get_avg_distances(row), axis=1)\n",
    "df_exploded.head(1)"
   ]
  },
  {
   "cell_type": "code",
   "execution_count": null,
   "id": "fcc422b7",
   "metadata": {},
   "outputs": [],
   "source": [
    "data = {'geometry': [], 'width': []}\n",
    "\n",
    "for i, row in df_exploded.iterrows():\n",
    "    \n",
    "    for segment in row.segments:\n",
    "        data['geometry'].append(segment)\n",
    "    \n",
    "    for distance in row.avg_distances:\n",
    "        data['width'].append(distance * 2)\n",
    "        \n",
    "df_segments = pd.DataFrame(data)\n",
    "df_segments = GeoDataFrame(df_segments, crs=crs, geometry='geometry')\n",
    "df_segments.head(1)"
   ]
  },
  {
   "cell_type": "code",
   "execution_count": null,
   "id": "207e7316",
   "metadata": {},
   "outputs": [],
   "source": [
    "df_segments.plot(figsize=(12, 12), cmap='prism')"
   ]
  },
  {
   "cell_type": "code",
   "execution_count": null,
   "id": "ef335a9a",
   "metadata": {},
   "outputs": [],
   "source": [
    "ax = df_segments.plot(figsize=(12, 12), column='width', cmap='Spectral', vmin=0, vmax=10, legend=True)\n",
    "ax.set_xlim([x_min, x_max])\n",
    "ax.set_ylim([y_min, y_max])"
   ]
  },
  {
   "cell_type": "code",
   "execution_count": null,
   "id": "eca885ae",
   "metadata": {},
   "outputs": [],
   "source": [
    "# Moeten we de width nog converten naar juiste meters?? TODO\n",
    "df_segments.head()"
   ]
  },
  {
   "cell_type": "code",
   "execution_count": null,
   "id": "452b7427",
   "metadata": {},
   "outputs": [],
   "source": []
  }
 ],
 "metadata": {
  "kernelspec": {
   "display_name": "Python 3 (ipykernel)",
   "language": "python",
   "name": "python3"
  },
  "language_info": {
   "codemirror_mode": {
    "name": "ipython",
    "version": 3
   },
   "file_extension": ".py",
   "mimetype": "text/x-python",
   "name": "python",
   "nbconvert_exporter": "python",
   "pygments_lexer": "ipython3",
   "version": "3.8.12"
  }
 },
 "nbformat": 4,
 "nbformat_minor": 5
}
